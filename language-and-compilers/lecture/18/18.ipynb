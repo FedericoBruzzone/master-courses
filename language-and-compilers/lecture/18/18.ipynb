{
 "cells": [
  {
   "attachments": {},
   "cell_type": "markdown",
   "metadata": {},
   "source": [
    "# Traduzioni orientate ai dati"
   ]
  },
  {
   "cell_type": "code",
   "execution_count": null,
   "metadata": {},
   "outputs": [],
   "source": [
    "from urllib.request import urlopen\n",
    "from IPython.display import HTML\n",
    "\n",
    "from liblet import ANTLR, AnnotatedTreeWalker, Tree, Stack, warn"
   ]
  },
  {
   "attachments": {},
   "cell_type": "markdown",
   "metadata": {},
   "source": [
    "## Da JSON a tabella HTML"
   ]
  },
  {
   "cell_type": "code",
   "execution_count": null,
   "metadata": {},
   "outputs": [],
   "source": [
    "# usiamo una grammatica \"pronta\"\n",
    "\n",
    "with urlopen('https://raw.githubusercontent.com/antlr/grammars-v4/master/json/JSON.g4') as inf:\n",
    "  grammar = inf.read().decode('utf-8')\n",
    "\n",
    "JSON = ANTLR(grammar)"
   ]
  },
  {
   "cell_type": "code",
   "execution_count": null,
   "metadata": {},
   "outputs": [],
   "source": [
    "JSON.print_grammar()"
   ]
  },
  {
   "attachments": {},
   "cell_type": "markdown",
   "metadata": {},
   "source": [
    "### L'albero di parsing"
   ]
  },
  {
   "cell_type": "code",
   "execution_count": null,
   "metadata": {},
   "outputs": [],
   "source": [
    "json_source = \"\"\"\n",
    "[ \"prima\",\n",
    "  {\n",
    "    \"seconda\": 1, \n",
    "    \"terza\": [2, true]\n",
    "  },\n",
    "  null\n",
    "]\n",
    "\"\"\"\n",
    "parse_tree = JSON.tree(json_source, 'json')\n",
    "parse_tree"
   ]
  },
  {
   "attachments": {},
   "cell_type": "markdown",
   "metadata": {},
   "source": [
    "### Costruzione dell'AST"
   ]
  },
  {
   "cell_type": "code",
   "execution_count": null,
   "metadata": {},
   "outputs": [],
   "source": [
    "jsonpt2ast = AnnotatedTreeWalker('name')\n",
    "\n",
    "# un catchall meno \"rumoroso\"\n",
    "\n",
    "@jsonpt2ast.catchall\n",
    "def catchall(visit, tree):\n",
    "  if tree.attr.type == 'token': return None\n",
    "  return Tree(\n",
    "    {'type': f'<{tree.attr.name}>'}, \n",
    "    filter(None, [visit(child) for child in tree.children])\n",
    "  )"
   ]
  },
  {
   "cell_type": "code",
   "execution_count": null,
   "metadata": {},
   "outputs": [],
   "source": [
    "jsonpt2ast(parse_tree)"
   ]
  },
  {
   "cell_type": "code",
   "execution_count": null,
   "metadata": {},
   "outputs": [],
   "source": [
    "# i token \n",
    "\n",
    "@jsonpt2ast.register\n",
    "def STRING(visit, tree):\n",
    "  return Tree({'type': 'string', 'value': tree.attr.value[1:-1]})\n",
    "\n",
    "@jsonpt2ast.register\n",
    "def NUMBER(visit, tree):\n",
    "  return Tree({'type': 'number', 'value': tree.attr.value})\n",
    "\n",
    "@jsonpt2ast.register\n",
    "def true(visit, tree):\n",
    "  return Tree({'type': 'bool', 'value': True})\n",
    "\n",
    "@jsonpt2ast.register\n",
    "def false(visit, tree):\n",
    "  return Tree({'type': 'bool', 'value': False})\n",
    "\n",
    "@jsonpt2ast.register\n",
    "def null(visit, tree):\n",
    "  return Tree({'type': 'null'})"
   ]
  },
  {
   "cell_type": "code",
   "execution_count": null,
   "metadata": {},
   "outputs": [],
   "source": [
    "jsonpt2ast(parse_tree)"
   ]
  },
  {
   "cell_type": "code",
   "execution_count": null,
   "metadata": {},
   "outputs": [],
   "source": [
    "# le regole context-free\n",
    "\n",
    "@jsonpt2ast.register\n",
    "def value(visit, tree):\n",
    "  child = tree.children[0]\n",
    "  return visit(child)\n",
    "\n",
    "@jsonpt2ast.register\n",
    "def arr(visit, tree):\n",
    "  values = tree.children[1::2] \n",
    "  return Tree({'type': 'arr'}, [visit(tree) for tree in values])\n",
    "\n",
    "@jsonpt2ast.register\n",
    "def pair(visit, tree):\n",
    "  key, _, value = tree.children\n",
    "  return Tree({'type': 'pair', 'key': key.attr.value[1:-1]}, [visit(value)])    \n",
    "\n",
    "@jsonpt2ast.register\n",
    "def obj(visit, tree):\n",
    "  pairs = tree.children[1::2]\n",
    "  return Tree({'type': 'obj'}, [visit(tree) for tree in pairs])\n",
    "\n",
    "@jsonpt2ast.register\n",
    "def json(visit, tree):\n",
    "  return visit(tree.children[0])"
   ]
  },
  {
   "cell_type": "code",
   "execution_count": null,
   "metadata": {},
   "outputs": [],
   "source": [
    "ast = jsonpt2ast(parse_tree)\n",
    "ast"
   ]
  },
  {
   "attachments": {},
   "cell_type": "markdown",
   "metadata": {},
   "source": [
    "### Dall'AST alla tabella HTML (solo con la ricorsione)\n",
    "\n",
    "Usando la pila delle chiamate ricorsive."
   ]
  },
  {
   "cell_type": "code",
   "execution_count": null,
   "metadata": {},
   "outputs": [],
   "source": [
    "def jsonast2html(tree):\n",
    "  node_type = tree.attr.type\n",
    "  if node_type == 'bool':\n",
    "    return '☑' if tree.attr.value else '☐'\n",
    "  elif node_type == 'null':\n",
    "    return '␀'\n",
    "  elif node_type in ('string', 'number'):\n",
    "    return tree.attr.value\n",
    "  elif node_type == 'arr':\n",
    "    values = [f'<tr><td>{jsonast2html(child)}</td></tr>' for child in tree.children]\n",
    "    return '<table class=\"json\">{}</table>'.format(''.join(values))\n",
    "  elif node_type == 'pair':\n",
    "    return f'<tr><th>{tree.attr.key}</th><td>{jsonast2html(tree.children[0])}</td></tr>'\n",
    "  elif node_type == 'obj':\n",
    "    pairs = [jsonast2html(child) for child in tree.children]\n",
    "    return '<table class=\"json\">{}</table>'.format(''.join(pairs))"
   ]
  },
  {
   "cell_type": "code",
   "execution_count": null,
   "metadata": {},
   "outputs": [],
   "source": [
    "html = jsonast2html(jsonpt2ast(parse_tree))\n",
    "html"
   ]
  },
  {
   "cell_type": "code",
   "execution_count": null,
   "metadata": {},
   "outputs": [],
   "source": [
    "# un \"trucco\" di visualizzazione \n",
    "\n",
    "STYLE = \"\"\"<style>\n",
    ".json * {\n",
    "    border: 1pt solid green !important; \n",
    "    text-align: left !important; \n",
    "    background: white;\n",
    "}\n",
    "</style>\"\"\"\n",
    "\n",
    "HTML(STYLE + html)"
   ]
  },
  {
   "attachments": {},
   "cell_type": "markdown",
   "metadata": {},
   "source": [
    "# Da tabella HTML a *matrice*"
   ]
  },
  {
   "cell_type": "code",
   "execution_count": null,
   "metadata": {},
   "outputs": [],
   "source": [
    "table = \"\"\"\n",
    "<table>\n",
    "  <tr><td>1</td><td>2</td><td>3</td></tr>\n",
    "  <tr><td>4</td><td>5</td><td>6</td></tr>\n",
    "  <tr><td>7</td><td>8</td><td>9</td></tr>\n",
    "  <tr><td>10</td><td>11</td><td>12</td></tr>\n",
    "</table>\n",
    "\"\"\""
   ]
  },
  {
   "cell_type": "code",
   "execution_count": null,
   "metadata": {},
   "outputs": [],
   "source": [
    "HTML(f'<div class=json>{table}</div>')"
   ]
  },
  {
   "attachments": {},
   "cell_type": "markdown",
   "metadata": {},
   "source": [
    "### Una grammatica elementare\n",
    "\n",
    "Assumendo che negli elementi `td` ci possano essere altro che numeri interi."
   ]
  },
  {
   "cell_type": "code",
   "execution_count": null,
   "metadata": {},
   "outputs": [],
   "source": [
    "HtmlTable = ANTLR(r\"\"\"grammar HtmlTable;\n",
    "\n",
    "table: '<table>' row+ '</table>' ;\n",
    "row: '<tr>' col+ '</tr>' ;\n",
    "col: '<td>' DATA '</td>' ;\n",
    "\n",
    "DATA: '-'? [0-9]+ ;\n",
    "WS: [ \\t\\n]+ -> skip ;\n",
    "\"\"\")"
   ]
  },
  {
   "attachments": {},
   "cell_type": "markdown",
   "metadata": {},
   "source": [
    "### L'albero di parsing"
   ]
  },
  {
   "cell_type": "code",
   "execution_count": null,
   "metadata": {},
   "outputs": [],
   "source": [
    "parse_tree = HtmlTable.tree(table, 'table')\n",
    "parse_tree"
   ]
  },
  {
   "attachments": {},
   "cell_type": "markdown",
   "metadata": {},
   "source": [
    "### Cosruzione dell'AST"
   ]
  },
  {
   "cell_type": "code",
   "execution_count": null,
   "metadata": {},
   "outputs": [],
   "source": [
    "htmlpt2ast = AnnotatedTreeWalker('name')\n",
    "\n",
    "@htmlpt2ast.register\n",
    "def DATA(visit, tree):\n",
    "  return Tree({'type': 'data', 'value': int(tree.attr.value)})\n",
    "\n",
    "@htmlpt2ast.register\n",
    "def row(visit, tree):\n",
    "  cols = tree.children[1:-1] \n",
    "  return Tree({'type': 'row'}, [visit(tree.children[1]) for tree in cols])\n",
    "\n",
    "@htmlpt2ast.register\n",
    "def table(visit, tree):\n",
    "  rows = tree.children[1:-1] \n",
    "  return Tree({'type': 'table'}, [visit(tree) for tree in rows])"
   ]
  },
  {
   "cell_type": "code",
   "execution_count": null,
   "metadata": {},
   "outputs": [],
   "source": [
    "ast = htmlpt2ast(parse_tree)\n",
    "ast"
   ]
  },
  {
   "attachments": {},
   "cell_type": "markdown",
   "metadata": {},
   "source": [
    "### Dall'AST alla matrice\n",
    "\n",
    "#### Usando una struttura dati esterna."
   ]
  },
  {
   "cell_type": "code",
   "execution_count": null,
   "metadata": {},
   "outputs": [],
   "source": [
    "STACK = Stack()\n",
    "\n",
    "def htmlast2mat(ast):\n",
    "  if ast.attr.type == 'data':\n",
    "    STACK.push(ast.attr.value)\n",
    "  elif ast.attr.type in {'row', 'table'}:\n",
    "    for child in ast.children: htmlast2mat(child)\n",
    "    vals = [STACK.pop() for _ in range(len(ast.children))]\n",
    "    STACK.push(vals[::-1])\n",
    "\n",
    "htmlast2mat(ast)\n",
    "mat = STACK.pop()\n",
    "mat"
   ]
  },
  {
   "attachments": {},
   "cell_type": "markdown",
   "metadata": {},
   "source": [
    "Per gioco, si può persino tornare all'HTML, visto che una matrice Python (come stringa) è JSON!"
   ]
  },
  {
   "cell_type": "code",
   "execution_count": null,
   "metadata": {},
   "outputs": [],
   "source": [
    "json = str(mat)\n",
    "json"
   ]
  },
  {
   "cell_type": "code",
   "execution_count": null,
   "metadata": {},
   "outputs": [],
   "source": [
    "HTML(jsonast2html(jsonpt2ast(JSON.tree(json, 'json'))))"
   ]
  },
  {
   "attachments": {},
   "cell_type": "markdown",
   "metadata": {},
   "source": [
    "#### Decorando i nodi"
   ]
  },
  {
   "cell_type": "code",
   "execution_count": null,
   "metadata": {},
   "outputs": [],
   "source": [
    "# aggiungere il numero di riga (attributo eredidato)\n",
    "\n",
    "def add_rownum(ast, n):\n",
    "  if ast.attr.type == 'table':\n",
    "    for n, row in enumerate(ast.children): add_rownum(row, n)\n",
    "    ast.attr.numrows = 1 + n\n",
    "  elif ast.attr.type == 'row':\n",
    "    ast.attr.row = n\n",
    "    for col in ast.children: add_rownum(col, n)\n",
    "  else:\n",
    "    ast.attr.row = n"
   ]
  },
  {
   "cell_type": "code",
   "execution_count": null,
   "metadata": {},
   "outputs": [],
   "source": [
    "ast = htmlpt2ast(parse_tree)        \n",
    "add_rownum(ast, None)\n",
    "ast"
   ]
  },
  {
   "cell_type": "code",
   "execution_count": null,
   "metadata": {},
   "outputs": [],
   "source": [
    "# aggiungere il numero di colonna (attributo sintetizzato)\n",
    "# verificando anche che tutte le righe abbiano lo stesso numero di colonne\n",
    "\n",
    "def add_colnum(ast, n):\n",
    "  if ast.attr.type == 'table':\n",
    "    for row in ast.children: add_colnum(row, n)\n",
    "    numcols = ast.children[0].attr.numcols\n",
    "    for row in ast.children[1:]:\n",
    "      if row.attr.numcols != numcols:\n",
    "        if 'row' in row.root: # l'attributo row sarà presente solo dopo aver decorato con add_rownum\n",
    "          warn(f'la riga {row.attr.row} ha {row.attr.numcols} colonne, non {numcols}')\n",
    "        else:\n",
    "          warn(f'una dele righe ha {row.attr.numcols} colonne, non {numcols}')\n",
    "        return\n",
    "    ast.attr.numcols = numcols\n",
    "  elif ast.attr.type == 'row':\n",
    "    for n, col in enumerate(ast.children): add_colnum(col, n)\n",
    "    ast.attr.numcols = 1 + n\n",
    "  else:\n",
    "    ast.attr.col = n"
   ]
  },
  {
   "cell_type": "code",
   "execution_count": null,
   "metadata": {},
   "outputs": [],
   "source": [
    "ast = htmlpt2ast(parse_tree)\n",
    "add_colnum(ast, None)\n",
    "ast"
   ]
  },
  {
   "cell_type": "code",
   "execution_count": null,
   "metadata": {},
   "outputs": [],
   "source": [
    "# ora tutto assieme\n",
    "\n",
    "ast = htmlpt2ast(parse_tree)     \n",
    "add_rownum(ast, None)\n",
    "add_colnum(ast, None)\n",
    "ast"
   ]
  },
  {
   "attachments": {},
   "cell_type": "markdown",
   "metadata": {},
   "source": [
    "Avendo decorato i nodi, la costruzione della matrice è elementare"
   ]
  },
  {
   "cell_type": "code",
   "execution_count": null,
   "metadata": {},
   "outputs": [],
   "source": [
    "numrows, numcols = ast.attr.numrows, ast.attr.numcols\n",
    "mat = [[None for _ in range(numcols)] for _ in range(numrows)]\n",
    "mat"
   ]
  },
  {
   "cell_type": "code",
   "execution_count": null,
   "metadata": {},
   "outputs": [],
   "source": [
    "# basta riempirla andando a caccia dei 'data'\n",
    "\n",
    "def fill(ast):\n",
    "  if ast.attr.type == 'data':\n",
    "    mat[ast.attr.row][ast.attr.col] = ast.attr.value\n",
    "  else:\n",
    "    for c in ast.children: fill(c)"
   ]
  },
  {
   "cell_type": "code",
   "execution_count": null,
   "metadata": {},
   "outputs": [],
   "source": [
    "fill(ast)\n",
    "mat"
   ]
  },
  {
   "attachments": {},
   "cell_type": "markdown",
   "metadata": {},
   "source": [
    "## <span style=\"color: red;\">Esercizi per casa</span> \n",
    "\n",
    "* La grammatica del formato JSON ammette sia oggetti che array vuoti,\n",
    "  ma le funzioni di trasformazione (vesro l'AST e quindi l'HTML) \n",
    "  non sono scritte per funzionare in tale caso. Riuscite a correggerle?\n",
    "  \n",
    "* Come osservato, la grammatica per la tabella HTML non consente di mettere una \n",
    "  tabella dentro l'altra. Modificate la grammatica (e le funzioni\n",
    "  di trasformazione ed estrazione della matrice) in modo che\n",
    "  consentano di avere una tabella, o un numero, in ogni cella; in\n",
    "  questo modo estrarrete una \"matrice\" alcuni dei quali elementi\n",
    "  saranno a loro volta matrici (di interi)."
   ]
  }
 ],
 "metadata": {
  "interpreter": {
   "hash": "e1004562009730290f42c30a7c24060925c35420ba84516473ad07a3f1950c5d"
  },
  "kernelspec": {
   "display_name": "Python 3.8.10 ('named-let-liblet')",
   "language": "python",
   "name": "python3"
  },
  "language_info": {
   "codemirror_mode": {
    "name": "ipython",
    "version": 3
   },
   "file_extension": ".py",
   "mimetype": "text/x-python",
   "name": "python",
   "nbconvert_exporter": "python",
   "pygments_lexer": "ipython3"
  }
 },
 "nbformat": 4,
 "nbformat_minor": 2
}
