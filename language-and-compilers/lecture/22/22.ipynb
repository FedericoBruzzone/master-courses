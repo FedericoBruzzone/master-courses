{
 "cells": [
  {
   "attachments": {},
   "cell_type": "markdown",
   "metadata": {},
   "source": [
    "# Lezione 22"
   ]
  },
  {
   "cell_type": "code",
   "execution_count": null,
   "metadata": {},
   "outputs": [],
   "source": [
    "from liblet import ANTLR, Tree, AnnotatedTreeWalker\n",
    "\n",
    "from symboltable import SymbolTable"
   ]
  },
  {
   "attachments": {},
   "cell_type": "markdown",
   "metadata": {},
   "source": [
    "## Un linguaggio con tipi (primitivi)\n",
    "\n",
    "Consideriamo una variante del linguaggio precedente in cui ci siano due tipi *primitivi*: *interi* e *stringhe* e dove sia consentito solo:\n",
    "\n",
    "* formare tutte le espressioni binarie con entrambe gli operandi interi,\n",
    "* confrontare due stringhe, oppure sommare due stringhe (ottenendone la concatenazione), o moltiplicare (in quest'ordine) una stringa per un intero (ottenendone la ripetizione),\n",
    "\n",
    "Si assuma inoltre che il risultato di un confronto valga `0` se falso e `-1` se vero.\n",
    "\n",
    "Potete dare una occhiata a Wikipedia per avere una \"infarinatura\" delle questioni relative ai [Type System](https://en.wikipedia.org/wiki/Type_system)."
   ]
  },
  {
   "cell_type": "code",
   "execution_count": null,
   "metadata": {},
   "outputs": [],
   "source": [
    "SimpleTypedBlockLang = ANTLR(r\"\"\"grammar SimpleTypedBlockLang;\n",
    "\n",
    "program: stat+ ;\n",
    "\n",
    "block: '{' stat* '}' ;\n",
    "\n",
    "expr: '!' expr            # notExpr\n",
    "    | expr '*' expr       # prodExpr\n",
    "    | expr ('+'|'-') expr # addSubExpr\n",
    "    | expr '==' expr      # equalityExpr\n",
    "    | ID                  # varRefExpr\n",
    "    | INT                 # intExpr\n",
    "    | STRING              # strExpr\n",
    "    | '(' expr ')'        # subExpr\n",
    "    ;\n",
    "\n",
    "varType: 'int' | 'string' ;\n",
    "\n",
    "stat: block                                # blockStat\n",
    "    | varType ID ('=' expr)? ';'           # varDeclStat\n",
    "    | 'if' expr 'then' stat ('else' stat)? # ifElseStat\n",
    "    | 'repeat' expr 'times' stat           # repeatStat\n",
    "    | ID '=' expr ';'                      # assignementStat\n",
    "    ;\n",
    "\n",
    "STRING: '\"' LETTER* '\"' ;\n",
    "ID: LETTER (LETTER | [0-9])* ;\n",
    "INT: [0-9]+ ;\n",
    "WS: [ \\t\\n\\r]+ -> skip ;\n",
    "fragment\n",
    "LETTER : [a-zA-Z] ;\n",
    "\"\"\")"
   ]
  },
  {
   "cell_type": "code",
   "execution_count": null,
   "metadata": {},
   "outputs": [],
   "source": [
    "source = r\"\"\"\n",
    "int x;\n",
    "string y;\n",
    "if x == \"ciao\" then {\n",
    "  string x = \"ciao\";\n",
    "  int z = x * 3;\n",
    "  repeat \"due\" times\n",
    "    y = y + 1;\n",
    "}\n",
    "\"\"\""
   ]
  },
  {
   "attachments": {},
   "cell_type": "markdown",
   "metadata": {},
   "source": [
    "### Costruzione dell'AST\n",
    "\n",
    "La costruzione dell'AST avviene a partire dalla funzione sviluppata in precedenza"
   ]
  },
  {
   "cell_type": "code",
   "execution_count": null,
   "metadata": {},
   "outputs": [],
   "source": [
    "simpleTypedBlock2ast = AnnotatedTreeWalker.load('simpleBlock2ast.atw')"
   ]
  },
  {
   "attachments": {},
   "cell_type": "markdown",
   "metadata": {},
   "source": [
    "Per prima cosa, la regola `varDeclStat` deve tener conto anche del tipo di variabile, annotato nell'attributo `varType`"
   ]
  },
  {
   "cell_type": "code",
   "execution_count": null,
   "metadata": {},
   "outputs": [],
   "source": [
    "@simpleTypedBlock2ast.register\n",
    "def varDeclStat(visit, ptree):\n",
    "  varType = ptree.children[0].children[0].attr.name\n",
    "  name = ptree.children[1].attr.value\n",
    "  if len(ptree.children) == 5:\n",
    "    return Tree({'type': 'varDeclInitStat', 'varName': name, 'varType': varType}, [visit(ptree.children[3])])\n",
    "  else:\n",
    "    return Tree({'type': 'varDeclStat', 'varName': name, 'varType': varType})"
   ]
  },
  {
   "attachments": {},
   "cell_type": "markdown",
   "metadata": {},
   "source": [
    "Infine va trattato il caso del nuovo atomo corrispondete alle stringhe"
   ]
  },
  {
   "cell_type": "code",
   "execution_count": null,
   "metadata": {},
   "outputs": [],
   "source": [
    "@simpleTypedBlock2ast.register\n",
    "def strExpr(visit, ptree):\n",
    "  return Tree({'type': 'strExpr', 'value': ptree.children[0].attr.value[1:-1]})"
   ]
  },
  {
   "attachments": {},
   "cell_type": "markdown",
   "metadata": {},
   "source": [
    "Come esempio, il sorgente di cui sopra"
   ]
  },
  {
   "cell_type": "code",
   "execution_count": null,
   "metadata": {},
   "outputs": [],
   "source": [
    "def src2ast(source):\n",
    "  return simpleTypedBlock2ast(SimpleTypedBlockLang.tree(source, 'program'))"
   ]
  },
  {
   "cell_type": "code",
   "execution_count": null,
   "metadata": {},
   "outputs": [],
   "source": [
    "ast = src2ast(source)\n",
    "ast"
   ]
  },
  {
   "attachments": {},
   "cell_type": "markdown",
   "metadata": {},
   "source": [
    "### Decoriamo l'AST con la Symbol Table\n",
    "\n",
    "Propaghiamo *top-down* il tipo delle variabili dalla loro dichiarazione nel loro *scope*:"
   ]
  },
  {
   "cell_type": "code",
   "execution_count": null,
   "metadata": {},
   "outputs": [],
   "source": [
    "def addTypeST(ast, st):\n",
    "  if ast.attr.type == 'blockStat': \n",
    "    st = SymbolTable(st)\n",
    "  elif ast.attr.type in {'varDeclStat', 'varDeclInitStat'}:\n",
    "    st.bind(ast.attr.varName, ast.attr.varType)\n",
    "  ast.attr._st = st\n",
    "  for child in ast.children: addTypeST(child, st)"
   ]
  },
  {
   "cell_type": "code",
   "execution_count": null,
   "metadata": {},
   "outputs": [],
   "source": [
    "GLOBAL = SymbolTable()\n",
    "addTypeST(ast, GLOBAL)\n",
    "ast"
   ]
  },
  {
   "attachments": {},
   "cell_type": "markdown",
   "metadata": {},
   "source": [
    "Osserviamo ad esempio cosa accade nel blocco `GLOBAL`"
   ]
  },
  {
   "cell_type": "code",
   "execution_count": null,
   "metadata": {},
   "outputs": [],
   "source": [
    "GLOBAL.symbol2info"
   ]
  },
  {
   "attachments": {},
   "cell_type": "markdown",
   "metadata": {},
   "source": [
    "### Determinazione del tipo delle espressioni\n",
    "\n",
    "Ora, in modalità *bottom-up* aggiungiamo a nodo corrispondente ad una espressione il suo tipo, che verrà annotato nell'attributo `_exprType` (per convenzione `None` indica l'impossibilità di determinare il tipo, in questo contesto, a causa di un errore)."
   ]
  },
  {
   "cell_type": "code",
   "execution_count": null,
   "metadata": {},
   "outputs": [],
   "source": [
    "addExprType = AnnotatedTreeWalker('type', AnnotatedTreeWalker.RECOURSE_CHILDREN)"
   ]
  },
  {
   "attachments": {},
   "cell_type": "markdown",
   "metadata": {},
   "source": [
    "Il caso degli atomi è particolarmente semplice"
   ]
  },
  {
   "cell_type": "code",
   "execution_count": null,
   "metadata": {},
   "outputs": [],
   "source": [
    "@addExprType.register\n",
    "def intExpr(visit, expr):\n",
    "  expr.attr._exprType = 'int'\n",
    "\n",
    "@addExprType.register\n",
    "def strExpr(visit, expr):\n",
    "  expr.attr._exprType = 'string'\n",
    "\n",
    "@addExprType.register\n",
    "def varRefExpr(visit, expr):\n",
    "  expr.attr._exprType = expr.attr._st.lookup(expr.attr.varName)"
   ]
  },
  {
   "attachments": {},
   "cell_type": "markdown",
   "metadata": {},
   "source": [
    "Per le espressioni binarie, basta rifarsi alle definizioni date presentando il linguaggio."
   ]
  },
  {
   "cell_type": "code",
   "execution_count": null,
   "metadata": {},
   "outputs": [],
   "source": [
    "@addExprType.register\n",
    "def prodExpr(visit, expr):\n",
    "  left, right = expr.children\n",
    "  visit(left)\n",
    "  visit(right)\n",
    "  left = left.attr._exprType\n",
    "  right = right.attr._exprType\n",
    "  if left == 'int' and right == 'int':\n",
    "    expr.attr._exprType = 'int'\n",
    "  elif left == 'string' and right == 'int':\n",
    "    expr.attr._exprType = 'string'\n",
    "  else:\n",
    "    expr.attr._exprType = None\n",
    "\n",
    "@addExprType.register\n",
    "def addSubExpr(visit, expr):\n",
    "  left, right = expr.children\n",
    "  visit(left)\n",
    "  visit(right)\n",
    "  op = expr.attr.op\n",
    "  left = left.attr._exprType\n",
    "  right = right.attr._exprType\n",
    "  if left == 'int' and right == 'int':\n",
    "    expr.attr._exprType = 'int'\n",
    "  elif left == 'string' and right == 'string' and op == '+':\n",
    "    expr.attr._exprType = 'string'\n",
    "  else:\n",
    "    expr.attr._exprType = None\n",
    "\n",
    "@addExprType.register\n",
    "def equalityExpr(visit, expr):\n",
    "  left, right = expr.children\n",
    "  visit(left)\n",
    "  visit(right)\n",
    "  left = left.attr._exprType\n",
    "  right = right.attr._exprType\n",
    "  if left == right:\n",
    "    expr.attr._exprType = 'int'\n",
    "  else:\n",
    "    expr.attr._exprType = None"
   ]
  },
  {
   "attachments": {},
   "cell_type": "markdown",
   "metadata": {},
   "source": [
    "Sempre sullo stesso sorgente…"
   ]
  },
  {
   "cell_type": "code",
   "execution_count": null,
   "metadata": {},
   "outputs": [],
   "source": [
    "addExprType(ast)\n",
    "ast"
   ]
  },
  {
   "attachments": {},
   "cell_type": "markdown",
   "metadata": {},
   "source": [
    "### Dalle espressioni agli statement\n",
    "\n",
    "Determinato il tipo delle espressioni, siamo pronti a controllare gli *statement*: \n",
    "\n",
    "* la selezione e iterazione devono avere un intero come tipo d'espressione,\n",
    "* gli assegnamenti (anche in dichiarazione) devono concordare con il tipo della variabile."
   ]
  },
  {
   "cell_type": "code",
   "execution_count": null,
   "metadata": {},
   "outputs": [],
   "source": [
    "checkType = AnnotatedTreeWalker('type', AnnotatedTreeWalker.RECOURSE_CHILDREN)"
   ]
  },
  {
   "cell_type": "code",
   "execution_count": null,
   "metadata": {},
   "outputs": [],
   "source": [
    "@checkType.register\n",
    "def repeatStat(visit, stat):\n",
    "  if stat.children[0].attr._exprType != 'int':\n",
    "    stat.attr._typeCheck = 'FAIL'\n",
    "  for child in stat.children: visit(child)\n",
    "    \n",
    "@checkType.register\n",
    "def ifElseStat(visit, stat):\n",
    "  if stat.children[0].attr._exprType != 'int':\n",
    "    stat.attr._typeCheck = 'FAIL'\n",
    "  for child in stat.children: visit(child)\n",
    "\n",
    "@checkType.register\n",
    "def varDeclInitStat(visit, stat):\n",
    "  if stat.children[0].attr._exprType != stat.attr.varType:\n",
    "    stat.attr._typeCheck = 'FAIL'\n",
    "\n",
    "@checkType.register\n",
    "def assignementStat(visit, stat):\n",
    "  if stat.children[0].attr._exprType != stat.attr._st.lookup(stat.attr.varName):\n",
    "    stat.attr._typeCheck = 'FAIL'  "
   ]
  },
  {
   "attachments": {},
   "cell_type": "markdown",
   "metadata": {},
   "source": [
    "Facciamo un altro passo sull'AST"
   ]
  },
  {
   "cell_type": "code",
   "execution_count": null,
   "metadata": {},
   "outputs": [],
   "source": [
    "checkType(ast)\n",
    "ast"
   ]
  },
  {
   "attachments": {},
   "cell_type": "markdown",
   "metadata": {},
   "source": [
    "#### Emettere degli errori…\n",
    "\n",
    "Emettere errori \"sensati\" è difficile… qui ci limitiamo a visitare l'AST e stampare i nodi per cui o l'espressione, o lo statement, non siano corrette dal punto di vista dei tipi."
   ]
  },
  {
   "cell_type": "code",
   "execution_count": null,
   "metadata": {},
   "outputs": [],
   "source": [
    "def report(ast):\n",
    "  try:\n",
    "    if ast.attr._typeCheck == 'FAIL': print(ast.root)\n",
    "  except KeyError:\n",
    "    pass\n",
    "  try:\n",
    "    if ast.attr._exprType is None: print(ast.root)\n",
    "  except KeyError:\n",
    "    pass\n",
    "  for child in ast.children: report(child)"
   ]
  },
  {
   "attachments": {},
   "cell_type": "markdown",
   "metadata": {},
   "source": [
    "Un ultimo giro sull'AST"
   ]
  },
  {
   "cell_type": "code",
   "execution_count": null,
   "metadata": {},
   "outputs": [],
   "source": [
    "report(ast)"
   ]
  }
 ],
 "metadata": {
  "interpreter": {
   "hash": "e1004562009730290f42c30a7c24060925c35420ba84516473ad07a3f1950c5d"
  },
  "kernelspec": {
   "display_name": "Python 3.8.10 ('named-let-liblet')",
   "language": "python",
   "name": "python3"
  },
  "language_info": {
   "codemirror_mode": {
    "name": "ipython",
    "version": 3
   },
   "file_extension": ".py",
   "mimetype": "text/x-python",
   "name": "python",
   "nbconvert_exporter": "python",
   "pygments_lexer": "ipython3"
  }
 },
 "nbformat": 4,
 "nbformat_minor": 2
}
