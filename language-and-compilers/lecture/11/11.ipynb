{
 "cells": [
  {
   "cell_type": "markdown",
   "metadata": {},
   "source": [
    "# Lezione 11"
   ]
  },
  {
   "cell_type": "code",
   "execution_count": null,
   "metadata": {},
   "outputs": [],
   "source": [
    "from liblet import __version__\n",
    "\n",
    "__version__ # deve essere la 1.6.3a0, ho corretto un bug di Table"
   ]
  },
  {
   "cell_type": "code",
   "execution_count": null,
   "metadata": {},
   "outputs": [],
   "source": [
    "from liblet import (\n",
    "  Grammar, \n",
    "  Derivation, \n",
    "  ProductionGraph,\n",
    "  TopDownInstantaneousDescription,\n",
    "  Table,\n",
    "  Tree,\n",
    "  closure, \n",
    "  warn, \n",
    "  show_calls, \n",
    "  union_of, \n",
    "  suffixes,\n",
    "  ε, HASH,\n",
    ")"
   ]
  },
  {
   "cell_type": "markdown",
   "metadata": {},
   "source": [
    "La necessità di seguire tutti i possibili cammini nel grafo che simula la computazione del NPDA deriva dal fatto che (tra l'altro), per un certo simbolo $A$ in cima alla pila e il primo terminale $a$ non ancora elaborato, ci sono più produzioni da considerare.\n",
    "\n",
    "Cominciamo a considerare alcune restrizioni sulla grammatica che potrebbero semplificarci la vita. Dapprima assumiamo che non ci siano ε-regole. Quindi immaginiamo che la grammatica sia tale per cui possiamo pre-computare una tabella che, in posizione $(A, a)$ indichi una sola produzione possibile.\n",
    "\n",
    "In tal caso il processo di parsing si semplificherebbe come segue:"
   ]
  },
  {
   "cell_type": "code",
   "execution_count": null,
   "metadata": {},
   "outputs": [],
   "source": [
    "def parse_noε(G, TABLE, INPUT):\n",
    "  tdid = TopDownInstantaneousDescription(G, INPUT)\n",
    "  while not tdid.is_done():\n",
    "    if tdid.top() in G.N:\n",
    "      P = TABLE[tdid.top(), tdid.head()]\n",
    "      if P is None:\n",
    "        warn(f'No production for ({tdid.top()}, {tdid.head()}) at {tdid.steps}')\n",
    "        return None \n",
    "      tdid = tdid.predict(P)\n",
    "    else:\n",
    "      if tdid.top() == tdid.head():\n",
    "        tdid = tdid.match()\n",
    "      else:\n",
    "        warn(f'Expecting {tdid.top()}, got {tdid.head()}')\n",
    "        return None   \n",
    "  return Derivation(G).leftmost(tdid.steps)"
   ]
  },
  {
   "cell_type": "markdown",
   "metadata": {},
   "source": [
    "Ma come costruire `TABLE`?\n",
    "\n",
    "## Caso SLL(1)\n",
    "\n",
    "Se la grammatica è tale per cui, per ciascun non terminale, le sue alternative iniziano tutte con terminali distinti, è molto facile!"
   ]
  },
  {
   "cell_type": "code",
   "execution_count": null,
   "metadata": {},
   "outputs": [],
   "source": [
    "# fig. 8.4. pag. 238\n",
    "\n",
    "G = Grammar.from_string(\"\"\"\n",
    "S -> a B\n",
    "B -> b | a B b\n",
    "\"\"\")\n",
    "G"
   ]
  },
  {
   "cell_type": "code",
   "execution_count": null,
   "metadata": {},
   "outputs": [],
   "source": [
    "def compute_simple_table(G):\n",
    "\n",
    "  TABLE = Table(2, no_reassign = True)\n",
    "\n",
    "  for P in G.P:\n",
    "    A, (a, *α) = P\n",
    "    TABLE[A, a] = P\n",
    "\n",
    "  return TABLE"
   ]
  },
  {
   "cell_type": "markdown",
   "metadata": {},
   "source": [
    "Qui si usa un oggetto `Table`, il valore `2` indica che la tabella ha dimensione 2, ossia ha righe e colonne…\n"
   ]
  },
  {
   "cell_type": "code",
   "execution_count": null,
   "metadata": {},
   "outputs": [],
   "source": [
    "TABLE = compute_simple_table(G)\n",
    "TABLE"
   ]
  },
  {
   "cell_type": "code",
   "execution_count": null,
   "metadata": {},
   "outputs": [],
   "source": [
    "d = parse_noε(G, TABLE, list('aabb'))\n",
    "d"
   ]
  },
  {
   "cell_type": "code",
   "execution_count": null,
   "metadata": {},
   "outputs": [],
   "source": [
    "ProductionGraph(d)"
   ]
  },
  {
   "cell_type": "markdown",
   "metadata": {},
   "source": [
    "Possono accadere due errori di parsing… o perché manca una produzione adatta, o perché l'ultima produzione utilizzata comporta che l'algoritmo si aspetti un carattere che manca nell'input…"
   ]
  },
  {
   "cell_type": "code",
   "execution_count": null,
   "metadata": {},
   "outputs": [],
   "source": [
    "parse_noε(G, TABLE, list('aac'))"
   ]
  },
  {
   "cell_type": "code",
   "execution_count": null,
   "metadata": {},
   "outputs": [],
   "source": [
    "parse_noε(G, TABLE, list('aabc'))"
   ]
  },
  {
   "cell_type": "markdown",
   "metadata": {},
   "source": [
    "### E se non è \"semplice\"?\n",
    "\n",
    "La costruzione della tabella è in grado, di accorgersi che stiamo tentando di assegnare di nuovo un valore per un certo $(A, a)$… (si tratta del parametro `no_reassign = True` usato nella costruzione di `Table`)."
   ]
  },
  {
   "cell_type": "code",
   "execution_count": null,
   "metadata": {},
   "outputs": [],
   "source": [
    "# fig. 8.1, pag. 236\n",
    "\n",
    "G = Grammar.from_string(\"\"\"\n",
    "S -> a B | b A\n",
    "A -> a | a S | b A A\n",
    "B -> b | b S | a B B\n",
    "\"\"\")"
   ]
  },
  {
   "cell_type": "code",
   "execution_count": null,
   "metadata": {},
   "outputs": [],
   "source": [
    "compute_simple_table(G)"
   ]
  },
  {
   "cell_type": "markdown",
   "metadata": {},
   "source": [
    "### Un esempio più naturale: notazione prefissa\n",
    "\n",
    "Torniamo a consideare una grammatica SLL(1) forse più naturale della prima da cui siamo partiti: una grammatica per operazioni aritmetiche in [notazione polacca](https://en.wikipedia.org/wiki/Polish_notation)."
   ]
  },
  {
   "cell_type": "code",
   "execution_count": null,
   "metadata": {},
   "outputs": [],
   "source": [
    "G = Grammar.from_string(\"\"\"\n",
    "E -> + E E | - E E | * E E | / E E | t\n",
    "\"\"\")\n",
    "G"
   ]
  },
  {
   "cell_type": "code",
   "execution_count": null,
   "metadata": {},
   "outputs": [],
   "source": [
    "TABLE = compute_simple_table(G)\n",
    "TABLE"
   ]
  },
  {
   "cell_type": "code",
   "execution_count": null,
   "metadata": {},
   "outputs": [],
   "source": [
    "ProductionGraph(parse_noε(G, TABLE, '+ * t t / t t'.split()))"
   ]
  },
  {
   "cell_type": "markdown",
   "metadata": {},
   "source": [
    "#### <span style=\"color: red;\">Esercizio per casa</span>\n",
    "\n",
    "Sapreste modificare `parse_noε` perché restituisca, invece della derivazione, il valore dell'espressione aritmetica? Sapreste integrarlo con un tokenizzatore che consenta di sostiuire numeri interi al terminale `t`?\n",
    "\n",
    "Saprese trasformare gli alberi prodotti da `parse_noε` in modo che nodi siano operandi o opreatori, come nell'esempio seguente?"
   ]
  },
  {
   "cell_type": "code",
   "execution_count": null,
   "metadata": {},
   "outputs": [],
   "source": [
    "Tree.from_lol(['+', ['*', ['t'], ['t']], ['/', ['t'], ['t']]])"
   ]
  },
  {
   "cell_type": "markdown",
   "metadata": {},
   "source": [
    "## Caso LL(1) (senza ε-regole), gli insiemi `FIRST`\n",
    "\n",
    "Se la grammatica non è \"semplice\" il caso resta ragionevolmente semplice (se non ci sono ε-regole). \n",
    "\n",
    "Supponiamo di conoscere, per ogni forma sentenziale $\\omega$, qual'è il primo terminale $t$ che (eventualmente) produrrà; detto in formule, supponiamo di conoscere l'insieme $\\operatorname{FIRST}(\\omega) = \\{ t \\in T \\mid \\omega\\overset{*}{\\to} t\\gamma, \\gamma\\in (N\\cup T)^* \\}$. \n",
    "\n",
    "Allora potremmo determinare `TABLE` come segue:"
   ]
  },
  {
   "cell_type": "code",
   "execution_count": null,
   "metadata": {},
   "outputs": [],
   "source": [
    "def compute_table(G):\n",
    "\n",
    "  TABLE = Table(2, no_reassign = True)\n",
    "\n",
    "  FIRST = compute_first(G)\n",
    "\n",
    "  for P in G.P:\n",
    "    A, (B, *β) = P # questo significa che la produzione P ha la forma A -> Bβ con β eventualmente nulla\n",
    "    for a in FIRST[B]: # scegliamo P sulla base del fatto che Bβ deriva a\n",
    "      TABLE[A, a] = P\n",
    "\n",
    "  return TABLE"
   ]
  },
  {
   "cell_type": "markdown",
   "metadata": {},
   "source": [
    "Osservate che, data la produzione $A\\to B\\beta$ (con $\\beta$ eventualmente vuota), invece di usare $\\operatorname{FIRST}(B\\beta)$ ci siamo contentati di $\\operatorname{FIRST}(B)$ dal momento che (in assenza di ε-regole) evidentemente se $B\\beta\\overset{*}{\\to} t\\gamma$ allora $B\\overset{*}{\\to} t\\gamma'$ (dove $\\gamma'$ è un prefisso, eventualmente vuoto, di $\\gamma$).\n",
    "\n",
    "Inoltre, la definizione di $\\operatorname{FIRST}$ suggerisce un semplice modo ricorsivo per calcolare $\\operatorname{FIRST}(X)$:\n",
    "\n",
    "* se $X\\in T$ allora per forza $\\operatorname{FIRST}(X) = \\{X\\}$;\n",
    "* viceversa $\\operatorname{FIRST}(X)$ sarà dato dall'unione di tutti i $\\operatorname{FIRST}(Y)$ per tutti gli $Y \\neq X$ tali che $X\\to Y\\alpha$."
   ]
  },
  {
   "cell_type": "code",
   "execution_count": null,
   "metadata": {},
   "outputs": [],
   "source": [
    "def compute_first(G):\n",
    "\n",
    "  def recursive_first(X): # X è G.T | G.N\n",
    "    return union_of(\n",
    "      recursive_first(Y)\n",
    "      for Y, *α in G.alternatives(X) if Y != X # occhio alla ricorsione a sinistra!\n",
    "    ) if X in G.N else {X}\n",
    "  \n",
    "  FIRST = Table(1)\n",
    "  for X in G.N | G.T: FIRST[X] = recursive_first(X)\n",
    "      \n",
    "  return FIRST"
   ]
  },
  {
   "cell_type": "markdown",
   "metadata": {},
   "source": [
    "Proviamo cosa accade con questa grammatica"
   ]
  },
  {
   "cell_type": "code",
   "execution_count": null,
   "metadata": {},
   "outputs": [],
   "source": [
    "# fig. 8.7, pag. 240\n",
    "\n",
    "G = Grammar.from_string(\"\"\"\n",
    "Session -> Fact Session | Question\n",
    "Session -> ( Session ) Session\n",
    "Fact -> ! STRING\n",
    "Question -> ? STRING\n",
    "\"\"\")\n",
    "G"
   ]
  },
  {
   "cell_type": "code",
   "execution_count": null,
   "metadata": {},
   "outputs": [],
   "source": [
    "FIRST = compute_first(G)\n",
    "FIRST.restrict_to(G.N) # ci interessano solo le righe relative ai non terminali"
   ]
  },
  {
   "cell_type": "markdown",
   "metadata": {},
   "source": [
    "Correttamente, il non terminale `Session` può produrre parole che iniziano con `!`, `?` oppure `(`. Ora calcoliamo `TABLE` "
   ]
  },
  {
   "cell_type": "code",
   "execution_count": null,
   "metadata": {},
   "outputs": [],
   "source": [
    "TABLE = compute_table(G)\n",
    "TABLE"
   ]
  },
  {
   "cell_type": "markdown",
   "metadata": {},
   "source": [
    "Ora possiamo usare esattamente lo stesso `parse_noε`, passando questa tabella, per derivare una parola"
   ]
  },
  {
   "cell_type": "code",
   "execution_count": null,
   "metadata": {},
   "outputs": [],
   "source": [
    "INPUT = '( ( ! STRING ? STRING ) ? STRING ) ! STRING ? STRING'.split()"
   ]
  },
  {
   "cell_type": "code",
   "execution_count": null,
   "metadata": {},
   "outputs": [],
   "source": [
    "ProductionGraph(parse_noε(G, TABLE, INPUT))"
   ]
  },
  {
   "cell_type": "markdown",
   "metadata": {},
   "source": [
    "## Cosa accade con le ε-regole? \n",
    "\n",
    "Consideriamo la seguente versione più \"naturale\" della precedente grammatica:"
   ]
  },
  {
   "cell_type": "code",
   "execution_count": null,
   "metadata": {},
   "outputs": [],
   "source": [
    "# fig. 8.9, pag. 242\n",
    "\n",
    "G = Grammar.from_string(\"\"\"\n",
    "Session -> Facts Question | ( Session ) Session\n",
    "Facts -> Fact Facts | ε\n",
    "Fact -> ! STRING\n",
    "Question -> ? STRING\n",
    "\"\"\")\n",
    "G"
   ]
  },
  {
   "cell_type": "markdown",
   "metadata": {},
   "source": [
    "### Estendere il calcolo di `FIRST` al caso con ε-regole\n",
    "\n",
    "Evidentemente non potremo più semplificarci la vita considerando $\\operatorname{FIRST}(B\\beta) = \\operatorname{FIRST}(B)$, perché se $B\\to\\varepsilon$ (altrimenti detto $\\varepsilon\\in \\operatorname{FIRST}(B)$) per prima cosa non è detto che $\\varepsilon\\in \\operatorname{FIRST}(B\\beta)$ (perché potrebbe essere che $\\varepsilon\\not\\in \\operatorname{FIRST}(\\beta)$), ma sopratutto dovremo aggiungere anche $\\operatorname{FIRST}(\\beta)$ a $\\operatorname{FIRST}(B\\beta)$ per tenere conto del caso in cui la prima produzione sia proprio quella che \"fa sparire\" $B$! "
   ]
  },
  {
   "cell_type": "markdown",
   "metadata": {},
   "source": [
    "Siamo pronti per aggiornare il calcolo di $\\operatorname{FIRST}(\\omega)$, questa volta per semplificarci la vita useremo una chiusura; gli elementi della tabella `FIRST` saranno insiemi ai quali, ad ogni passo della chiusura, aggiungeremo i terminali che di volta in volta individueremo come i primi derivabili da $\\omega$.\n",
    "\n",
    "Inizialmente $\\operatorname{FIRST}(t) = \\{t\\}$ per tutti i $t \\in T \\cup \\{\\varepsilon, \\#\\}$. Poi ad ogni passo della chiusura aggiorneremo `FIRST` seceondo questa logica:\n",
    "\n",
    "* considerando le produzioni $X\\to \\alpha$, estenderemo $\\operatorname{FIRST}(X)$ in modo che contenga \n",
    "  $\\operatorname{FIRST}(\\alpha)$ (come fatto nel caso senza ε-regole );\n",
    "* inoltre, al fine di tener conto del fatto che i prefissi di $\\alpha$ potrebbero produrre $\\varepsilon$, \n",
    "  considereremo anche tutti i suffissi $\\gamma = A\\beta$ di $\\alpha$, estendendo $\\operatorname{FIRST}(\\gamma)$\n",
    "  in modo che contenga:\n",
    "    * $\\operatorname{FIRST}(A)$ (tranne eventualmente $\\varepsilon$, che non va aggiunto a meno che \n",
    "      $\\beta\\overset{*}{\\to} \\varepsilon$) e\n",
    "    * $\\operatorname{FIRST}(\\beta)$ se $\\varepsilon\\in \\operatorname{FIRST}(A)$.\n",
    "\n",
    "Possiamo procurarci i suffissi di una forma sentenziale con la seguente funzione"
   ]
  },
  {
   "cell_type": "code",
   "execution_count": null,
   "metadata": {},
   "outputs": [],
   "source": [
    "list(suffixes('example'))"
   ]
  },
  {
   "cell_type": "code",
   "execution_count": null,
   "metadata": {},
   "outputs": [],
   "source": [
    "def compute_εfirst(G):\n",
    "\n",
    "  FIRST = Table(1, element = set) # questo significa che gli elementi dell tabella sono insiemi\n",
    "\n",
    "  # per prima cosa, il caso banele \n",
    "  for t in G.T: FIRST[(t, )] = {t} # attenzione, gli indici sono forme sentenziali, ossia tuple!\n",
    "\n",
    "  # qualche caso \"extra\" che ci verrà comodo poi    \n",
    "  FIRST[tuple()] = {ε}\n",
    "  FIRST[(ε, )] = {ε}\n",
    "  FIRST[(HASH, )] = {HASH}\n",
    "\n",
    "  @closure\n",
    "  def update_with_suffixes(FIRST):\n",
    "    for X, α in G.P:\n",
    "      FIRST[(X, )] |= FIRST[α]\n",
    "      for γ in suffixes(α):\n",
    "        A, *β = γ\n",
    "        FIRST[γ] |= FIRST[(A, )] - {ε}\n",
    "        if ε in FIRST[(A, )]: FIRST[γ] |= FIRST[β]\n",
    "    return FIRST\n",
    "\n",
    "  return update_with_suffixes(FIRST)"
   ]
  },
  {
   "cell_type": "code",
   "execution_count": null,
   "metadata": {},
   "outputs": [],
   "source": [
    "FIRST = compute_εfirst(G)\n",
    "FIRST.restrict_to({(X, ) for X in G.N})"
   ]
  },
  {
   "cell_type": "markdown",
   "metadata": {},
   "source": [
    "Quanto ottenuto fin qui è corretto, ma `FIRST` contiene valori solo per certe forme sentenziali (ottenute come suffissi dei lati destri), non per tutte. Non è però difficile estenderlo in modo che funzioni in generale.\n",
    "\n",
    "Ragionando in maniera ricorsiva (come abbiamo fatto in `compute_first`) è possibile passare da un insieme ad una funzione `FIRSTf` che calcoli $\\operatorname{FIRST}(\\omega)$ qualunque sia $\\omega$"
   ]
  },
  {
   "cell_type": "code",
   "execution_count": null,
   "metadata": {},
   "outputs": [],
   "source": [
    "def make_first_function(G):\n",
    "\n",
    "  FIRST = compute_εfirst(G)\n",
    "\n",
    "  @show_calls(True)\n",
    "  def FIRSTf(ω):\n",
    "    if not ω: return {ε}\n",
    "    X, *γ = ω\n",
    "    fx = FIRST[(X, )]\n",
    "    if ε in fx:\n",
    "      return (fx - {ε}) | FIRSTf(γ)\n",
    "    else:\n",
    "      return fx\n",
    "\n",
    "  return FIRSTf"
   ]
  },
  {
   "cell_type": "markdown",
   "metadata": {},
   "source": [
    "Possiamo provarla su una forma addirittura non derivabile da $S$"
   ]
  },
  {
   "cell_type": "code",
   "execution_count": null,
   "metadata": {},
   "outputs": [],
   "source": [
    "FIRSTf = make_first_function(G)"
   ]
  },
  {
   "cell_type": "code",
   "execution_count": null,
   "metadata": {},
   "outputs": [],
   "source": [
    "FIRSTf(('Facts', 'Facts', 'Question', HASH ))"
   ]
  },
  {
   "cell_type": "markdown",
   "metadata": {},
   "source": [
    "Ora la nostra speranza è poter calcolare `TABLE` a partire da `FRISTf`, ma purtroppo è impossibile auspicarsi di poter decidere che produzione usare considerando solo il simbolo $A$ in cima alla pila, dato che potrebbe darsi il caso che $A\\to\\varepsilon$."
   ]
  }
 ],
 "metadata": {
  "kernelspec": {
   "display_name": "Python 3 (ipykernel)",
   "language": "python",
   "name": "python3"
  },
  "language_info": {
   "codemirror_mode": {
    "name": "ipython",
    "version": 3
   },
   "file_extension": ".py",
   "mimetype": "text/x-python",
   "name": "python",
   "nbconvert_exporter": "python",
   "pygments_lexer": "ipython3",
   "version": "3.10.6"
  },
  "varInspector": {
   "cols": {
    "lenName": 16,
    "lenType": 16,
    "lenVar": 40
   },
   "kernels_config": {
    "python": {
     "delete_cmd_postfix": "",
     "delete_cmd_prefix": "del ",
     "library": "var_list.py",
     "varRefreshCmd": "print(var_dic_list())"
    },
    "r": {
     "delete_cmd_postfix": ") ",
     "delete_cmd_prefix": "rm(",
     "library": "var_list.r",
     "varRefreshCmd": "cat(var_dic_list()) "
    }
   },
   "types_to_exclude": [
    "module",
    "function",
    "builtin_function_or_method",
    "instance",
    "_Feature"
   ],
   "window_display": false
  }
 },
 "nbformat": 4,
 "nbformat_minor": 2
}
