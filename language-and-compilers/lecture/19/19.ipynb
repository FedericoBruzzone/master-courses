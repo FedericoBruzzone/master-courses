{
 "cells": [
  {
   "attachments": {},
   "cell_type": "markdown",
   "metadata": {},
   "source": [
    "# Transpilazione"
   ]
  },
  {
   "cell_type": "code",
   "execution_count": null,
   "metadata": {},
   "outputs": [],
   "source": [
    "import ast\n",
    "from pathlib import Path\n",
    "from textwrap import indent\n",
    "import webbrowser\n",
    "\n",
    "from liblet import ANTLR, AnnotatedTreeWalker, Tree, pyast2tree"
   ]
  },
  {
   "attachments": {},
   "cell_type": "markdown",
   "metadata": {},
   "source": [
    "## Un linguaggio semplice\n",
    "\n",
    "Iniziamo da un linguaggio semplice, con variabili di tipo intero, *scope* esclusivamente globale, e due sole strutture di controllo: la *selezione* e la *ripetizione* (ossia una iterazione controllata in cui il numero di itearti sia noto e fissato prima del suo inizio). Per chi sa cosa sono, questo linguaggio è in grado di esprimere tutte le funzioni *ricorsive primitive*, una conseguenza di questo fatto è che la computazione termina sempre.\n",
    "\n",
    "Per consentire un embrione di I/O assumeremo che le variabili `INPUT<N>` (dove `<N>` è un intero) e `OUTPUT` siano già pre-dichiarate nell'ambiente d'esecuzione con l'ovvio significato: la prime conterranno l'*input* per il programma e, al termine dell'esecuzione, l'*interprete* emetterà il contenuto della seconda.\n",
    "\n",
    "### Grammatica e parsing"
   ]
  },
  {
   "cell_type": "code",
   "execution_count": null,
   "metadata": {},
   "outputs": [],
   "source": [
    "SimpleLang = ANTLR(r\"\"\"grammar SimpleLang;\n",
    "\n",
    "program: stat+ ;\n",
    "\n",
    "stat: 'var' ID ('=' expr)? ';'                    # varDeclStat\n",
    "    | 'if' expr 'then' stat+ ('else' stat+)? 'fi' # ifElseStat\n",
    "    | 'repeat' expr 'times' stat+ 'done'          # repeatStat\n",
    "    | ID '=' expr ';'                             # assignementStat\n",
    "    ;\n",
    "\n",
    "expr: '!' expr            # notExpr\n",
    "    | expr '*' expr       # prodExpr\n",
    "    | expr ('+'|'-') expr # addSubExpr\n",
    "    | expr '==' expr      # equalityExpr\n",
    "    | ID                  # varRefExpr\n",
    "    | INT                 # intExpr\n",
    "    | '(' expr ')'        # subExpr\n",
    "    ;\n",
    "\n",
    "ID: LETTER (LETTER | [0-9])* ;\n",
    "INT: [0-9]+ ;\n",
    "WS: [ \\t\\n\\r]+ -> skip ;\n",
    "fragment\n",
    "LETTER : [a-zA-Z] ;\n",
    "\"\"\")"
   ]
  },
  {
   "attachments": {},
   "cell_type": "markdown",
   "metadata": {},
   "source": [
    "Un esempio di sorgente"
   ]
  },
  {
   "cell_type": "code",
   "execution_count": null,
   "metadata": {},
   "outputs": [],
   "source": [
    "source = \"\"\"\n",
    "var somma = 0;\n",
    "var n = 0;\n",
    "repeat INPUT0 times\n",
    "  n = n + 1;\n",
    "  if n == 3 then\n",
    "    OUTPUT = 100;\n",
    "  fi\n",
    "  if n == 4 then\n",
    "    OUTPUT = 0;\n",
    "  else\n",
    "    OUTPUT = 10;\n",
    "  fi\n",
    "  somma = somma + n;\n",
    "done\n",
    "OUTPUT = OUTPUT + somma;\n",
    "\"\"\""
   ]
  },
  {
   "attachments": {},
   "cell_type": "markdown",
   "metadata": {},
   "source": [
    "L'albero di parsing"
   ]
  },
  {
   "cell_type": "code",
   "execution_count": null,
   "metadata": {},
   "outputs": [],
   "source": [
    "ptree = SimpleLang.tree(source, 'program')\n",
    "ptree"
   ]
  },
  {
   "attachments": {},
   "cell_type": "markdown",
   "metadata": {},
   "source": [
    "### Dal parse tree all'AST"
   ]
  },
  {
   "cell_type": "code",
   "execution_count": null,
   "metadata": {},
   "outputs": [],
   "source": [
    "simple2ast = AnnotatedTreeWalker('name')"
   ]
  },
  {
   "cell_type": "code",
   "execution_count": null,
   "metadata": {},
   "outputs": [],
   "source": [
    "@simple2ast.register\n",
    "def intExpr(visit, ptree):\n",
    "  return Tree({'type': 'intExpr', 'value': int(ptree.children[0].attr.value)})\n",
    "\n",
    "@simple2ast.register\n",
    "def addSubExpr(visit, ptree):\n",
    "  left, op, right = ptree.children\n",
    "  return Tree({'type': 'addSubExpr', 'op': op.attr.name}, [visit(left), visit(right)])\n",
    "\n",
    "@simple2ast.register\n",
    "def equalityExpr(visit, ptree):\n",
    "  left, _, right = ptree.children\n",
    "  return Tree({'type': 'equalityExpr', 'op': '=='}, [visit(left), visit(right)])\n",
    "\n",
    "@simple2ast.register\n",
    "def varRefExpr(visit, ptree):\n",
    "  return Tree({'type': 'varRefExpr', 'varName': ptree.children[0].attr.value})"
   ]
  },
  {
   "cell_type": "code",
   "execution_count": null,
   "metadata": {},
   "outputs": [],
   "source": [
    "@simple2ast.register\n",
    "def varDeclStat(visit, ptree):\n",
    "  name = ptree.children[1].attr.value\n",
    "  if len(ptree.children) == 5:\n",
    "    return Tree({'type': 'varDeclInitStat', 'varName': name}, [visit(ptree.children[3])])\n",
    "  else:\n",
    "    return Tree({'type': 'varDeclStat', 'varName': name})\n",
    "\n",
    "@simple2ast.register\n",
    "def assignementStat(visit, ptree):\n",
    "  name, _, expr, _ = ptree.children\n",
    "  return Tree({'type': 'assignementStat', 'varName': name.attr.value}, [visit(expr)])\n",
    "\n",
    "@simple2ast.register\n",
    "def repeatStat(visit, ptree):\n",
    "  _, expr, _, *stats, _ = ptree.children\n",
    "  return Tree({'type': 'repeatStat'}, [visit(expr)] + [visit(stat) for stat in stats])\n",
    "\n",
    "@simple2ast.register\n",
    "def ifElseStat(visit, ptree):\n",
    "  _, cond, _, *stats, _ = ptree.children\n",
    "  try:\n",
    "    elsePos = [stat.attr.name for stat in stats].index('else')\n",
    "  except ValueError:\n",
    "    elsePos = len(stats)\n",
    "  return Tree( {'type': 'ifElseStat', 'elsePos': elsePos}, \n",
    "               [visit(cond)] +\n",
    "               [visit(stat) for stat in stats[:elsePos]] +\n",
    "               [visit(stat) for stat in stats[elsePos + 1:]]\n",
    "         )\n",
    "\n",
    "@simple2ast.register\n",
    "def program(visit, ptree):\n",
    "  return Tree({'type': 'program'}, [visit(child) for child in ptree.children])"
   ]
  },
  {
   "cell_type": "code",
   "execution_count": null,
   "metadata": {},
   "outputs": [],
   "source": [
    "atree = simple2ast(ptree)\n",
    "atree"
   ]
  },
  {
   "cell_type": "code",
   "execution_count": null,
   "metadata": {},
   "outputs": [],
   "source": [
    "simple2ast.save('simple2ast.atw') # pre la prossima lezione"
   ]
  },
  {
   "attachments": {},
   "cell_type": "markdown",
   "metadata": {},
   "source": [
    "### Transpilazione verso Javascript"
   ]
  },
  {
   "cell_type": "code",
   "execution_count": null,
   "metadata": {},
   "outputs": [],
   "source": [
    "simple2js = AnnotatedTreeWalker('type')"
   ]
  },
  {
   "cell_type": "code",
   "execution_count": null,
   "metadata": {},
   "outputs": [],
   "source": [
    "@simple2js.register\n",
    "def intExpr(visit, atree):\n",
    "  return str(atree.attr.value)\n",
    "\n",
    "@simple2js.register\n",
    "def addSubExpr(visit, atree):\n",
    "  return f'{visit(atree.children[0])} {atree.attr.op} {visit(atree.children[1])}'\n",
    "\n",
    "@simple2js.register\n",
    "def equalityExpr(visit, atree):\n",
    "  return f'{visit(atree.children[0])} == {visit(atree.children[1])}'\n",
    "\n",
    "@simple2js.register\n",
    "def varRefExpr(visit, atree):\n",
    "  return atree.attr.varName\n",
    "\n",
    "@simple2js.register\n",
    "def varDeclStat(visit, atree):\n",
    "  return f'let {atree.attr.varName};'\n",
    "\n",
    "@simple2js.register\n",
    "def varDeclInitStat(visit, atree):\n",
    "  return f'let {atree.attr.varName} = {visit(atree.children[0])};'\n",
    "\n",
    "@simple2js.register\n",
    "def ifElseStat(visit, atree):\n",
    "  elsePos = atree.attr.elsePos\n",
    "  stats = atree.children[1:]\n",
    "  test = visit(atree.children[0])\n",
    "  body = indent('\\n'.join(visit(stat) for stat in stats[:elsePos]), '\\t')\n",
    "  orelse = indent('\\n'.join(visit(stat) for stat in stats[elsePos:]), '\\t')\n",
    "  orelse = f'else {{\\n{orelse}\\n}}' if orelse != '' else ''\n",
    "  return f'if ({test}) {{\\n{body}\\n}} {orelse}'\n",
    "\n",
    "@simple2js.register\n",
    "def assignementStat(visit, atree):\n",
    "  return f'{atree.attr.varName} = {visit(atree.children[0])};'\n",
    "\n",
    "@simple2js.register\n",
    "def program(visit, atree):\n",
    "  return '\\n'.join(visit(child) for child in atree.children)"
   ]
  },
  {
   "cell_type": "code",
   "execution_count": null,
   "metadata": {},
   "outputs": [],
   "source": [
    "# unica cosa degna di nota, il repeat diventa un for\n",
    "\n",
    "@simple2js.register\n",
    "def repeatStat(visit, atree):\n",
    "  count, *stats = atree.children\n",
    "  stats = indent('\\n'.join(visit(stat) for stat in stats), '\\t')\n",
    "  return f'for (let rv = 0; rv < {visit(count)}; rv++) {{\\n{stats}\\n}}' \n"
   ]
  },
  {
   "cell_type": "code",
   "execution_count": null,
   "metadata": {},
   "outputs": [],
   "source": [
    "code = simple2js(atree)\n",
    "print(code)"
   ]
  },
  {
   "attachments": {},
   "cell_type": "markdown",
   "metadata": {},
   "source": [
    "### E l'input/output?\n",
    "\n",
    "Facendo una analisi successiva al primo passo di transpilazione"
   ]
  },
  {
   "cell_type": "code",
   "execution_count": null,
   "metadata": {},
   "outputs": [],
   "source": [
    "SEEN_INPUT_VARS = set()\n",
    "\n",
    "def geninput(atree):\n",
    "  if atree.attr.type == 'varRefExpr':\n",
    "    name = atree.attr.varName\n",
    "    if name.startswith('INPUT'): SEEN_INPUT_VARS.add(name)\n",
    "  else:\n",
    "    for child in atree.children: geninput(child)\n",
    "\n",
    "geninput(atree)\n",
    "\n",
    "INPUT_JS = '\\n'.join(f'let {name} = window.prompt(\"{name}\");' for name in SEEN_INPUT_VARS)\n",
    "print(INPUT_JS)"
   ]
  },
  {
   "cell_type": "code",
   "execution_count": null,
   "metadata": {},
   "outputs": [],
   "source": [
    "code_withio = '\\n'.join(['let OUTPUT = 0;', INPUT_JS, code, 'window.alert(\"OUTPUT \" + OUTPUT);'])\n",
    "print(code_withio)"
   ]
  },
  {
   "attachments": {},
   "cell_type": "markdown",
   "metadata": {},
   "source": [
    "Oppure svolgendo l'analisi e l'aggiunta del codice durante la transpilazione"
   ]
  },
  {
   "cell_type": "code",
   "execution_count": null,
   "metadata": {},
   "outputs": [],
   "source": [
    "SEEN_INPUT_VARS = set()\n",
    "\n",
    "@simple2js.register\n",
    "def varRefExpr(visit, atree):\n",
    "  name = atree.attr.varName\n",
    "  if name.startswith('INPUT'): SEEN_INPUT_VARS.add(name)\n",
    "  return name\n",
    "\n",
    "@simple2js.register\n",
    "def program(visit, atree):\n",
    "  code = '\\n'.join(visit(child) for child in atree.children)\n",
    "  inputs = '\\n'.join(f'let {name} = window.prompt(\"{name}\");' for name in SEEN_INPUT_VARS)\n",
    "  return '\\n'.join(['let OUTPUT = 0;', inputs, code, 'window.alert(\"OUTPUT \" + OUTPUT)'])\n",
    "\n",
    "code = simple2js(atree)\n",
    "print(code)"
   ]
  },
  {
   "attachments": {},
   "cell_type": "markdown",
   "metadata": {},
   "source": [
    "### Esecuzione\n",
    "\n",
    "Per eseguire basta, ad esempio, farne una pagina HTML e aprirla nel browser…"
   ]
  },
  {
   "cell_type": "code",
   "execution_count": null,
   "metadata": {},
   "outputs": [],
   "source": [
    "Path('example.html').write_text(f\"\"\"\n",
    "\n",
    "<html>\n",
    "  <head>\n",
    "    <title>Execution</title>\n",
    "  </head>\n",
    "  <body>\n",
    "    <script>{code}</script>\n",
    "  </body>\n",
    "</html>\n",
    "\n",
    "\"\"\")\n",
    "\n",
    "# togliere il commento dalla prossima linea…\n",
    "# webbrowser.open('example.html');"
   ]
  },
  {
   "attachments": {},
   "cell_type": "markdown",
   "metadata": {},
   "source": [
    "## Gli AST (nativi) di Python\n",
    "\n",
    "### Dal sorgente all'AST e sua esplorazione\n",
    "\n",
    "Si può passare da un *sorgente* all'AST con [parse](https://docs.python.org/3/library/ast.html#ast.parse), qui usiamo `mode = 'eval'` perché il sorgente è una *espressione*."
   ]
  },
  {
   "cell_type": "code",
   "execution_count": null,
   "metadata": {},
   "outputs": [],
   "source": [
    "pysource = '1 + 3 * 4'"
   ]
  },
  {
   "cell_type": "code",
   "execution_count": null,
   "metadata": {},
   "outputs": [],
   "source": [
    "atree = ast.parse(pysource, mode = 'eval')\n",
    "atree"
   ]
  },
  {
   "cell_type": "code",
   "execution_count": null,
   "metadata": {},
   "outputs": [],
   "source": [
    "# come stringa\n",
    "\n",
    "ast.dump(atree)"
   ]
  },
  {
   "cell_type": "code",
   "execution_count": null,
   "metadata": {},
   "outputs": [],
   "source": [
    "# visualizzato come Tree\n",
    "\n",
    "pyast2tree(atree)"
   ]
  },
  {
   "attachments": {},
   "cell_type": "markdown",
   "metadata": {},
   "source": [
    "### Compilazione ed esecuzione dell'AST\n",
    "\n",
    "Un AST può essere compilato con [compile](https://docs.python.org/3/library/functions.html#compile) e quindi, essendo una *espressione*, essere eseguito con [eval](https://docs.python.org/3/library/functions.html#eval)."
   ]
  },
  {
   "cell_type": "code",
   "execution_count": null,
   "metadata": {},
   "outputs": [],
   "source": [
    "# di nuovo 'eval' percché è una espressione\n",
    "\n",
    "code = compile(atree, filename = '<ast>', mode = 'eval')"
   ]
  },
  {
   "cell_type": "code",
   "execution_count": null,
   "metadata": {},
   "outputs": [],
   "source": [
    "# per valutare si usa eval perché è una espressione\n",
    "eval(code)"
   ]
  },
  {
   "attachments": {},
   "cell_type": "markdown",
   "metadata": {},
   "source": [
    "### Costruzione \"manuale\" di un AST\n",
    "\n",
    "Per una descrizione dei nodi si veda:\n",
    "\n",
    "* l'[Abstract Grammar](https://docs.python.org/3/library/ast.html#abstract-grammar) riportata nella documentazione ufficiale e\n",
    "* la sezione [Meet the Nodes](https://greentreesnakes.readthedocs.io/en/latest/nodes.html) della documentazione \"Green Tree Snakes\"."
   ]
  },
  {
   "cell_type": "code",
   "execution_count": null,
   "metadata": {},
   "outputs": [],
   "source": [
    "# un esempio: l'espressione tra liste [1, 2]  + ['three']\n",
    "\n",
    "atree = ast.Expression(\n",
    "  body = ast.BinOp(\n",
    "    left = ast.List([ast.Num(1), ast.Num(2)], ctx = ast.Load()),\n",
    "    op = ast.Add(),\n",
    "    right = ast.List([ast.Str('three')], ctx = ast.Load())\n",
    "  )\n",
    ")"
   ]
  },
  {
   "cell_type": "code",
   "execution_count": null,
   "metadata": {},
   "outputs": [],
   "source": [
    "pyast2tree(atree)"
   ]
  },
  {
   "attachments": {},
   "cell_type": "markdown",
   "metadata": {},
   "source": [
    "Trattandosi di codice costruito a mano, è necessario sistemare i numeri di linea e colonna con [fix_missing_locations](https://docs.python.org/3/library/ast.html#ast.fix_missing_locations) che decora i nodi dell'AST con le informazioni aggiuntive."
   ]
  },
  {
   "cell_type": "code",
   "execution_count": null,
   "metadata": {},
   "outputs": [],
   "source": [
    "ast.fix_missing_locations(atree)"
   ]
  },
  {
   "cell_type": "code",
   "execution_count": null,
   "metadata": {},
   "outputs": [],
   "source": [
    "# compilazione ed esecuzione\n",
    "\n",
    "code = compile(atree, filename = '<ast>', mode = 'eval')\n",
    "eval(code)"
   ]
  },
  {
   "attachments": {},
   "cell_type": "markdown",
   "metadata": {},
   "source": [
    "## Transpilazione verso gli AST (nativi) di Python\n",
    "\n",
    "### Costruzione dell'AST Python"
   ]
  },
  {
   "cell_type": "code",
   "execution_count": null,
   "metadata": {},
   "outputs": [],
   "source": [
    "simple2py = AnnotatedTreeWalker('type')"
   ]
  },
  {
   "cell_type": "code",
   "execution_count": null,
   "metadata": {},
   "outputs": [],
   "source": [
    "@simple2py.register\n",
    "def intExpr(visit, atree):\n",
    "  return ast.Num(n = atree.attr.value)\n",
    "\n",
    "@simple2py.register\n",
    "def addSubExpr(visit, atree):\n",
    "  left = visit(atree.children[0])\n",
    "  right = visit(atree.children[1])\n",
    "  return ast.BinOp(\n",
    "    left = left, \n",
    "    op = ast.Add() if atree.attr.op == '+' else ast.Sub(), \n",
    "    right = right\n",
    "  )\n",
    "\n",
    "@simple2py.register\n",
    "def equalityExpr(visit, atree):\n",
    "  left = visit(atree.children[0])\n",
    "  right = visit(atree.children[1])\n",
    "  return ast.Compare(left = left, ops=[ast.Eq()], comparators = [right])\n",
    "\n",
    "@simple2py.register\n",
    "def varRefExpr(visit, atree):\n",
    "  return ast.Name(id = atree.attr.varName, ctx = ast.Load())\n",
    "\n",
    "@simple2py.register\n",
    "def varDeclStat(visit, atree):\n",
    "  return ast.Assign(targets = [ast.Name(id = atree.attr.varName, ctx = ast.Store())], value = ast.Num(n = 0))\n",
    "\n",
    "@simple2py.register\n",
    "def varDeclInitStat(visit, atree):\n",
    "  return ast.Assign(targets = [ast.Name(id = atree.attr.varName, ctx = ast.Store())], value = visit(atree.children[0]))\n",
    "\n",
    "@simple2py.register\n",
    "def ifElseStat(visit, atree):\n",
    "  elsePos = atree.attr.elsePos\n",
    "  stats = atree.children[1:]\n",
    "  return ast.If(\n",
    "    test = visit(atree.children[0]), \n",
    "    body = [visit(stat) for stat in stats[:elsePos]], \n",
    "    orelse = [visit(stat) for stat in stats[elsePos:]], \n",
    "  )\n",
    "\n",
    "@simple2py.register\n",
    "def assignementStat(visit, atree):\n",
    "  return ast.Assign(targets = [ast.Name(id = atree.attr.varName, ctx = ast.Store())], value = visit(atree.children[0]))\n",
    "\n",
    "@simple2py.register\n",
    "def program(visit, atree):\n",
    "  return ast.Module(body = [visit(child) for child in atree.children], type_ignores = [])"
   ]
  },
  {
   "cell_type": "code",
   "execution_count": null,
   "metadata": {},
   "outputs": [],
   "source": [
    "# di nuovo, unica cosa degna di nota, il repeat diventa un for che usa la funzione range\n",
    "\n",
    "@simple2py.register\n",
    "def repeatStat(visit, atree):\n",
    "  count, *stats = atree.children\n",
    "  return ast.For(\n",
    "    target = ast.Name(id = 'rv', ctx = ast.Store()), \n",
    "    iter = ast.Call( \n",
    "             func = ast.Name(id = 'range', ctx = ast.Load()), \n",
    "             args = [visit(count)], \n",
    "             keywords = []\n",
    "           ), \n",
    "    body = [visit(stat) for stat in stats], \n",
    "    orelse = []\n",
    "  )"
   ]
  },
  {
   "cell_type": "code",
   "execution_count": null,
   "metadata": {},
   "outputs": [],
   "source": [
    "# costruzione dell'AST Python \n",
    "\n",
    "pyast = simple2py(simple2ast(SimpleLang.tree(source, 'program')))"
   ]
  },
  {
   "cell_type": "code",
   "execution_count": null,
   "metadata": {},
   "outputs": [],
   "source": [
    "pyast2tree(pyast)"
   ]
  },
  {
   "attachments": {},
   "cell_type": "markdown",
   "metadata": {},
   "source": [
    "### Esecuzione\n",
    "\n",
    "Per prima cosa, si sistemano i numeri di linea e si compila, in questo caso con `mode = 'exec'` perché il codice è uno *statement* non più una espressione."
   ]
  },
  {
   "cell_type": "code",
   "execution_count": null,
   "metadata": {},
   "outputs": [],
   "source": [
    "ast.fix_missing_locations(pyast)"
   ]
  },
  {
   "cell_type": "code",
   "execution_count": null,
   "metadata": {},
   "outputs": [],
   "source": [
    "code = compile(pyast, filename = '<ast>', mode = 'exec')"
   ]
  },
  {
   "attachments": {},
   "cell_type": "markdown",
   "metadata": {},
   "source": [
    "Prima dell'esecuzione con [exec](https://docs.python.org/3/library/functions.html#exec) è necessario fornire il dizionario delle variabili locali, dove mettere l'*input*:"
   ]
  },
  {
   "cell_type": "code",
   "execution_count": null,
   "metadata": {},
   "outputs": [],
   "source": [
    "localvars = {'INPUT0': 10}"
   ]
  },
  {
   "cell_type": "code",
   "execution_count": null,
   "metadata": {},
   "outputs": [],
   "source": [
    "# esecuzione\n",
    "\n",
    "exec(code, globals(), localvars)"
   ]
  },
  {
   "cell_type": "code",
   "execution_count": null,
   "metadata": {},
   "outputs": [],
   "source": [
    "# reperimento dell'output\n",
    "\n",
    "localvars['OUTPUT']"
   ]
  }
 ],
 "metadata": {
  "interpreter": {
   "hash": "e1004562009730290f42c30a7c24060925c35420ba84516473ad07a3f1950c5d"
  },
  "kernelspec": {
   "display_name": "Python 3.8.10 ('named-let-liblet')",
   "language": "python",
   "name": "python3"
  },
  "language_info": {
   "codemirror_mode": {
    "name": "ipython",
    "version": 3
   },
   "file_extension": ".py",
   "mimetype": "text/x-python",
   "name": "python",
   "nbconvert_exporter": "python",
   "pygments_lexer": "ipython3"
  }
 },
 "nbformat": 4,
 "nbformat_minor": 2
}
