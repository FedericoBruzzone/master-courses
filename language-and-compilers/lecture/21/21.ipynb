{
 "cells": [
  {
   "attachments": {},
   "cell_type": "markdown",
   "metadata": {},
   "source": [
    "# Lezione 21"
   ]
  },
  {
   "cell_type": "code",
   "execution_count": null,
   "metadata": {},
   "outputs": [],
   "source": [
    "from liblet import ANTLR, Tree, Stack, AnnotatedTreeWalker"
   ]
  },
  {
   "attachments": {},
   "cell_type": "markdown",
   "metadata": {},
   "source": [
    "## Partiamo da SimpleBlockLang\n",
    "\n",
    "Riprendiamo il linguaggio della scorsa lezione, ma scordandoci dello *scoping* per semplicità."
   ]
  },
  {
   "cell_type": "code",
   "execution_count": null,
   "metadata": {},
   "outputs": [],
   "source": [
    "SimpleBlockLang = ANTLR.load('SimpleBlockLang.g')\n",
    "simpleBlock2ast = AnnotatedTreeWalker.load('simpleBlock2ast.atw')\n",
    "\n",
    "def src2ast(source):\n",
    "  return simpleBlock2ast(SimpleBlockLang.tree(source, 'program'))"
   ]
  },
  {
   "attachments": {},
   "cell_type": "markdown",
   "metadata": {},
   "source": [
    "Come \"test\" usuiamo il solito programma con un campionario di istruzioni diverse…"
   ]
  },
  {
   "cell_type": "code",
   "execution_count": null,
   "metadata": {},
   "outputs": [],
   "source": [
    "source = \"\"\"\n",
    "var prodotto = 1;\n",
    "var n;\n",
    "if INPUT0 == 3 then\n",
    "  OUTPUT = 1;\n",
    "else {\n",
    "  repeat INPUT0 times {\n",
    "    n = n + 1;\n",
    "    prodotto = prodotto * n;\n",
    "  }\n",
    "  OUTPUT = prodotto;\n",
    "}\n",
    "\"\"\""
   ]
  },
  {
   "cell_type": "code",
   "execution_count": null,
   "metadata": {},
   "outputs": [],
   "source": [
    "# in simpleBlock2ast manca prodExpr\n",
    "\n",
    "@simpleBlock2ast.register\n",
    "def prodExpr(visit, ptree):\n",
    "  left, _, right = ptree.children\n",
    "  return Tree({'type': 'prodExpr'}, [visit(left), visit(right)])\n",
    "\n",
    "simpleBlock2ast.save('simpleBlock2ast.atw')\n"
   ]
  },
  {
   "cell_type": "code",
   "execution_count": null,
   "metadata": {},
   "outputs": [],
   "source": [
    "ast = src2ast(source)\n",
    "ast"
   ]
  },
  {
   "attachments": {},
   "cell_type": "markdown",
   "metadata": {},
   "source": [
    "## Un interprete ricorsivo con `AnnotatedTreeWalker`\n",
    "\n",
    "Usando un `AnnotatedTreeWalker`, definendo una funzione per ciascun tipo di nodo, a partire dagli *atomi*, alle *espressioni* e quindi alle *istruzioni*."
   ]
  },
  {
   "cell_type": "code",
   "execution_count": null,
   "metadata": {},
   "outputs": [],
   "source": [
    "interpreter = AnnotatedTreeWalker('type')"
   ]
  },
  {
   "cell_type": "code",
   "execution_count": null,
   "metadata": {},
   "outputs": [],
   "source": [
    "# gli atomi\n",
    "\n",
    "@interpreter.register\n",
    "def intExpr(visit, ast):\n",
    "  return ast.attr.value\n",
    "\n",
    "@interpreter.register\n",
    "def varRefExpr(visit, ast):\n",
    "  return interpreter.GLOBAL_MEMORY[ast.attr.varName]"
   ]
  },
  {
   "cell_type": "code",
   "execution_count": null,
   "metadata": {},
   "outputs": [],
   "source": [
    "# istruzioni di dichiarazione e assegnamento\n",
    "\n",
    "@interpreter.register\n",
    "def varDeclInitStat(visit, ast):\n",
    "  interpreter.GLOBAL_MEMORY[ast.attr.varName] = visit(ast.children[0])\n",
    "\n",
    "@interpreter.register\n",
    "def varDeclStat(visit, ast):\n",
    "  interpreter.GLOBAL_MEMORY[ast.attr.varName] = 0\n",
    "    \n",
    "@interpreter.register\n",
    "def assignementStat(visit, ast):\n",
    "  interpreter.GLOBAL_MEMORY[ast.attr.varName] = visit(ast.children[0])"
   ]
  },
  {
   "cell_type": "code",
   "execution_count": null,
   "metadata": {},
   "outputs": [],
   "source": [
    "# le espressioni binarie\n",
    "\n",
    "@interpreter.register\n",
    "def addSubExpr(visit, ast):\n",
    "  left = visit(ast.children[0])\n",
    "  right = visit(ast.children[1])\n",
    "  if ast.attr.op == '+':\n",
    "    return left + right\n",
    "  elif ast.attr.op == '-':\n",
    "    return left - right\n",
    "\n",
    "@interpreter.register\n",
    "def prodExpr(visit, ast):\n",
    "  left = visit(ast.children[0])\n",
    "  right = visit(ast.children[1])\n",
    "  return left * right\n",
    "\n",
    "@interpreter.register\n",
    "def equalityExpr(visit, ast):\n",
    "  left = visit(ast.children[0])\n",
    "  right = visit(ast.children[1])\n",
    "  return left == right"
   ]
  },
  {
   "cell_type": "code",
   "execution_count": null,
   "metadata": {},
   "outputs": [],
   "source": [
    "# controllo del flusso\n",
    "\n",
    "@interpreter.register\n",
    "def ifStat(visit, ast):\n",
    "  cond, stat = ast.children\n",
    "  if visit(cond): visit(stat)\n",
    "\n",
    "@interpreter.register\n",
    "def ifElseStat(visit, ast):\n",
    "  cond, true, false = ast.children\n",
    "  if visit(cond): \n",
    "    visit(true)\n",
    "  else:\n",
    "    visit(false)\n",
    "\n",
    "@interpreter.register\n",
    "def repeatStat(visit, ast):\n",
    "  count, stat = ast.children\n",
    "  count = visit(count)\n",
    "  for _ in range(count): visit(stat)"
   ]
  },
  {
   "cell_type": "code",
   "execution_count": null,
   "metadata": {},
   "outputs": [],
   "source": [
    "# quel che resta\n",
    "\n",
    "@interpreter.register\n",
    "def blockStat(visit, ast):\n",
    "  for stat in ast.children: visit(stat)\n",
    "\n",
    "@interpreter.register\n",
    "def program(visit, ast):\n",
    "  for stat in ast.children: visit(stat)\n",
    "  return interpreter.GLOBAL_MEMORY['OUTPUT']"
   ]
  },
  {
   "attachments": {},
   "cell_type": "markdown",
   "metadata": {},
   "source": [
    "Un test su 6 (resituisce il fattoriale) e su 3 (restituisce 1)"
   ]
  },
  {
   "cell_type": "code",
   "execution_count": null,
   "metadata": {},
   "outputs": [],
   "source": [
    "interpreter.GLOBAL_MEMORY = {'INPUT0': 6}\n",
    "interpreter(ast)"
   ]
  },
  {
   "cell_type": "code",
   "execution_count": null,
   "metadata": {},
   "outputs": [],
   "source": [
    "interpreter.GLOBAL_MEMORY = {'INPUT0': 3}\n",
    "interpreter(ast)"
   ]
  },
  {
   "attachments": {},
   "cell_type": "markdown",
   "metadata": {},
   "source": [
    "## Un linguaggio con funzioni\n",
    "\n",
    "Estendiamo l'interprete al caso di un linguaggio con funzioni (che supporti la ricorsione).\n",
    "\n",
    "### Grammatica e AST\n",
    "\n",
    "Inisiamo con le aggiunte alla grammatica…"
   ]
  },
  {
   "cell_type": "code",
   "execution_count": null,
   "metadata": {},
   "outputs": [],
   "source": [
    "SimpleFuncLang = ANTLR(r\"\"\"grammar SimpleFuncLang;\n",
    "\n",
    "program: functionDecl+ ;\n",
    "\n",
    "functionDecl: 'function' ID '(' formalParameters? ')' block ;\n",
    "formalParameters: ID (',' ID)* ;\n",
    "\n",
    "block: '{' stat* '}' ;\n",
    "\n",
    "expr: ID '(' exprList? ')' # funcCallExpr\n",
    "    | '!' expr             # notExpr\n",
    "    | expr '*' expr        # prodExpr\n",
    "    | expr ('+'|'-') expr  # addSubExpr\n",
    "    | expr '==' expr       # equalityExpr\n",
    "    | ID                   # varRefExpr\n",
    "    | INT                  # intExpr\n",
    "    | '(' expr ')'         # subExpr\n",
    "    ;\n",
    "\n",
    "exprList: expr (',' expr)* ;\n",
    "\n",
    "stat: block                                # blockStat\n",
    "    | 'var' ID ('=' expr)? ';'             # varDeclStat\n",
    "    | 'if' expr 'then' stat ('else' stat)? # ifElseStat\n",
    "    | 'repeat' expr 'times' stat           # repeatStat\n",
    "    | 'return' expr? ';'                   # returnStat\n",
    "    | ID '=' expr ';'                      # assignementStat\n",
    "    | expr ';'                             # exprStat\n",
    "    ;\n",
    "\n",
    "ID: LETTER (LETTER | [0-9])* ;\n",
    "INT: [0-9]+ ;\n",
    "WS: [ \\t\\n\\r]+ -> skip ;\n",
    "fragment\n",
    "LETTER : [a-zA-Z] ;\n",
    "\"\"\")"
   ]
  },
  {
   "attachments": {},
   "cell_type": "markdown",
   "metadata": {},
   "source": [
    "Adattiamo la trasformazione all'AST"
   ]
  },
  {
   "cell_type": "code",
   "execution_count": null,
   "metadata": {},
   "outputs": [],
   "source": [
    "# ripartiamo da quella di SimpleBlockLang\n",
    "\n",
    "simpleFunc2ast = simpleBlock2ast\n",
    "\n",
    "def src2ast(source):\n",
    "  return simpleFunc2ast(SimpleFuncLang.tree(source, 'program'))"
   ]
  },
  {
   "attachments": {},
   "cell_type": "markdown",
   "metadata": {},
   "source": [
    "I casi semplici"
   ]
  },
  {
   "cell_type": "code",
   "execution_count": null,
   "metadata": {},
   "outputs": [],
   "source": [
    "# ora anche una espressione è una istruzione\n",
    "\n",
    "@simpleFunc2ast.register\n",
    "def exprStat(visit, ast):\n",
    "  return Tree({'type': 'exprStat'}, [visit(ast.children[0])])\n",
    "\n",
    "# si è aggiunta anche l'istruzione return\n",
    "\n",
    "@simpleFunc2ast.register\n",
    "def returnStat(visit, ast):\n",
    "  if len(ast.children) == 3:\n",
    "    _, expr, _ = ast.children\n",
    "    return Tree({'type': 'returnStat'}, [visit(expr)])\n",
    "  else:\n",
    "    return Tree({'type': 'returnStat'})\n",
    "\n",
    "# e va gestito il bloco come figlio delle definizioni di funzione\n",
    "\n",
    "@simpleFunc2ast.register\n",
    "def block(visit, ast):\n",
    "  return Tree({'type': 'blockStat'}, [visit(stat) for stat in ast.children[1:-1]])"
   ]
  },
  {
   "attachments": {},
   "cell_type": "markdown",
   "metadata": {},
   "source": [
    "Nella dichiarazione di funzione teniamo da parte i *parametri formali* nell'attributo `params`, mentre nell'invocazione raccogliamo le espressioni corrispondenti ai *parametri attuali* come flgli del nodo… "
   ]
  },
  {
   "cell_type": "code",
   "execution_count": null,
   "metadata": {},
   "outputs": [],
   "source": [
    "@simpleFunc2ast.register\n",
    "def functionDecl(visit, ast):\n",
    "  if len(ast.children) == 6:\n",
    "    _, name, _, params, _, block = ast.children\n",
    "  else:\n",
    "    _, name, _, _, block = ast.children\n",
    "    params = None\n",
    "  param_names = [param.attr.value for param in params.children[::2]] if params else []\n",
    "  return Tree({'type': 'function', 'funcName': name.attr.value, 'params': param_names}, [visit(block)])\n",
    "\n",
    "@simpleFunc2ast.register\n",
    "def funcCallExpr(visit, ast):\n",
    "  if len(ast.children) == 4:\n",
    "    func, _, args, _ = ast.children\n",
    "    args = args.children[::2]\n",
    "  else:\n",
    "    func, _, _ = ast.children\n",
    "    args = []\n",
    "  return Tree({'type': 'funcCallExpr', 'funcName': func.attr.value}, [visit(arg) for arg in args])"
   ]
  },
  {
   "attachments": {},
   "cell_type": "markdown",
   "metadata": {},
   "source": [
    "Testiamo sul calcolo del fattoriale…"
   ]
  },
  {
   "cell_type": "code",
   "execution_count": null,
   "metadata": {},
   "outputs": [],
   "source": [
    "fact_source = r\"\"\"\n",
    "function fact(n) {\n",
    "  if n == 0 then\n",
    "    return 1;\n",
    "  else \n",
    "    return n * fact(n - 1);\n",
    "}\n",
    "\n",
    "function main() {\n",
    "  OUTPUT = fact(INPUT0);\n",
    "}\n",
    "\"\"\""
   ]
  },
  {
   "cell_type": "code",
   "execution_count": null,
   "metadata": {},
   "outputs": [],
   "source": [
    "fact_ast = src2ast(fact_source)\n",
    "fact_ast"
   ]
  },
  {
   "attachments": {},
   "cell_type": "markdown",
   "metadata": {},
   "source": [
    "### Interpretazione e record d'attivazione\n",
    "\n",
    "Sostituiamo la memoria globale con una pila `ACTIVATION_RECORDS` di *record di attivazione*, questo influisce dapprima su espressioni ed istruzioni che hanno a che fare con la memoria"
   ]
  },
  {
   "cell_type": "code",
   "execution_count": null,
   "metadata": {},
   "outputs": [],
   "source": [
    "@interpreter.register\n",
    "def varRefExpr(visit, ast):\n",
    "  local_memory = interpreter.ACTIVATION_RECORDS.peek()\n",
    "  return local_memory[ast.attr.varName]\n",
    "\n",
    "@interpreter.register\n",
    "def varDeclStat(visit, ast):\n",
    "  local_memory = interpreter.ACTIVATION_RECORDS.peek()\n",
    "  local_memory[ast.attr.varName] = 0\n",
    "\n",
    "@interpreter.register\n",
    "def varDeclInitStat(visit, ast):\n",
    "  local_memory = interpreter.ACTIVATION_RECORDS.peek()\n",
    "  local_memory[ast.attr.varName] = visit(ast.children[0])\n",
    "\n",
    "@interpreter.register\n",
    "def assignementStat(visit, ast):\n",
    "  local_memory = interpreter.ACTIVATION_RECORDS.peek()\n",
    "  local_memory[ast.attr.varName] = visit(ast.children[0])"
   ]
  },
  {
   "attachments": {},
   "cell_type": "markdown",
   "metadata": {},
   "source": [
    "Le funzioni sono raccolte in una mappa `FUNCTIONS` che associa i nomi di funzioni al loro albero, il programma eseguirà la funzione di nome `main`, eseguire una funzione significa visitare il blocco da cui è costituita."
   ]
  },
  {
   "cell_type": "code",
   "execution_count": null,
   "metadata": {},
   "outputs": [],
   "source": [
    "@interpreter.register\n",
    "def program(visit, ast):\n",
    "  interpreter.FUNCTIONS = {func.attr.funcName: func for func in ast.children}\n",
    "  visit(interpreter.FUNCTIONS['main'])\n",
    "  return interpreter.ACTIVATION_RECORDS.pop()['OUTPUT']"
   ]
  },
  {
   "attachments": {},
   "cell_type": "markdown",
   "metadata": {},
   "source": [
    "L'invocazione di una funzione è preceduta dall'allocazione sulla pila di un record di attivazione dato da una mappa dai nomi di variabile al loro valore… "
   ]
  },
  {
   "cell_type": "code",
   "execution_count": null,
   "metadata": {},
   "outputs": [],
   "source": [
    "# visitare una funzione corrisponde ad eseguirne il corpo\n",
    "\n",
    "@interpreter.register\n",
    "def function(visit, ast):\n",
    "  visit(ast.children[0])"
   ]
  },
  {
   "attachments": {},
   "cell_type": "markdown",
   "metadata": {},
   "source": [
    "Il caso dell'istruzione `return` è gestito aggiungendo una variaible locale dal nome `_retval` per conservare il valore restituito."
   ]
  },
  {
   "cell_type": "code",
   "execution_count": null,
   "metadata": {},
   "outputs": [],
   "source": [
    "@interpreter.register\n",
    "def returnStat(visit, ast):\n",
    "  local_memory = interpreter.ACTIVATION_RECORDS.peek()\n",
    "  local_memory['_retval'] = visit(ast.children[0]) if ast.children else None"
   ]
  },
  {
   "attachments": {},
   "cell_type": "markdown",
   "metadata": {},
   "source": [
    "A questo punto, l'invocazione alloca un record di attivazione, predispone le variabili locali sulla scorta dei nomi dei parametri formali e del valore dei parametri concreti e, al termine dell'esecuzione, recupera il valore restituito (grazie al \"trucco\" precedente)."
   ]
  },
  {
   "cell_type": "code",
   "execution_count": null,
   "metadata": {},
   "outputs": [],
   "source": [
    "@interpreter.register\n",
    "def funcCallExpr(visit, ast):\n",
    "  function = interpreter.FUNCTIONS[ast.attr.funcName]\n",
    "  interpreter.ACTIVATION_RECORDS.push(dict(zip(\n",
    "    function.attr.params,\n",
    "    [visit(arg) for arg in ast.children]\n",
    "  )))\n",
    "  visit(function) # questo scarica su quanto definito poco sopra\n",
    "  return interpreter.ACTIVATION_RECORDS.pop()['_retval'] "
   ]
  },
  {
   "attachments": {},
   "cell_type": "markdown",
   "metadata": {},
   "source": [
    "Vediamo se calcola il fattoriale"
   ]
  },
  {
   "cell_type": "code",
   "execution_count": null,
   "metadata": {},
   "outputs": [],
   "source": [
    "interpreter.ACTIVATION_RECORDS = Stack([{'INPUT0': 6}])\n",
    "interpreter(fact_ast)"
   ]
  },
  {
   "attachments": {},
   "cell_type": "markdown",
   "metadata": {},
   "source": [
    "Un altro esempio, con Fibonacci"
   ]
  },
  {
   "cell_type": "code",
   "execution_count": null,
   "metadata": {},
   "outputs": [],
   "source": [
    "fib_source = r\"\"\"\n",
    "function fib(n) {\n",
    "  if n == 1 then\n",
    "    return 1;\n",
    "  else if n == 2 then\n",
    "    return 1;\n",
    "  else \n",
    "    return fib(n-1) + fib(n-2);\n",
    "}\n",
    "\n",
    "function main() {\n",
    "  OUTPUT = fib(INPUT0);\n",
    "}\n",
    "\"\"\""
   ]
  },
  {
   "cell_type": "code",
   "execution_count": null,
   "metadata": {},
   "outputs": [],
   "source": [
    "fib_ast = src2ast(fib_source)"
   ]
  },
  {
   "cell_type": "code",
   "execution_count": null,
   "metadata": {},
   "outputs": [],
   "source": [
    "interpreter.ACTIVATION_RECORDS = Stack([{'INPUT0': 10}])\n",
    "interpreter(fib_ast)"
   ]
  },
  {
   "attachments": {},
   "cell_type": "markdown",
   "metadata": {},
   "source": [
    "### L'uscita anticipata con `return`\n",
    "\n",
    "Il codice seguente dovrebbe eseguire il ciclo una sola volta, restituendo 1."
   ]
  },
  {
   "cell_type": "code",
   "execution_count": null,
   "metadata": {},
   "outputs": [],
   "source": [
    "source_noret = r\"\"\"\n",
    "function noret() {\n",
    "  somma = 0;\n",
    "  repeat 10 times {\n",
    "    return 1;\n",
    "    somma = somma + 1;\n",
    "  }\n",
    "  return somma;\n",
    "}\n",
    "\n",
    "function main() {\n",
    "  OUTPUT = noret(INPUT0);\n",
    "}\n",
    "\"\"\""
   ]
  },
  {
   "cell_type": "code",
   "execution_count": null,
   "metadata": {},
   "outputs": [],
   "source": [
    "ast_noret = src2ast(source_noret)\n",
    "interpreter.ACTIVATION_RECORDS = Stack([{'INPUT0': 11}])\n",
    "interpreter(ast_noret)"
   ]
  },
  {
   "attachments": {},
   "cell_type": "markdown",
   "metadata": {},
   "source": [
    "Ciò che accade è che alcuni nodi che ciclano sui sottoalberi non osservano per tempo la presenza di `_retval` nell'ultimo record di attivazione. La correzione è semplice."
   ]
  },
  {
   "cell_type": "code",
   "execution_count": null,
   "metadata": {},
   "outputs": [],
   "source": [
    "@interpreter.register\n",
    "def blockStat(visit, ast):\n",
    "  local_memory = interpreter.ACTIVATION_RECORDS.peek()\n",
    "  for stat in ast.children: \n",
    "    visit(stat)\n",
    "    if '_retval' in local_memory: return\n",
    "\n",
    "@interpreter.register\n",
    "def repeatStat(visit, ast):\n",
    "  local_memory = interpreter.ACTIVATION_RECORDS.peek()\n",
    "  count, stat = ast.children\n",
    "  count = visit(count)\n",
    "  for _ in range(count): \n",
    "    visit(stat)\n",
    "    if '_retval' in local_memory: return"
   ]
  },
  {
   "cell_type": "code",
   "execution_count": null,
   "metadata": {},
   "outputs": [],
   "source": [
    "interpreter.ACTIVATION_RECORDS = Stack([{'INPUT0': 11}])\n",
    "interpreter(ast_noret)"
   ]
  }
 ],
 "metadata": {
  "interpreter": {
   "hash": "e1004562009730290f42c30a7c24060925c35420ba84516473ad07a3f1950c5d"
  },
  "kernelspec": {
   "display_name": "Python 3.8.10 ('named-let-liblet')",
   "language": "python",
   "name": "python3"
  },
  "language_info": {
   "codemirror_mode": {
    "name": "ipython",
    "version": 3
   },
   "file_extension": ".py",
   "mimetype": "text/x-python",
   "name": "python",
   "nbconvert_exporter": "python",
   "pygments_lexer": "ipython3"
  }
 },
 "nbformat": 4,
 "nbformat_minor": 2
}
