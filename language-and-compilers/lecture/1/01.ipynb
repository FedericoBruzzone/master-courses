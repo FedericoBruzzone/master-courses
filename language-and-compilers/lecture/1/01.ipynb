{
  "cells": [
    {
      "cell_type": "markdown",
      "metadata": {},
      "source": [
        "# Introduzione a Python\n",
        "\n",
        "* Fate riferimento alla [documentazione on-line](https://docs.python.org/3/), \n",
        "* L'ambiente didattico è basato su [Jupyter](https://jupyter.org/) e [Gtipod](https://www.gitpod.io/), chi per ora non vuole installare software sulla sua macchina può iniziare col [playground]() di [liblet](https://liblet.readthedocs.io/).\n",
        "\n",
        "La lezione di oggi ha richiamato brevemente i seguenti capitoli di [The Python Tutorial](https://docs.python.org/3/tutorial/):\n",
        "\n",
        "* 3 [An Informal Introduction to Python](https://docs.python.org/3/tutorial/introduction.html),\n",
        "* 4.1 - 4.6 [More Control Flow Tools](https://docs.python.org/3/tutorial/controlflow.html) \n",
        "* 5 [Data Structures](https://docs.python.org/3/tutorial/datastructures.html).\n",
        "\n",
        "## Strutture dati e iterazione \n",
        "\n",
        "In particolare si è soffermata su *liste*, *insiemi* e *dizionari* e sui meccanismi di iterazione (`for`, `iter` e `next`), utili anche nelle *comprehension*. "
      ]
    },
    {
      "cell_type": "code",
      "execution_count": null,
      "metadata": {},
      "outputs": [],
      "source": [
        "# list comprehension: i quadrati dei numeri interi in [0, 10)\n",
        "\n",
        "q = [x * x for x in range(10)]\n",
        "q"
      ]
    },
    {
      "cell_type": "code",
      "execution_count": null,
      "metadata": {},
      "outputs": [],
      "source": [
        "# set comprehension: i numeri pari tra gli interi in [0, 9]\n",
        "\n",
        "p = {x for x in range(9) if x % 2 == 0}\n",
        "p"
      ]
    },
    {
      "cell_type": "code",
      "execution_count": null,
      "metadata": {},
      "outputs": [],
      "source": [
        "# dict comprehension: una mappa da una lista di parle alla loro lunghezza\n",
        "\n",
        "w2l = {w: len(w) for w in ['un', 'semplice', 'esempio']}\n",
        "w2l"
      ]
    },
    {
      "cell_type": "code",
      "execution_count": null,
      "metadata": {},
      "outputs": [],
      "source": [
        "# iterazione tramite iter/next\n",
        "\n",
        "it = iter('alcune parole divise da spazi'.split())\n",
        "\n",
        "while True:\n",
        "  w = next(it, None)\n",
        "  if w is None: break\n",
        "  print(w)"
      ]
    },
    {
      "cell_type": "markdown",
      "metadata": {},
      "source": [
        "## Funzioni (uso base)\n",
        "\n",
        "Un secondo argomento su cui si è posta particolare attenzione sono le funzioni, viste come [cittadini di prim'ordine](https://en.wikipedia.org/wiki/First-class_citizen)."
      ]
    },
    {
      "cell_type": "code",
      "execution_count": null,
      "metadata": {},
      "outputs": [],
      "source": [
        "# una semplice funzione\n",
        "\n",
        "def quadra(x):\n",
        "  return x * x"
      ]
    },
    {
      "cell_type": "code",
      "execution_count": null,
      "metadata": {},
      "outputs": [],
      "source": [
        "# assegnare una funzione ad una variable\n",
        "\n",
        "f = quadra\n",
        "\n",
        "f(3)"
      ]
    },
    {
      "cell_type": "code",
      "execution_count": null,
      "metadata": {},
      "outputs": [],
      "source": [
        "# usare una funzione come argomento (formale)\n",
        "\n",
        "def applica(fun, lst):\n",
        "  return [fun(x) for x in lst]\n",
        "\n",
        "applica(quadra, [1, 2, 3])"
      ]
    },
    {
      "attachments": {},
      "cell_type": "markdown",
      "metadata": {},
      "source": [
        "## Funzioni (uso avanzato)\n",
        "\n",
        "Le funzioni, viste come [cittadini di prim'ordine](https://en.wikipedia.org/wiki/First-class_citizen), sono utili in particolare per realizzare:\n",
        "\n",
        "* [visitor](https://en.wikipedia.org/wiki/Visitor_pattern),\n",
        "* [dispatch table](https://en.wikipedia.org/wiki/Dispatch_table) con i *dizionari* e\n",
        "* [memoizzazione](https://en.wikipedia.org/wiki/Memoization) tramite i *decoratori*.\n",
        "\n",
        "### Visitor"
      ]
    },
    {
      "cell_type": "code",
      "execution_count": null,
      "metadata": {},
      "outputs": [],
      "source": [
        "# una lista di liste\n",
        "\n",
        "lol = [1, [2, 3], [4, [5, 6]]]"
      ]
    },
    {
      "cell_type": "code",
      "execution_count": null,
      "metadata": {},
      "outputs": [],
      "source": [
        "# come applicare una funzione scalare f a tutti gli elementi?\n",
        "\n",
        "def visit(f, lol):\n",
        "  for elem in lol:\n",
        "    if isinstance(elem, list):\n",
        "      visit(f, elem)\n",
        "    else:\n",
        "      f(elem)"
      ]
    },
    {
      "cell_type": "code",
      "execution_count": null,
      "metadata": {},
      "outputs": [],
      "source": [
        "visit(print, lol)"
      ]
    },
    {
      "attachments": {},
      "cell_type": "markdown",
      "metadata": {},
      "source": [
        "### Dispatch table"
      ]
    },
    {
      "cell_type": "code",
      "execution_count": null,
      "metadata": {},
      "outputs": [],
      "source": [
        "# una espressione\n",
        "\n",
        "expr = '3 + 12 * 4 + 1 * 2'"
      ]
    },
    {
      "cell_type": "code",
      "execution_count": null,
      "metadata": {},
      "outputs": [],
      "source": [
        "# divisione in token (basata sulla presenza di spazi)\n",
        "\n",
        "tokens = iter(expr.split())"
      ]
    },
    {
      "cell_type": "code",
      "execution_count": null,
      "metadata": {},
      "outputs": [],
      "source": [
        "# \"semantica\" delle operazioni, tramite dispatch table\n",
        "\n",
        "def somma(x, y):\n",
        "  return x + y\n",
        "\n",
        "def prodotto(x, y):\n",
        "  return x * y\n",
        "\n",
        "DT = {\n",
        "  '+': somma,\n",
        "  '*': prodotto\n",
        "}"
      ]
    },
    {
      "cell_type": "code",
      "execution_count": null,
      "metadata": {},
      "outputs": [],
      "source": [
        "# valutazione (SENZA rispettare la precedenza delle operazioni, ma solo l'associatività a sinistra)\n",
        "\n",
        "result = int(next(tokens))\n",
        "\n",
        "while True:\n",
        "  t = next(tokens, None)\n",
        "  if t is None: break\n",
        "  op = DT[t]\n",
        "  result = op(result, int(next(tokens)))\n",
        "\n",
        "result"
      ]
    },
    {
      "attachments": {},
      "cell_type": "markdown",
      "metadata": {},
      "source": [
        "### Memoizzazione"
      ]
    },
    {
      "cell_type": "code",
      "execution_count": null,
      "metadata": {},
      "outputs": [],
      "source": [
        "# trasformare una funzione rendendola \"verbosa\"\n",
        "\n",
        "def rendi_verbosa(f):\n",
        "  def f_verbosa(x):\n",
        "    result = f(x)\n",
        "    print(f'f({x}) = {result}')\n",
        "    return result\n",
        "  return f_verbosa"
      ]
    },
    {
      "cell_type": "code",
      "execution_count": null,
      "metadata": {},
      "outputs": [],
      "source": [
        "def quadrato(x):\n",
        "  return x * x\n",
        "\n",
        "quadrato_verboso = rendi_verbosa(quadrato)\n",
        "\n",
        "q = quadrato_verboso(3)"
      ]
    },
    {
      "cell_type": "code",
      "execution_count": null,
      "metadata": {},
      "outputs": [],
      "source": [
        "# tenere da parte i risultati già calcolati da una funzione…\n",
        "\n",
        "cache = {}\n",
        "\n",
        "def memoize(f):\n",
        "  def f_memoized(x):\n",
        "    if x not in cache: cache[x] = f(x)\n",
        "    return cache[x]\n",
        "  return f_memoized"
      ]
    },
    {
      "cell_type": "code",
      "execution_count": null,
      "metadata": {},
      "outputs": [],
      "source": [
        "@memoize \n",
        "def cubo(x):\n",
        "  return x ** 3"
      ]
    },
    {
      "cell_type": "code",
      "execution_count": null,
      "metadata": {},
      "outputs": [],
      "source": [
        "cache = {}\n",
        "\n",
        "cubo(1), cubo(4), cubo(6)\n",
        "\n",
        "cache"
      ]
    },
    {
      "cell_type": "code",
      "execution_count": null,
      "metadata": {},
      "outputs": [],
      "source": [
        "def fib(n):\n",
        "  if n == 0 or n == 1: return 1\n",
        "  return fib(n - 1) + fib(n - 2)"
      ]
    },
    {
      "cell_type": "code",
      "execution_count": null,
      "metadata": {},
      "outputs": [],
      "source": [
        "%time fib(32)"
      ]
    },
    {
      "cell_type": "code",
      "execution_count": null,
      "metadata": {},
      "outputs": [],
      "source": [
        "@memoize\n",
        "def fib(n):\n",
        "  if n == 0 or n == 1: return 1\n",
        "  return fib(n - 1) + fib(n - 2)"
      ]
    },
    {
      "cell_type": "code",
      "execution_count": null,
      "metadata": {},
      "outputs": [],
      "source": [
        "cache = {} \n",
        "\n",
        "%time fib(32)\n",
        "\n",
        "cache"
      ]
    }
  ],
  "metadata": {
    "kernelspec": {
      "display_name": "named-let-liblet",
      "language": "python",
      "name": "python3"
    },
    "language_info": {
      "codemirror_mode": {
        "name": "ipython",
        "version": 3
      },
      "file_extension": ".py",
      "mimetype": "text/x-python",
      "name": "python",
      "nbconvert_exporter": "python",
      "pygments_lexer": "ipython3"
    },
    "vscode": {
      "interpreter": {
        "hash": "e1004562009730290f42c30a7c24060925c35420ba84516473ad07a3f1950c5d"
      }
    }
  },
  "nbformat": 4,
  "nbformat_minor": 4
}
