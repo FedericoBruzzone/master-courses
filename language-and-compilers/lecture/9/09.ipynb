{
 "cells": [
  {
   "cell_type": "markdown",
   "metadata": {},
   "source": [
    "# Lezione 9"
   ]
  },
  {
   "cell_type": "code",
   "execution_count": null,
   "metadata": {},
   "outputs": [],
   "source": [
    "from textwrap import dedent, indent\n",
    "\n",
    "from liblet import (\n",
    "    Grammar, \n",
    "    Derivation, \n",
    "    ProductionGraph, \n",
    "    show_calls\n",
    "  )"
   ]
  },
  {
   "cell_type": "markdown",
   "metadata": {},
   "source": [
    "## Eliminazione della ricorsione"
   ]
  },
  {
   "cell_type": "code",
   "execution_count": null,
   "metadata": {},
   "outputs": [],
   "source": [
    "# grammatica per l'aritmetica col + e il - \n",
    "\n",
    "# versione ricorsiva\n",
    "\n",
    "\"\"\"\n",
    "E -> E + T | E - T | T\n",
    "T -> t\n",
    "\"\"\";"
   ]
  },
  {
   "cell_type": "code",
   "execution_count": null,
   "metadata": {},
   "outputs": [],
   "source": [
    "# versione non ricorsiva\n",
    "\n",
    "\"\"\"\n",
    "E -> Eh Ets | Eh\n",
    "Eh -> T\n",
    "Ets -> Et Ets | Et\n",
    "Et -> + T | - T\n",
    "T -> t\n",
    "\"\"\";"
   ]
  },
  {
   "cell_type": "markdown",
   "metadata": {},
   "source": [
    "Per ragioni che saranno chiarite in seguito, imponiamo una restrizione sulla grammatica. \n",
    "\n",
    "Diremo che un non terminale $A\\in N$ è *prefix-free* se solo se per ogni $x, y\n",
    "\\in T^+$ non accada che $A\\stackrel{*}{\\to} xy$ e $A\\stackrel{*}{\\to} x$ (ossia\n",
    "$A$ non deriva mai sia una parola che un suo prefisso). Una grammatica è\n",
    "*prefix-free* se e solo se tutti i suoi non terminali sono prefix-free.\n",
    "\n",
    "Per inciso, un linguaggio $L$ è *prefix-free* se e solo se per ogni stringhe $x, y\\in T^+$ si ha che $x\\in L$ implica $xy\\not\\in L$;  mentre è ovvio che una grammatica prefix-free genera un linguaggio prefix-free, non è vero il viceversa.\n",
    "\n",
    "Detto altrimenti, un linguaggio prefix-free può essere generato da una grammatica non prefix-free. Si consideri ad esempio il linguaggio finito generato da\n",
    "\n",
    "```\n",
    "S -> T #\n",
    "T -> a | ab\n",
    "```\n",
    "\n",
    "che è evidentemente prefix-free, come è altrettanto evidente che `T` non sia prefix-free."
   ]
  },
  {
   "cell_type": "code",
   "execution_count": null,
   "metadata": {},
   "outputs": [],
   "source": [
    "# versione prefix-free\n",
    "\n",
    "G = Grammar.from_string(\"\"\"\n",
    "E -> Eh Ets | Eh #\n",
    "Eh -> T\n",
    "Ets -> Et Ets | Et #\n",
    "Et -> + T | - T\n",
    "T -> t\n",
    "\"\"\")\n",
    "G"
   ]
  },
  {
   "cell_type": "markdown",
   "metadata": {},
   "source": [
    "Tale grammatica è prefix-free dato che:\n",
    "\n",
    "* `Eh`, `T` ed `Et` generano linguaggi finiti quindi è elementare convincersi\n",
    "  che sono prefix-free;\n",
    "* `Ets` genera parole che non contengono `#` ma terminano con tale simbolo,\n",
    "  risultando pertanto prefix-free; \n",
    "* similmente `E` genera `t#` oppure le stesse parole generate da `Ets` per cui\n",
    "  risulta anchesso prefix-free."
   ]
  },
  {
   "cell_type": "markdown",
   "metadata": {},
   "source": [
    "## Costruzione manuale del parser\n",
    "\n",
    "Costruiamo una funzione `parse` (a partire dalla grammatica $G$) che su input $X$ e $\\alpha\\beta$ restituisce una coppia $(b, \\beta)$ dove $b$ è `True` se e solo se il simbolo $X \\in N \\cup T$ è tale che $X\\stackrel{*}{\\to}\\alpha$."
   ]
  },
  {
   "cell_type": "code",
   "execution_count": null,
   "metadata": {},
   "outputs": [],
   "source": [
    "@show_calls(True)\n",
    "def parse(X, rest):\n",
    "\n",
    "  if X in G.T:\n",
    "\n",
    "    if rest and rest[0] == X: return True, rest[1:]\n",
    "\n",
    "  elif X == 'T': # T -> t\n",
    "\n",
    "    return parse('t', rest)\n",
    "\n",
    "  elif X == 'Eh': # Eh -> T\n",
    "\n",
    "    return parse('T', rest)\n",
    "\n",
    "  elif X == 'Et': # Et -> + T | - T\n",
    "\n",
    "    s, r = parse('+', rest)\n",
    "    if s: return parse('T', r)\n",
    "    s, r = parse('-', rest)\n",
    "    if s: return parse('T', r)\n",
    "\n",
    "  elif X == 'Ets': # Ets -> Et Ets | Et #\n",
    "\n",
    "    s0, r0 = parse('Et', rest)\n",
    "    if s0:\n",
    "      s1, r1 = parse('#', r0)\n",
    "      if s1: return True, r1\n",
    "      return parse('Ets', r0)\n",
    "  \n",
    "  elif X == 'E': # E -> Eh Ets | Eh #\n",
    "\n",
    "    s0, r0 = parse('Eh', rest)\n",
    "    if s0:\n",
    "      s1, r1 = parse('#', r0)\n",
    "      if s1: return True, r1\n",
    "      return parse('Ets', r0)\n",
    "\n",
    "  return False, rest"
   ]
  },
  {
   "cell_type": "markdown",
   "metadata": {},
   "source": [
    "Decidere se $\\omega\\in L(G)$ equivale a chiedersi se su input $E$ e $\\omega$ la funzione restituisce (`True`, $\\varepsilon$)."
   ]
  },
  {
   "cell_type": "code",
   "execution_count": null,
   "metadata": {},
   "outputs": [],
   "source": [
    "INPUT = list('t+t-t#') # le parole sono liste di stringhe…\n",
    "\n",
    "parse('E', INPUT)"
   ]
  },
  {
   "cell_type": "markdown",
   "metadata": {},
   "source": [
    "### Ricostruire l'albero di parsing\n",
    "\n",
    "Modifichiamo la funzione `parse` perché restituisca anche la sequenza delle derivazioni leftmost che conducono al riconoscimento."
   ]
  },
  {
   "cell_type": "code",
   "execution_count": null,
   "metadata": {},
   "outputs": [],
   "source": [
    "# servono i numeri di produzione\n",
    "\n",
    "G.P"
   ]
  },
  {
   "cell_type": "code",
   "execution_count": null,
   "metadata": {},
   "outputs": [],
   "source": [
    "# ora parse restituisce: succ, rest, steps\n",
    "\n",
    "@show_calls(True)\n",
    "def parse(X, rest): \n",
    "\n",
    "  if X in G.T:\n",
    "\n",
    "    if rest and rest[0] == X: return True, rest[1:], None\n",
    "\n",
    "  elif X == 'T':\n",
    "\n",
    "    s, r, _ = parse('t', rest)\n",
    "    if s: return True, r, [7]\n",
    "\n",
    "  elif X == 'Eh':\n",
    "\n",
    "    s, r, p = parse('T', rest)\n",
    "    if s: return True, r, [2] + p\n",
    "\n",
    "  elif X == 'Et':\n",
    "\n",
    "    s, r, _ = parse('+', rest)\n",
    "    if s:\n",
    "      s, r, p = parse('T', r)\n",
    "      if s: return True, r, [5] + p\n",
    "    s, r, _ = parse('-', rest)\n",
    "    if s: \n",
    "      s, r, p = parse('T', r)\n",
    "      if s: return True, r, [6] + p\n",
    "\n",
    "  elif X == 'Ets':\n",
    "\n",
    "    s0, r0, p0 = parse('Et', rest)\n",
    "    if s0:\n",
    "      s1, r1, _ = parse('#', r0)\n",
    "      if s1: return True, r1, [4] + p0\n",
    "      s2, r2, p2 = parse('Ets', r0)\n",
    "      if s2: return True, r2, [3] + p0 + p2\n",
    "\n",
    "  elif X == 'E':\n",
    "\n",
    "    s0, r0, p0 = parse('Eh', rest)\n",
    "    if s0:\n",
    "      s1, r1, _ = parse('#', r0)\n",
    "      if s1: return True, r1, [1] + p0\n",
    "      s2, r2, p2 = parse('Ets', r0)\n",
    "      if s2: return True, r2, [0] + p0 + p2\n",
    "\n",
    "  return False, rest, []"
   ]
  },
  {
   "cell_type": "code",
   "execution_count": null,
   "metadata": {},
   "outputs": [],
   "source": [
    "# testiamo lo stesso input\n",
    "\n",
    "_, _, steps = parse('E', INPUT)\n",
    "steps"
   ]
  },
  {
   "cell_type": "code",
   "execution_count": null,
   "metadata": {},
   "outputs": [],
   "source": [
    "# graficamente\n",
    "\n",
    "ProductionGraph(Derivation(G).leftmost(steps))"
   ]
  },
  {
   "cell_type": "markdown",
   "metadata": {},
   "source": [
    "## Generazione automatica del parser\n",
    "\n",
    "Iniziamo con l'osservare che gli `if` della soluzione manuale sono prodotti, uno per ciascun simbolo, considerando in sequenza le possibili alternative (lati destri delle produzioni) e restituendo successo al primo tentativo valido.\n",
    "\n",
    "Un esmepio è il simbolo `Ets` le cui due alternative sono `Et Ets` e `Et #`… supponiamo di scaricarne la soluzione a due funzioni denominate `Ets_alt0` e `Ets_alt0` che definiremo in seguito."
   ]
  },
  {
   "cell_type": "code",
   "execution_count": null,
   "metadata": {},
   "outputs": [],
   "source": [
    "def parse(X, rest):\n",
    "\n",
    "  # ...\n",
    "\n",
    "  if X == 'Ets':\n",
    "    succ_alt, rest_alt = Ets_alt0(rest)\n",
    "    if succ_alt: return True, rest_alt\n",
    "    succ_alt, rest_alt = Ets_alt1(rest)\n",
    "    if succ_alt: return True, rest_alt\n",
    "    return False, rest\n",
    "\n",
    "  # ..."
   ]
  },
  {
   "cell_type": "markdown",
   "metadata": {},
   "source": [
    "Ciascuna alternativa e valutata considerando in sequenza i simboli di cui è costituita, vediamo ad esempio `Et Ets`"
   ]
  },
  {
   "cell_type": "code",
   "execution_count": null,
   "metadata": {},
   "outputs": [],
   "source": [
    "def Ets_alt0(rest):\n",
    "  succ, rest = parse('Et', rest)\n",
    "  if not succ: return False, rest\n",
    "  succ, rest = parse('Ets', rest)\n",
    "  if not succ: return False, rest\n",
    "  return True, rest"
   ]
  },
  {
   "cell_type": "markdown",
   "metadata": {},
   "source": [
    "e similmente `Et #` "
   ]
  },
  {
   "cell_type": "code",
   "execution_count": null,
   "metadata": {},
   "outputs": [],
   "source": [
    "def Ets_alt1(rest):\n",
    "    succ, rest = parse('Et', rest)\n",
    "    if not succ: return False, rest\n",
    "    succ, rest = parse('#', rest)\n",
    "    if not succ: return False, rest\n",
    "    return True, rest"
   ]
  },
  {
   "cell_type": "markdown",
   "metadata": {},
   "source": [
    "Non è difficile scrivere una funzione che, data $G$ come input, produca il testo sorgente della funzione `parse` procedendo come sopra.\n",
    "\n",
    "Ci servono due funzioni di utlità: la prima per indentare un blocco di testo al livello di intentazione specificato, la seconda per tradurre il codice sorgente di una funzione Python di nome `parse` in codice eseguibile."
   ]
  },
  {
   "cell_type": "code",
   "execution_count": null,
   "metadata": {},
   "outputs": [],
   "source": [
    "def indent_at(level, source):\n",
    "  return indent(dedent(source), '  ' * level).strip('\\n')\n",
    "\n",
    "def make_parse(source):\n",
    "  glb = {'show_calls': show_calls}\n",
    "  exec(source, glb)\n",
    "  return glb['parse']"
   ]
  },
  {
   "cell_type": "markdown",
   "metadata": {},
   "source": [
    "Siamo pronti per procedere, useremo le [f-stringhe](https://docs.python.org/3/reference/lexical_analysis.html#f-strings) per maggior compattezza, scriviamo una funzione che data $G$ restituisca il sorgente di `parse` costruita secondo i criteri precedentemente espressi."
   ]
  },
  {
   "cell_type": "code",
   "execution_count": null,
   "metadata": {},
   "outputs": [],
   "source": [
    "def make_parse_source(G):\n",
    "\n",
    "  # prima le definizioni delle funzioni A_altN\n",
    "\n",
    "  defs = []\n",
    "  for A in G.N:\n",
    "    for n, α in enumerate(G.alternatives(A)):\n",
    "      # la funzione \"{A}_alt{n}\"\n",
    "      defs.append(f'def {A}_alt{n}(rest):')\n",
    "      for X in α: \n",
    "        # una coppia di linee per ogni simbolo\n",
    "        defs.append(indent_at(1, f'''\n",
    "          succ, rest = parse('{X}', rest)\n",
    "          if not succ: return False, rest\n",
    "        '''))\n",
    "      defs.append(indent_at(1,'return True, rest'))\n",
    "\n",
    "  # poi gli if, uno per terminale\n",
    "\n",
    "  ifs = []\n",
    "  for A in G.N:\n",
    "    # l'if \"X == '{A}'\"\n",
    "    ifs.append(f\"if X == '{A}':\")\n",
    "    for n, _ in enumerate(G.alternatives(A)): \n",
    "      # una coppia di linee, una per alternativa\n",
    "      ifs.append(indent_at(1, f'''\n",
    "        succ_alt, rest_alt = {A}_alt{n}(rest)\n",
    "        if succ_alt: return True, rest_alt\n",
    "      '''))\n",
    "    ifs.append(indent_at(1,'return False, rest'))\n",
    "\n",
    "  # in fine i terminali\n",
    "\n",
    "  ifs.append(indent_at(0, f'''\n",
    "    if X in {G.T}:\n",
    "      if rest and rest[0] == X: return True, rest[1:]\n",
    "      return False, rest\n",
    "  '''))\n",
    "\n",
    "  # e ora mettiamo tutto assieme \n",
    "\n",
    "  parse = '\\n'.join((\n",
    "    indent_at(0, '''\n",
    "      @show_calls(True)\n",
    "      def parse(X, rest):\n",
    "    '''), \n",
    "    indent_at(1, '\\n'.join(defs)), \n",
    "    indent_at(1, '\\n'.join(ifs))\n",
    "  ))\n",
    "\n",
    "  return parse"
   ]
  },
  {
   "cell_type": "markdown",
   "metadata": {},
   "source": [
    "Siamo pronti, generiamo (e stampiamo) il sorgente"
   ]
  },
  {
   "cell_type": "code",
   "execution_count": null,
   "metadata": {},
   "outputs": [],
   "source": [
    "source = make_parse_source(G) # G è la grammatica prefix-free dell'inizio\n",
    "print(source)"
   ]
  },
  {
   "cell_type": "markdown",
   "metadata": {},
   "source": [
    "E ora rendiamolo \"eseguibile\" e testiamolo sull'input"
   ]
  },
  {
   "cell_type": "code",
   "execution_count": null,
   "metadata": {},
   "outputs": [],
   "source": [
    "parse = make_parse(source)\n",
    "\n",
    "parse('E', 't+t-t#')"
   ]
  },
  {
   "cell_type": "markdown",
   "metadata": {},
   "source": [
    "## Un caso concreto non prefix-free\n",
    "\n",
    "Cosa succede se $G$ non è *prefix-free*?"
   ]
  },
  {
   "cell_type": "code",
   "execution_count": null,
   "metadata": {},
   "outputs": [],
   "source": [
    "# una grammatica non prefix-free (L = {a, ab})\n",
    "\n",
    "G = Grammar.from_string(\"\"\"\n",
    "S -> a | a b\n",
    "\"\"\")\n",
    "G"
   ]
  },
  {
   "cell_type": "code",
   "execution_count": null,
   "metadata": {},
   "outputs": [],
   "source": [
    "# costruiamo il parser e tentiamo il parse\n",
    "\n",
    "source = make_parse_source(G)\n",
    "parse = make_parse(source)\n",
    "parse('S', 'ab')\n"
   ]
  },
  {
   "cell_type": "markdown",
   "metadata": {},
   "source": [
    "Questo è un fallimento, non è stata considerata la seconda produzione ed in fatti è \"avanzata\" la `b`. Questo avviene perché il parser valuta in sequenza le alterniative e procede nella ricorsione al primo successo (non investigando se ci siano altri possibili successi in altre alternative)."
   ]
  }
 ],
 "metadata": {
  "kernelspec": {
   "display_name": "Python 3 (ipykernel)",
   "language": "python",
   "name": "python3"
  },
  "language_info": {
   "codemirror_mode": {
    "name": "ipython",
    "version": 3
   },
   "file_extension": ".py",
   "mimetype": "text/x-python",
   "name": "python",
   "nbconvert_exporter": "python",
   "pygments_lexer": "ipython3",
   "version": "3.10.6"
  }
 },
 "nbformat": 4,
 "nbformat_minor": 4
}
