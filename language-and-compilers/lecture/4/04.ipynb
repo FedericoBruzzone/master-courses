{
 "cells": [
  {
   "cell_type": "code",
   "execution_count": null,
   "metadata": {},
   "outputs": [],
   "source": [
    "from liblet import Tree, Grammar, Derivation, ProductionGraph, side_by_side"
   ]
  },
  {
   "cell_type": "markdown",
   "metadata": {},
   "source": [
    "# Fare pulizia nelle CF\n",
    "\n",
    "## Una nozione di chiusura"
   ]
  },
  {
   "cell_type": "markdown",
   "metadata": {},
   "source": [
    "Applicare il decoratore [@closure](https://liblet.readthedocs.io/en/latest/api.html#liblet.decorators.closure) ad una funzione `f`  produce una funzione `F` che corrisponde all'applicazione di `f` iterata sino a quando l'argomento ed il valore restituito da quest'ultima coincidono."
   ]
  },
  {
   "cell_type": "code",
   "execution_count": null,
   "metadata": {},
   "outputs": [],
   "source": [
    "from liblet import closure \n",
    "\n",
    "@closure\n",
    "def add_smaller(S):\n",
    "  return S | {x - 1 for x in S if x > 0}"
   ]
  },
  {
   "cell_type": "code",
   "execution_count": null,
   "metadata": {},
   "outputs": [],
   "source": [
    "add_smaller({3, 5})"
   ]
  },
  {
   "cell_type": "markdown",
   "metadata": {},
   "source": [
    "## Eliminare simboli non produttivi e/o irraggiungibili"
   ]
  },
  {
   "cell_type": "code",
   "execution_count": null,
   "metadata": {},
   "outputs": [],
   "source": [
    "# fig 2.27, pag. 49\n",
    "\n",
    "G = Grammar.from_string(\"\"\"\n",
    "S -> A B | D E\n",
    "A -> a\n",
    "B -> b C\n",
    "C -> c\n",
    "D -> d F \n",
    "E -> e \n",
    "F -> f D\n",
    "\"\"\")\n",
    "G"
   ]
  },
  {
   "cell_type": "code",
   "execution_count": null,
   "metadata": {},
   "outputs": [],
   "source": [
    "def find_productive(G):\n",
    "\n",
    "  @closure\n",
    "  def find(prod):\n",
    "    return prod | {A for A, α in G.P if set(α) <= prod}\n",
    "\n",
    "  return find(G.T)\n",
    "\n",
    "find_productive(G)"
   ]
  },
  {
   "cell_type": "code",
   "execution_count": null,
   "metadata": {},
   "outputs": [],
   "source": [
    "from liblet import union_of\n",
    "\n",
    "def find_reachable(G):\n",
    "\n",
    "  @closure\n",
    "  def find(reach):\n",
    "    return reach | union_of(set(α) for A, α in G.P if A in reach)\n",
    "\n",
    "  return find({G.S})\n",
    "\n",
    "find_reachable(G)"
   ]
  },
  {
   "cell_type": "code",
   "execution_count": null,
   "metadata": {},
   "outputs": [],
   "source": [
    "def remove_unproductive_unreachable(G):\n",
    "    Gp = G.restrict_to(find_productive(G))\n",
    "    return Gp.restrict_to(find_reachable(Gp))\n",
    "\n",
    "remove_unproductive_unreachable(G)"
   ]
  },
  {
   "cell_type": "markdown",
   "metadata": {},
   "source": [
    "# Derivazioni e alberi di parsing"
   ]
  },
  {
   "cell_type": "code",
   "execution_count": null,
   "metadata": {},
   "outputs": [],
   "source": [
    "# una grammatica banale per il linguaggio {'ab'}\n",
    "\n",
    "G_ab = Grammar.from_string(\"\"\"\n",
    "S -> A B\n",
    "A -> a\n",
    "B -> b\n",
    "\"\"\")\n",
    "G_ab"
   ]
  },
  {
   "cell_type": "code",
   "execution_count": null,
   "metadata": {},
   "outputs": [],
   "source": [
    "# due possibili derivazioni\n",
    "\n",
    "ab_0 = Derivation(G_ab).step([\n",
    "  (0, 0), (2, 1), (1, 0)\n",
    "])\n",
    "ab_1 = Derivation(G_ab).step([\n",
    "  (0, 0), (1, 0), (2, 1)\n",
    "])\n",
    "\n",
    "ab_0, ab_1"
   ]
  },
  {
   "cell_type": "code",
   "execution_count": null,
   "metadata": {},
   "outputs": [],
   "source": [
    "# ma a ben guardare lo stesso albero…\n",
    "\n",
    "side_by_side(\n",
    "  ProductionGraph(ab_0),\n",
    "  ProductionGraph(ab_1),\n",
    ")"
   ]
  },
  {
   "cell_type": "markdown",
   "metadata": {},
   "source": [
    "## Dalla derivazione all'albero di parsing\n",
    "\n",
    "La seguente procedura memorizza in `tree` l'albero di derivazione e in `frontier` la sua frontiera, corrispondente alla forma sentenziale a cui è giunta la derivazione (di passo in passo) come una lista di alberi annotati. \n",
    "\n",
    "Ciascun nodo dell'albero ha due etichette: `Symbol` che si riferisce ad uno dei simboli della grammatica e `nprord` pari ad un numero di produzione. I figli di ciascun nodo dell'albero hanno i simboli contenuti nel lato destro della produzione di numero `nprord`.\n",
    "\n",
    "Gli alberi vengono \"completati\" man mano che la procedura elabora i passi della derivazione; al termine le foglie degli alberi saranno simboli terminali (e `nprord` sarà convenzionalmente definito come `None`)."
   ]
  },
  {
   "cell_type": "code",
   "execution_count": null,
   "metadata": {},
   "outputs": [],
   "source": [
    "def derivation_to_parsetree(d):\n",
    "\n",
    "    # questa variabile si riferià all'albero di derivazione di d\n",
    "    # inizialmente contiene l'albero annotato col simbolo di partenza\n",
    "    tree = Tree({'Symbol': d.G.S, 'nprod': None})\n",
    "\n",
    "    # all'inizio la forma sentenziale è data da tale albero\n",
    "    frontier = [tree, ] \n",
    "\n",
    "    for nprod, pos in d.steps():\n",
    "\n",
    "        # i figli sono dati dal lato destro d.G.P[prod].rhs\n",
    "        children = [Tree({'Symbol': X, 'nprod': None}) for X in d.G.P[nprod].rhs]\n",
    "\n",
    "        # l'albero è dato dalla posizione in cui è applicata la produzione\n",
    "        curr = frontier[pos]\n",
    "\n",
    "        # si aggiornano l'albero e la forma sentenziale\n",
    "        curr.root['nprod'] = nprod\n",
    "        curr.children = children\n",
    "        frontier = frontier[:pos] + children + frontier[pos + 1:]\n",
    "\n",
    "    return tree"
   ]
  },
  {
   "cell_type": "code",
   "execution_count": null,
   "metadata": {},
   "outputs": [],
   "source": [
    "pt_0 = derivation_to_parsetree(ab_0)\n",
    "pt_0"
   ]
  },
  {
   "cell_type": "code",
   "execution_count": null,
   "metadata": {},
   "outputs": [],
   "source": [
    "# l'albero di parsing prodotto da liblet, e da derivation_to_parsetree\n",
    "\n",
    "side_by_side(\n",
    "  ProductionGraph(ab_0),\n",
    "  Tree.from_lol(pt_0)\n",
    ")"
   ]
  },
  {
   "cell_type": "markdown",
   "metadata": {},
   "source": [
    "## Dall'albero alle derivazioni (left- e right-most)\n",
    "\n",
    "Le derivazioni leftmost e rightmost si possono ottenere, rispettivamente, tramite una visita in preordine e postordine dell'albero di parsing (la cui implementazoine è lasciata come esercizio)"
   ]
  },
  {
   "cell_type": "markdown",
   "metadata": {},
   "source": [
    "## Le ε-produzioni\n",
    "\n",
    "In alcuni casi sono comode produzioni della forma $A\\to \\epsilon$ (chiamate ε-produzioni). Nella costruzione dell'albero dalla derivazione richiedono però un po' di attenzione…\n",
    "\n",
    "Consideriamo ad esempio il caso del [linguaggio di Dyck](https://en.wikipedia.org/wiki/Dyck_language)"
   ]
  },
  {
   "cell_type": "code",
   "execution_count": null,
   "metadata": {},
   "outputs": [],
   "source": [
    "G_dyck = Grammar.from_string('S -> S S | ( S ) | ε')"
   ]
  },
  {
   "cell_type": "code",
   "execution_count": null,
   "metadata": {},
   "outputs": [],
   "source": [
    "# una derivazione leftmost di '(())'\n",
    "\n",
    "dyck = 0, 1, 1, 2, 2\n",
    "\n",
    "deriv = Derivation(G_dyck).leftmost(dyck)\n",
    "deriv"
   ]
  },
  {
   "cell_type": "code",
   "execution_count": null,
   "metadata": {},
   "outputs": [],
   "source": [
    "# la parola \n",
    "''.join(deriv.sentential_form())"
   ]
  },
  {
   "cell_type": "code",
   "execution_count": null,
   "metadata": {},
   "outputs": [],
   "source": [
    "# l'albero \n",
    "\n",
    "ProductionGraph(deriv)"
   ]
  },
  {
   "cell_type": "markdown",
   "metadata": {},
   "source": [
    "Applicando la funzione `derivation_to_parsetree` si nota però un errore: sembra che da `)` derivi ε!"
   ]
  },
  {
   "cell_type": "code",
   "execution_count": null,
   "metadata": {},
   "outputs": [],
   "source": [
    "derivation_to_parsetree(deriv) "
   ]
  },
  {
   "cell_type": "markdown",
   "metadata": {},
   "source": [
    "Si lascia come esercizio correggere la funzione `derivation_to_parsetree` in modo che funzioni correttamente anche nel caso di ε-produzioni."
   ]
  },
  {
   "cell_type": "markdown",
   "metadata": {},
   "source": [
    "# Ambiguità\n",
    "\n",
    "\n",
    "## È sempre rilevante? \n",
    "\n",
    "Pensiamo a grammatiche della forma `E -> E op E | n` dove `op` sia un operatore binario, definiamo una funzione ricorsiva che, dato un albero di parsing e il valore di `n`, valuti l'espressione aritmetica corrispondente."
   ]
  },
  {
   "cell_type": "code",
   "execution_count": null,
   "metadata": {},
   "outputs": [],
   "source": [
    "from operator import add, sub, mul\n",
    "\n",
    "DT = {\n",
    "  '+': add,\n",
    "  '-': sub,\n",
    "  '*': mul\n",
    "}\n",
    "\n",
    "def eval_tree(tree, n):\n",
    "  root, *children = tree\n",
    "  if root['Symbol'] == 'n': return n\n",
    "  if root['Symbol'] == 'E' and len(children) == 3:\n",
    "    left, op, right = children\n",
    "    return DT[op.root['Symbol']](eval_tree(left, n), eval_tree(right, n))\n",
    "  else: return eval_tree(children[0], n)"
   ]
  },
  {
   "cell_type": "markdown",
   "metadata": {},
   "source": [
    "### Il caso \"spurio\""
   ]
  },
  {
   "cell_type": "code",
   "execution_count": null,
   "metadata": {},
   "outputs": [],
   "source": [
    "# Costruzione di una derivazione leftomst\n",
    "\n",
    "def lmd(G, leftmost_steps):\n",
    "  return Derivation(G).leftmost(leftmost_steps)"
   ]
  },
  {
   "cell_type": "code",
   "execution_count": null,
   "metadata": {},
   "outputs": [],
   "source": [
    "G_as = Grammar.from_string('E -> E + E | n')\n",
    "\n",
    "# due derivazioni di n + n + n\n",
    "\n",
    "lmd0, lmd1 = lmd(G_as, [0, 1, 0, 1, 1]), lmd(G_as, [0, 0, 1, 1, 1])\n",
    "\n",
    "side_by_side(ProductionGraph(lmd0), ProductionGraph(lmd1))"
   ]
  },
  {
   "cell_type": "code",
   "execution_count": null,
   "metadata": {},
   "outputs": [],
   "source": [
    "# 1 + 1 + 1, comunque parsato, vale 3\n",
    "\n",
    "eval_tree(derivation_to_parsetree(lmd0), 1), eval_tree(derivation_to_parsetree(lmd1), 1)"
   ]
  },
  {
   "cell_type": "markdown",
   "metadata": {},
   "source": [
    "### I casi \"essenziali\"\n",
    "\n",
    "Iniziamo dall'associatività/commutatività"
   ]
  },
  {
   "cell_type": "code",
   "execution_count": null,
   "metadata": {},
   "outputs": [],
   "source": [
    "G_ae = Grammar.from_string('E -> E - E | n')\n",
    "\n",
    "# due derivazioni di n - n - n\n",
    "\n",
    "lmd0, lmd1 = lmd(G_ae, [0, 1, 0, 1, 1]), lmd(G_ae, [0, 0, 1, 1, 1])\n",
    "\n",
    "side_by_side(ProductionGraph(lmd0), ProductionGraph(lmd1))"
   ]
  },
  {
   "cell_type": "code",
   "execution_count": null,
   "metadata": {},
   "outputs": [],
   "source": [
    "# 1 - (1 - 1) e (1 - 1) - 1 hanno valori diversi!\n",
    "\n",
    "eval_tree(derivation_to_parsetree(lmd0), 1), eval_tree(derivation_to_parsetree(lmd1), 1)"
   ]
  },
  {
   "cell_type": "markdown",
   "metadata": {},
   "source": [
    "Consideriamo la *precedenza* "
   ]
  },
  {
   "cell_type": "code",
   "execution_count": null,
   "metadata": {},
   "outputs": [],
   "source": [
    "G_perr = Grammar.from_string(\"\"\"\n",
    "E -> E + E | E * E | n\n",
    "\"\"\")\n",
    "\n",
    "# n + n * n\n",
    "\n",
    "lmd0, lmd1 = lmd(G_perr, [1, 0, 2, 2, 2]), lmd(G_perr, [0, 2, 1, 2, 2])\n",
    "\n",
    "side_by_side(ProductionGraph(lmd0), ProductionGraph(lmd1))"
   ]
  },
  {
   "cell_type": "code",
   "execution_count": null,
   "metadata": {},
   "outputs": [],
   "source": [
    "# ((2 + 2) * 2) e 2 + (2 * 2) hanno valori diversi!\n",
    "\n",
    "eval_tree(derivation_to_parsetree(lmd0), 2), eval_tree(derivation_to_parsetree(lmd1), 2)"
   ]
  },
  {
   "cell_type": "markdown",
   "metadata": {},
   "source": [
    "Per finire, un esempio non collegato alle *espressioni*, ma al *dangling else*"
   ]
  },
  {
   "cell_type": "code",
   "execution_count": null,
   "metadata": {},
   "outputs": [],
   "source": [
    "G_iferr = Grammar.from_string(\"\"\"\n",
    "S -> if C then S | if C then S else S | stm\n",
    "C -> cond\n",
    "\"\"\")"
   ]
  },
  {
   "cell_type": "code",
   "execution_count": null,
   "metadata": {},
   "outputs": [],
   "source": [
    "# if cond the if cont then stm else stm\n",
    "\n",
    "lmd0, lmd1 = lmd(G_iferr, [0, 3, 1, 3, 2, 2]), lmd(G_iferr, [1, 3, 0, 3, 2, 2])\n",
    "\n",
    "side_by_side(ProductionGraph(lmd0), ProductionGraph(lmd1))"
   ]
  },
  {
   "cell_type": "markdown",
   "metadata": {},
   "source": [
    "## Possibili soluzioni\n",
    "\n",
    "Un simbolo in più, ricorsione *sinistra* o *destra* e relazione con l'*associatività*. Iniziamo con l'associatibità a sinistra."
   ]
  },
  {
   "cell_type": "code",
   "execution_count": null,
   "metadata": {},
   "outputs": [],
   "source": [
    "G_la = Grammar.from_string(\"\"\"\n",
    "E -> E + E' | E'\n",
    "E' -> n \n",
    "\"\"\")\n",
    "G_la"
   ]
  },
  {
   "cell_type": "code",
   "execution_count": null,
   "metadata": {},
   "outputs": [],
   "source": [
    "ProductionGraph(lmd(G_la, [0, 0, 1, 2, 2, 2]))"
   ]
  },
  {
   "cell_type": "markdown",
   "metadata": {},
   "source": [
    "E quindi consideriamo quella a destra."
   ]
  },
  {
   "cell_type": "code",
   "execution_count": null,
   "metadata": {},
   "outputs": [],
   "source": [
    "G_ra = Grammar.from_string(\"\"\"\n",
    "E -> E' ^ E | E'\n",
    "E' -> n \n",
    "\"\"\")\n",
    "G_ra"
   ]
  },
  {
   "cell_type": "code",
   "execution_count": null,
   "metadata": {},
   "outputs": [],
   "source": [
    "ProductionGraph(lmd(G_ra, [0, 2, 0, 2, 1, 2]))"
   ]
  },
  {
   "cell_type": "markdown",
   "metadata": {},
   "source": [
    "Per la *precedenza* occorre aggiungere più di un simbolo…"
   ]
  },
  {
   "cell_type": "code",
   "execution_count": null,
   "metadata": {},
   "outputs": [],
   "source": [
    "G_p = Grammar.from_string(\"\"\"\n",
    "E -> E + P | P\n",
    "P -> P * F | F\n",
    "F -> n\n",
    "\"\"\")"
   ]
  },
  {
   "cell_type": "code",
   "execution_count": null,
   "metadata": {},
   "outputs": [],
   "source": [
    "ProductionGraph(lmd(G_p, [0, 1, 3, 4, 2, 3, 4, 4]))"
   ]
  },
  {
   "cell_type": "markdown",
   "metadata": {},
   "source": [
    "Il caso del *dangling else*"
   ]
  },
  {
   "cell_type": "code",
   "execution_count": null,
   "metadata": {},
   "outputs": [],
   "source": [
    "G_if = Grammar.from_string(\"\"\"\n",
    "S -> M | U\n",
    "M -> if C then M else M | stm\n",
    "U -> if C then M else U | if C then S\n",
    "C -> cond\n",
    "\"\"\")"
   ]
  },
  {
   "cell_type": "code",
   "execution_count": null,
   "metadata": {},
   "outputs": [],
   "source": [
    "ProductionGraph(lmd(G_if, [1, 5, 6, 0, 2, 6, 3, 3]))"
   ]
  }
 ],
 "metadata": {
  "kernelspec": {
   "display_name": "Python 3",
   "language": "python",
   "name": "python3"
  },
  "language_info": {
   "codemirror_mode": {
    "name": "ipython",
    "version": 3
   },
   "file_extension": ".py",
   "mimetype": "text/x-python",
   "name": "python",
   "nbconvert_exporter": "python",
   "pygments_lexer": "ipython3"
  }
 },
 "nbformat": 4,
 "nbformat_minor": 4
}
