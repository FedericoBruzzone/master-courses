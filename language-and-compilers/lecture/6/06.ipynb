{
  "cells": [
    {
      "attachments": {},
      "cell_type": "markdown",
      "metadata": {},
      "source": [
        "# Lezione 6, l'algoritmo CYK\n"
      ]
    },
    {
      "cell_type": "code",
      "execution_count": null,
      "metadata": {},
      "outputs": [],
      "source": [
        "import os\n",
        "os.environ[\"ANTLR4_JAR\"] = \"/home/federicobruzzoneplasma/Documents/FedericoBruzzone/master-courses/linguaggi-e-traduttori/lecture/jars/antlr-4.12.0-complete.jar\"\n",
        "from pprint import pprint as p"
      ]
    },
    {
      "cell_type": "code",
      "execution_count": null,
      "metadata": {},
      "outputs": [],
      "source": [
        "from itertools import count\n",
        "\n",
        "from liblet import (\n",
        "  Tree, Grammar, Production, Derivation, ProductionGraph, CYKTable, closure, union_of, ε\n",
        ")"
      ]
    },
    {
      "attachments": {},
      "cell_type": "markdown",
      "metadata": {},
      "source": [
        "## La tabella `R` e la sua relazione con l'input"
      ]
    },
    {
      "cell_type": "code",
      "execution_count": null,
      "metadata": {},
      "outputs": [],
      "source": [
        "INPUT = 'unaprova'\n",
        "\n",
        "n = len(INPUT)\n",
        "\n",
        "R = CYKTable()\n",
        "for l in range(1, n + 1):\n",
        "  for i in range(1, n - l + 2): \n",
        "    R[i, l] = INPUT[(i) - 1: (i + l) - 1]\n",
        "\n",
        "R"
      ]
    },
    {
      "cell_type": "markdown",
      "metadata": {},
      "source": [
        "## Due modi per riempire la tabella…\n",
        "\n",
        "Supponendo di avere la funzione `fill(R, i, l)` che restituisce il valore di `R[(i, l)`."
      ]
    },
    {
      "cell_type": "code",
      "execution_count": null,
      "metadata": {},
      "outputs": [],
      "source": [
        "def offline(fill, n):\n",
        "  R = CYKTable()\n",
        "  for l in range(1, n + 1):\n",
        "    for i in range(1, n - l + 2): \n",
        "      R[i, l] = fill(R, i, l)\n",
        "  return R"
      ]
    },
    {
      "cell_type": "code",
      "execution_count": null,
      "metadata": {},
      "outputs": [],
      "source": [
        "def online(fill, n):\n",
        "  R = CYKTable()\n",
        "  for d in range(1, n + 1):\n",
        "    for i in range(d, 0, -1):\n",
        "      R[i, d - i + 1] = fill(R, i, d - i + 1)\n",
        "  return R"
      ]
    },
    {
      "cell_type": "markdown",
      "metadata": {},
      "source": [
        "La seguente funzione `make_counter_fill` restituisce una funzione `fill` che, ignorando i parametri, restituisce un numero progressivo (usando `count` del modulo `itertools`)."
      ]
    },
    {
      "cell_type": "code",
      "execution_count": null,
      "metadata": {},
      "outputs": [],
      "source": [
        "def make_counter_fill():\n",
        "  cnt = count(1)\n",
        "  def fill(R, i, l):\n",
        "    return next(cnt)\n",
        "  return fill"
      ]
    },
    {
      "cell_type": "markdown",
      "metadata": {},
      "source": [
        "Usando `offline` e `online` con il contatore si visualizza l'ordine di riempimento"
      ]
    },
    {
      "cell_type": "code",
      "execution_count": null,
      "metadata": {},
      "outputs": [],
      "source": [
        "offline(make_counter_fill(), 5)"
      ]
    },
    {
      "cell_type": "code",
      "execution_count": null,
      "metadata": {},
      "outputs": [],
      "source": [
        "online(make_counter_fill(), 5)"
      ]
    },
    {
      "cell_type": "markdown",
      "metadata": {},
      "source": [
        "## Filtrare le produzioni coi predicati\n",
        "\n",
        "Usando la funzione *builtin* `filter` e un *predicato*  si può ottenere un sottoiteratore."
      ]
    },
    {
      "cell_type": "code",
      "execution_count": null,
      "metadata": {},
      "outputs": [],
      "source": [
        "def pari(x):\n",
        "  return x % 2 == 0\n",
        "\n",
        "list(filter(pari, range(10)))"
      ]
    },
    {
      "cell_type": "markdown",
      "metadata": {},
      "source": [
        "Vediamo due predicati per le produzioni…"
      ]
    },
    {
      "cell_type": "code",
      "execution_count": null,
      "metadata": {},
      "outputs": [],
      "source": [
        "prods = Production.from_string(\"\"\"\n",
        "A -> a\n",
        "A -> B C\n",
        "\"\"\")\n",
        "prods"
      ]
    },
    {
      "cell_type": "code",
      "execution_count": null,
      "metadata": {},
      "outputs": [],
      "source": [
        "# quelle con rhs lungo 2\n",
        "\n",
        "list(filter(Production.such_that(rhs_len = 2), prods))"
      ]
    },
    {
      "cell_type": "code",
      "execution_count": null,
      "metadata": {},
      "outputs": [],
      "source": [
        "# e quelle con rhs lungo 1\n",
        "\n",
        "list(filter(Production.such_that(rhs_len = 1), prods))"
      ]
    },
    {
      "attachments": {},
      "cell_type": "markdown",
      "metadata": {},
      "source": [
        "## Il riempimento dell'algoritmo CYK nel caso CNF\n",
        "\n",
        "Supponiamo che la grammatica sia in *Chomsky Normal Form*, ovvero le produzioni abbiano la forma $A\\to BC$ o $A\\to a$ (senza ε-regole)."
      ]
    },
    {
      "cell_type": "code",
      "execution_count": null,
      "metadata": {},
      "outputs": [],
      "source": [
        "def cyk_fill(G, INPUT):\n",
        "  def fill(R, i, l):\n",
        "    res = set()\n",
        "    if l == 1:\n",
        "      for A, (a,) in filter(Production.such_that(rhs_len = 1), G.P): \n",
        "        if a == INPUT[i - 1]: res.add(A)\n",
        "    else:\n",
        "      for k in range(1, l):\n",
        "        for A, (B, C) in filter(Production.such_that(rhs_len = 2), G.P):\n",
        "          if B in R[i, k] and C in R[i + k, l - k]: res.add(A)\n",
        "    return res\n",
        "  return fill"
      ]
    },
    {
      "cell_type": "markdown",
      "metadata": {},
      "source": [
        "Qualche esempio su una grammatica per `a`$^n$`.`"
      ]
    },
    {
      "cell_type": "code",
      "execution_count": null,
      "metadata": {},
      "outputs": [],
      "source": [
        "G = Grammar.from_string(\"\"\"\n",
        "S -> A S\n",
        "A -> a\n",
        "S -> .\n",
        "\"\"\")"
      ]
    },
    {
      "cell_type": "code",
      "execution_count": null,
      "metadata": {},
      "outputs": [],
      "source": [
        "INPUT = 'aaa.'\n",
        "\n",
        "online(cyk_fill(G, INPUT), len(INPUT))"
      ]
    },
    {
      "cell_type": "code",
      "execution_count": null,
      "metadata": {},
      "outputs": [],
      "source": [
        "INPUT = 'aa.a.'\n",
        "\n",
        "online(cyk_fill(G, INPUT), len(INPUT))"
      ]
    },
    {
      "cell_type": "markdown",
      "metadata": {},
      "source": [
        "Una grammatica più complessa (per i numeri decimali con virgola, in notazione scientifica)"
      ]
    },
    {
      "cell_type": "code",
      "execution_count": null,
      "metadata": {},
      "outputs": [],
      "source": [
        "# fig. 4.15, pag. 123 \n",
        "\n",
        "G = Grammar.from_string(\"\"\"\n",
        "Number -> 0|1|2|3|4|5|6|7|8|9 \n",
        "Number -> Integer Digit\n",
        "Number -> N1 Scale' | Integer Fraction\n",
        "N1 -> Integer Fraction\n",
        "Integer -> 0|1|2|3|4|5|6|7|8|9 \n",
        "Integer -> Integer Digit\n",
        "Fraction -> T1 Integer\n",
        "T1 -> .\n",
        "Scale' -> N2 Integer\n",
        "N2 -> T2 Sign\n",
        "T2 -> e\n",
        "Digit -> 0|1|2|3|4|5|6|7|8|9 \n",
        "Sign -> + | -\n",
        "\"\"\")"
      ]
    },
    {
      "cell_type": "code",
      "execution_count": null,
      "metadata": {},
      "outputs": [],
      "source": [
        "# per comodità\n",
        "\n",
        "def cyk(G, INPUT):\n",
        "  return offline(cyk_fill(G, INPUT), len(INPUT))"
      ]
    },
    {
      "cell_type": "code",
      "execution_count": null,
      "metadata": {},
      "outputs": [],
      "source": [
        "INPUT = '32.5e+1'\n",
        "\n",
        "R = cyk(G, INPUT)\n",
        "R"
      ]
    },
    {
      "cell_type": "markdown",
      "metadata": {},
      "source": [
        "## Generare l'albero di parsing (barando)\n",
        "\n",
        "La tabella contiene non terminali e, in accordo al criterio usato per riempirla, tali non terminali possono essere raccolti in un albero che ha l'aspetto di un albero di derivazione — anche se costruito senza riferimento alle produzioni (dal quale non è quindi banale ricostruire la derivazione).\n",
        "\n",
        "Scriviamo una funzione ricorsiva `fake_parse` che (usando tabella `R`, la grammatica `G` e l'input `INPUT`) dato un non terminale, il punto d'inizio e la lunghezza, restituisca l'albero di parsing radicato in quel non terminale e che deriva la sottostringa specificata."
      ]
    },
    {
      "cell_type": "code",
      "execution_count": null,
      "metadata": {},
      "outputs": [],
      "source": [
        "def fake_parse(X, i, l):\n",
        "  if l == 1: return Tree(X, [Tree(INPUT[i-1])])\n",
        "  for A, (B, C) in filter(Production.such_that(lhs = X, rhs_len = 2), G.P):\n",
        "    for k in range(1, l):\n",
        "      if B in R[i, k] and C in R[i + k, l - k]:\n",
        "        return Tree(A, [fake_parse(B, i, k), fake_parse(C, i + k, l - k)])"
      ]
    },
    {
      "cell_type": "code",
      "execution_count": null,
      "metadata": {},
      "outputs": [],
      "source": [
        "fake_parse(G.S, 1, len(INPUT))"
      ]
    },
    {
      "attachments": {},
      "cell_type": "markdown",
      "metadata": {},
      "source": [
        "## Trasformazione in forma normale di Chomsky\n",
        "\n",
        "Recuperiamo dalla lezione 3 come eliminare le regole improduttive e irraggiungibili."
      ]
    },
    {
      "cell_type": "code",
      "execution_count": null,
      "metadata": {},
      "outputs": [],
      "source": [
        "def remove_unproductive_unreachable(G):\n",
        "  def find_productive(G):\n",
        "    @closure\n",
        "    def find(prod):\n",
        "      return prod | {A for A, α in G.P if set(α) <= prod}\n",
        "    return find(G.T)\n",
        "  def find_reachable(G):\n",
        "    @closure\n",
        "    def find(reach):\n",
        "      return reach | union_of(set(α) for A, α in G.P if A in reach)\n",
        "    return find({G.S})\n",
        "  Gp = G.restrict_to(find_productive(G))\n",
        "  return Gp.restrict_to(find_reachable(Gp))"
      ]
    },
    {
      "attachments": {},
      "cell_type": "markdown",
      "metadata": {},
      "source": [
        "### Eliminazione ε-regole (Sez. 4.2.3.1)\n",
        "\n",
        "Due passi, ottenuti tramite *chiusura*, consentono di rimpiazzare un simbolo nei lati destri con `replace_in_rhs` e quindi applicare il primo passo a tutti i simboli che compaiono in una ε-regola con `inline_ε_rules`."
      ]
    },
    {
      "cell_type": "code",
      "execution_count": null,
      "metadata": {},
      "outputs": [],
      "source": [
        "@closure\n",
        "def replace_in_rhs(G, A):\n",
        "  Ap = A + '′'\n",
        "  prods = set()\n",
        "  for B, β in G.P:\n",
        "    if A in β:\n",
        "      pos = β.index(A)\n",
        "      rhs = β[:pos] + β[pos + 1:]\n",
        "      if len(rhs) == 0: rhs = (ε, )\n",
        "      prods.add(Production(B, rhs))\n",
        "      prods.add(Production(B, β[:pos] + (Ap, ) + β[pos + 1:]))\n",
        "    else:\n",
        "      prods.add(Production(B, β))\n",
        "  return Grammar(G.N | {Ap}, G.T, prods, G.S)"
      ]
    },
    {
      "cell_type": "code",
      "execution_count": null,
      "metadata": {},
      "outputs": [],
      "source": [
        "# esempio d'uso\n",
        "\n",
        "U = Grammar.from_string(\"\"\"\n",
        "S -> x A y A z\n",
        "A -> a\n",
        "\"\"\")\n",
        "replace_in_rhs(U, 'A').P"
      ]
    },
    {
      "cell_type": "code",
      "execution_count": null,
      "metadata": {},
      "outputs": [],
      "source": [
        "@closure\n",
        "def inline_ε_rules(G_seen):\n",
        "  G, seen = G_seen\n",
        "  for A in G.N - seen:\n",
        "    if (ε, ) in G.alternatives(A):\n",
        "      return replace_in_rhs(G, A), seen | {A}\n",
        "  return G, seen"
      ]
    },
    {
      "cell_type": "code",
      "execution_count": null,
      "metadata": {},
      "outputs": [],
      "source": [
        "# esempio d'uso\n",
        "\n",
        "U = Grammar.from_string(\"\"\"\n",
        "S -> A\n",
        "A -> B C\n",
        "B -> ε\n",
        "C -> ε\n",
        "\"\"\")\n",
        "U, _ = inline_ε_rules((U, set()))\n",
        "\n",
        "U.P"
      ]
    },
    {
      "cell_type": "markdown",
      "metadata": {},
      "source": [
        "Usando i due passi precedenti è semplice scrivere il passo di eliminazione"
      ]
    },
    {
      "cell_type": "code",
      "execution_count": null,
      "metadata": {},
      "outputs": [],
      "source": [
        "def eliminate_ε_rules(G):\n",
        "  Gp, _ = inline_ε_rules((G, set()))\n",
        "  prods = set(Gp.P)\n",
        "  for Ap in Gp.N - G.N:\n",
        "    A = Ap[:-1]\n",
        "    for α in set(Gp.alternatives(A)) - {(ε, )}:\n",
        "      prods.add(Production(Ap, α))\n",
        "  return Grammar(Gp.N, Gp.T, prods, Gp.S)"
      ]
    },
    {
      "cell_type": "code",
      "execution_count": null,
      "metadata": {},
      "outputs": [],
      "source": [
        "# esempio d'uso (fig. 4.10, pag. 120)\n",
        "\n",
        "U = Grammar.from_string(\"\"\"\n",
        "S -> L a M\n",
        "L -> L M \n",
        "L -> ε\n",
        "M -> M M\n",
        "M -> ε\n",
        "\"\"\")\n",
        "\n",
        "eliminate_ε_rules(U).P"
      ]
    },
    {
      "attachments": {},
      "cell_type": "markdown",
      "metadata": {},
      "source": [
        "### Eliminazione regole unitarie (Sez. 4.2.3.2)"
      ]
    },
    {
      "cell_type": "code",
      "execution_count": null,
      "metadata": {},
      "outputs": [],
      "source": [
        "def eliminate_unit_rules(G):\n",
        "  @closure\n",
        "  def eliminate(G_seen):\n",
        "    G, seen = G_seen\n",
        "    for P in set(filter(Production.such_that(rhs_len = 1), G.P)) - seen:\n",
        "      A, (B, ) = P\n",
        "      if B in G.N:\n",
        "        prods = (set(G.P) | {Production(A, α) for α in G.alternatives(B)}) - {P}\n",
        "        return Grammar(G.N, G.T, prods, G.S), seen | {P}\n",
        "    return G, seen\n",
        "  return eliminate((G, set()))[0]"
      ]
    },
    {
      "cell_type": "code",
      "execution_count": null,
      "metadata": {},
      "outputs": [],
      "source": [
        "# esempio d'uso\n",
        "\n",
        "U = Grammar.from_string(\"\"\"\n",
        "S -> A\n",
        "A -> B\n",
        "B -> A | b\n",
        "\"\"\")\n",
        "\n",
        "eliminate_unit_rules(U).P"
      ]
    },
    {
      "attachments": {},
      "cell_type": "markdown",
      "metadata": {},
      "source": [
        "#### Un esempio più elaborato"
      ]
    },
    {
      "cell_type": "code",
      "execution_count": null,
      "metadata": {},
      "outputs": [],
      "source": [
        "# fig. 4.6, pag. 112\n",
        "\n",
        "G = Grammar.from_string(\"\"\"\n",
        "Number -> Integer | Real\n",
        "Integer -> Digit | Integer Digit\n",
        "Real -> Integer Fraction Scale\n",
        "Fraction -> . Integer\n",
        "Scale -> e Sign Integer | Empty\n",
        "Digit -> 0 | 1 | 2 | 3 | 4 | 5 | 6 | 7 | 8 | 9\n",
        "Sign -> + | -\n",
        "Empty -> ε\n",
        "\"\"\")"
      ]
    },
    {
      "cell_type": "code",
      "execution_count": null,
      "metadata": {},
      "outputs": [],
      "source": [
        "# fig. 4.12, pag. 120 (a meno di Empty′)\n",
        "\n",
        "eliminate_ε_rules(G).P"
      ]
    },
    {
      "cell_type": "markdown",
      "metadata": {},
      "source": [
        "Data la `G` per i numeri con la virgola, si ottiene `Gp` coi primi due passi di cui sopra."
      ]
    },
    {
      "cell_type": "code",
      "execution_count": null,
      "metadata": {},
      "outputs": [],
      "source": [
        "# fig. 4.13, pag. 121\n",
        "\n",
        "Gp = eliminate_unit_rules(eliminate_ε_rules(G))\n",
        "Gp.P"
      ]
    },
    {
      "attachments": {},
      "cell_type": "markdown",
      "metadata": {},
      "source": [
        "### Eliminare regole/simboli non produttive e  non raggiungibili (Sez. 2.9.5.1-2)"
      ]
    },
    {
      "cell_type": "code",
      "execution_count": null,
      "metadata": {},
      "outputs": [],
      "source": [
        "# fig. 4.14, pag. 122\n",
        "\n",
        "Gp_clean = remove_unproductive_unreachable(Gp)\n",
        "Gp_clean.P"
      ]
    },
    {
      "attachments": {},
      "cell_type": "markdown",
      "metadata": {},
      "source": [
        "### Riduzione in forma normale (Sez. 4.3.2.4)"
      ]
    },
    {
      "attachments": {},
      "cell_type": "markdown",
      "metadata": {},
      "source": [
        "#### Caso $A\\to \\alpha a \\beta$"
      ]
    },
    {
      "cell_type": "code",
      "execution_count": null,
      "metadata": {},
      "outputs": [],
      "source": [
        "def transform_nonsolitary(G):\n",
        "  prods = set()\n",
        "  for A, α in G.P:\n",
        "    prods.add(Production(A, [f'N{x}' if x in G.T else x for x in α] if len(α) > 1 else α))\n",
        "    prods |= {Production(f'N{x}', (x, )) for x in α if x in G.T and len(α) > 1}\n",
        "  return Grammar(G.N | {A for A, α in prods}, G.T, prods, G.S)"
      ]
    },
    {
      "cell_type": "code",
      "execution_count": null,
      "metadata": {},
      "outputs": [],
      "source": [
        "# esempio d'uso\n",
        "\n",
        "U = Grammar.from_string(\"\"\"\n",
        "S -> x S y S x\n",
        "\"\"\")\n",
        "\n",
        "transform_nonsolitary(U).P"
      ]
    },
    {
      "attachments": {},
      "cell_type": "markdown",
      "metadata": {},
      "source": [
        "#### Caso $A\\to X_1 X_2\\ldots X_n$"
      ]
    },
    {
      "cell_type": "code",
      "execution_count": null,
      "metadata": {},
      "outputs": [],
      "source": [
        "def make_binary(G):\n",
        "  prods = set()\n",
        "  for A, α in G.P:\n",
        "    if len(α) > 2:\n",
        "      Ai = f'{A}{1}'\n",
        "      prods.add(Production(Ai, α[:2]))\n",
        "      for i, Xi in enumerate(α[2:-1], 2):\n",
        "          prods.add(Production(f'{A}{i}', (Ai, Xi)))\n",
        "          Ai = f'{A}{i}'\n",
        "      prods.add(Production(A, (Ai, α[-1])))\n",
        "    else:\n",
        "      prods.add(Production(A, α))\n",
        "  return Grammar(G.N | {A for A, α in prods}, G.T, prods, G.S)"
      ]
    },
    {
      "cell_type": "code",
      "execution_count": null,
      "metadata": {},
      "outputs": [],
      "source": [
        "# esempio d'uso\n",
        "\n",
        "U = Grammar.from_string(\"\"\"\n",
        "S -> A B C D\n",
        "\"\"\")\n",
        "\n",
        "make_binary(U).P"
      ]
    },
    {
      "attachments": {},
      "cell_type": "markdown",
      "metadata": {},
      "source": [
        "#### Di nuovo, l'esempio più elaborato"
      ]
    },
    {
      "cell_type": "code",
      "execution_count": null,
      "metadata": {},
      "outputs": [],
      "source": [
        "# fig. 4.15, pag. 123 (rinominando alcuni non terminali)\n",
        "\n",
        "G_cnf = make_binary(transform_nonsolitary(Gp_clean))\n",
        "G_cnf.P"
      ]
    },
    {
      "attachments": {},
      "cell_type": "markdown",
      "metadata": {},
      "source": [
        "## Parsing CYK con  G in forma CNF"
      ]
    },
    {
      "cell_type": "code",
      "execution_count": null,
      "metadata": {},
      "outputs": [],
      "source": [
        "# fig. 4.16, pag. 123\n",
        "\n",
        "INPUT = '32.5e+1'\n",
        "R = cyk(G_cnf, INPUT)\n",
        "R"
      ]
    },
    {
      "attachments": {},
      "cell_type": "markdown",
      "metadata": {},
      "source": [
        "## Una derivazione leftmost\n",
        "\n",
        "Per ottenere una derivazione *leftmost* ragioniamo come per la funzione `fake_parse` della precedente sezione, ma invece di restituire un albero restituiamo l'indice della produzione in gioco (ottenuto invocando `G.P.index`)"
      ]
    },
    {
      "cell_type": "code",
      "execution_count": null,
      "metadata": {},
      "outputs": [],
      "source": [
        "def get_leftmost_prods(G, R, INPUT):\n",
        "  def prods(X, i, l):\n",
        "    if l == 1:\n",
        "      return [G.P.index(Production(X, (INPUT[i - 1],)))]\n",
        "    for A, (B, C) in filter(Production.such_that(lhs = X, rhs_len = 2), G.P):\n",
        "      for k in range(1, l):\n",
        "        if B in R[i, k] and C in R[i + k, l - k]:\n",
        "          return [G.P.index(Production(A, (B, C)))] + prods(B, i, k) + prods(C, i + k, l - k)\n",
        "  return prods(G.S, 1, len(INPUT))"
      ]
    },
    {
      "cell_type": "code",
      "execution_count": null,
      "metadata": {},
      "outputs": [],
      "source": [
        "leftmost_prods = get_leftmost_prods(G_cnf, R, INPUT)\n",
        "leftmost_prods"
      ]
    },
    {
      "cell_type": "code",
      "execution_count": null,
      "metadata": {},
      "outputs": [],
      "source": [
        "d = Derivation(G_cnf).leftmost(leftmost_prods)\n",
        "d"
      ]
    },
    {
      "cell_type": "code",
      "execution_count": null,
      "metadata": {},
      "outputs": [],
      "source": [
        "ProductionGraph(d)"
      ]
    },
    {
      "cell_type": "markdown",
      "metadata": {},
      "source": [
        "Come si possono ottenere le produzioni di una derivazione *rightomst*?"
      ]
    },
    {
      "attachments": {},
      "cell_type": "markdown",
      "metadata": {},
      "source": [
        "## Il parsing in G (non in CNF)? (Sez. 4.2.6)\n",
        "\n",
        "Un primo requisito, per poter effettuare il parsing secondo le produzioni della grammatica originale è non eliminare i simboli improduttivi e irraggiungibili."
      ]
    },
    {
      "cell_type": "code",
      "execution_count": null,
      "metadata": {},
      "outputs": [],
      "source": [
        "# Non effettuiamo la pulizia\n",
        "\n",
        "# Gp = eliminate_unit_rules(eliminate_ε_rules(G))\n",
        "# Gp_clean = remove_unproductive_unreachable(Gp)\n",
        "# G_cnf = make_binary(transform_nonsolitary(Gp_clean))\n",
        "\n",
        "Gp_cnf = make_binary(transform_nonsolitary(Gp))\n",
        "Gp_cnf.P"
      ]
    },
    {
      "cell_type": "markdown",
      "metadata": {},
      "source": [
        "Ora calcoliamo la tabella `Rp` e la completiamo con le ε-regole"
      ]
    },
    {
      "cell_type": "code",
      "execution_count": null,
      "metadata": {},
      "outputs": [],
      "source": [
        "# Otteniamo Rp tramite il parsing rispetto alla grammatica non ripulita Gp_cnf\n",
        "\n",
        "INPUT = '32.5e+1'\n",
        "Rp = cyk(Gp_cnf, INPUT)\n",
        "Rp"
      ]
    },
    {
      "cell_type": "code",
      "execution_count": null,
      "metadata": {},
      "outputs": [],
      "source": [
        "# Calcoliamo l'insieme dei simboli A tali che A -> ε\n",
        "\n",
        "Rε = {A for A in Gp_cnf.N if (ε, ) in Gp_cnf.alternatives(A)}"
      ]
    },
    {
      "cell_type": "code",
      "execution_count": null,
      "metadata": {},
      "outputs": [],
      "source": [
        "# Li aggiungiamo in fondo alla tabella\n",
        "\n",
        "for i in range(1, len(INPUT) + 2): Rp[i, 0] = Rε"
      ]
    },
    {
      "cell_type": "code",
      "execution_count": null,
      "metadata": {},
      "outputs": [],
      "source": [
        "Rp"
      ]
    },
    {
      "attachments": {},
      "cell_type": "markdown",
      "metadata": {},
      "source": [
        "## Ricostruzione del (vero) albero di parsing\n",
        "\n",
        "Ora costruiamo (per una assegnata tabella `R` e un assegnato `INPUT` la funzione `derives(ω, i, l)` che\n",
        "(in base alle informaizoni nella tabella) se la forma sentenziale corispondete al primo argomento deriva la sottoparola $s_{i,l}$ dell'input che inizia dall'`i`-esimo simbolo ed è lunga `l` restituisce un elenco di lungezze, ciascuna delle quali corrisponde a quanti simboli della sottoparola derivano da ciascun non terminale (o corrispondono ai terminali) in `ω`, oppure `None` se `ω` non deriva $s_{i,l}$."
      ]
    },
    {
      "cell_type": "code",
      "execution_count": null,
      "metadata": {},
      "outputs": [],
      "source": [
        "def make_derives(R, INPUT):\n",
        "  def derives(ω, i, l):\n",
        "    if not ω or (ε, ) == ω: \n",
        "      return [] if l == 0 else None\n",
        "    X, *χ = ω\n",
        "    if X in G.T:\n",
        "      if i <= len(INPUT) and X == INPUT[i - 1]:\n",
        "        s = derives(χ, i + 1, l - 1)\n",
        "        if s is not None: return [1] + s\n",
        "    else:\n",
        "      for k in range(0, l + 1):\n",
        "        if X in R[i, k]:\n",
        "          s = derives(χ, i + k, l - k)\n",
        "          if s is not None: return [k] + s\n",
        "    return None\n",
        "  return derives"
      ]
    },
    {
      "cell_type": "code",
      "execution_count": null,
      "metadata": {},
      "outputs": [],
      "source": [
        "# costruiamo derive sulla tabella ed input precedenti\n",
        "\n",
        "derives = make_derives(Rp, INPUT)"
      ]
    },
    {
      "cell_type": "code",
      "execution_count": null,
      "metadata": {},
      "outputs": [],
      "source": [
        "# una prova di esecuzione \n",
        "\n",
        "# INPUT = '32.5e+1'\n",
        "\n",
        "derives(['Integer', 'Fraction', 'Scale'], 1, len(INPUT))"
      ]
    },
    {
      "cell_type": "markdown",
      "metadata": {},
      "source": [
        "I tre non terminali (che sono il lato destro della produzione `Real -> Integer Fraction Scale`) producono l'input (ossia tutti e 7 i suoi simboli a partire dal primo) e più precisamente:\n",
        "\n",
        "- `Integer` produrrà '35' (una sottoparola lunga 2),\n",
        "- `Fraction` produrrà '.5' (una sottoparola lunga 2),\n",
        "- `Scale` produrrà 'e+1', (una sottoparola lunga 3).\n",
        "\n",
        "Una volta scritta la suddetta funzione basta seguire l'algoritmo descritto a partire da pag. 115."
      ]
    },
    {
      "cell_type": "code",
      "execution_count": null,
      "metadata": {},
      "outputs": [],
      "source": [
        "def get_original_leftmost_prods(G, derives, N):\n",
        "  def prods(X, i, l):\n",
        "    if X in G.T: return []\n",
        "    for A, α in filter(Production.such_that(lhs = X), G.P):\n",
        "      d = derives(α, i, l)\n",
        "      if d is None: continue\n",
        "      res = [G.P.index(Production(A, α))]\n",
        "      for B, l in zip(α, d): \n",
        "        res.extend(prods(B, i, l))\n",
        "        i += l\n",
        "      return res\n",
        "  return prods(G.S, 1, N)"
      ]
    },
    {
      "cell_type": "markdown",
      "metadata": {},
      "source": [
        "Ora possiamo costruire (le produzioni, la derivazione e) l'albero nella grammatica originale!"
      ]
    },
    {
      "cell_type": "code",
      "execution_count": null,
      "metadata": {},
      "outputs": [],
      "source": [
        "# le produzioni\n",
        "\n",
        "leftmost_prods = get_original_leftmost_prods(G, derives, len(INPUT))\n",
        "leftmost_prods"
      ]
    },
    {
      "cell_type": "code",
      "execution_count": null,
      "metadata": {},
      "outputs": [],
      "source": [
        "# la derivazione\n",
        "\n",
        "d = Derivation(G).leftmost(leftmost_prods)\n",
        "d"
      ]
    },
    {
      "cell_type": "code",
      "execution_count": null,
      "metadata": {},
      "outputs": [],
      "source": [
        "# l'albero\n",
        "\n",
        "ProductionGraph(d)"
      ]
    },
    {
      "cell_type": "markdown",
      "metadata": {},
      "source": [
        "### E le ε-produzioni?"
      ]
    },
    {
      "cell_type": "code",
      "execution_count": null,
      "metadata": {},
      "outputs": [],
      "source": [
        "INPUT = tuple('32.5')"
      ]
    },
    {
      "cell_type": "code",
      "execution_count": null,
      "metadata": {},
      "outputs": [],
      "source": [
        "Rp = cyk(Gp_cnf, INPUT)\n",
        "Rε = {A for A in Gp_cnf.N if (ε, ) in Gp_cnf.alternatives(A)}\n",
        "for i in range(1, len(INPUT) + 2): Rp[i, 0] = Rε"
      ]
    },
    {
      "cell_type": "code",
      "execution_count": null,
      "metadata": {},
      "outputs": [],
      "source": [
        "leftmost_prods = get_original_leftmost_prods(G, make_derives(Rp, INPUT), len(INPUT))"
      ]
    },
    {
      "cell_type": "code",
      "execution_count": null,
      "metadata": {},
      "outputs": [],
      "source": [
        "ProductionGraph(Derivation(G).leftmost(leftmost_prods))    "
      ]
    }
  ],
  "metadata": {
    "kernelspec": {
      "display_name": "Python 3",
      "language": "python",
      "name": "python3"
    },
    "language_info": {
      "codemirror_mode": {
        "name": "ipython",
        "version": 3
      },
      "file_extension": ".py",
      "mimetype": "text/x-python",
      "name": "python",
      "nbconvert_exporter": "python",
      "pygments_lexer": "ipython3",
      "version": "3.10.6"
    }
  },
  "nbformat": 4,
  "nbformat_minor": 4
}
