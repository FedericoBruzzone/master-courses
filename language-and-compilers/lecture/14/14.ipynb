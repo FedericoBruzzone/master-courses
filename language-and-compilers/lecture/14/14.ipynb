{
 "cells": [
  {
   "cell_type": "markdown",
   "metadata": {},
   "source": [
    "# Lezione 14"
   ]
  },
  {
   "cell_type": "code",
   "execution_count": null,
   "metadata": {},
   "outputs": [],
   "source": [
    "from liblet import (\n",
    "  Transition,\n",
    "  Automaton,\n",
    "  Grammar,\n",
    "  Production,\n",
    "  Item,\n",
    "  Derivation,\n",
    "  ProductionGraph,\n",
    "  Stack,\n",
    "  Queue,\n",
    "  StateTransitionGraph,\n",
    "  Table,\n",
    "  closure,\n",
    "  first,\n",
    "  iter2table,\n",
    "  warn,\n",
    "  HASH)"
   ]
  },
  {
   "cell_type": "markdown",
   "metadata": {},
   "source": [
    "## Item\n",
    "\n",
    "Una occhiata a come sono implementati gli *item* nella libreria. Una grammatica d'esempio"
   ]
  },
  {
   "cell_type": "code",
   "execution_count": null,
   "metadata": {},
   "outputs": [],
   "source": [
    "# fig. 3.17, pag. 159 MCD (sostituendo + con -)\n",
    "\n",
    "G = Grammar.from_string(\"\"\"\n",
    "E -> E - T | T\n",
    "T -> n | ( E )\n",
    "\"\"\")"
   ]
  },
  {
   "cell_type": "code",
   "execution_count": null,
   "metadata": {},
   "outputs": [],
   "source": [
    "# Si costruisce dato rhs e lhs (come le produzioni)\n",
    "\n",
    "A, α = G.P[0]\n",
    "\n",
    "item = Item(A, α)\n",
    "\n",
    "item"
   ]
  },
  {
   "cell_type": "code",
   "execution_count": null,
   "metadata": {},
   "outputs": [],
   "source": [
    "# ha un metodo advance che sposta il punto e un metodo\n",
    "# symbol_after_dot che riporta il simbolo che segue il \n",
    "# punto (o None se il punto è oltre la fine del rhs)\n",
    "\n",
    "for X in α:\n",
    "  item = item.advance(X)\n",
    "  print(f'item = {item}, symbol_after_dot = {item.symbol_after_dot()}')"
   ]
  },
  {
   "cell_type": "markdown",
   "metadata": {},
   "source": [
    "## La ε-chiusura di un insieme di item\n",
    "\n",
    "Dato un insieme di item, la sua ε-chiusura è ottenuta prendendo la chiusura dell'operazione che aggiunge all'insieme, per ogni item $A\\to \\alpha • B \\beta$, tutti gli item $B\\to •\\gamma$ dove $B\\to \\gamma$ è una produzione di $G$."
   ]
  },
  {
   "cell_type": "code",
   "execution_count": null,
   "metadata": {},
   "outputs": [],
   "source": [
    "@closure\n",
    "def εclosure(items, G):\n",
    "  added = set()\n",
    "  for item in items:\n",
    "    X = item.symbol_after_dot()\n",
    "    if X is None: continue\n",
    "    added |= {Item(X, β) for β in G.alternatives(X)}\n",
    "  return frozenset(items | added)"
   ]
  },
  {
   "cell_type": "code",
   "execution_count": null,
   "metadata": {},
   "outputs": [],
   "source": [
    "# vediamo come si comporta sul set di item che contiene solo l'item\n",
    "# ottenuto dalla prima produzione\n",
    "\n",
    "εclosure({Item(*G.P[0])}, G)"
   ]
  },
  {
   "cell_type": "markdown",
   "metadata": {},
   "source": [
    "## Costruzione dell'automa a stati finiti\n",
    "\n",
    "Definiamo l'automa che riconosce il linguaggio delle parti aperta delle derivazioni di una assegnata grammatica $G$. Tale automa ha per alfabeto $N\\cup T$ e per stati *insiemi* di item. \n",
    "\n",
    "Il suo stato iniziale $q_0$ è dato dalla ε-chiusura dell'insieme di item derivati da tutte le produzioni che coinvolgono il simbolo iniziale $S$"
   ]
  },
  {
   "cell_type": "code",
   "execution_count": null,
   "metadata": {},
   "outputs": [],
   "source": [
    "def q0(G):\n",
    "  return εclosure({Item(G.S, β) for β in G.alternatives(G.S)}, G)"
   ]
  },
  {
   "cell_type": "code",
   "execution_count": null,
   "metadata": {},
   "outputs": [],
   "source": [
    "# nel caso della grammatica d'esempio si ha\n",
    "\n",
    "q0(G)"
   ]
  },
  {
   "cell_type": "markdown",
   "metadata": {},
   "source": [
    "La funzione di transizione $\\delta$ associa ad ogni insieme di item e simbolo dell'alfabeto l'ε-chiusura dell'insieme ottenuto avanzando col simbolo specificato il punto in ogni item."
   ]
  },
  {
   "cell_type": "code",
   "execution_count": null,
   "metadata": {},
   "outputs": [],
   "source": [
    "def δ(items, X, G):\n",
    "  return εclosure({item.advance(X) for item in items if item.advance(X)}, G)"
   ]
  },
  {
   "cell_type": "code",
   "execution_count": null,
   "metadata": {},
   "outputs": [],
   "source": [
    "# vediamo come si comporta sullo stato iniziale\n",
    "# dato il simbolo '('\n",
    "\n",
    "δ(q0(G), '(', G)"
   ]
  },
  {
   "cell_type": "markdown",
   "metadata": {},
   "source": [
    "Prima di procedere, trasformiamo la grammatica in modo da rendere il linguaggio libero da prefissi"
   ]
  },
  {
   "cell_type": "code",
   "execution_count": null,
   "metadata": {},
   "outputs": [],
   "source": [
    "def add_eoi(G):\n",
    "  return Grammar(G.N | {'S′'}, G.T | {HASH}, G.P + (Production('S′', (G.S, HASH)), ), 'S′')"
   ]
  },
  {
   "cell_type": "code",
   "execution_count": null,
   "metadata": {},
   "outputs": [],
   "source": [
    "# vediamo l'effetto che ha sulla grammatica d'esempio\n",
    "\n",
    "Gpf = add_eoi(G)\n",
    "\n",
    "Gpf.P"
   ]
  },
  {
   "cell_type": "markdown",
   "metadata": {},
   "source": [
    "L'automa può essere costruito tramite una visita (in ampiezza) degli stati raggiungibili tramite $\\delta$; al termine della visita saranno noti tutti gli stati e tutte le *transizioni*. Vengono definiti *finali* gli stati corrispondenti ad insiemi di un solo item in cui il punto è oltre l'ultimo simbolo."
   ]
  },
  {
   "cell_type": "code",
   "execution_count": null,
   "metadata": {},
   "outputs": [],
   "source": [
    "def compute_lr0_automaton(G):\n",
    "\n",
    "  states = set([q0(G)])\n",
    "  transitions = []\n",
    "  q = Queue([q0(G)])\n",
    "  while q:\n",
    "    items = q.dequeue()\n",
    "    for X in G.T | G.N:\n",
    "      next_items = δ(items, X, G)\n",
    "      if not next_items: continue\n",
    "      transitions.append(Transition(items, X, next_items))\n",
    "      if next_items not in states: \n",
    "        states.add(next_items)\n",
    "        q.enqueue(next_items)\n",
    "\n",
    "  return Automaton(\n",
    "    states,\n",
    "    G.T | G.N,\n",
    "    transitions,\n",
    "    q0(G),\n",
    "    set(state for state in states if len(state) == 1 and first(state).symbol_after_dot() is None)\n",
    "  )"
   ]
  },
  {
   "cell_type": "code",
   "execution_count": null,
   "metadata": {},
   "outputs": [],
   "source": [
    "# visualizziamo l'automa ottenuto dalla grammatica d'esempio\n",
    "\n",
    "lr0a = compute_lr0_automaton(Gpf)\n",
    "\n",
    "StateTransitionGraph.from_automaton(lr0a, large_labels = True)"
   ]
  },
  {
   "cell_type": "markdown",
   "metadata": {},
   "source": [
    "## Parsing con un automa a pila \n",
    "\n",
    "Il parser segue l'algoritmo illustrato nella sezione 3.5.2 di MCD."
   ]
  },
  {
   "cell_type": "code",
   "execution_count": null,
   "metadata": {},
   "outputs": [],
   "source": [
    "def lr0parse(lr0a, text, G):\n",
    "\n",
    "  rest = text + [HASH, ]\n",
    "  s = Stack([lr0a.q0])\n",
    "  steps = []\n",
    "  \n",
    "  while True:\n",
    "    top = s.peek()\n",
    "    if top in lr0a.F: # REDUCE\n",
    "      N, α, _ = first(top)\n",
    "      steps.append(Production(N, α))\n",
    "      if N == G.S and not rest: return steps\n",
    "      for _ in α: s.pop()\n",
    "      nxt = first(lr0a.δ(s.peek(), N))\n",
    "    else: # SHIFT\n",
    "      if not rest: \n",
    "        warn('Unexpected end of input')\n",
    "        return None\n",
    "      token, *rest = rest\n",
    "      nxt = first(lr0a.δ(top, token))\n",
    "      if nxt is None: \n",
    "        warn(f'Unexpected token {token}')\n",
    "        return None\n",
    "    s.push(nxt)"
   ]
  },
  {
   "cell_type": "code",
   "execution_count": null,
   "metadata": {},
   "outputs": [],
   "source": [
    "# proviamolo sulla grammatica d'esempio e su \n",
    "\n",
    "INPUT = 'n - n - n'.split()\n",
    "\n",
    "steps = lr0parse(lr0a, INPUT, Gpf)\n",
    "steps"
   ]
  },
  {
   "cell_type": "markdown",
   "metadata": {},
   "source": [
    "L'algoritmo restituisce i passi di una derivazione rightmost, dall'ultimo al primo"
   ]
  },
  {
   "cell_type": "code",
   "execution_count": null,
   "metadata": {},
   "outputs": [],
   "source": [
    "dpf = Derivation(Gpf).rightmost(reversed(steps))\n",
    "dpf"
   ]
  },
  {
   "cell_type": "markdown",
   "metadata": {},
   "source": [
    "Possiamo visualizzare l'albero nella grammatica originale $G$ semplicemente trascurando l'ultima produzione (che è quella che produce il simbolo iniziale di $G$ seguito dal terminatore)."
   ]
  },
  {
   "cell_type": "code",
   "execution_count": null,
   "metadata": {},
   "outputs": [],
   "source": [
    "d = Derivation(G).rightmost(reversed(steps[:-1]))\n",
    "ProductionGraph(d)"
   ]
  },
  {
   "cell_type": "markdown",
   "metadata": {},
   "source": [
    "## Conflitti\n",
    "\n",
    "Purtroppo l'approccio funziona solo per alcune grammatice. Con altre possono presentarsi conflitti *shift/reduce*."
   ]
  },
  {
   "cell_type": "code",
   "execution_count": null,
   "metadata": {},
   "outputs": [],
   "source": [
    "# ad esempio\n",
    "\n",
    "Gsr = Grammar.from_string(\"\"\"\n",
    "S -> A b | A\n",
    "A -> a\n",
    "\"\"\")"
   ]
  },
  {
   "cell_type": "code",
   "execution_count": null,
   "metadata": {},
   "outputs": [],
   "source": [
    "lr0asr = compute_lr0_automaton(Gsr)\n",
    "StateTransitionGraph.from_automaton(lr0asr, large_labels = True)"
   ]
  },
  {
   "cell_type": "markdown",
   "metadata": {},
   "source": [
    "Lo stato $\\{S\\to A•, S\\to A•b\\}$ può essere interpretato sia come uno shift verso $\\{S\\to Ab•\\}$ che come un reduce $S\\to A$.\n",
    "\n",
    "Possono inoltre presentarsi conflitti *reduce/reduce*."
   ]
  },
  {
   "cell_type": "code",
   "execution_count": null,
   "metadata": {},
   "outputs": [],
   "source": [
    "# ad esempio\n",
    "\n",
    "Grr = Grammar.from_string(\"\"\"\n",
    "S -> A | a\n",
    "A -> a\n",
    "\"\"\")"
   ]
  },
  {
   "cell_type": "code",
   "execution_count": null,
   "metadata": {},
   "outputs": [],
   "source": [
    "lr0arr = compute_lr0_automaton(Grr)\n",
    "StateTransitionGraph.from_automaton(lr0arr, large_labels = True)"
   ]
  },
  {
   "cell_type": "markdown",
   "metadata": {},
   "source": [
    "In questo caso è lo stato $\\{A\\to a•, S\\to a•\\}$ che può essere interpretato come un reduce $A\\to a$ o $S\\to a$."
   ]
  },
  {
   "cell_type": "markdown",
   "metadata": {},
   "source": [
    "# <samp style=\"color: red;\">Per casa</samp> \n",
    "\n",
    "## L'automa e le tabelle `GOTO` e `ACTIONS` \n",
    "\n",
    "L'automa a stati finiti può essere rappresntato in modo più compatto attraverso due tabelle; dapprima è necessario numerare gli stati (in modo da poter utilizzare numeri interi invece che insiemi di item). "
   ]
  },
  {
   "cell_type": "code",
   "execution_count": null,
   "metadata": {},
   "outputs": [],
   "source": [
    "states = sorted(map(set, lr0a.N))\n",
    "iter2table(states)"
   ]
  },
  {
   "cell_type": "markdown",
   "metadata": {},
   "source": [
    "Quindi si possono usare due tabelle: la tabella `GOTO` che descrive le transizioni"
   ]
  },
  {
   "cell_type": "code",
   "execution_count": null,
   "metadata": {},
   "outputs": [],
   "source": [
    "index_of = states.index\n",
    "\n",
    "GOTO = Table(2, set)\n",
    "for frm in states:\n",
    "  for X in sorted(lr0a.T):\n",
    "    to = lr0a.δ(frm, X)\n",
    "    if to: \n",
    "      to = first(to)\n",
    "      GOTO[index_of(frm), X] = index_of(to)\n",
    "\n",
    "GOTO"
   ]
  },
  {
   "cell_type": "markdown",
   "metadata": {},
   "source": [
    "E una tabella `ACTIONS` per rappresentare le riduzioni (che avvengono solo per gli stati finali)"
   ]
  },
  {
   "cell_type": "code",
   "execution_count": null,
   "metadata": {},
   "outputs": [],
   "source": [
    "ACTIONS = Table(1)\n",
    "\n",
    "for n, state in enumerate(states):\n",
    "  if len(state) == 1: \n",
    "    A, α, _ = first(state)\n",
    "    ACTIONS[n] = Production(A, α)\n",
    "\n",
    "ACTIONS"
   ]
  },
  {
   "cell_type": "markdown",
   "metadata": {},
   "source": [
    "## Simulazione con le tabelle\n",
    "\n",
    "Può essere un interessante esecizio scrivere una variante della funzione `lr0parse` che invece di basarsi sul'automa, richieda solo la conoscenza delle tabelle `GOTO` e `ACTIONS` descritte in questa sezione."
   ]
  }
 ],
 "metadata": {
  "kernelspec": {
   "display_name": "Python 3 (ipykernel)",
   "language": "python",
   "name": "python3"
  },
  "language_info": {
   "codemirror_mode": {
    "name": "ipython",
    "version": 3
   },
   "file_extension": ".py",
   "mimetype": "text/x-python",
   "name": "python",
   "nbconvert_exporter": "python",
   "pygments_lexer": "ipython3",
   "version": "3.10.6"
  },
  "varInspector": {
   "cols": {
    "lenName": 16,
    "lenType": 16,
    "lenVar": 40
   },
   "kernels_config": {
    "python": {
     "delete_cmd_postfix": "",
     "delete_cmd_prefix": "del ",
     "library": "var_list.py",
     "varRefreshCmd": "print(var_dic_list())"
    },
    "r": {
     "delete_cmd_postfix": ") ",
     "delete_cmd_prefix": "rm(",
     "library": "var_list.r",
     "varRefreshCmd": "cat(var_dic_list()) "
    }
   },
   "types_to_exclude": [
    "module",
    "function",
    "builtin_function_or_method",
    "instance",
    "_Feature"
   ],
   "window_display": false
  }
 },
 "nbformat": 4,
 "nbformat_minor": 4
}
