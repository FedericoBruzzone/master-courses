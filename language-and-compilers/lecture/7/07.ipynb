{
  "cells": [
    {
      "cell_type": "markdown",
      "metadata": {},
      "source": [
        "# Linguaggi regolari e automi a stati finiti"
      ]
    },
    {
      "cell_type": "code",
      "execution_count": null,
      "metadata": {},
      "outputs": [],
      "source": [
        "from pprint import pprint as p"
      ]
    },
    {
      "cell_type": "code",
      "execution_count": null,
      "metadata": {},
      "outputs": [],
      "source": [
        "from liblet import (\n",
        "  Grammar, \n",
        "  Production,\n",
        "  Derivation,\n",
        "  Transition,\n",
        "  Automaton,\n",
        "  StateTransitionGraph, \n",
        "  Queue, \n",
        "  closure,\n",
        "  dod2table,\n",
        "  union_of,\n",
        "  uc,\n",
        "  ε\n",
        ")"
      ]
    },
    {
      "cell_type": "markdown",
      "metadata": {},
      "source": [
        "\n",
        "## Il linguaggio della parte aperta delle forme sentenziali (Sez 5.1.1)"
      ]
    },
    {
      "cell_type": "code",
      "execution_count": null,
      "metadata": {},
      "outputs": [],
      "source": [
        "# pag. 27, Sec 2.4.3\n",
        "\n",
        "C = Grammar.from_string(\"\"\"\n",
        "S -> N | L & N\n",
        "L -> N , L | N\n",
        "N -> t | d | h\n",
        "\"\"\")\n",
        "C.P"
      ]
    },
    {
      "cell_type": "code",
      "execution_count": null,
      "metadata": {},
      "outputs": [],
      "source": [
        "# una derivazione in C la cui parte \"aperta\" è 'N & N'\n",
        "\n",
        "Derivation(C).leftmost((1, 2, 4, 3))"
      ]
    },
    {
      "cell_type": "code",
      "execution_count": null,
      "metadata": {},
      "outputs": [],
      "source": [
        "def open_regular(G):\n",
        "\n",
        "    def bar(symbol):\n",
        "        return symbol if symbol in G.T else symbol + '\\u0305' # aggiunge una barra sopra\n",
        "\n",
        "    T = {bar(G.S)}\n",
        "    P = {Production('R', (G.S, )), Production('R', (bar(G.S), ))}\n",
        "\n",
        "    for A, α in G.P:\n",
        "        while True:\n",
        "            if α == ('ε', ) or not α: break\n",
        "            Xbar, *αbar = map(bar, α)\n",
        "            X, *α = α\n",
        "            P.add(Production(A, [Xbar] + αbar))\n",
        "            if X in G.T: continue\n",
        "            T.add(Xbar)\n",
        "            P.add(Production(A, [X] + αbar))\n",
        "        P.add(Production(A, ('ε',)))\n",
        "\n",
        "    # sorted garantisce che l'ordine delle produzioni non dipenda\n",
        "    # dall'ordine in cui sono aggiunte al set — che in python non \n",
        "    # preserva l'ordine\n",
        "    return Grammar(G.N | {'R'}, G.T | T, sorted(P), 'R')"
      ]
    },
    {
      "cell_type": "code",
      "execution_count": null,
      "metadata": {},
      "outputs": [],
      "source": [
        "G = open_regular(C)\n",
        "G.P"
      ]
    },
    {
      "cell_type": "code",
      "execution_count": null,
      "metadata": {},
      "outputs": [],
      "source": [
        "# Una derivazione in G di 'N & N'\n",
        "\n",
        "Derivation(G).leftmost((12, 15, 5))"
      ]
    },
    {
      "cell_type": "markdown",
      "metadata": {},
      "source": [
        "## Generazione e NFA (Sez. 5.2)"
      ]
    },
    {
      "cell_type": "code",
      "execution_count": null,
      "metadata": {},
      "outputs": [],
      "source": [
        "# fig. 5.6, pag. 142\n",
        "\n",
        "G = Grammar.from_string(\"\"\"\n",
        "S -> a A\n",
        "S -> a B\n",
        "A -> b B\n",
        "A -> b C\n",
        "B -> c A\n",
        "B -> c C\n",
        "C -> a\n",
        "\"\"\")\n",
        "G"
      ]
    },
    {
      "cell_type": "code",
      "execution_count": null,
      "metadata": {},
      "outputs": [],
      "source": [
        "A = Automaton.from_grammar(G)\n",
        "A"
      ]
    },
    {
      "cell_type": "code",
      "execution_count": null,
      "metadata": {},
      "outputs": [],
      "source": [
        "StateTransitionGraph.from_automaton(A)"
      ]
    },
    {
      "cell_type": "code",
      "execution_count": null,
      "metadata": {},
      "outputs": [],
      "source": [
        "# pag. 143\n",
        "\n",
        "Gp = Grammar.from_string(\"\"\"\n",
        "S -> a A\n",
        "S -> a B\n",
        "A -> b B\n",
        "A -> b C\n",
        "B -> c A\n",
        "B -> c C\n",
        "C -> a\n",
        "B -> c D\n",
        "B -> c E\n",
        "E -> e E\n",
        "F -> f A\n",
        "F -> h\n",
        "\"\"\")\n",
        "Gp.T -= {'D'}\n",
        "Gp.N |= {'D'}\n",
        "\n",
        "StateTransitionGraph.from_automaton(Automaton.from_grammar(Gp))"
      ]
    },
    {
      "cell_type": "markdown",
      "metadata": {},
      "source": [
        "## Parsing (Sez. 5.3)\n",
        "\n",
        "### La set construction (Sez. 5.3.1)"
      ]
    },
    {
      "cell_type": "code",
      "execution_count": null,
      "metadata": {},
      "outputs": [],
      "source": [
        "Ns = set()\n",
        "Ts = A.T\n",
        "Ss = frozenset(A.q0)\n",
        "\n",
        "transitions = []\n",
        "\n",
        "q = Queue([Ss])\n",
        "while q:\n",
        "  Xs = q.dequeue()\n",
        "  if Xs in Ns: continue\n",
        "  for t in Ts:\n",
        "    Ys = frozenset(union_of(A.δ(X, t) for X in Xs))\n",
        "    if Ys: \n",
        "      transitions.append(Transition(Xs, t, Ys))\n",
        "      q.enqueue(Ys)\n",
        "  Ns.add(Xs)\n",
        "\n",
        "Fs = {Xs for Xs in Ns if A.F & Xs}\n",
        "\n",
        "As = Automaton(Ns, Ts, transitions, Ss, Fs)\n",
        "As"
      ]
    },
    {
      "cell_type": "code",
      "execution_count": null,
      "metadata": {},
      "outputs": [],
      "source": [
        "StateTransitionGraph.from_automaton(As, False)"
      ]
    },
    {
      "cell_type": "code",
      "execution_count": null,
      "metadata": {},
      "outputs": [],
      "source": [
        "StateTransitionGraph.from_automaton(As)"
      ]
    },
    {
      "cell_type": "markdown",
      "metadata": {},
      "source": [
        "#### Rappresentazione tabellare dell'automa"
      ]
    },
    {
      "cell_type": "code",
      "execution_count": null,
      "metadata": {},
      "outputs": [],
      "source": [
        "dod = {}\n",
        "for Xs in As.N - {frozenset('◇')}:\n",
        "  dod[''.join(sorted(Xs))] = {t: ''.join(sorted(next(iter(As.δ(Xs, t)), ''))) for t in sorted(As.T)}\n",
        "\n",
        "dod2table(dod)        "
      ]
    },
    {
      "cell_type": "markdown",
      "metadata": {},
      "source": [
        "### Con le ε-transizioni (Sez. 5.3.2)"
      ]
    },
    {
      "cell_type": "code",
      "execution_count": null,
      "metadata": {},
      "outputs": [],
      "source": [
        "# fig. 5.14, pag. 147\n",
        "\n",
        "A = Automaton.from_grammar(Grammar.from_string(\"\"\"\n",
        "S -> A\n",
        "S -> a B\n",
        "A -> a A\n",
        "A -> ε\n",
        "B -> b B\n",
        "B -> b\n",
        "\"\"\"))\n",
        "A"
      ]
    },
    {
      "cell_type": "code",
      "execution_count": null,
      "metadata": {},
      "outputs": [],
      "source": [
        "StateTransitionGraph.from_automaton(A)"
      ]
    },
    {
      "cell_type": "code",
      "execution_count": null,
      "metadata": {},
      "outputs": [],
      "source": [
        "@closure\n",
        "def ε_closure(S, A):\n",
        "  return S | {Y for X, x, Y in A.transitions if x == ε and X in S}\n",
        "\n",
        "ε_closure({'S'}, A)"
      ]
    },
    {
      "cell_type": "code",
      "execution_count": null,
      "metadata": {},
      "outputs": [],
      "source": [
        "Ns = set()\n",
        "Ts = A.T\n",
        "Ss = ε_closure(frozenset(A.q0), A)\n",
        "\n",
        "transitions = []\n",
        "\n",
        "q = Queue([Ss])\n",
        "while q:\n",
        "  Xs = q.dequeue()\n",
        "  if Xs in Ns: continue\n",
        "  for t in Ts:\n",
        "    Ys = ε_closure(frozenset(union_of(A.δ(X, t) for X in Xs)), A)\n",
        "    if Ys: \n",
        "      transitions.append(Transition(Xs, t, Ys))\n",
        "      q.enqueue(Ys)\n",
        "  Ns.add(Xs)\n",
        "\n",
        "Fs = {Xs for Xs in Ns if A.F & Xs}\n",
        "\n",
        "As = Automaton(Ns, Ts, transitions, Ss, Fs)\n",
        "As"
      ]
    },
    {
      "cell_type": "code",
      "execution_count": null,
      "metadata": {},
      "outputs": [],
      "source": [
        "StateTransitionGraph.from_automaton(As)"
      ]
    },
    {
      "cell_type": "markdown",
      "metadata": {},
      "source": [
        "# Il modulo `re` per le espressioni regolari\n",
        "\n",
        "Sulla falsariga di [Regular Expression HOWTO](https://docs.python.org/3/howto/regex.html) e [Regular expression operations](https://docs.python.org/3/library/re.html) dalla documentazione ufficiale."
      ]
    },
    {
      "cell_type": "code",
      "execution_count": null,
      "metadata": {},
      "outputs": [],
      "source": [
        "import re"
      ]
    },
    {
      "cell_type": "markdown",
      "metadata": {},
      "source": [
        "## Uso di base"
      ]
    },
    {
      "cell_type": "code",
      "execution_count": null,
      "metadata": {},
      "outputs": [],
      "source": [
        "# raw string (https://docs.python.org/3/reference/lexical_analysis.html#string-and-bytes-literals)\n",
        "\n",
        "print(r'a\\nb')"
      ]
    },
    {
      "cell_type": "code",
      "execution_count": null,
      "metadata": {},
      "outputs": [],
      "source": [
        "# uso diretto\n",
        "\n",
        "re.match(r'a|b', 'b')"
      ]
    },
    {
      "cell_type": "code",
      "execution_count": null,
      "metadata": {},
      "outputs": [],
      "source": [
        "# o pre-compilando il pattern\n",
        "\n",
        "p = re.compile(r'a|b')\n",
        "\n",
        "p.match('b')"
      ]
    },
    {
      "cell_type": "code",
      "execution_count": null,
      "metadata": {},
      "outputs": [],
      "source": [
        "# differenza fullmatch/match/search\n",
        "\n",
        "p.fullmatch('xa'), p.fullmatch('ay')"
      ]
    },
    {
      "cell_type": "code",
      "execution_count": null,
      "metadata": {},
      "outputs": [],
      "source": [
        "p.match('xa'), p.match('ay')"
      ]
    },
    {
      "cell_type": "code",
      "execution_count": null,
      "metadata": {},
      "outputs": [],
      "source": [
        "p.search('xay')"
      ]
    },
    {
      "cell_type": "code",
      "execution_count": null,
      "metadata": {},
      "outputs": [],
      "source": [
        "# tutti?\n",
        "\n",
        "list(p.finditer('mamma bella'))"
      ]
    },
    {
      "cell_type": "code",
      "execution_count": null,
      "metadata": {},
      "outputs": [],
      "source": [
        "# ma anche più semplicemente\n",
        "\n",
        "p.findall('banana')"
      ]
    },
    {
      "cell_type": "markdown",
      "metadata": {},
      "source": [
        "## Accedere alle sottostringhe"
      ]
    },
    {
      "cell_type": "code",
      "execution_count": null,
      "metadata": {},
      "outputs": [],
      "source": [
        "prefix = '02'\n",
        "number = '342573'\n",
        "telephone = prefix + '/' + number"
      ]
    },
    {
      "cell_type": "code",
      "execution_count": null,
      "metadata": {},
      "outputs": [],
      "source": [
        "# gruppi \"semplici\"\n",
        "\n",
        "p = re.compile(r'([0-9]+)/([0-9]*)')"
      ]
    },
    {
      "cell_type": "code",
      "execution_count": null,
      "metadata": {},
      "outputs": [],
      "source": [
        "m = p.match(telephone)\n",
        "m.groups()"
      ]
    },
    {
      "cell_type": "code",
      "execution_count": null,
      "metadata": {},
      "outputs": [],
      "source": [
        "# gruppi \"annidati\"\n",
        "\n",
        "p = re.compile(r'(([0-9]+)/)?([0-9]*)')"
      ]
    },
    {
      "cell_type": "code",
      "execution_count": null,
      "metadata": {},
      "outputs": [],
      "source": [
        "m0, m1 = p.match(telephone), p.match(number)\n",
        "m0.groups(), m1.groups()"
      ]
    },
    {
      "cell_type": "code",
      "execution_count": null,
      "metadata": {},
      "outputs": [],
      "source": [
        "# gruppi \"denominati\"\n",
        "\n",
        "p = re.compile(r'((?P<prefix>[0-9]+)/)?(?P<number>[0-9]+)')"
      ]
    },
    {
      "cell_type": "code",
      "execution_count": null,
      "metadata": {},
      "outputs": [],
      "source": [
        "m0, m1 = p.match(telephone), p.match(number)\n",
        "m0.groupdict(), m1.groupdict()"
      ]
    },
    {
      "cell_type": "code",
      "execution_count": null,
      "metadata": {},
      "outputs": [],
      "source": [
        "# gruppi senza cattura\n",
        "\n",
        "p = re.compile(r'(?:([0-9]+)/)?([0-9]*)')"
      ]
    },
    {
      "cell_type": "code",
      "execution_count": null,
      "metadata": {},
      "outputs": [],
      "source": [
        "m0, m1 = p.match(telephone), p.match(number)\n",
        "m0.groups(), m1.groups()"
      ]
    },
    {
      "cell_type": "markdown",
      "metadata": {},
      "source": [
        "## Metacaratteri e flags"
      ]
    },
    {
      "cell_type": "code",
      "execution_count": null,
      "metadata": {},
      "outputs": [],
      "source": [
        "# . ^ $ * + ? { } [ ] \\ | ( )"
      ]
    },
    {
      "cell_type": "code",
      "execution_count": null,
      "metadata": {},
      "outputs": [],
      "source": [
        "# set negati\n",
        "\n",
        "re.findall(r'[^aeiou]', 'just consonants')"
      ]
    },
    {
      "cell_type": "code",
      "execution_count": null,
      "metadata": {},
      "outputs": [],
      "source": [
        "# multiline\n",
        "\n",
        "text = \"\"\"I've seen things you people wouldn't believe.\n",
        "Attack ships on fire off the shoulder of Orion.\n",
        "I watched C-beams glitter in the dark near the Tannhäuser Gate.\n",
        "All those moments will be lost in time, like tears in rain.\n",
        "Time to die.\"\"\""
      ]
    },
    {
      "cell_type": "code",
      "execution_count": null,
      "metadata": {},
      "outputs": [],
      "source": [
        "# dotall\n",
        "\n",
        "re.findall(r'\\w+.+?\\w+', text, re.DOTALL)"
      ]
    },
    {
      "cell_type": "markdown",
      "metadata": {},
      "source": [
        "### Classi"
      ]
    },
    {
      "cell_type": "code",
      "execution_count": null,
      "metadata": {},
      "outputs": [],
      "source": [
        "text = 'only 123 number, 456 pass! or else?'"
      ]
    },
    {
      "cell_type": "code",
      "execution_count": null,
      "metadata": {},
      "outputs": [],
      "source": [
        "# numbers\n",
        "\n",
        "re.findall(r'\\d+', text), re.findall(r'\\D+', text)"
      ]
    },
    {
      "cell_type": "code",
      "execution_count": null,
      "metadata": {},
      "outputs": [],
      "source": [
        "# alphanumeric \n",
        "\n",
        "re.findall(r'\\w+', text), re.findall(r'\\W+', text)"
      ]
    },
    {
      "cell_type": "code",
      "execution_count": null,
      "metadata": {},
      "outputs": [],
      "source": [
        "# whitespace\n",
        "\n",
        "re.findall(r'\\s+', text), re.findall(r'\\S+', text)"
      ]
    },
    {
      "cell_type": "markdown",
      "metadata": {},
      "source": [
        "## Backreference"
      ]
    },
    {
      "cell_type": "code",
      "execution_count": null,
      "metadata": {},
      "outputs": [],
      "source": [
        "# star and end with the same char\n",
        "\n",
        "re.match(r'(.)\\d+(\\1)', '1001'), re.match(r'(.)\\d+(\\1)', '1002')"
      ]
    },
    {
      "cell_type": "code",
      "execution_count": null,
      "metadata": {},
      "outputs": [],
      "source": [
        "# oh my got, not even CS! \n",
        "\n",
        "re.match(r'(\\w+)(\\1)', 'abbaabba')"
      ]
    },
    {
      "cell_type": "markdown",
      "metadata": {},
      "source": [
        "## Efficienza"
      ]
    },
    {
      "cell_type": "code",
      "execution_count": null,
      "metadata": {},
      "outputs": [],
      "source": [
        "%%time \n",
        "# veloce se appartiene \n",
        "\n",
        "re.match(r'(a+)+c', 'a' * 25 + 'c')"
      ]
    },
    {
      "cell_type": "code",
      "execution_count": null,
      "metadata": {},
      "outputs": [],
      "source": [
        "%%time \n",
        "# mortale se non appartiene \n",
        "\n",
        "re.match(r'(a+)+c', 'a' * 25 + 'b')"
      ]
    },
    {
      "cell_type": "markdown",
      "metadata": {},
      "source": [
        "# Un Tokenizer"
      ]
    },
    {
      "cell_type": "code",
      "execution_count": null,
      "metadata": {},
      "outputs": [],
      "source": [
        "KIND_PATTERN = (\n",
        "  ('NUMBER',       re.compile(r'\\d+')),\n",
        "  ('IDENTIFIER',   re.compile(r'\\w+')),\n",
        "  ('OP',           re.compile(r'[+*/-]')),\n",
        "  ('OPEN_PAREN',   re.compile(r'\\(')),\n",
        "  ('CLOSED_PAREN', re.compile(r'\\)')),\n",
        "  ('WS',           re.compile(r'\\s+'))\n",
        ")"
      ]
    },
    {
      "cell_type": "code",
      "execution_count": null,
      "metadata": {},
      "outputs": [],
      "source": [
        "# In modo \"diretto\"\n",
        "\n",
        "INPUT = '24 + pippo * (123)'\n",
        "\n",
        "rest = INPUT\n",
        "while rest:\n",
        "  for kind, pattern in KIND_PATTERN:\n",
        "    m = pattern.match(rest)\n",
        "    if m:\n",
        "      l = m.span()[1]\n",
        "      value, rest = rest[:l], rest[l:]\n",
        "      if kind != 'WS': print(kind, value)\n",
        "      break"
      ]
    },
    {
      "cell_type": "code",
      "execution_count": null,
      "metadata": {},
      "outputs": [],
      "source": [
        "# più pitonicamente\n",
        "\n",
        "p = re.compile('|'.join(f'(?P<{kind}>{pattern.pattern})' for kind, pattern in KIND_PATTERN))\n",
        "p"
      ]
    },
    {
      "cell_type": "code",
      "execution_count": null,
      "metadata": {},
      "outputs": [],
      "source": [
        "INPUT = '24 + pippo * (123)'\n",
        "\n",
        "for m in p.finditer(INPUT):\n",
        "  for k, v in m.groupdict().items():\n",
        "    if k != 'WS' and v: print(k, v)"
      ]
    }
  ],
  "metadata": {
    "kernelspec": {
      "display_name": "Python 3",
      "language": "python",
      "name": "python3"
    },
    "language_info": {
      "codemirror_mode": {
        "name": "ipython",
        "version": 3
      },
      "file_extension": ".py",
      "mimetype": "text/x-python",
      "name": "python",
      "nbconvert_exporter": "python",
      "pygments_lexer": "ipython3",
      "version": "3.10.6"
    }
  },
  "nbformat": 4,
  "nbformat_minor": 2
}
