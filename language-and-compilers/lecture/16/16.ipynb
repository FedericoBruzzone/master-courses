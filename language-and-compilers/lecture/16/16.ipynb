{
 "cells": [
  {
   "cell_type": "markdown",
   "metadata": {},
   "source": [
    "# Lezione 16"
   ]
  },
  {
   "cell_type": "code",
   "execution_count": null,
   "metadata": {},
   "outputs": [],
   "source": [
    "from urllib.request import urlopen\n",
    "\n",
    "from antlr4.tree.Tree import ParseTreeWalker\n",
    "\n",
    "from liblet import ANTLR, Stack"
   ]
  },
  {
   "cell_type": "markdown",
   "metadata": {},
   "source": [
    "# Ancora sulle grammatiche\n",
    "\n",
    "## Ricorsione e precedenza\n",
    "\n",
    "ANTLR contente di trattare (senza particolari accorgimenti da parte dell'utente) grammatiche con regole ricorsive della forma $A\\to A \\alpha$ (o $A\\to \\alpha A$) e di \"risolvere\" (a patto di ordinare opportunamente le alternative) l'ambiguità che potrebbe derivare da regole del tipo $A\\to \\alpha_1 | \\alpha_2$.\n",
    "\n",
    "### Operatori aritmetici\n",
    "\n",
    "Iniziamo dal caso paradigmatico della solita grammatica $E\\to E + E | E * E | t$. La parola `1 + 2 * 3` ammette due parsing diversi, uno che \"corrisponde\" alla precedenza intesa $1+(2*3)$  e l'altro a quella \"errata\" $(1+2)*3$."
   ]
  },
  {
   "cell_type": "code",
   "execution_count": null,
   "metadata": {},
   "outputs": [],
   "source": [
    "expr = '1 + 2 * 3'"
   ]
  },
  {
   "cell_type": "code",
   "execution_count": null,
   "metadata": {},
   "outputs": [],
   "source": [
    "# la grammatica che porta alla precedenza corretta\n",
    "\n",
    "MulProd = ANTLR(r\"\"\"\n",
    "grammar MulProd; ignoblebug: expr;\n",
    " \n",
    "expr: expr '*' expr\n",
    "    | expr '+' expr\n",
    "    | NUM\n",
    "    ;\n",
    "\n",
    "NUM: [0-9]+ ;\n",
    "WS: [ \\t\\n\\r]+ -> skip ;\n",
    "\"\"\")"
   ]
  },
  {
   "cell_type": "code",
   "execution_count": null,
   "metadata": {},
   "outputs": [],
   "source": [
    "multprod_parse_tree = MulProd.tree(expr, 'expr', True)\n",
    "multprod_parse_tree"
   ]
  },
  {
   "cell_type": "code",
   "execution_count": null,
   "metadata": {},
   "outputs": [],
   "source": [
    "# invertendo le alternative per somma e prodotto, si ha la precedenza errata\n",
    "\n",
    "MulProdWrong = ANTLR(r\"\"\"\n",
    "grammar MulPordWrong; ignoblebug: expr;\n",
    " \n",
    "expr: expr '+' expr\n",
    "    | expr '*' expr\n",
    "    | NUM\n",
    "    ;\n",
    "\n",
    "NUM: [0-9]+ ;\n",
    "WS: [ \\t\\n\\r]+ -> skip ;\n",
    "\"\"\")"
   ]
  },
  {
   "cell_type": "code",
   "execution_count": null,
   "metadata": {},
   "outputs": [],
   "source": [
    "MulProdWrong.tree(expr, 'expr', True)"
   ]
  },
  {
   "cell_type": "markdown",
   "metadata": {},
   "source": [
    "### Dangling else\n",
    "\n",
    "Un altro caso in cui l'ambiguità entra in gioco è quello degli statement `if-else`; il segmento di codice "
   ]
  },
  {
   "cell_type": "code",
   "execution_count": null,
   "metadata": {},
   "outputs": [],
   "source": [
    "source = ' if e0 then if e1 then i0 else i1'"
   ]
  },
  {
   "cell_type": "markdown",
   "metadata": {},
   "source": [
    "può infatti essere interpretato (ossia può condurre a un albero di parsing) sia come\n",
    "\n",
    "```bash\n",
    "if e0 then (if e1 then i0 else i1)\n",
    "```\n",
    "\n",
    "che è il modo usuale nei linguaggi di programmazione più comuni, che come\n",
    "\n",
    "```bash\n",
    "if e0 then (if e1 then i0) else i1\n",
    "```"
   ]
  },
  {
   "cell_type": "code",
   "execution_count": null,
   "metadata": {},
   "outputs": [],
   "source": [
    "# definiamo un lexer per le parti e… ed i… e per l'usuale whitespace\n",
    "\n",
    "LEXER = r\"\"\"\n",
    "ISTR: 'i' [0-9]* ;\n",
    "EXPR: 'e' [0-9]* ;\n",
    "WS: [ \\t\\n\\r]+ -> skip ;\n",
    "\"\"\""
   ]
  },
  {
   "cell_type": "code",
   "execution_count": null,
   "metadata": {},
   "outputs": [],
   "source": [
    "# una grammatica che conduce all'associazione dell'else all'if più vicino\n",
    "\n",
    "IfElse = ANTLR(r\"\"\"\n",
    "grammar IfElse;\n",
    "\n",
    "stat:   'if' EXPR 'then' stat\n",
    "    |   'if' EXPR 'then' stat 'else' stat\n",
    "    |   ISTR\n",
    "    ;\n",
    "    \n",
    "\"\"\" + LEXER)"
   ]
  },
  {
   "cell_type": "code",
   "execution_count": null,
   "metadata": {},
   "outputs": [],
   "source": [
    "IfElse.tree(source, 'stat', True)"
   ]
  },
  {
   "cell_type": "code",
   "execution_count": null,
   "metadata": {},
   "outputs": [],
   "source": [
    "# di nuovo, invertendo l'ordine si ottiene un parse \"errato\"\n",
    "\n",
    "IfElseWrong = ANTLR(r\"\"\"\n",
    "grammar IfElseWrong;\n",
    "\n",
    "stat:   'if' EXPR 'then' stat 'else' stat\n",
    "    |   'if' EXPR 'then' stat\n",
    "    |   ISTR\n",
    "    ;\n",
    "    \n",
    "\"\"\" + LEXER)"
   ]
  },
  {
   "cell_type": "code",
   "execution_count": null,
   "metadata": {},
   "outputs": [],
   "source": [
    "IfElseWrong.tree(source, 'stat', True)"
   ]
  },
  {
   "cell_type": "code",
   "execution_count": null,
   "metadata": {},
   "outputs": [],
   "source": [
    "# può essere più comoda da ricordare la forma con l'operatore regolare ?\n",
    "\n",
    "IfElse = ANTLR(r\"\"\"\n",
    "grammar IfElse;\n",
    "\n",
    "stat:   'if' EXPR 'then' stat ('else' stat)?\n",
    "    |   ISTR\n",
    "    ;\n",
    "    \n",
    "\"\"\" + LEXER)"
   ]
  },
  {
   "cell_type": "code",
   "execution_count": null,
   "metadata": {},
   "outputs": [],
   "source": [
    "IfElse.tree(source, 'stat', True)"
   ]
  },
  {
   "cell_type": "markdown",
   "metadata": {},
   "source": [
    "## Bug e bizzarrie"
   ]
  },
  {
   "cell_type": "code",
   "execution_count": null,
   "metadata": {},
   "outputs": [],
   "source": [
    "def parse(grammar_fragment, start, text):\n",
    "  try:\n",
    "    return ANTLR(fr\"\"\"grammar Expr;\n",
    "      {grammar_fragment}\n",
    "      POW : '^';\n",
    "      PLUS : '+';\n",
    "      ID : [a-zA-Z]+;\n",
    "      INT : [0-9]+;\n",
    "      WS : [ \\t\\n\\r] -> skip;\n",
    "    \"\"\").tree(text, start, simple = True)\n",
    "  except Exception as e:\n",
    "    print(e)"
   ]
  },
  {
   "cell_type": "code",
   "execution_count": null,
   "metadata": {},
   "outputs": [],
   "source": [
    "# la prima regola ha problemi con la ricorsione\n",
    "\n",
    "parse(\n",
    "r\"\"\"\n",
    "\n",
    "e : e PLUS e | INT;\n",
    "\n",
    "\"\"\", 'e', '1')"
   ]
  },
  {
   "cell_type": "code",
   "execution_count": null,
   "metadata": {},
   "outputs": [],
   "source": [
    "# basta aggiungere una regola…\n",
    "\n",
    "parse(\n",
    "r\"\"\"\n",
    "\n",
    "s : e;\n",
    "\n",
    "e : e PLUS e | INT;\n",
    "\n",
    "\"\"\", 's', '1 + 2 + 3')"
   ]
  },
  {
   "cell_type": "code",
   "execution_count": null,
   "metadata": {},
   "outputs": [],
   "source": [
    "# … eventualmente costruendo l'albero dalla precedente prima regola\n",
    "\n",
    "parse(\n",
    "r\"\"\"\n",
    "\n",
    "s : e;\n",
    "\n",
    "e : e PLUS e | INT;\n",
    "\n",
    "\"\"\", 'e', '1 + 2 + 3')"
   ]
  },
  {
   "cell_type": "code",
   "execution_count": null,
   "metadata": {},
   "outputs": [],
   "source": [
    "# attenzione ai match parziali\n",
    "\n",
    "parse(\n",
    "r\"\"\"\n",
    "\n",
    "s : e;\n",
    "\n",
    "e : e PLUS e | INT;\n",
    "\n",
    "\"\"\", 's', '1 + 2 + 3 4')"
   ]
  },
  {
   "cell_type": "code",
   "execution_count": null,
   "metadata": {},
   "outputs": [],
   "source": [
    "# il token predefinito EOF può risolvere il problema\n",
    "\n",
    "# https://github.com/antlr/antlr4/blob/master/doc/parser-rules.md#start-rules-and-eof\n",
    "\n",
    "parse(\n",
    "r\"\"\"\n",
    "\n",
    "s : e EOF;\n",
    "\n",
    "e : e PLUS e | INT;\n",
    "\n",
    "\"\"\", 's', '1 + 2 + 3 4')"
   ]
  },
  {
   "cell_type": "code",
   "execution_count": null,
   "metadata": {},
   "outputs": [],
   "source": [
    "# la associatività a destra va risolta \"a mano\"\n",
    "\n",
    "parse(\n",
    "r\"\"\"\n",
    "\n",
    "s : e EOF;\n",
    "\n",
    "e : t POW e | t;\n",
    "\n",
    "t : INT;\n",
    "\n",
    "\"\"\", 's', '1 ^ 2 ^ 3')"
   ]
  },
  {
   "cell_type": "markdown",
   "metadata": {},
   "source": [
    "## Qualche buon esempio"
   ]
  },
  {
   "cell_type": "code",
   "execution_count": null,
   "metadata": {},
   "outputs": [],
   "source": [
    "def get(url):\n",
    "  return urlopen(url).read().decode('utf-8')"
   ]
  },
  {
   "cell_type": "code",
   "execution_count": null,
   "metadata": {},
   "outputs": [],
   "source": [
    "Arithmetic = ANTLR(get('https://raw.githubusercontent.com/antlr/grammars-v4/master/arithmetic/arithmetic.g4'))"
   ]
  },
  {
   "cell_type": "code",
   "execution_count": null,
   "metadata": {},
   "outputs": [],
   "source": [
    "Arithmetic.tree('1 + 2 ^ 3 * 4 = ( 5 + x ) / 6.7e8', 'equation', True)"
   ]
  },
  {
   "cell_type": "code",
   "execution_count": null,
   "metadata": {},
   "outputs": [],
   "source": [
    "# l'associatività è sbagliata! (perché?)\n",
    "\n",
    "Arithmetic.tree('2 ^ 3 ^ 4', 'expression', True)"
   ]
  },
  {
   "cell_type": "code",
   "execution_count": null,
   "metadata": {},
   "outputs": [],
   "source": [
    "Calc = ANTLR(get('https://raw.githubusercontent.com/antlr/grammars-v4/master/calculator/calculator.g4'))"
   ]
  },
  {
   "cell_type": "code",
   "execution_count": null,
   "metadata": {},
   "outputs": [],
   "source": [
    "Calc.print_grammar()"
   ]
  },
  {
   "cell_type": "code",
   "execution_count": null,
   "metadata": {},
   "outputs": [],
   "source": [
    "Calc.tree('sin(3) + pi * 3', 'expression', True)"
   ]
  },
  {
   "cell_type": "code",
   "execution_count": null,
   "metadata": {},
   "outputs": [],
   "source": [
    "Cymbol = ANTLR(get('http://media.pragprog.com/titles/tpantlr2/code/examples/Cymbol.g4').replace('type', 'type_').replace('file', 'file_'))"
   ]
  },
  {
   "cell_type": "code",
   "execution_count": null,
   "metadata": {},
   "outputs": [],
   "source": [
    "Cymbol.print_grammar()"
   ]
  },
  {
   "cell_type": "code",
   "execution_count": null,
   "metadata": {},
   "outputs": [],
   "source": [
    "Cymbol.tree('1 + f(a[2] * 3) == 4', 'expr', True)"
   ]
  },
  {
   "cell_type": "markdown",
   "metadata": {},
   "source": [
    "# Ancora su listener e visitor \n",
    "\n",
    "Consideriamo un semplice linguaggio di programmazione in cui ci sia una istruzione per riga e le istruzioni possano essere espressioni aritmetiche o assegnamenti di variabile."
   ]
  },
  {
   "cell_type": "code",
   "execution_count": null,
   "metadata": {},
   "outputs": [],
   "source": [
    "LabeledExpr = ANTLR.load('LabeledExpr.g') # salvata in L15\n",
    "LabeledExpr.print_grammar()"
   ]
  },
  {
   "cell_type": "code",
   "execution_count": null,
   "metadata": {},
   "outputs": [],
   "source": [
    "# un programma \n",
    "\n",
    "prog = \"\"\"\n",
    "A = 1\n",
    "3 + A\n",
    "B = A\n",
    "B + 2 * 3\n",
    "C = 4 - 1\n",
    "C * C * C\n",
    "\"\"\""
   ]
  },
  {
   "cell_type": "code",
   "execution_count": null,
   "metadata": {},
   "outputs": [],
   "source": [
    "tree = LabeledExpr.context(prog, 'prog')"
   ]
  },
  {
   "cell_type": "markdown",
   "metadata": {},
   "source": [
    "## Un listener per numerare gli assegnamenti\n",
    "\n",
    "Supponiamo di voler numerare gli assegnamenti, per fare questo genere di \"trasformazioni\" che prescindono dall'\"interpretazione\" del programma, è spesso comodo usare un *listener*"
   ]
  },
  {
   "cell_type": "code",
   "execution_count": null,
   "metadata": {},
   "outputs": [],
   "source": [
    "class LineNumberingListener(LabeledExpr.Listener):\n",
    "\n",
    "  def __init__(self):\n",
    "    self.assign_num = 0\n",
    "\n",
    "  def enterAssign(self, ctx):\n",
    "    print(self.assign_num, ctx.getText().strip())\n",
    "    self.assign_num += 1"
   ]
  },
  {
   "cell_type": "code",
   "execution_count": null,
   "metadata": {},
   "outputs": [],
   "source": [
    "# per invocarlo occorre usare un ParseTreeWalker\n",
    "\n",
    "listener = LineNumberingListener()\n",
    "ParseTreeWalker.DEFAULT.walk(listener, tree)"
   ]
  },
  {
   "cell_type": "markdown",
   "metadata": {},
   "source": [
    "## Un visitor per interpretare il programma\n",
    "\n",
    "Per \"interpretare\" il programma, ossia per \"eseguire\" le sue istruzioni, una strada molto comune è quella di usare un *visitor*; nel caso delle foglie, il laovoro da fare è molto semplice, nel caso invece dei nodi interni l'esecuzione può essere ottenuta delegando ricorsivamente l'esecuzione ai sottoalberi e quindi componendo opportunamente i risultati parziali ottenuti.\n",
    "\n",
    "L'assegnamento a variabile e l'occorrenza della variabile in una sottoespressione richiedono l'uso di una \"memoria\" che in questo esempio è data da un *dict* (assumeremo che le variabili non ancora assegnate abbiano valore 0)."
   ]
  },
  {
   "cell_type": "code",
   "execution_count": null,
   "metadata": {},
   "outputs": [],
   "source": [
    "class EvalVisitor(LabeledExpr.Visitor):\n",
    "\n",
    "  def __init__(self):\n",
    "    self.memory = {} # il dizionario che conserva i valori delle variaibli\n",
    "  \n",
    "  # gestione delle variabili\n",
    "  \n",
    "  def visitAssign(self, ctx):\n",
    "    name = ctx.ID().getText()\n",
    "    value = self.visit(ctx.expr())\n",
    "    self.memory[name] = value\n",
    "\n",
    "  def visitId(self, ctx):\n",
    "    name = ctx.ID().getText()\n",
    "    if name in self.memory: return self.memory[name]\n",
    "    return 0\n",
    "\n",
    "  # l'unica altra foglia (oltre a ID)\n",
    "      \n",
    "  def visitInt(self, ctx):\n",
    "    return int(ctx.INT().getText())\n",
    "\n",
    "  # una istruzione con l'effetto collaterale di stampare il valore dell'esrpressione\n",
    "  \n",
    "  def visitPrintExpr(self, ctx):\n",
    "    value = self.visit(ctx.expr())\n",
    "    print(value)\n",
    "\n",
    "  # le operazioni aritmetiche e le espressioni parentesizzate\n",
    "\n",
    "  def visitMulDiv(self, ctx):\n",
    "    left = self.visit(ctx.expr(0))\n",
    "    right = self.visit(ctx.expr(1))\n",
    "    if ctx.op.type == LabeledExpr.Parser.MUL:\n",
    "      return left * right\n",
    "    else:\n",
    "      return left / right\n",
    "\n",
    "  def visitAddSub(self, ctx):\n",
    "    left = self.visit(ctx.expr(0))\n",
    "    right = self.visit(ctx.expr(1))\n",
    "    if ctx.op.type == LabeledExpr.Parser.ADD:\n",
    "      return left + right\n",
    "    else:\n",
    "      return left - right\n",
    "\n",
    "  def visitParens(self, ctx):\n",
    "    return self.visit(ctx.expr())"
   ]
  },
  {
   "cell_type": "code",
   "execution_count": null,
   "metadata": {},
   "outputs": [],
   "source": [
    "# la valutazione si fa direttamente invocando visit\n",
    "\n",
    "visitor = EvalVisitor()\n",
    "visitor.visit(tree)"
   ]
  },
  {
   "cell_type": "markdown",
   "metadata": {},
   "source": [
    "## Un Listener per interpretare il programma\n",
    "\n",
    "Al fine di \"interpretare\" il programma si può usare anche un *listener*, in questo caso un modo molto semplice di gestire le espressioni è gestire in modo esplicito la ricorsione attraverso l'uso di uno `Stack` in cui memorizzare i risultati parziali dei calcoli.\n",
    "\n",
    "L'assegnamento a variabile e l'occorrenza della variabile in una sottoespressione sono risolti come nell'esmeio basato su *visitor*."
   ]
  },
  {
   "cell_type": "code",
   "execution_count": null,
   "metadata": {},
   "outputs": [],
   "source": [
    "class EvalListener(LabeledExpr.Listener):\n",
    "\n",
    "  def __init__(self):\n",
    "    self.stack = Stack()\n",
    "    self.memory = {}\n",
    "      \n",
    "  def exitAssign(self, ctx):\n",
    "    name = ctx.ID().getText()\n",
    "    self.memory[name] = self.stack.pop()\n",
    "\n",
    "  def exitId(self, ctx):\n",
    "    name = ctx.ID().getText()\n",
    "    self.stack.push(self.memory[name] if name in self.memory else 0) \n",
    "      \n",
    "  def exitInt(self, ctx):\n",
    "    self.stack.push(int(ctx.INT().getText()))\n",
    "  \n",
    "  def exitPrintExpr(self, ctx):\n",
    "    print(self.stack.pop())\n",
    "\n",
    "  def exitMulDiv(self, ctx):\n",
    "    right = self.stack.pop()\n",
    "    left = self.stack.pop()\n",
    "    self.stack.push(\n",
    "      left * right if ctx.op.type == LabeledExpr.Parser.MUL else left / right\n",
    "    )\n",
    "\n",
    "  def exitAddSub(self, ctx):\n",
    "    right = self.stack.pop()\n",
    "    left = self.stack.pop()\n",
    "    self.stack.push(\n",
    "      left + right if ctx.op.type == LabeledExpr.Parser.ADD else left - right\n",
    "    )"
   ]
  },
  {
   "cell_type": "code",
   "execution_count": null,
   "metadata": {},
   "outputs": [],
   "source": [
    "listener = EvalListener()\n",
    "ParseTreeWalker.DEFAULT.walk(listener, tree)"
   ]
  },
  {
   "cell_type": "code",
   "execution_count": null,
   "metadata": {},
   "outputs": [],
   "source": [
    "# al termine dell'esecuzione, deve essere vuoto!\n",
    "\n",
    "listener.stack"
   ]
  }
 ],
 "metadata": {
  "kernelspec": {
   "display_name": "Python 3 (ipykernel)",
   "language": "python",
   "name": "python3"
  },
  "language_info": {
   "codemirror_mode": {
    "name": "ipython",
    "version": 3
   },
   "file_extension": ".py",
   "mimetype": "text/x-python",
   "name": "python",
   "nbconvert_exporter": "python",
   "pygments_lexer": "ipython3",
   "version": "3.10.6"
  },
  "varInspector": {
   "cols": {
    "lenName": 16,
    "lenType": 16,
    "lenVar": 40
   },
   "kernels_config": {
    "python": {
     "delete_cmd_postfix": "",
     "delete_cmd_prefix": "del ",
     "library": "var_list.py",
     "varRefreshCmd": "print(var_dic_list())"
    },
    "r": {
     "delete_cmd_postfix": ") ",
     "delete_cmd_prefix": "rm(",
     "library": "var_list.r",
     "varRefreshCmd": "cat(var_dic_list()) "
    }
   },
   "types_to_exclude": [
    "module",
    "function",
    "builtin_function_or_method",
    "instance",
    "_Feature"
   ],
   "window_display": false
  }
 },
 "nbformat": 4,
 "nbformat_minor": 2
}
