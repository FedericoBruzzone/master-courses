{
 "cells": [
  {
   "attachments": {},
   "cell_type": "markdown",
   "metadata": {},
   "source": [
    "# Lezione 23"
   ]
  },
  {
   "cell_type": "code",
   "execution_count": null,
   "metadata": {},
   "outputs": [],
   "source": [
    "from liblet import ANTLR, Table, Tree, Stack, AnnotatedTreeWalker, warn"
   ]
  },
  {
   "attachments": {},
   "cell_type": "markdown",
   "metadata": {},
   "source": [
    "## Code Threading\n",
    "\n",
    "Seguendo l'approcco di MCD 5.1 e usando `SimpleBlockLang` come esempio, vediamo come fare il *threding* dei tre costrutti fondamentali: sequenza, selezione ed iterazione.\n",
    "\n",
    "Al solito usiamo un `AnnotatedTreeWalker` per analizzare l'AST, che annoteremo aggiungendo ad ogni radice degli attributi per tenere \"il filo\" il cui nome sarà dato dal prefisso `_thread_`, la quale restituisce per ogni sottoalbero la *lista* dei sottoalberi \"cuciti assieme\"."
   ]
  },
  {
   "cell_type": "code",
   "execution_count": null,
   "metadata": {},
   "outputs": [],
   "source": [
    "thread = AnnotatedTreeWalker('type')"
   ]
  },
  {
   "attachments": {},
   "cell_type": "markdown",
   "metadata": {},
   "source": [
    "Consideriamo un paio di funzioni, per aggiungere un \"filo\" (dato il nome e il nodo a cui deve collegarsi) e per estrarre tutti i fili (scordandosi dei prefissi). "
   ]
  },
  {
   "cell_type": "code",
   "execution_count": null,
   "metadata": {},
   "outputs": [],
   "source": [
    "def set_thread(ast, name, node):\n",
    "  ast.root['_thread_' + name] = node\n",
    "\n",
    "def get_threads(ast):\n",
    "  return {k[8:]: v for k, v in ast.root.items() if k.startswith('_thread_')}"
   ]
  },
  {
   "attachments": {},
   "cell_type": "markdown",
   "metadata": {},
   "source": [
    "Date due liste di nodi, è possibile \"cucirle assieme\" concatenandole e aggiungendo un filo `next` dall'ultimo nodo della prima, al primo nodo della seconda."
   ]
  },
  {
   "cell_type": "code",
   "execution_count": null,
   "metadata": {},
   "outputs": [],
   "source": [
    "def concat_threads(prev, succ):\n",
    "  if prev: set_thread(prev[-1], 'next', succ[0])\n",
    "  return prev + succ"
   ]
  },
  {
   "attachments": {},
   "cell_type": "markdown",
   "metadata": {},
   "source": [
    "Per finire, un paio di funzioni di comodo:\n",
    "\n",
    "* la prima per effettuare parsing, produzione dell'AST e annotazione del medesimo,\n",
    "* la seconda che, dopo aver richiamato la precedente, ne visualizza il risultato."
   ]
  },
  {
   "cell_type": "code",
   "execution_count": null,
   "metadata": {},
   "outputs": [],
   "source": [
    "SimpleBlockLang = ANTLR.load('SimpleBlockLang.g')\n",
    "simpleBlock2ast = AnnotatedTreeWalker.load('simpleBlock2ast.atw')\n",
    "\n",
    "def do_threads(source):\n",
    "  ast = simpleBlock2ast(SimpleBlockLang.tree(source, 'program'))\n",
    "  threads = concat_threads([Tree({'type': '<START>'})], thread(ast))\n",
    "  set_thread(threads[-1], 'next', None)\n",
    "  return ast, threads\n",
    "\n",
    "def show_threads(source):\n",
    "  ast, threads = do_threads(source)\n",
    "  return ast.with_threads({t: get_threads(t) for t in threads})"
   ]
  },
  {
   "attachments": {},
   "cell_type": "markdown",
   "metadata": {},
   "source": [
    "### Sequenza\n",
    "\n",
    "Per gestire la sequenza (che coinvolge tutti i nodi fatti salvi quelli di selezione ed iterazione) è sufficiente un catch-all che scarichi ricorsivamente e colleghi ogni nodo al successivo."
   ]
  },
  {
   "cell_type": "code",
   "execution_count": null,
   "metadata": {},
   "outputs": [],
   "source": [
    "@thread.catchall\n",
    "def catchall(visit, ast):\n",
    "\n",
    "  threads = []\n",
    "  for child in ast.children: \n",
    "    threads = concat_threads(threads, visit(child)) \n",
    "\n",
    "  return concat_threads(threads, [ast])"
   ]
  },
  {
   "cell_type": "code",
   "execution_count": null,
   "metadata": {},
   "outputs": [],
   "source": [
    "show_threads(\"\"\"\n",
    "OUTPUT = 1 + 2 + 3;\n",
    "\"\"\")"
   ]
  },
  {
   "attachments": {},
   "cell_type": "markdown",
   "metadata": {},
   "source": [
    "#### Sistemiamo i blocchi\n",
    "\n",
    "Va sistemato il fatto che il catch-all torna al blocco"
   ]
  },
  {
   "cell_type": "code",
   "execution_count": null,
   "metadata": {},
   "outputs": [],
   "source": [
    "source = \"\"\"\n",
    "{ OUTPUT = 1; OUTPUT = 2; }\n",
    "{ OUTPUT = 3; OUTPUT = 4; }\n",
    "\"\"\"\n",
    "show_threads(source)"
   ]
  },
  {
   "attachments": {},
   "cell_type": "markdown",
   "metadata": {},
   "source": [
    "Basta evitare di riportare l'ultimo nodo verso il blocco (le ultime due righe del catch-all)"
   ]
  },
  {
   "cell_type": "code",
   "execution_count": null,
   "metadata": {},
   "outputs": [],
   "source": [
    "@thread.register\n",
    "def blockStat(visit, ast):\n",
    "\n",
    "  threads = []\n",
    "  for child in ast.children: \n",
    "    threads = concat_threads(threads, visit(child)) \n",
    "\n",
    "  return threads"
   ]
  },
  {
   "cell_type": "code",
   "execution_count": null,
   "metadata": {},
   "outputs": [],
   "source": [
    "show_threads(source)"
   ]
  },
  {
   "attachments": {},
   "cell_type": "markdown",
   "metadata": {},
   "source": [
    "### Selezione\n",
    "\n",
    "Per la selzione è necessario creare un nodo di tipo `<JOIN>` per mettere assieme i due thread del ramo \"true\" e \"false\" nonché sostituire l'usuale salto `next` con un salto per ramo."
   ]
  },
  {
   "cell_type": "code",
   "execution_count": null,
   "metadata": {},
   "outputs": [],
   "source": [
    "@thread.register\n",
    "def ifElseStat(visit, ast):\n",
    "\n",
    "  cond, true, false = ast.children\n",
    "\n",
    "  threads = concat_threads(visit(cond), [ast])\n",
    "  true_threads = visit(true)\n",
    "  false_threads = visit(false)\n",
    "\n",
    "  join = Tree({'type': '<JOIN>'})\n",
    "\n",
    "  if true_threads:\n",
    "    set_thread(ast, 'true', true_threads[0])\n",
    "    set_thread(true_threads[-1], 'next', join)\n",
    "    threads += true_threads\n",
    "  else:\n",
    "    set_thread(ast, 'true', join)\n",
    "\n",
    "  if false_threads:\n",
    "    set_thread(ast, 'false', false_threads[0])\n",
    "    set_thread(false_threads[-1], 'next', join)\n",
    "    threads += false_threads\n",
    "  else:\n",
    "    set_thread(ast, 'false', join)\n",
    "\n",
    "  return threads + [join]"
   ]
  },
  {
   "attachments": {},
   "cell_type": "markdown",
   "metadata": {},
   "source": [
    "Vediamo un esempio"
   ]
  },
  {
   "cell_type": "code",
   "execution_count": null,
   "metadata": {},
   "outputs": [],
   "source": [
    "show_threads(\"\"\"\n",
    "var cond = INPUT0;\n",
    "\n",
    "if cond == 0 then \n",
    "  OUTPUT = 1;\n",
    "else\n",
    "  OUTPUT = 2;\n",
    "\"\"\")"
   ]
  },
  {
   "attachments": {},
   "cell_type": "markdown",
   "metadata": {},
   "source": [
    "### Iterazione\n",
    "\n",
    "Per finire, l'iterazione; non c'è bisogno di un nodo extra, basta usare il salto `next` per il caso in cui l'iterazione sia esaurita, e un salto `repeat` in caso contrario."
   ]
  },
  {
   "cell_type": "code",
   "execution_count": null,
   "metadata": {},
   "outputs": [],
   "source": [
    "@thread.register\n",
    "def repeatStat(visit, ast):\n",
    "\n",
    "  count, stat = ast.children\n",
    "\n",
    "  count_threads = visit(count)\n",
    "  stat_threads = visit(stat)\n",
    "  \n",
    "  set_thread(count_threads[-1], 'next', ast)\n",
    "  set_thread(ast, 'repeat', stat_threads[0] if stat_threads else ast)\n",
    "\n",
    "  return count_threads + concat_threads(stat_threads, [ast])"
   ]
  },
  {
   "attachments": {},
   "cell_type": "markdown",
   "metadata": {},
   "source": [
    "Un piccolo esempio"
   ]
  },
  {
   "cell_type": "code",
   "execution_count": null,
   "metadata": {},
   "outputs": [],
   "source": [
    "show_threads(\"\"\"\n",
    "var n = INPUT0;\n",
    "repeat 1 + n times \n",
    "  OUTPUT = 1;\n",
    "OUTPUT = 2;\n",
    "\"\"\")"
   ]
  },
  {
   "attachments": {},
   "cell_type": "markdown",
   "metadata": {},
   "source": [
    "## Un esempio completo\n",
    "\n",
    "Vediamo un esempio completo, che usremo nella costruzione dell'interprete. Contiene un campionario delle possibili istruzioni ed operazioni…"
   ]
  },
  {
   "cell_type": "code",
   "execution_count": null,
   "metadata": {},
   "outputs": [],
   "source": [
    "# se INPUT0 è 0 restituisce 2 * INPUT1, altrimenti restituisce 123456\n",
    "\n",
    "source = \"\"\"\n",
    "var sel = INPUT0;\n",
    "var n = INPUT1;\n",
    "\n",
    "var res;\n",
    "\n",
    "if sel == 0 then {\n",
    "  res = 0;\n",
    "  repeat n times\n",
    "    repeat 2 times\n",
    "      res = res + 1;\n",
    "} else \n",
    "  res = 123456;\n",
    "\n",
    "OUTPUT = res;\n",
    "\"\"\""
   ]
  },
  {
   "cell_type": "code",
   "execution_count": null,
   "metadata": {},
   "outputs": [],
   "source": [
    "show_threads(source)"
   ]
  },
  {
   "attachments": {},
   "cell_type": "markdown",
   "metadata": {},
   "source": [
    "## Interprete\n",
    "\n",
    "### Istruzioni e salti\n",
    "\n",
    "Per prima cosa, semplifichiamo i fili tenendo da parte solo le istruzioni ed i salti, iniziamo col trasformare ogni nodo (da usare nei salti) in un numero progressivo, dopo aver numerato i nodi…"
   ]
  },
  {
   "cell_type": "code",
   "execution_count": null,
   "metadata": {},
   "outputs": [],
   "source": [
    "def to_program(threads):\n",
    "  program = Table(2)\n",
    "  for n, t in enumerate(threads):\n",
    "    program[n, 'instr'] = {k: v for k, v in t.root.items() if not k.startswith('_thread_')}\n",
    "    program[n, 'jumps'] = {k: threads.index(v) if v else None for k, v in get_threads(t).items()}\n",
    "  return program"
   ]
  },
  {
   "cell_type": "code",
   "execution_count": null,
   "metadata": {},
   "outputs": [],
   "source": [
    "_, threads = do_threads(source)\n",
    "program = to_program(threads)"
   ]
  },
  {
   "cell_type": "code",
   "execution_count": null,
   "metadata": {},
   "outputs": [],
   "source": [
    "program"
   ]
  },
  {
   "attachments": {},
   "cell_type": "markdown",
   "metadata": {},
   "source": [
    "### L'interprete iterativo\n",
    "\n",
    "Per costruire l'interprete ci serve uno `STACK` dove conservare il risultato intermedio delle operazioni e una `GLOBAL_MEMORY` per memorizzare le variabili globali (qui per semplicità non ci occupiamo dello scoping di blocco)."
   ]
  },
  {
   "cell_type": "code",
   "execution_count": null,
   "metadata": {},
   "outputs": [],
   "source": [
    "def interpreter(program, indct, trace = False):\n",
    "\n",
    "  GLOBAL_MEMORY = indct.copy()\n",
    "  STACK = Stack()\n",
    "  IP = 0\n",
    "  while True:\n",
    "\n",
    "    # Fetch\n",
    "\n",
    "    instr, jumps = program[IP, 'instr'], program[IP, 'jumps']\n",
    "\n",
    "    # Siamo alla fine?\n",
    "\n",
    "    if 'next' in jumps and jumps['next'] == None: break \n",
    "\n",
    "    # Tracing\n",
    "\n",
    "    if trace: print(IP, instr, jumps, STACK)\n",
    "\n",
    "    # Decoding ed esecuzione\n",
    "\n",
    "    IP = None\n",
    "\n",
    "    if instr['type'] == 'intExpr':\n",
    "      STACK.push(instr['value'])\n",
    "\n",
    "    elif instr['type'] == 'addSubExpr':\n",
    "      if instr['op'] == '-':\n",
    "        STACK.push(-STACK.pop() + STACK.pop())\n",
    "      elif instr['op'] == '+':\n",
    "        STACK.push(STACK.pop() + STACK.pop())\n",
    "\n",
    "    elif instr['type'] == 'equalityExpr':\n",
    "      STACK.push(STACK.pop() == STACK.pop())\n",
    "\n",
    "    elif instr['type'] == 'varRefExpr':\n",
    "      STACK.push(GLOBAL_MEMORY[instr['varName']])\n",
    "\n",
    "    elif instr['type'] == 'varDeclStat':\n",
    "      GLOBAL_MEMORY[instr['varName']] = 0\n",
    "\n",
    "    elif instr['type'] == 'varDeclInitStat':\n",
    "      GLOBAL_MEMORY[instr['varName']] = STACK.pop()\n",
    "\n",
    "    elif instr['type'] == 'assignementStat':\n",
    "      GLOBAL_MEMORY[instr['varName']] = STACK.pop()\n",
    "\n",
    "    elif instr['type'] == 'ifElseStat':\n",
    "      IP = jumps['true'] if STACK.pop() else jumps['false']\n",
    "\n",
    "    elif instr['type'] == 'repeatStat':\n",
    "      count = STACK.pop()\n",
    "      if count > 0:\n",
    "        STACK.push(count - 1)\n",
    "        IP = jumps['repeat']\n",
    "      else:\n",
    "        IP = jumps['next']\n",
    "\n",
    "    elif instr['type'] in ('<START>', '<JOIN>'):\n",
    "      pass # ignoro l'inizio e i join\n",
    "\n",
    "    else:\n",
    "      # ma emetto warning per le istruzioni\n",
    "      # di cui questa implementazione parziale \n",
    "      # ancora non si occupa\n",
    "\n",
    "      warn('ignoring: ' + instr['type'])\n",
    "\n",
    "    # se selezione o iterazione non hanno riassegnato IP, passo al `next`         \n",
    "    if IP is None: IP = jumps['next']\n",
    "  \n",
    "  return GLOBAL_MEMORY['OUTPUT']"
   ]
  },
  {
   "attachments": {},
   "cell_type": "markdown",
   "metadata": {},
   "source": [
    "Eseguiamo il ramo false"
   ]
  },
  {
   "cell_type": "code",
   "execution_count": null,
   "metadata": {},
   "outputs": [],
   "source": [
    "interpreter(program, {'INPUT0': 1, 'INPUT1': 3}, True)"
   ]
  },
  {
   "attachments": {},
   "cell_type": "markdown",
   "metadata": {},
   "source": [
    "E ora quello true…"
   ]
  },
  {
   "cell_type": "code",
   "execution_count": null,
   "metadata": {},
   "outputs": [],
   "source": [
    "interpreter(program, {'INPUT0': 0, 'INPUT1': 10})    "
   ]
  }
 ],
 "metadata": {
  "interpreter": {
   "hash": "e1004562009730290f42c30a7c24060925c35420ba84516473ad07a3f1950c5d"
  },
  "kernelspec": {
   "display_name": "Python 3.8.10 ('named-let-liblet')",
   "language": "python",
   "name": "python3"
  },
  "language_info": {
   "codemirror_mode": {
    "name": "ipython",
    "version": 3
   },
   "file_extension": ".py",
   "mimetype": "text/x-python",
   "name": "python",
   "nbconvert_exporter": "python",
   "pygments_lexer": "ipython3"
  }
 },
 "nbformat": 4,
 "nbformat_minor": 2
}
