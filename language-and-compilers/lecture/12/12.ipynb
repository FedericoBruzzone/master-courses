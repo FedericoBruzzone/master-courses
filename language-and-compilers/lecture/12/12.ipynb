{
 "cells": [
  {
   "cell_type": "markdown",
   "metadata": {},
   "source": [
    "# Lezione 12"
   ]
  },
  {
   "cell_type": "code",
   "execution_count": null,
   "metadata": {},
   "outputs": [],
   "source": [
    "from liblet import (\n",
    "  Grammar, \n",
    "  Derivation,\n",
    "  Production,\n",
    "  ProductionGraph, \n",
    "  TopDownInstantaneousDescription,\n",
    "  Table, \n",
    "  closure,\n",
    "  suffixes,\n",
    "  warn,\n",
    "  HASH, ε\n",
    ")"
   ]
  },
  {
   "cell_type": "code",
   "execution_count": null,
   "metadata": {},
   "outputs": [],
   "source": [
    "def compute_εfirst(G):\n",
    "  FIRST = Table(1, element = set)\n",
    "  for t in G.T: FIRST[(t, )] = {t}\n",
    "  FIRST[tuple()] = {ε}\n",
    "  FIRST[(ε, )] = {ε}\n",
    "  FIRST[(HASH, )] = {HASH}\n",
    "  @closure\n",
    "  def update_with_suffixes(FIRST):\n",
    "    for N, α in G.P:\n",
    "      FIRST[(N, )] |= FIRST[α]\n",
    "      for γ in suffixes(α):\n",
    "        A, *β = γ\n",
    "        FIRST[γ] |= FIRST[(A, )] - {ε}\n",
    "        if ε in FIRST[(A, )]: FIRST[γ] |= FIRST[β]\n",
    "    return FIRST\n",
    "  return update_with_suffixes(FIRST)\n",
    "\n",
    "def make_first_function(G):\n",
    "  FIRST = compute_εfirst(G)\n",
    "  def FIRSTf(ω):\n",
    "    if not ω: return {ε}\n",
    "    X, *γ = ω\n",
    "    fx = FIRST[(X, )]\n",
    "    if ε in fx:\n",
    "      return (fx - {ε}) | FIRSTf(γ)\n",
    "    else:\n",
    "      return fx\n",
    "  return FIRSTf"
   ]
  },
  {
   "cell_type": "markdown",
   "metadata": {},
   "source": [
    "## Estendere il calcolo di  `TABLE` al caso con ε-regole\n",
    "\n",
    "Violando completamente l'idea di avere a che fare con un automa a pila, dobbiamo consentire ad ogni passo che venga ispezionata tutta la pila!\n",
    "\n",
    "Se infatti siamo in presenza di una derivazione parziale $S\\#\\overset{*}{\\to}x A\\Gamma\\#$ della parola $x a y$ (abbiamo cioè $\\#\\Gamma^R A$ sulla pila e la testina è posizionata all'inizio di $a y$) possiamo scegliere determiinsticamente quale alternativa predire tra le varie produzioni $A \\to \\alpha$ se e soltanto se ne esiste esattamente una per cui $a \\in \\operatorname{FIRST}(\\alpha\\Gamma\\#)$.\n",
    "\n",
    "Le grammatiche per cui ciò accade (per qualunque derivazione parziale) si chiamano **full LL(1)**. \n",
    "\n",
    "Per tali grammatiche la seguente funzione `TABLEf` (che prende in ingresso l'intera pila e il simbolo sotto la testina e adopera la funzione `FIRSTf` per caloclare gli insiemi $\\operatorname{FIRST}(\\alpha\\Gamma\\#)$) produce sempre la corretta predizione."
   ]
  },
  {
   "cell_type": "code",
   "execution_count": null,
   "metadata": {},
   "outputs": [],
   "source": [
    "def make_table_function(G):\n",
    "\n",
    "  FIRSTf = make_first_function(G)\n",
    "\n",
    "  #@show_calls(True)\n",
    "  def TABLEf(stack, a):\n",
    "    prods = set()\n",
    "    *sΓr, A = list(stack) # la pila è ＃Γ^R A\n",
    "    for α in G.alternatives(A):\n",
    "      ω = α + tuple(reversed(sΓr)) # la forma sentenziale è α seguita da Γ＃\n",
    "      if a in FIRSTf(ω): prods.add(Production(A, α))\n",
    "    if len(prods) == 1:\n",
    "      return next(iter(prods))\n",
    "    elif len(prods) > 1:\n",
    "      warn(f'Conflict {prods=}')\n",
    "    return None\n",
    "  \n",
    "  return TABLEf"
   ]
  },
  {
   "cell_type": "code",
   "execution_count": null,
   "metadata": {},
   "outputs": [],
   "source": [
    "# fig. 8.9, pag. 242\n",
    "\n",
    "G = Grammar.from_string(\"\"\"\n",
    "Session -> Facts Question | ( Session ) Session\n",
    "Facts -> Fact Facts | ε\n",
    "Fact -> ! STRING\n",
    "Question -> ? STRING\n",
    "\"\"\")\n",
    "G"
   ]
  },
  {
   "cell_type": "code",
   "execution_count": null,
   "metadata": {},
   "outputs": [],
   "source": [
    "TABLEf = make_table_function(G)"
   ]
  },
  {
   "cell_type": "markdown",
   "metadata": {},
   "source": [
    "## Il parser Full LL(1)\n",
    "\n",
    "Ora manca qualche piccolo aggiustamento a `parse_noε` per trasformarlo in un parser *full LL(1)* che chiameremo `full_parse`; le principali differenze sono:\n",
    "\n",
    "* ignorare le $\\varepsilon$ aggiunte in pila (per via delle ε-regole),\n",
    "* usare la funzione `TABLEf` (al posto di consultare la tabella `TABLE`) per ottenere la predizione.\n",
    "\n",
    "Ovviamente il \"piccolo\" aggiustamento ha un impatto notevole sul tempo di calcolo!"
   ]
  },
  {
   "cell_type": "code",
   "execution_count": null,
   "metadata": {},
   "outputs": [],
   "source": [
    "def full_parse(G, TABLEf, INPUT):\n",
    "  tdid = TopDownInstantaneousDescription(G, INPUT)\n",
    "  while not tdid.is_done():\n",
    "    if tdid.top() in G.N:\n",
    "      P = TABLEf(tdid.stack, tdid.head())\n",
    "      if P is None:\n",
    "        warn(f'No production for ({tdid.top()}, {tdid.head()}) at {tdid.steps}')\n",
    "        return None\n",
    "      tdid = tdid.predict(P)\n",
    "    else:\n",
    "      if tdid.top() == ε or tdid.top() == tdid.head():\n",
    "        tdid = tdid.match()\n",
    "      else:\n",
    "        warn(f'Expecting {tdid.top()}, got {tdid.head()}')\n",
    "        return None\n",
    "  return Derivation(G).leftmost(tdid.steps)"
   ]
  },
  {
   "cell_type": "code",
   "execution_count": null,
   "metadata": {},
   "outputs": [],
   "source": [
    "INPUT = '! STRING ! STRING ? STRING'.split()\n",
    "\n",
    "d = full_parse(G, TABLEf, INPUT)"
   ]
  },
  {
   "cell_type": "code",
   "execution_count": null,
   "metadata": {},
   "outputs": [],
   "source": [
    "ProductionGraph(d)"
   ]
  },
  {
   "cell_type": "markdown",
   "metadata": {},
   "source": [
    "### Un esempio più interessante\n",
    "\n",
    "Come esempio più \"interessante\" consideriamo una grammatica per espressioni aritmentiche parentesizzate."
   ]
  },
  {
   "cell_type": "code",
   "execution_count": null,
   "metadata": {},
   "outputs": [],
   "source": [
    "# MCD, fig. 3.4, pag. 123\n",
    "\n",
    "G_expr = Grammar.from_string(\"\"\"\n",
    "input -> expression\n",
    "expression -> term rest_expression\n",
    "term -> IDENTIFIER | parenthesized_expression \n",
    "parenthesized_expression -> ( expression ) \n",
    "rest_expression -> + expression | ε\n",
    "\"\"\")"
   ]
  },
  {
   "cell_type": "code",
   "execution_count": null,
   "metadata": {},
   "outputs": [],
   "source": [
    "TABLEf = make_table_function(G_expr)"
   ]
  },
  {
   "cell_type": "code",
   "execution_count": null,
   "metadata": {},
   "outputs": [],
   "source": [
    "INPUT = 'IDENTIFIER + ( IDENTIFIER )'.split()\n",
    "d = full_parse(G_expr, TABLEf, INPUT)"
   ]
  },
  {
   "cell_type": "code",
   "execution_count": null,
   "metadata": {},
   "outputs": [],
   "source": [
    "ProductionGraph(d)"
   ]
  },
  {
   "cell_type": "markdown",
   "metadata": {},
   "source": [
    "## L'insieme `FOLLOW`, e `TABLE` (senza `FIRSTf` e pila)"
   ]
  },
  {
   "cell_type": "markdown",
   "metadata": {},
   "source": [
    "A prescindere dalla necessità di determinare se valga la proprietà *full LL(1)* (fatto che non può essere appurato con una precomputazione, ma a limite può essere segnalato  all'accadere di un conflitto, come avviene in `TABLEf`), resta comunque il problema che `TABLEf` richiede l'accesso all'intero contenuto $\\Gamma$ della pila e che gli insiemi $\\operatorname{FIRST}(\\alpha\\Gamma\\#)$ non possono essere precomputati (per tutte le possibili pile).\n",
    "\n",
    "Osserviamo che se $A\\to \\alpha$ e $\\varepsilon \\not\\in \\operatorname{FIRST}(\\alpha)$, allora $\\operatorname{FIRST}(\\alpha\\Gamma\\#) = \\operatorname{FIRST}(\\alpha)$; il calcolo è quindi necessario nel caso in cui $\\varepsilon \\in \\operatorname{FIRST}(\\alpha)$ per cui invece $\\operatorname{FIRST}(\\alpha\\Gamma\\#) = \\left( \n",
    "\\operatorname{FIRST}(\\alpha) \\setminus \\{\\varepsilon\\} \\right) \\cup\n",
    "\\operatorname{FIRST}(\\Gamma\\#)$.\n",
    "\n",
    "Invece di calcolare $\\operatorname{FIRST}(\\Gamma\\#)$ al variare del contenuto della pila $\\Gamma$, si può considerare l'unione di tutti gli insiemi per ciascuna possibile pila (fermo restando il lato sinistro $A$):\n",
    "$$\n",
    "\\operatorname{FOLLOW}(A) = \n",
    "\\bigcup_{x, \\Gamma : S\\#\\overset{*}{\\to}x A\\Gamma\\#} \\operatorname{FIRST}(\\Gamma\\#) = \n",
    "\\{t \\in T | S\\#\\overset{*}{\\to}x A t y\\#\\}.\n",
    "$$\n",
    "\n",
    "Come vedremo:\n",
    "\n",
    "* è possibile costruire una tabella di predizione usando, per ogni $A\\to \\alpha$, solo gli insiemi $\\operatorname{FIRST}(\\alpha)$ e $\\operatorname{FOLLOW}(A)$,\n",
    "\n",
    "* l'insieme $\\operatorname{FOLLOW}(A)$ può essere precomputato (attraverso una chiusura).\n",
    "\n",
    "Iniziamo dal primo punto (tenendo traccia dei conflitti tra $\\operatorname{FIRST}$ e $\\operatorname{FOLLOW}$):"
   ]
  },
  {
   "cell_type": "code",
   "execution_count": null,
   "metadata": {},
   "outputs": [],
   "source": [
    "def compute_table(G, FIRST, FOLLOW):\n",
    "\n",
    "  TABLE = Table(2)\n",
    "  FIRST_TABLE = Table(2)\n",
    "  FOLLOW_TABLE = Table(2)\n",
    "\n",
    "  for P in G.P:\n",
    "    A, α = P\n",
    "    for a in FIRST[α] - {'ε'}:\n",
    "      if FIRST_TABLE[A, a] is not None:\n",
    "        warn(f'First/first conflict on ({A}, {a}) for production {P} (was {FIRST_TABLE[A, a]})')\n",
    "      else:\n",
    "        FIRST_TABLE[A, a] = P\n",
    "        TABLE[A, a] = P\n",
    "    if 'ε' in FIRST[α]:\n",
    "      for a in FOLLOW[A]:\n",
    "        if FIRST_TABLE[A, a] is not None:\n",
    "          warn(f'First/follow conflict on ({A}, {a}) for production {P} (was {FIRST_TABLE[A, a]})')\n",
    "        if FOLLOW_TABLE[A, a] is not None:\n",
    "          warn(f'Follow/follow conflict on ({A}, {a}) for production {P} (was {FOLLOW_TABLE[A, a]})')\n",
    "        if FIRST_TABLE[A, a] is None and FOLLOW_TABLE[A, a] is None:\n",
    "          FOLLOW_TABLE[A, a] = P\n",
    "          TABLE[A, a] = P\n",
    "  return TABLE"
   ]
  },
  {
   "cell_type": "markdown",
   "metadata": {},
   "source": [
    "Se la tabella contiene al più una produzione per ogni cella, allora la grammatica è detta **strong LL(1)**. Osservate che se una grammatica è full LL(1) allora è anche strong LL(1) (si dimostra per contronominale, vedi la Sez. 8.2.3. del libro)!\n",
    "\n",
    "Riguardo al seecondo punto, l'osservazione cruciale è che, data una produzione $X\\to \\omega$, per ogni fattorizzazione di $\\omega$ come $\\alpha A \\beta$, si ha che $\\operatorname{FOLLOW}(A)$ contiene:\n",
    "\n",
    "* $\\operatorname{FIRST}(\\beta)$ (tolto eventualmente $\\varepsilon$),\n",
    "* $\\operatorname{FOLLOW}(X)$ se $\\varepsilon \\in \\operatorname{FIRST}(\\beta)$.\n",
    "\n",
    "Il secondo punto segue dal fatto che $S\\#\\overset{*}{\\to}x X t y\\to x\\alpha A \\beta t y\\# \\overset{*}{\\to} x\\alpha A t y\\#$ quindi quel che segue $X$ segiurà anche $A$.\n",
    "\n",
    "Facciamo un esempio con la grammatica $G$ (di \"fatti e domande\"):"
   ]
  },
  {
   "cell_type": "code",
   "execution_count": null,
   "metadata": {},
   "outputs": [],
   "source": [
    "def compute_follow(G, FIRST):\n",
    "\n",
    "  FOLLOW = Table(1, set)\n",
    "  FOLLOW[G.S] |= {HASH}\n",
    "\n",
    "  @closure\n",
    "  def complete_follow(FOLLOW):\n",
    "    for X, ω in G.P:\n",
    "      for γ in suffixes(ω): # X -> α A β (α è mangiato dal suffisso)\n",
    "        A, *β = γ\n",
    "        if A not in G.N: continue\n",
    "        FOLLOW[A] |= FIRST[β] - {ε}\n",
    "        if ε in FIRST[β]: FOLLOW[A] |= FOLLOW[X]\n",
    "    return FOLLOW\n",
    "  \n",
    "  return complete_follow(FOLLOW)"
   ]
  },
  {
   "cell_type": "markdown",
   "metadata": {},
   "source": [
    "Vediamo come si comporta sul solito esempio:"
   ]
  },
  {
   "cell_type": "code",
   "execution_count": null,
   "metadata": {},
   "outputs": [],
   "source": [
    "FIRST = compute_εfirst(G)\n",
    "FIRST.restrict_to({(N, ) for N in G.N})"
   ]
  },
  {
   "cell_type": "code",
   "execution_count": null,
   "metadata": {},
   "outputs": [],
   "source": [
    "FOLLOW = compute_follow(G, FIRST)\n",
    "FOLLOW"
   ]
  },
  {
   "cell_type": "markdown",
   "metadata": {},
   "source": [
    "Possiamo quindi costruire la tabella per la grammatica dell'esempio precedente"
   ]
  },
  {
   "cell_type": "code",
   "execution_count": null,
   "metadata": {},
   "outputs": [],
   "source": [
    "TABLE = compute_table(G, FIRST, FOLLOW)\n",
    "TABLE"
   ]
  },
  {
   "cell_type": "markdown",
   "metadata": {},
   "source": [
    "La costruzione del parser *strong* è molto simile a quella *full* della precedente sezione, ma ora la tabella è una vera e propria tabella e basta consultarla per la coppia $(A, a)$, non c'è bisogno di guardare tutta la pila!"
   ]
  },
  {
   "cell_type": "code",
   "execution_count": null,
   "metadata": {},
   "outputs": [],
   "source": [
    "def parse(G, TABLE, INPUT):\n",
    "  tdid = TopDownInstantaneousDescription(G, INPUT)\n",
    "  while not tdid.is_done():\n",
    "    if tdid.top() in G.N:\n",
    "      P = TABLE[tdid.top(), tdid.head()]\n",
    "      if P is None:\n",
    "        warn('No production for ({}, {}) at {}.'.format(tdid.top(), tdid.head(), tdid.steps) )\n",
    "        return None\n",
    "      tdid = tdid.predict(P)\n",
    "    else:\n",
    "      if tdid.top() == ε or tdid.top() == tdid.head():\n",
    "        tdid = tdid.match()\n",
    "      else:\n",
    "        warn('Expecting {}, got {}.'.format(tdid.top(), tdid.head()))\n",
    "        return None\n",
    "  return Derivation(G).leftmost(tdid.steps)"
   ]
  },
  {
   "cell_type": "markdown",
   "metadata": {},
   "source": [
    "Facciamo un esempio sulla solita grammatica"
   ]
  },
  {
   "cell_type": "code",
   "execution_count": null,
   "metadata": {},
   "outputs": [],
   "source": [
    "d = parse(G, TABLE, '! STRING ! STRING ? STRING'.split())\n",
    "ProductionGraph(d)"
   ]
  },
  {
   "cell_type": "markdown",
   "metadata": {},
   "source": [
    "### Consideriamo i vari casi di conflitto attraverso degli esempi\n",
    "\n",
    "Introduciamo una funzione di comodo che faccia i vari passi di comptuazione…"
   ]
  },
  {
   "cell_type": "code",
   "execution_count": null,
   "metadata": {},
   "outputs": [],
   "source": [
    "def fft(G):\n",
    "  FIRST = compute_εfirst(G)\n",
    "  FOLLOW = compute_follow(G, FIRST)\n",
    "  FF = Table(2)\n",
    "  for N in G.N: \n",
    "    FF[N, 'First'] = FIRST[(N, )]\n",
    "    FF[N, 'Follow'] = FOLLOW[N]\n",
    "  return FF, compute_table(G, FIRST, FOLLOW)"
   ]
  },
  {
   "cell_type": "markdown",
   "metadata": {},
   "source": [
    "#### Caso first/first"
   ]
  },
  {
   "cell_type": "code",
   "execution_count": null,
   "metadata": {},
   "outputs": [],
   "source": [
    "G = Grammar.from_string(\"\"\"\n",
    "S -> a | A\n",
    "A -> a\n",
    "\"\"\")"
   ]
  },
  {
   "cell_type": "code",
   "execution_count": null,
   "metadata": {},
   "outputs": [],
   "source": [
    "FF, TABLE = fft(G)"
   ]
  },
  {
   "cell_type": "code",
   "execution_count": null,
   "metadata": {},
   "outputs": [],
   "source": [
    "FF"
   ]
  },
  {
   "cell_type": "code",
   "execution_count": null,
   "metadata": {},
   "outputs": [],
   "source": [
    "TABLE"
   ]
  },
  {
   "cell_type": "markdown",
   "metadata": {},
   "source": [
    "#### Caso first/follow"
   ]
  },
  {
   "cell_type": "code",
   "execution_count": null,
   "metadata": {},
   "outputs": [],
   "source": [
    "G = Grammar.from_string(\"\"\"\n",
    "S -> A a\n",
    "A -> a | ε\n",
    "\"\"\")"
   ]
  },
  {
   "cell_type": "code",
   "execution_count": null,
   "metadata": {},
   "outputs": [],
   "source": [
    "FF, TABLE = fft(G)"
   ]
  },
  {
   "cell_type": "code",
   "execution_count": null,
   "metadata": {},
   "outputs": [],
   "source": [
    "FF"
   ]
  },
  {
   "cell_type": "code",
   "execution_count": null,
   "metadata": {},
   "outputs": [],
   "source": [
    "TABLE"
   ]
  },
  {
   "cell_type": "markdown",
   "metadata": {},
   "source": [
    "#### Caso follow/follow"
   ]
  },
  {
   "cell_type": "code",
   "execution_count": null,
   "metadata": {},
   "outputs": [],
   "source": [
    "G = Grammar.from_string(\"\"\"\n",
    "S -> A a\n",
    "A -> B | C\n",
    "B -> ε | b\n",
    "C -> ε | c\n",
    "\"\"\")"
   ]
  },
  {
   "cell_type": "code",
   "execution_count": null,
   "metadata": {},
   "outputs": [],
   "source": [
    "FF, TABLE = fft(G) "
   ]
  },
  {
   "cell_type": "code",
   "execution_count": null,
   "metadata": {},
   "outputs": [],
   "source": [
    "FF"
   ]
  },
  {
   "cell_type": "code",
   "execution_count": null,
   "metadata": {},
   "outputs": [],
   "source": [
    "TABLE"
   ]
  },
  {
   "cell_type": "markdown",
   "metadata": {},
   "source": [
    "## Fattorizzazione ed eliminazione dei conflitti\n",
    "\n",
    "In presenza di due alternative $A\\to \\alpha\\beta|\\alpha\\gamma$ con $\\alpha$ non trasparente è evidente che sia impossibile scegliere sulla base di $\\operatorname{FIRST}(\\alpha)$ che riguarda entrambe le alternative! Una possibile soluzione consiste nel \"fattorizzare\" $\\alpha$ mendiante l'introduzione di un nuovo non terminale $N$ cambiando le produzioni in $A\\to \\alpha N$ e $N\\to \\beta|\\gamma$ sperando che $\\operatorname{FIRST}(\\beta)$ e $\\operatorname{FIRST}(\\gamma)$ siano disigunti.\n",
    "\n",
    "Proviamo ad usare, come esempio, una grammatica per operazioni aritmetiche in cui ogni operatore coinvolga esattamente due sottoespressioni:"
   ]
  },
  {
   "cell_type": "code",
   "execution_count": null,
   "metadata": {},
   "outputs": [],
   "source": [
    "G = Grammar.from_string(\"\"\"\n",
    "E -> T + T | T\n",
    "T -> F * F | F \n",
    "F -> ( E ) | i\n",
    "\"\"\")"
   ]
  },
  {
   "cell_type": "markdown",
   "metadata": {},
   "source": [
    "Ci sono conflitti…"
   ]
  },
  {
   "cell_type": "code",
   "execution_count": null,
   "metadata": {},
   "outputs": [],
   "source": [
    "FF, TABLE = fft(G) "
   ]
  },
  {
   "cell_type": "code",
   "execution_count": null,
   "metadata": {},
   "outputs": [],
   "source": [
    "FF"
   ]
  },
  {
   "cell_type": "code",
   "execution_count": null,
   "metadata": {},
   "outputs": [],
   "source": [
    "TABLE"
   ]
  },
  {
   "cell_type": "markdown",
   "metadata": {},
   "source": [
    "Che possono essere risolti fattorizzando sia `T` che `F`"
   ]
  },
  {
   "cell_type": "code",
   "execution_count": null,
   "metadata": {},
   "outputs": [],
   "source": [
    "G = Grammar.from_string(\"\"\"\n",
    "E -> T E′\n",
    "E′ -> + T | ε\n",
    "T -> F F′\n",
    "F′ -> * F | ε\n",
    "F -> ( E ) | i\n",
    "\"\"\")"
   ]
  },
  {
   "cell_type": "code",
   "execution_count": null,
   "metadata": {},
   "outputs": [],
   "source": [
    "FF, TABLE = fft(G) "
   ]
  },
  {
   "cell_type": "code",
   "execution_count": null,
   "metadata": {},
   "outputs": [],
   "source": [
    "TABLE"
   ]
  },
  {
   "cell_type": "markdown",
   "metadata": {},
   "source": [
    "Tentiamo il parse"
   ]
  },
  {
   "cell_type": "code",
   "execution_count": null,
   "metadata": {},
   "outputs": [],
   "source": [
    "ProductionGraph(parse(G, TABLE, 'i * ( i + i * i )'.split()))"
   ]
  },
  {
   "cell_type": "markdown",
   "metadata": {},
   "source": [
    "La grammatica così fattorizzata si presta molto bene ad evitare la necessità di parentesizzare gli operandi a coppie, rendendo possibili espressioni come `i + i + i`, ma attenzione all'associatività!"
   ]
  },
  {
   "cell_type": "code",
   "execution_count": null,
   "metadata": {},
   "outputs": [],
   "source": [
    "# aggiungo un E′ dopo T o F nelle produzioni\n",
    "#\n",
    "# E′ -> + T\n",
    "# F′ -> * F \n",
    "#\n",
    "\n",
    "G = Grammar.from_string(\"\"\"\n",
    "E -> T E′\n",
    "E′ -> + T E′| ε\n",
    "T -> F F′\n",
    "F′ -> * F F′ | ε\n",
    "F -> ( E ) | i\n",
    "\"\"\")"
   ]
  },
  {
   "cell_type": "code",
   "execution_count": null,
   "metadata": {},
   "outputs": [],
   "source": [
    "FF, TABLE = fft(G) "
   ]
  },
  {
   "cell_type": "code",
   "execution_count": null,
   "metadata": {},
   "outputs": [],
   "source": [
    "TABLE"
   ]
  },
  {
   "cell_type": "code",
   "execution_count": null,
   "metadata": {},
   "outputs": [],
   "source": [
    "ProductionGraph(parse(G, TABLE, 'i + i + i'.split()))"
   ]
  }
 ],
 "metadata": {
  "kernelspec": {
   "display_name": "Python 3 (ipykernel)",
   "language": "python",
   "name": "python3"
  },
  "language_info": {
   "codemirror_mode": {
    "name": "ipython",
    "version": 3
   },
   "file_extension": ".py",
   "mimetype": "text/x-python",
   "name": "python",
   "nbconvert_exporter": "python",
   "pygments_lexer": "ipython3",
   "version": "3.10.6"
  },
  "varInspector": {
   "cols": {
    "lenName": 16,
    "lenType": 16,
    "lenVar": 40
   },
   "kernels_config": {
    "python": {
     "delete_cmd_postfix": "",
     "delete_cmd_prefix": "del ",
     "library": "var_list.py",
     "varRefreshCmd": "print(var_dic_list())"
    },
    "r": {
     "delete_cmd_postfix": ") ",
     "delete_cmd_prefix": "rm(",
     "library": "var_list.r",
     "varRefreshCmd": "cat(var_dic_list()) "
    }
   },
   "types_to_exclude": [
    "module",
    "function",
    "builtin_function_or_method",
    "instance",
    "_Feature"
   ],
   "window_display": false
  }
 },
 "nbformat": 4,
 "nbformat_minor": 4
}
