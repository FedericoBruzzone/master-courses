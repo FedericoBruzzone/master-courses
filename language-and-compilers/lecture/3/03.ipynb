{
  "cells": [
    {
      "cell_type": "markdown",
      "metadata": {},
      "source": [
        "# Grammatiche come generatori"
      ]
    },
    {
      "cell_type": "code",
      "execution_count": null,
      "metadata": {},
      "outputs": [],
      "source": [
        "import os\n",
        "os.environ[\"ANTLR4_JAR\"] = \"/home/federicobruzzoneplasma/Documents/FedericoBruzzone/master-courses/linguaggi-e-traduttori/lecture/jars/antlr-4.12.0-complete.jar\"\n",
        "from pprint import pprint as p"
      ]
    },
    {
      "cell_type": "code",
      "execution_count": null,
      "metadata": {},
      "outputs": [],
      "source": [
        "from liblet import Grammar, Derivation, ProductionGraph"
      ]
    },
    {
      "cell_type": "markdown",
      "metadata": {},
      "source": [
        "## Tipo 0"
      ]
    },
    {
      "cell_type": "code",
      "execution_count": null,
      "metadata": {},
      "outputs": [],
      "source": [
        "# fig 2.3, pag. 14\n",
        "\n",
        "grammar = \"\"\"\n",
        "Sentence -> Name | List End\n",
        "List -> Name | Name , List\n",
        "Name -> tom | dick | harry\n",
        ", Name End -> and Name\n",
        "\"\"\""
      ]
    },
    {
      "cell_type": "markdown",
      "metadata": {},
      "source": [
        "Tramite [liblet](https://liblet.readthedocs.io/) si può costruire una [grammatica](https://liblet.readthedocs.io/en/latest/api.html#liblet.grammar.Grammar) a partire da una descrizione testuale tramite [Grammar.from_string](https://liblet.readthedocs.io/en/latest/api.html#liblet.grammar.Grammar.from_string)"
      ]
    },
    {
      "cell_type": "code",
      "execution_count": null,
      "metadata": {},
      "outputs": [],
      "source": [
        "G = Grammar.from_string(grammar, False)\n",
        "p(G)"
      ]
    },
    {
      "cell_type": "code",
      "execution_count": null,
      "metadata": {},
      "outputs": [],
      "source": [
        "# Elenco (numerato) delle produzioni\n",
        "\n",
        "G.P"
      ]
    },
    {
      "cell_type": "markdown",
      "metadata": {},
      "source": [
        "Fissata la grammatica, si può costruire una [derivazione](https://liblet.readthedocs.io/en/latest/api.html#liblet.grammar.Derivation) specificandone in passi, con [Derivation.step](https://liblet.readthedocs.io/en/latest/api.html#liblet.grammar.Derivation.step)"
      ]
    },
    {
      "cell_type": "code",
      "execution_count": null,
      "metadata": {},
      "outputs": [],
      "source": [
        "# costruzione di una derivazione\n",
        "\n",
        "d = Derivation(G)\n",
        "d"
      ]
    },
    {
      "cell_type": "code",
      "execution_count": null,
      "metadata": {},
      "outputs": [],
      "source": [
        "# i prossimi passi possibili\n",
        "\n",
        "list(d.possible_steps())"
      ]
    },
    {
      "cell_type": "code",
      "execution_count": null,
      "metadata": {},
      "outputs": [],
      "source": [
        "# ne applico uno\n",
        "\n",
        "d = d.step(1, 0)\n",
        "d"
      ]
    },
    {
      "cell_type": "code",
      "execution_count": null,
      "metadata": {},
      "outputs": [],
      "source": [
        "# se volgio solo la forma sentenziale\n",
        "\n",
        "d.sentential_form()"
      ]
    },
    {
      "cell_type": "code",
      "execution_count": null,
      "metadata": {},
      "outputs": [],
      "source": [
        "# procedo con altri passi… \n",
        "\n",
        "d = d.step(3, 0)\n",
        "d"
      ]
    },
    {
      "cell_type": "code",
      "execution_count": null,
      "metadata": {},
      "outputs": [],
      "source": [
        "d = d.step(3, 2)\n",
        "d"
      ]
    },
    {
      "cell_type": "code",
      "execution_count": null,
      "metadata": {},
      "outputs": [],
      "source": [
        "d = (\n",
        "  d.step(2, 4)\n",
        "   .step(7, 3)\n",
        "   .step(4, 0)\n",
        "   .step(5, 2)\n",
        "   .step(6, 4)\n",
        ")"
      ]
    },
    {
      "cell_type": "code",
      "execution_count": null,
      "metadata": {},
      "outputs": [],
      "source": [
        "d"
      ]
    },
    {
      "cell_type": "code",
      "execution_count": null,
      "metadata": {},
      "outputs": [],
      "source": [
        "set(d.sentential_form()) <= G.T"
      ]
    },
    {
      "cell_type": "markdown",
      "metadata": {},
      "source": [
        "Sebbene la rappresentazione testuale della derivazione sia piuttosto chiara, può aiutare averne una rappresentazione garfica, tramite un [ProductionGraph](https://liblet.readthedocs.io/en/latest/api.html#liblet.display.ProductionGraph)"
      ]
    },
    {
      "cell_type": "code",
      "execution_count": null,
      "metadata": {},
      "outputs": [],
      "source": [
        "ProductionGraph(d)"
      ]
    },
    {
      "cell_type": "markdown",
      "metadata": {},
      "source": [
        "## Tipo 1\n",
        "\n",
        "### Monotone"
      ]
    },
    {
      "cell_type": "code",
      "execution_count": null,
      "metadata": {},
      "outputs": [],
      "source": [
        "# pag 20\n",
        "\n",
        "monotonic = \"\"\"\n",
        "Sentence -> Name | List\n",
        "List -> EndName | Name , List\n",
        "Name -> tom | dick | harry\n",
        ", EndName -> and Name\n",
        "\"\"\""
      ]
    },
    {
      "cell_type": "code",
      "execution_count": null,
      "metadata": {},
      "outputs": [],
      "source": [
        "G_monotonic = Grammar.from_string(monotonic, False)\n",
        "G_monotonic"
      ]
    },
    {
      "cell_type": "markdown",
      "metadata": {},
      "source": [
        "### Context-sentitive"
      ]
    },
    {
      "cell_type": "code",
      "execution_count": null,
      "metadata": {},
      "outputs": [],
      "source": [
        "# pag 20\n",
        "\n",
        "context_sensitive = \"\"\"\n",
        "Sentence -> Name | List\n",
        "List -> EndName | Name Comma List\n",
        "Name -> tom | dick | harry\n",
        "Comma EndName -> and EndName\n",
        "and EndName -> and Name\n",
        "Comma -> ,\n",
        "\"\"\""
      ]
    },
    {
      "cell_type": "code",
      "execution_count": null,
      "metadata": {},
      "outputs": [],
      "source": [
        "G_cs = Grammar.from_string(context_sensitive, False)\n",
        "G_cs"
      ]
    },
    {
      "cell_type": "code",
      "execution_count": null,
      "metadata": {},
      "outputs": [],
      "source": [
        "G_cs.P"
      ]
    },
    {
      "cell_type": "code",
      "execution_count": null,
      "metadata": {},
      "outputs": [],
      "source": [
        "steps = (1, 0), (3, 0), (3, 2), (2, 4), (7, 3), (8, 3), (4, 0), (5, 2), (6, 4), (9, 1)\n",
        "\n",
        "d = Derivation(G_cs).step(steps)\n",
        "\n",
        "ProductionGraph(d)"
      ]
    },
    {
      "cell_type": "markdown",
      "metadata": {},
      "source": [
        "## Tipo 2 (Context-free)"
      ]
    },
    {
      "cell_type": "code",
      "execution_count": null,
      "metadata": {},
      "outputs": [],
      "source": [
        "# pag 23\n",
        "\n",
        "context_free = \"\"\"\n",
        "Sentence -> Name | List and Name\n",
        "List -> Name , List | Name\n",
        "Name -> tom | dick | harry\n",
        "\"\"\""
      ]
    },
    {
      "cell_type": "code",
      "execution_count": null,
      "metadata": {},
      "outputs": [],
      "source": [
        "steps = (1, 0), (2, 0), (3, 2), (4, 0), (5, 2), (6, 4)\n",
        "\n",
        "G_cf = Grammar.from_string(context_free) # non c'è più il False\n",
        "\n",
        "d = Derivation(G_cf).step(steps)\n",
        "\n",
        "ProductionGraph(d) # finalmente un albero!"
      ]
    },
    {
      "cell_type": "markdown",
      "metadata": {},
      "source": [
        "## Tipo 3 (Regolari)"
      ]
    },
    {
      "cell_type": "code",
      "execution_count": null,
      "metadata": {},
      "outputs": [],
      "source": [
        "# fig. 2.14, pag. 31\n",
        "\n",
        "regular = \"\"\"\n",
        "Sentence -> tom | dick | harry | List\n",
        "List -> tom ListTail | dick ListTail | harry ListTail\n",
        "ListTail -> , List | and tom | and dick | and henry\n",
        "\"\"\"\n",
        "\n",
        "regular_strict = \"\"\"\n",
        "Sentence -> tom | dick | harry | List\n",
        "List -> tom ListTail | dick ListTail | harry ListTail\n",
        "ListTail -> , List | and Tom | and Dick | and Henry\n",
        "Tom -> tom\n",
        "Dick -> dick\n",
        "Henry -> henry\n",
        "\"\"\""
      ]
    },
    {
      "cell_type": "code",
      "execution_count": null,
      "metadata": {},
      "outputs": [],
      "source": [
        "G_regular = Grammar.from_string(regular_strict)\n",
        "\n",
        "steps = (3, 0), (4, 0), (7, 1), (5, 2), (10, 3), (13, 4)\n",
        "\n",
        "d = Derivation(G_regular).step(steps)\n",
        "\n",
        "ProductionGraph(d) # una \"lista\""
      ]
    },
    {
      "cell_type": "markdown",
      "metadata": {},
      "source": [
        "## Generare le parole"
      ]
    },
    {
      "cell_type": "code",
      "execution_count": null,
      "metadata": {},
      "outputs": [],
      "source": [
        "from liblet import Queue"
      ]
    },
    {
      "cell_type": "code",
      "execution_count": null,
      "metadata": {},
      "outputs": [],
      "source": [
        "# compie max_step passi di visita in ampiezza del grafo\n",
        "# implicito delle derivazioni, restituendo l'eneco di derivazioni\n",
        "# che contucono ad una forma sentenziale composta solo di terminali\n",
        "\n",
        "def produce(G, max_steps = 1):\n",
        "    Q = Queue([Derivation(G)])\n",
        "    D = [] \n",
        "    step = 0\n",
        "    while Q:\n",
        "        if step > max_steps: break\n",
        "        step += 1\n",
        "        derivation = Q.dequeue()\n",
        "        if set(derivation.sentential_form()) <= G.T: \n",
        "            D.append(derivation)\n",
        "        else:\n",
        "          for prod, pos in derivation.possible_steps():\n",
        "              Q.enqueue(derivation.step(prod, pos))\n",
        "    return D"
      ]
    },
    {
      "cell_type": "code",
      "execution_count": null,
      "metadata": {},
      "outputs": [],
      "source": [
        "# la grammatica dell'esercizio facoltativo\n",
        "\n",
        "G = Grammar.from_string(\"\"\"\n",
        "S -> a b c\n",
        "S -> a S Q\n",
        "b Q c -> b b c c\n",
        "c Q -> Q c\n",
        "\"\"\", False)"
      ]
    },
    {
      "cell_type": "code",
      "execution_count": null,
      "metadata": {},
      "outputs": [],
      "source": [
        "# 10k passi per 42 derivazioni!\n",
        "\n",
        "deriv = produce(G, 10_000)\n",
        "len(deriv)"
      ]
    },
    {
      "cell_type": "code",
      "execution_count": null,
      "metadata": {},
      "outputs": [],
      "source": [
        "# ma solo 5 parole distinte (come mai?)\n",
        "\n",
        "words = set(''.join(d.sentential_form()) for d in deriv)\n",
        "len(words)"
      ]
    }
  ],
  "metadata": {
    "kernelspec": {
      "display_name": "Python 3",
      "language": "python",
      "name": "python3"
    },
    "language_info": {
      "codemirror_mode": {
        "name": "ipython",
        "version": 3
      },
      "file_extension": ".py",
      "mimetype": "text/x-python",
      "name": "python",
      "nbconvert_exporter": "python",
      "pygments_lexer": "ipython3",
      "version": "3.10.6"
    },
    "vscode": {
      "interpreter": {
        "hash": "949777d72b0d2535278d3dc13498b2535136f6dfe0678499012e853ee9abcab1"
      }
    }
  },
  "nbformat": 4,
  "nbformat_minor": 4
}
