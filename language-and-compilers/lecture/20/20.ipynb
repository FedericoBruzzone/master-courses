{
 "cells": [
  {
   "attachments": {},
   "cell_type": "markdown",
   "metadata": {},
   "source": [
    "# Lezione 20"
   ]
  },
  {
   "cell_type": "code",
   "execution_count": null,
   "metadata": {},
   "outputs": [],
   "source": [
    "from textwrap import indent\n",
    "\n",
    "from liblet import ANTLR, Stack, Tree, AnnotatedTreeWalker"
   ]
  },
  {
   "cell_type": "code",
   "execution_count": null,
   "metadata": {},
   "outputs": [],
   "source": [
    "! rm -f symboltable.py"
   ]
  },
  {
   "attachments": {},
   "cell_type": "markdown",
   "metadata": {},
   "source": [
    "## Un linguaggio con scoping di blocco\n",
    "\n",
    "Aggiungiamo a `SimpleLang` la nozione di *blocco* e assumiamo che lo *scoping* sia per blocco, come ad esempio in Java, o C."
   ]
  },
  {
   "cell_type": "code",
   "execution_count": null,
   "metadata": {},
   "outputs": [],
   "source": [
    "SimpleBlockLang = ANTLR(r\"\"\"grammar SimpleBlockLang;\n",
    "\n",
    "program: stat+ EOF;\n",
    "\n",
    "block: '{' stat* '}' ;\n",
    "\n",
    "expr: '!' expr            #notExpr\n",
    "    | expr '*' expr       #prodExpr\n",
    "    | expr ('+'|'-') expr #addSubExpr\n",
    "    | expr '==' expr      #equalityExpr\n",
    "    | ID                  #varRefExpr\n",
    "    | INT                 #intExpr\n",
    "    | '(' expr ')'        #subExpr\n",
    "    ;\n",
    "\n",
    "stat: block                                 #blockStat\n",
    "    | 'var' ID ('=' expr)? ';'              #varDeclStat\n",
    "    | 'if' expr 'then' stat ('else' stat)?  #ifElseStat\n",
    "    | 'repeat' expr 'times' stat            #repeatStat\n",
    "    | ID '=' expr ';'                       #assignementStat\n",
    "    ;\n",
    "\n",
    "ID: LETTER (LETTER | [0-9])* ;\n",
    "INT: [0-9]+ ;\n",
    "WS: [ \\t\\n\\r]+ -> skip ;\n",
    "fragment\n",
    "LETTER : [a-zA-Z] ;\n",
    "\"\"\")"
   ]
  },
  {
   "cell_type": "code",
   "execution_count": null,
   "metadata": {},
   "outputs": [],
   "source": [
    "SimpleBlockLang.save('SimpleBlockLang.g') # salvato per una prossima lezione"
   ]
  },
  {
   "cell_type": "code",
   "execution_count": null,
   "metadata": {},
   "outputs": [],
   "source": [
    "source = r\"\"\"\n",
    "var n = 0;\n",
    "var somma = 0;\n",
    "if INPUT0 == 3 then \n",
    "  OUTPUT = 1;\n",
    "else {\n",
    "  repeat INPUT0 times {\n",
    "    {var n = 3;}\n",
    "    n = n + 1;\n",
    "    somma = somma + n;\n",
    "  }\n",
    "  OUTPUT = somma;\n",
    "}\n",
    "\"\"\""
   ]
  },
  {
   "attachments": {},
   "cell_type": "markdown",
   "metadata": {},
   "source": [
    "### Costruzione dell'AST\n",
    "\n",
    "Partiamo dalla costruzione ottenuta con `simple2ast`"
   ]
  },
  {
   "cell_type": "code",
   "execution_count": null,
   "metadata": {},
   "outputs": [],
   "source": [
    "# recuperato dalla scorsa lezione\n",
    "\n",
    "simpleBlock2ast = AnnotatedTreeWalker.load('simple2ast.atw') "
   ]
  },
  {
   "attachments": {},
   "cell_type": "markdown",
   "metadata": {},
   "source": [
    "Va aggiunto il caso della regola `blockStat`"
   ]
  },
  {
   "cell_type": "code",
   "execution_count": null,
   "metadata": {},
   "outputs": [],
   "source": [
    "@simpleBlock2ast.register\n",
    "def blockStat(visit, ptree):\n",
    "  _, *stats, _ = ptree.children[0].children\n",
    "  return Tree({'type': 'blockStat'}, [visit(stat) for stat in stats])"
   ]
  },
  {
   "attachments": {},
   "cell_type": "markdown",
   "metadata": {},
   "source": [
    "e vanno modificati quelli delle regole `ifElseStat` (che ora si può gestire generando due tipo di nodo diverso nell'AST ed evitando l'orrore dell'attributo `elsePos`) e `repeatStat`."
   ]
  },
  {
   "cell_type": "code",
   "execution_count": null,
   "metadata": {},
   "outputs": [],
   "source": [
    "@simpleBlock2ast.register\n",
    "def ifElseStat(visit, ptree):\n",
    "  if len(ptree.children) == 6:\n",
    "    _, cond, _, true, _, false = ptree.children\n",
    "    return Tree({'type': 'ifElseStat'}, [visit(cond), visit(true), visit(false)])\n",
    "  else:\n",
    "    _, cond, _, true = ptree.children\n",
    "    return Tree({'type': 'ifStat'}, [visit(cond), visit(true)])\n",
    "\n",
    "@simpleBlock2ast.register\n",
    "def repeatStat(visit, ptree):\n",
    "  _, count, _, stat = ptree.children\n",
    "  return Tree({'type': 'repeatStat'}, [visit(count), visit(stat)])"
   ]
  },
  {
   "cell_type": "code",
   "execution_count": null,
   "metadata": {},
   "outputs": [],
   "source": [
    "simpleBlock2ast.save('simpleBlock2ast.atw')"
   ]
  },
  {
   "attachments": {},
   "cell_type": "markdown",
   "metadata": {},
   "source": [
    "Sul sorgente di cui sopra…"
   ]
  },
  {
   "cell_type": "code",
   "execution_count": null,
   "metadata": {},
   "outputs": [],
   "source": [
    "ast = simpleBlock2ast(SimpleBlockLang.tree(source, 'program'))\n",
    "ast"
   ]
  },
  {
   "attachments": {},
   "cell_type": "markdown",
   "metadata": {},
   "source": [
    "### Verso Python\n",
    "\n",
    "Volendo transpilare questo AST in una stringa Python resta da risolvere la questione che Python non supporta lo scoping di blocco; per questa ragione mapperemo ogni variabile di blocco del linguaggio di partenza in una nuova variabile globale Python.\n",
    "\n",
    "Abbiamo bisogno di una mappa tra variabili di blocco e globali. A tale scopo useremo una *symbol table*"
   ]
  },
  {
   "attachments": {},
   "cell_type": "markdown",
   "metadata": {},
   "source": [
    "## Symbol table \n",
    "\n",
    "Consideriamo un paio di implementaioni seguendo il capitolo 3 di ICD.\n",
    "\n",
    "Iniziamo dal caso \"immutabile\" (che il testo chiama \"persistente\"). L'implementazione è data da una **funzione** in grado di reperire l'informazione associata al dato simbolo."
   ]
  },
  {
   "cell_type": "code",
   "execution_count": null,
   "metadata": {},
   "outputs": [],
   "source": [
    "def empty():\n",
    "  def _lookup(needle):\n",
    "    raise ValueError(f'Symbol {needle} not found')\n",
    "  return _lookup\n",
    "\n",
    "def bind(symbol_table, symbol, info):\n",
    "  def _lookup(needle):\n",
    "    if needle == symbol: return info\n",
    "    return lookup(symbol_table, needle)\n",
    "  return _lookup\n",
    "\n",
    "def lookup(symbol_table, needle):\n",
    "  return symbol_table(needle)\n",
    "\n",
    "# enter e exit sono risolte mantenendo riferimenti alle symbol-table "
   ]
  },
  {
   "cell_type": "code",
   "execution_count": null,
   "metadata": {},
   "outputs": [],
   "source": [
    "ST = empty()\n",
    "ST = bind(ST, 'x', 'global')\n",
    "ST = bind(ST, 'y', 'global')\n",
    "\n",
    "# enter\n",
    "OLD = ST\n",
    "ST = bind(ST, 'x', 'block')\n",
    "print('x', lookup(ST, 'x'))\n",
    "print('y', lookup(ST, 'y'))\n",
    "\n",
    "# exit\n",
    "ST = OLD\n",
    "print('x', lookup(ST, 'x'))"
   ]
  },
  {
   "attachments": {},
   "cell_type": "markdown",
   "metadata": {},
   "source": [
    "Passiamo ora all'implementazione che il testo chiama \"imperativa\", basata su una **pila**."
   ]
  },
  {
   "cell_type": "code",
   "execution_count": null,
   "metadata": {},
   "outputs": [],
   "source": [
    "def empty():\n",
    "  return Stack()\n",
    "\n",
    "def bind(symbol_table, symbol, info):\n",
    "  symbol_table.push((symbol, info))\n",
    "\n",
    "def lookup(symbol_table, needle):\n",
    "  for haystack, info in reversed(symbol_table):\n",
    "    if haystack == needle: return info\n",
    "  else:\n",
    "    raise ValueError(f'Symbol {needle} not found')\n",
    "\n",
    "def enter(symbol_table):\n",
    "  symbol_table.push((None, None))\n",
    "\n",
    "def exit(symbol_table):\n",
    "  while symbol_table and symbol_table.peek() != (None, None):\n",
    "    symbol_table.pop()"
   ]
  },
  {
   "cell_type": "code",
   "execution_count": null,
   "metadata": {},
   "outputs": [],
   "source": [
    "ST = empty()\n",
    "bind(ST, 'x', 'global')\n",
    "bind(ST, 'y', 'global')\n",
    "\n",
    "enter(ST)\n",
    "bind(ST, 'x', 'block')\n",
    "print('x', lookup(ST, 'x'))\n",
    "print('y', lookup(ST, 'y'))\n",
    "\n",
    "exit(ST)\n",
    "print('x', lookup(ST, 'x'))"
   ]
  },
  {
   "attachments": {},
   "cell_type": "markdown",
   "metadata": {},
   "source": [
    "Per finire, consideriamo l'implementazione che useremo qui e nel seguito del corso, basata su un **albero di dizionari**."
   ]
  },
  {
   "cell_type": "code",
   "execution_count": null,
   "metadata": {},
   "outputs": [],
   "source": [
    "class SymbolTable:\n",
    "\n",
    "  def __init__(self, parent = None):\n",
    "    self.parent = parent\n",
    "    self.symbol2info = {}\n",
    "\n",
    "  def bind(self, symbol, info):\n",
    "    self.symbol2info[symbol] = info\n",
    "\n",
    "  def lookup(self, symbol):\n",
    "    if symbol in self.symbol2info: return self.symbol2info[symbol]\n",
    "    if self.parent: return self.parent.lookup(symbol)\n",
    "    raise ValueError(f'Symbol {symbol} not found')\n",
    "\n",
    "  def enter(self):\n",
    "    return SymbolTable(self)\n",
    "\n",
    "  def exit(self):\n",
    "    if self.parent is None: raise ValueError('No containing SymbolTable')\n",
    "    return self.parent\n",
    "\n",
    "  def __repr__(self):\n",
    "    def _id(x): return '…' + str(id(x))[-3:]\n",
    "    ids = [_id(self)] + ([_id(self.parent)] if self.parent else [])\n",
    "    return f'SymbolTable({\", \".join(ids)})'"
   ]
  },
  {
   "cell_type": "code",
   "execution_count": null,
   "metadata": {},
   "outputs": [],
   "source": [
    "%history -l 1 -f symboltable.py # salvo il codice precedente"
   ]
  },
  {
   "cell_type": "code",
   "execution_count": null,
   "metadata": {},
   "outputs": [],
   "source": [
    "ST = SymbolTable()\n",
    "print(ST)\n",
    "ST.bind('x', 'global')\n",
    "ST.bind('y', 'global')\n",
    "\n",
    "ST = ST.enter()\n",
    "print(ST)\n",
    "ST.bind('x', 'block')\n",
    "print('x', ST.lookup('x'))\n",
    "print('y', ST.lookup('y'))\n",
    "\n",
    "ST = ST.exit()\n",
    "print(ST)\n",
    "print('x', ST.lookup('x'))"
   ]
  },
  {
   "attachments": {},
   "cell_type": "markdown",
   "metadata": {},
   "source": [
    "## Decoriamo l'AST con la Symbol Table\n",
    "\n",
    "Nella *symbol table* memorizziamo per ogni variabile il suo nome \"protetto\" ossia prefissato da un identificatore unico ottenuto \"numerando\" gli identificatori man mano che vengono trovati nell'AST."
   ]
  },
  {
   "cell_type": "code",
   "execution_count": null,
   "metadata": {},
   "outputs": [],
   "source": [
    "def addScopeST(ast, st):\n",
    "  global NUM_VARS\n",
    "  \n",
    "  if ast.attr.type == 'blockStat': \n",
    "    st = st.enter()\n",
    "  elif ast.attr.type in {'varDeclStat', 'varDeclInitStat'}:\n",
    "    st.bind(ast.attr.varName, f'I_{NUM_VARS}')\n",
    "    NUM_VARS += 1\n",
    "  ast.attr._st = st\n",
    "  for child in ast.children: addScopeST(child, st)"
   ]
  },
  {
   "attachments": {},
   "cell_type": "markdown",
   "metadata": {},
   "source": [
    "Sempre sul sorgete di cui sopra…"
   ]
  },
  {
   "cell_type": "code",
   "execution_count": null,
   "metadata": {},
   "outputs": [],
   "source": [
    "ST = SymbolTable()\n",
    "NUM_VARS = 0\n",
    "addScopeST(ast, ST)\n",
    "ast"
   ]
  },
  {
   "attachments": {},
   "cell_type": "markdown",
   "metadata": {},
   "source": [
    "## Transpilazione verso Python (come stringa)\n",
    "\n",
    "Usiamo la solita tecnica… "
   ]
  },
  {
   "cell_type": "code",
   "execution_count": null,
   "metadata": {},
   "outputs": [],
   "source": [
    "simple2pystr = AnnotatedTreeWalker('type')"
   ]
  },
  {
   "attachments": {},
   "cell_type": "markdown",
   "metadata": {},
   "source": [
    "Per prima cosa occupiamoci di \"tradurre\" i nomi originali delle variabili nei nomi \"protetti\""
   ]
  },
  {
   "cell_type": "code",
   "execution_count": null,
   "metadata": {},
   "outputs": [],
   "source": [
    "def getPyName(atree):\n",
    "  varName = atree.attr.varName\n",
    "  if varName.startswith('INPUT') or varName == 'OUTPUT': return varName\n",
    "  return atree.attr._st.lookup(varName)"
   ]
  },
  {
   "attachments": {},
   "cell_type": "markdown",
   "metadata": {},
   "source": [
    "Questo riguarda ovviamente tutti i tipi di nodo che hanno a che fare con le variabili (dichiarazione, uso e assegnamento)"
   ]
  },
  {
   "cell_type": "code",
   "execution_count": null,
   "metadata": {},
   "outputs": [],
   "source": [
    "@simple2pystr.register\n",
    "def varDeclStat(visit, atree):\n",
    "  return f'{getPyName(atree)} = 0'\n",
    "\n",
    "@simple2pystr.register\n",
    "def varDeclInitStat(visit, atree):\n",
    "  return f'{getPyName(atree)} = {visit(atree.children[0])}'\n",
    "\n",
    "@simple2pystr.register\n",
    "def varRefExpr(visit, atree):\n",
    "  return getPyName(atree)\n",
    "\n",
    "@simple2pystr.register\n",
    "def assignementStat(visit, atree):\n",
    "  return f'{getPyName(atree)} = {visit(atree.children[0])}'"
   ]
  },
  {
   "attachments": {},
   "cell_type": "markdown",
   "metadata": {},
   "source": [
    "Per il resto dei tipi dei nodi, la traduzione è banale…"
   ]
  },
  {
   "cell_type": "code",
   "execution_count": null,
   "metadata": {},
   "outputs": [],
   "source": [
    "def addtab(src): return indent(src, '\\t')\n",
    "\n",
    "@simple2pystr.register\n",
    "def intExpr(visit, atree):\n",
    "  return str(atree.attr.value)\n",
    "\n",
    "@simple2pystr.register\n",
    "def addSubExpr(visit, atree):\n",
    "  left, right = atree.children\n",
    "  return f'{visit(left)} {atree.attr.op} {visit(right)}'\n",
    "\n",
    "@simple2pystr.register\n",
    "def equalityExpr(visit, atree):\n",
    "  left, right = atree.children\n",
    "  return f'{visit(left)} {atree.attr.op} {visit(right)}'\n",
    "\n",
    "@simple2pystr.register\n",
    "def ifStat(visit, atree):\n",
    "  cond, true = atree.children\n",
    "  return f'if {visit(cond)}:\\n{addtab(visit(true))}' \n",
    "\n",
    "@simple2pystr.register\n",
    "def ifElseStat(visit, atree):\n",
    "  cond, true, false = atree.children\n",
    "  return f'if {visit(cond)}:\\n{addtab(visit(true))}\\nelse:\\n{addtab(visit(false))}' \n",
    "\n",
    "@simple2pystr.register\n",
    "def repeatStat(visit, atree):\n",
    "  count, stat = atree.children\n",
    "  return f'for rv in range({visit(count)}): \\n{addtab(visit(stat))}' \n",
    "\n",
    "@simple2pystr.register\n",
    "def program(visit, atree):\n",
    "  return '\\n'.join(visit(child) for child in atree.children)\n",
    "\n",
    "@simple2pystr.register\n",
    "def blockStat(visit, atree):\n",
    "  return '\\n'.join(visit(child) for child in atree.children)"
   ]
  },
  {
   "attachments": {},
   "cell_type": "markdown",
   "metadata": {},
   "source": [
    "Facciamo un esempio sul codice sorgente di cui sopra"
   ]
  },
  {
   "cell_type": "code",
   "execution_count": null,
   "metadata": {},
   "outputs": [],
   "source": [
    "code = simple2pystr(ast)\n",
    "print(source) \n",
    "print(\"=\" * 10)\n",
    "print(code)"
   ]
  },
  {
   "attachments": {},
   "cell_type": "markdown",
   "metadata": {},
   "source": [
    "Eseguiamolo con `exec` (con 10 e 3 proviamo i due rami dell'`if` esterno)"
   ]
  },
  {
   "cell_type": "code",
   "execution_count": null,
   "metadata": {},
   "outputs": [],
   "source": [
    "INPUT0 = 10\n",
    "exec(code)\n",
    "print(OUTPUT)"
   ]
  },
  {
   "cell_type": "code",
   "execution_count": null,
   "metadata": {},
   "outputs": [],
   "source": [
    "INPUT0 = 3\n",
    "exec(code)\n",
    "print(OUTPUT)"
   ]
  },
  {
   "attachments": {},
   "cell_type": "markdown",
   "metadata": {},
   "source": [
    "### Repeat annidati\n",
    "\n",
    "Funzionano, anche usando la stessa variabile Pytnon…"
   ]
  },
  {
   "cell_type": "code",
   "execution_count": null,
   "metadata": {},
   "outputs": [],
   "source": [
    "source = r\"\"\"\n",
    "var n = 0;\n",
    "repeat 3 times\n",
    "  repeat 2 times\n",
    "    n = n + 1;\n",
    "OUTPUT = n;\n",
    "\"\"\""
   ]
  },
  {
   "cell_type": "code",
   "execution_count": null,
   "metadata": {},
   "outputs": [],
   "source": [
    "ast = simpleBlock2ast(SimpleBlockLang.tree(source, 'program'))\n",
    "ST = SymbolTable()\n",
    "NUM_VARS = 0\n",
    "addScopeST(ast, ST)\n",
    "code = simple2pystr(ast)\n",
    "print(code)"
   ]
  },
  {
   "cell_type": "code",
   "execution_count": null,
   "metadata": {},
   "outputs": [],
   "source": [
    "exec(code)\n",
    "OUTPUT"
   ]
  }
 ],
 "metadata": {
  "interpreter": {
   "hash": "e1004562009730290f42c30a7c24060925c35420ba84516473ad07a3f1950c5d"
  },
  "kernelspec": {
   "display_name": "Python 3.8.10 ('named-let-liblet')",
   "language": "python",
   "name": "python3"
  },
  "language_info": {
   "codemirror_mode": {
    "name": "ipython",
    "version": 3
   },
   "file_extension": ".py",
   "mimetype": "text/x-python",
   "name": "python",
   "nbconvert_exporter": "python",
   "pygments_lexer": "ipython3"
  }
 },
 "nbformat": 4,
 "nbformat_minor": 2
}
