{
  "cells": [
    {
      "cell_type": "markdown",
      "metadata": {},
      "source": [
        "# Strutture dati ed algoritmi\n",
        "\n",
        "## Alberi\n",
        "\n",
        "La rappresentazione più comune che sarà adoperata per il corso per gli alberi $n$-ari sono le *lol* (liste di liste)"
      ]
    },
    {
      "cell_type": "code",
      "execution_count": null,
      "metadata": {},
      "outputs": [],
      "source": [
        "import os\n",
        "os.environ[\"ANTLR4_JAR\"] = \"/home/federicobruzzoneplasma/Documents/FedericoBruzzone/master-courses/linguaggi-e-traduttori/lecture/jars/antlr-4.12.0-complete.jar\"\n"
      ]
    },
    {
      "cell_type": "code",
      "execution_count": null,
      "metadata": {},
      "outputs": [],
      "source": [
        "# [radice] \n",
        "# [radice alberi…]\n",
        "\n",
        "tree = [1, [11], [12, [121], [122]], [13]]"
      ]
    },
    {
      "cell_type": "markdown",
      "metadata": {},
      "source": [
        "Accedere a radice e figli con l'[iterable unpacking](https://docs.python.org/3/reference/expressions.html?highlight=iterable+unpacking#expression-lists)…"
      ]
    },
    {
      "cell_type": "code",
      "execution_count": null,
      "metadata": {},
      "outputs": [],
      "source": [
        "root, *children = tree"
      ]
    },
    {
      "cell_type": "code",
      "execution_count": null,
      "metadata": {},
      "outputs": [],
      "source": [
        "# uso di liblet per ottenre una rappresentazione grafica \n",
        "\n",
        "from liblet import Tree\n",
        "\n",
        "t = Tree.from_lol(tree)\n",
        "t"
      ]
    },
    {
      "cell_type": "markdown",
      "metadata": {},
      "source": [
        "### Visite\n",
        "\n",
        "* preordine, \n",
        "* postordine, \n",
        "* per livello."
      ]
    },
    {
      "cell_type": "code",
      "execution_count": null,
      "metadata": {},
      "outputs": [],
      "source": [
        "def preorder(tree, visitor):\n",
        "  root, *children = tree\n",
        "  visitor(root)\n",
        "  for st in children: preorder(st, visitor)\n",
        "\n",
        "t"
      ]
    },
    {
      "cell_type": "code",
      "execution_count": null,
      "metadata": {},
      "outputs": [],
      "source": [
        "preorder(tree, print)"
      ]
    },
    {
      "cell_type": "code",
      "execution_count": null,
      "metadata": {},
      "outputs": [],
      "source": [
        "def postorder(tree, visitor):\n",
        "  root, *children = tree\n",
        "  for st in children: postorder(st, visitor)\n",
        "  visitor(root)\n",
        "\n",
        "t"
      ]
    },
    {
      "cell_type": "code",
      "execution_count": null,
      "metadata": {},
      "outputs": [],
      "source": [
        "postorder(tree, print)"
      ]
    },
    {
      "cell_type": "code",
      "execution_count": null,
      "metadata": {},
      "outputs": [],
      "source": [
        "from liblet import Queue\n",
        "\n",
        "def levelorder(tree, visitor):\n",
        "\n",
        "  Q = Queue()\n",
        "\n",
        "  Q.enqueue(tree)\n",
        "  while Q:\n",
        "    tree = Q.dequeue()\n",
        "    root, *children = tree\n",
        "    visitor(root)\n",
        "    for child in children: Q.enqueue(child)\n",
        "\n",
        "t"
      ]
    },
    {
      "cell_type": "code",
      "execution_count": null,
      "metadata": {},
      "outputs": [],
      "source": [
        "levelorder(tree, print)"
      ]
    },
    {
      "attachments": {},
      "cell_type": "markdown",
      "metadata": {},
      "source": [
        "### Alberi con attributi \n",
        "\n",
        "Per ora gli alberi avevano interi come velori dei nodi, costruiamo un albero che abbia `dict` come valori (e che conservi il valore numerico come valore della chiave `val`)."
      ]
    },
    {
      "cell_type": "code",
      "execution_count": null,
      "metadata": {},
      "outputs": [],
      "source": [
        "def add_attr(tree):\n",
        "  root, *children = tree\n",
        "  return [{'val': root}] + [add_attr(child) for child in children]"
      ]
    },
    {
      "cell_type": "code",
      "execution_count": null,
      "metadata": {},
      "outputs": [],
      "source": [
        "tree = [1, [11], [12, [121], [122]], [13]]\n",
        "\n",
        "add_attr(tree)"
      ]
    },
    {
      "cell_type": "code",
      "execution_count": null,
      "metadata": {},
      "outputs": [],
      "source": [
        "Tree.from_lol(add_attr(tree))"
      ]
    },
    {
      "cell_type": "markdown",
      "metadata": {},
      "source": [
        "#### Attributi ereditati e preorder\n",
        "\n",
        "Come vedremo più avanti, gli attributi ereditati sono attributi che i nodi dei sottoalberi ereditano dal padre; ad esempio la *profondità*."
      ]
    },
    {
      "cell_type": "code",
      "execution_count": null,
      "metadata": {},
      "outputs": [],
      "source": [
        "def add_depth(tree, parent):\n",
        "  root, *children = tree\n",
        "  root['depth'] = parent['depth'] + 1\n",
        "  for tree in children: add_depth(tree, root)"
      ]
    },
    {
      "cell_type": "code",
      "execution_count": null,
      "metadata": {},
      "outputs": [],
      "source": [
        "attr_tree = add_attr(tree)\n",
        "\n",
        "# uso il nodo fittizio {'depth': 0} come \"primo\" parent dell'albero\n",
        "\n",
        "add_depth(attr_tree, {'depth': 0}) \n",
        "\n",
        "Tree.from_lol(attr_tree)"
      ]
    },
    {
      "cell_type": "markdown",
      "metadata": {},
      "source": [
        "#### Attributi sintetizzati e postorder\n",
        "\n",
        "Gli attributi sintetizzati sono attributi che il nodo radice di un albero ricava dal valore degli attributi nei sottoalberi; ad esempio, il *massimo* valore."
      ]
    },
    {
      "cell_type": "code",
      "execution_count": null,
      "metadata": {},
      "outputs": [],
      "source": [
        "def add_max(tree):\n",
        "  root, *children = tree\n",
        "  if not children: # il massimo di una foglia è il suo valore\n",
        "    root['max'] = root['val']\n",
        "  else:\n",
        "    for child in children: add_max(child)\n",
        "    root['max'] = max(child[0]['max'] for child in children)"
      ]
    },
    {
      "cell_type": "code",
      "execution_count": null,
      "metadata": {},
      "outputs": [],
      "source": [
        "attr_tree = add_attr(tree)\n",
        "\n",
        "add_max(attr_tree) \n",
        "\n",
        "Tree.from_lol(attr_tree)"
      ]
    },
    {
      "cell_type": "markdown",
      "metadata": {},
      "source": [
        "## Grafi\n",
        "\n",
        "Per i grafi sono usuali due rappresentazioni: per *archi* (dappresentati da `tuple` di `tuple`) e tramite la relazione di *adiacenza* (rappresentata da un `dict` di `set`)."
      ]
    },
    {
      "cell_type": "code",
      "execution_count": null,
      "metadata": {},
      "outputs": [],
      "source": [
        "arcs = (\n",
        "  (1, 2), \n",
        "  (1, 4),\n",
        "  (2, 3), \n",
        "  (3, 2), \n",
        "  (3, 4), \n",
        "  (3, 5)\n",
        ")"
      ]
    },
    {
      "cell_type": "code",
      "execution_count": null,
      "metadata": {},
      "outputs": [],
      "source": [
        "from liblet import Graph\n",
        "\n",
        "g = Graph(arcs)\n",
        "g"
      ]
    },
    {
      "cell_type": "code",
      "execution_count": null,
      "metadata": {},
      "outputs": [],
      "source": [
        "# dagli archi alla mappa delle adiacenze\n",
        "\n",
        "\n",
        "# per ogni nodo n (sia s o t), adjacency[n] = set()\n",
        "\n",
        "adjacency = dict()\n",
        "for s, t in arcs:\n",
        "  adjacency[s] = set()\n",
        "  adjacency[t] = set()\n",
        "\n",
        "# aggiungo gli outlink\n",
        "\n",
        "for s, t in arcs: adjacency[s] |= {t}\n",
        "\n",
        "adjacency"
      ]
    },
    {
      "cell_type": "code",
      "execution_count": null,
      "metadata": {},
      "outputs": [],
      "source": [
        "# e viceversa \n",
        "\n",
        "for s, ts in adjacency.items():\n",
        "  for t in ts: print(s, t)"
      ]
    },
    {
      "cell_type": "markdown",
      "metadata": {},
      "source": [
        "### Visite\n",
        "\n",
        "* ampiezza,\n",
        "* profondità."
      ]
    },
    {
      "cell_type": "code",
      "execution_count": null,
      "metadata": {},
      "outputs": [],
      "source": [
        "def depthfirst(adjacency, start, visit):\n",
        "  def walk(src):\n",
        "    visit(src)\n",
        "    seen.add(src)\n",
        "    for dst in adjacency[src]:\n",
        "      if dst not in seen: \n",
        "        walk(dst)\n",
        "  seen = set()\n",
        "  walk(start)\n",
        "\n",
        "g"
      ]
    },
    {
      "cell_type": "code",
      "execution_count": null,
      "metadata": {},
      "outputs": [],
      "source": [
        "depthfirst(adjacency, 1, print)"
      ]
    },
    {
      "cell_type": "code",
      "execution_count": null,
      "metadata": {},
      "outputs": [],
      "source": [
        "def breadthfirst(adjacency, start, visit):\n",
        "\n",
        "  Q = Queue()\n",
        "\n",
        "  seen = set()\n",
        "  Q.enqueue(start)\n",
        "  while Q:\n",
        "    src = Q.dequeue()\n",
        "    visit(src)\n",
        "    seen.add(src)\n",
        "    for dst in adjacency[src]:\n",
        "      if dst not in seen:\n",
        "        Q.enqueue(dst)"
      ]
    },
    {
      "cell_type": "code",
      "execution_count": null,
      "metadata": {},
      "outputs": [],
      "source": [
        "breadthfirst(adjacency, 1, print)"
      ]
    },
    {
      "cell_type": "markdown",
      "metadata": {},
      "source": [
        "## Backtracking\n",
        "\n",
        "Il [backtracking](https://en.wikipedia.org/wiki/Backtracking) è uno schema di algoritmi ricorsivi per problemi la cui soluzione possa essere costruita incrementalmente a partire da una soluzione \"candidata\". Lo schema generale è\n",
        "\n",
        "```python\n",
        "def backtrack(candidate):\n",
        "    if reject(candidate): return\n",
        "    if accept(candidate): output(candidate)\n",
        "    s = first(candidate)\n",
        "    while s:\n",
        "        backtrack(s)\n",
        "        s = next(candidate)\n",
        "```\n",
        "\n",
        "Le funzioni `reject` e `accept` hanno l'ovvio significato di indicare, rispettivamente, se una soluzione candidata è non corretta (e non ulteriormente emendabile), oppure se costituisce una soluzione (completa). Le funzioni `first` e `next` costruiscono rispettivamente il primo e i successivi candidati a partire dal candidato corrente."
      ]
    },
    {
      "cell_type": "markdown",
      "metadata": {},
      "source": [
        "### Segmentazione di una parola"
      ]
    },
    {
      "cell_type": "code",
      "execution_count": null,
      "metadata": {},
      "outputs": [],
      "source": [
        "from urllib.request import urlopen\n",
        "\n",
        "with urlopen('https://raw.githubusercontent.com/napolux/paroleitaliane/master/paroleitaliane/60000_parole_italiane.txt') as url: \n",
        "  WORDS = {word.decode().strip().upper() for word in url if len(word) >= 3}\n",
        "\n",
        "print(len(WORDS))"
      ]
    },
    {
      "cell_type": "code",
      "execution_count": null,
      "metadata": {},
      "outputs": [],
      "source": [
        "def segmenta(segmenti, resto):\n",
        "  if segmenti and not segmenti[-1] in WORDS: return\n",
        "  if not resto: \n",
        "    print(segmenti)\n",
        "    return\n",
        "  for i in range(1, 1 + len(resto)):\n",
        "    segmenta(segmenti + [resto[:i]], resto[i:])"
      ]
    },
    {
      "cell_type": "code",
      "execution_count": null,
      "metadata": {},
      "outputs": [],
      "source": [
        "segmenta([], 'ILCORRIEREDELLASERAEDIZIONENOTTURNA')"
      ]
    },
    {
      "cell_type": "markdown",
      "metadata": {},
      "source": [
        "#### Esempi supplementari\n",
        "\n",
        "* calcolare la [densità delle soluzioni](https://gist.github.com/mapio/2c8b171110dc6a09dfd6) del [problema delle otto regine](https://en.wikipedia.org/wiki/Eight_queens_puzzle),\n",
        "\n",
        "* enumerare le [soluzioni](https://gist.github.com/mapio/967f3d8793fcab80941dc0b4f370dbeb) del gioco [Find a way](https://play.google.com/store/apps/details?id=com.zerologicgames.findaway),\n",
        "\n",
        "* trovare le [soluzioni](https://gist.github.com/mapio/33f1c381870333fe502e) del [Sudoku](https://en.wikipedia.org/wiki/Sudoku)."
      ]
    }
  ],
  "metadata": {
    "interpreter": {
      "hash": "e1004562009730290f42c30a7c24060925c35420ba84516473ad07a3f1950c5d"
    },
    "kernelspec": {
      "display_name": "Python 3.8.10 ('named-let-liblet')",
      "language": "python",
      "name": "python3"
    },
    "language_info": {
      "codemirror_mode": {
        "name": "ipython",
        "version": 3
      },
      "file_extension": ".py",
      "mimetype": "text/x-python",
      "name": "python",
      "nbconvert_exporter": "python",
      "pygments_lexer": "ipython3",
      "version": "3.10.6"
    }
  },
  "nbformat": 4,
  "nbformat_minor": 2
}
