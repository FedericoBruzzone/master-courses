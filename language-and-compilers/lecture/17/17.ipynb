{
 "cells": [
  {
   "attachments": {},
   "cell_type": "markdown",
   "metadata": {},
   "source": [
    "# Lezione 17"
   ]
  },
  {
   "cell_type": "code",
   "execution_count": null,
   "metadata": {},
   "outputs": [],
   "source": [
    "from operator import add, mul, truediv, sub\n",
    "\n",
    "from liblet import ANTLR, AnnotatedTreeWalker, Tree"
   ]
  },
  {
   "attachments": {},
   "cell_type": "markdown",
   "metadata": {},
   "source": [
    "# Dal *parse tree* all' *abstract syntax tree*\n",
    "\n",
    "Il *parse tree* è il risultato del parsing."
   ]
  },
  {
   "cell_type": "code",
   "execution_count": null,
   "metadata": {},
   "outputs": [],
   "source": [
    "LabeledExpr = ANTLR.load('LabeledExpr.g') # salvata in L15\n",
    "LabeledExpr.print_grammar()"
   ]
  },
  {
   "cell_type": "code",
   "execution_count": null,
   "metadata": {},
   "outputs": [],
   "source": [
    "# parse tree\n",
    "\n",
    "expr = '( 1 + 2 ) * 3'\n",
    "parse_tree = LabeledExpr.tree(expr, 'expr')\n",
    "parse_tree"
   ]
  },
  {
   "attachments": {},
   "cell_type": "markdown",
   "metadata": {},
   "source": [
    "l'*AST* è un albero (annotato) che descrive più fedelmente la \"semantica\" che attribuiamo al linguaggio; nel caso precedente è qualcosa del genere"
   ]
  },
  {
   "cell_type": "code",
   "execution_count": null,
   "metadata": {},
   "outputs": [],
   "source": [
    "Tree('*', [Tree('+', [Tree(1), Tree(2)]), Tree(3)])"
   ]
  },
  {
   "attachments": {},
   "cell_type": "markdown",
   "metadata": {},
   "source": [
    "## Derivazione ricorsiva (diretta)\n",
    "\n",
    "Il modo più semplice di ottenere l'AST dal parse tree è attraverso una visita ricorsiva del medesimo. In tale visita, al solito, è molto semplice decidere cosa fare per le foglie, mentre per i nodi interni ci si può affidare alla ricorsione.\n",
    "\n",
    "Ricordiamo che un *albero annotato* (nel senso di LibLeT) è un albero che ha per\n",
    "nodi dei dizionari (`dict`); inoltre, se `tree` è un albero annotato, è\n",
    "equivalmente scrivere `tree.root['key']` o `tree.attr.key` (la seconda è una\n",
    "scorciatoia messa a disposizione da LibLeT)."
   ]
  },
  {
   "cell_type": "code",
   "execution_count": null,
   "metadata": {},
   "outputs": [],
   "source": [
    "def rec_ast(tree):\n",
    "  rule_name = tree.attr.name\n",
    "  if rule_name in {'mulDiv', 'addSub'}:\n",
    "    left, op, right = tree.children\n",
    "    return Tree(\n",
    "      {'type': 'op', 'kind': op.attr.name}, \n",
    "      [rec_ast(left), rec_ast(right)]\n",
    "    )\n",
    "  elif rule_name == 'parens':\n",
    "    _, expr, _ = tree.children\n",
    "    return rec_ast(expr)\n",
    "  elif rule_name == 'int':\n",
    "    return Tree({'type': 'const', 'value': int(tree.children[0].attr.value)})\n",
    "  else:\n",
    "    return Tree({'type': '<CATCHALL>'}, [rec_ast(child) for child in tree.children]) "
   ]
  },
  {
   "cell_type": "code",
   "execution_count": null,
   "metadata": {},
   "outputs": [],
   "source": [
    "abstract_syntax_tree = rec_ast(parse_tree)\n",
    "abstract_syntax_tree"
   ]
  },
  {
   "attachments": {},
   "cell_type": "markdown",
   "metadata": {},
   "source": [
    "### <span style=\"color: red;\">Esempio facoltativo</span>: Costruzione dell'AST durante il parsing\n",
    "\n",
    "ANTLR mette a disposizione la possibilità di annotare la grammatica con delle \"azioni\" in modo tale che durante il processo stesso di parsing venga costruito l'AST.\n",
    "\n",
    "Questo approccio (che qui è mostrato per completezza) è in realtà molto discutibile perché rende la grammatica meno \"versatile\" dal momento che intruduce in essa segmenti del linguaggio del runtime scelto (in questo caso Python), fatto che rende, ad esempio, la grammatica non utilizzabile con altre runtime (ad esempio Java).\n",
    "\n",
    "L'unico possibile vantaggio di tale approccio è risparmiare memoria: l'AST è in generale più piccolo del parse tree ed inoltre, in questo modo, il parse tree non viene di fatto mai costruito esplicitamente."
   ]
  },
  {
   "cell_type": "code",
   "execution_count": null,
   "metadata": {},
   "outputs": [],
   "source": [
    "MulPordAST = ANTLR(r\"\"\"\n",
    "grammar MulPordAST; \n",
    "\n",
    "@header {\n",
    "from liblet import Stack \n",
    "}\n",
    "\n",
    "@members {\n",
    "    self.STACK = Stack()\n",
    "}\n",
    "\n",
    "ignoblebug: expr;\n",
    "\n",
    "expr: expr '*' expr {self.STACK.push([{'type': 'op', 'kind': 'MUL'}, self.STACK.pop(), self.STACK.pop()])}\n",
    "    | expr '+' expr {self.STACK.push([{'type': 'op', 'kind': 'ADD'}, self.STACK.pop(), self.STACK.pop()])}\n",
    "    | NUM {self.STACK.push([{'type': 'const', 'value': $NUM.int}])}\n",
    "    ;\n",
    "\n",
    "NUM: [0-9]+ ;\n",
    "WS: [ \\t\\n\\r]+ -> skip ;\n",
    "\"\"\")"
   ]
  },
  {
   "cell_type": "code",
   "execution_count": null,
   "metadata": {},
   "outputs": [],
   "source": [
    "ctx = MulPordAST.context('2 + 3 * 4', 'expr', build_parse_trees = False)\n",
    "multprod_ast = Tree.from_lol(ctx.parser.STACK.pop())\n",
    "multprod_ast"
   ]
  },
  {
   "attachments": {},
   "cell_type": "markdown",
   "metadata": {},
   "source": [
    "## Usando una dispatch table\n",
    "\n",
    "Il corpo di `rec_ast` è catena di `if` basati sul valore corrispondente alla chiave `name` del nodo, con un blocco di istruzioni per ogin divera alternativa; una *dispatch table* sembra una alternativa più efficace e che consente una miglor organizzazione del codice."
   ]
  },
  {
   "cell_type": "code",
   "execution_count": null,
   "metadata": {},
   "outputs": [],
   "source": [
    "def dt_ast(tree):\n",
    "  rule_name = tree.attr.name\n",
    "  if rule_name in DISPATCH_TABLE:\n",
    "    return DISPATCH_TABLE[rule_name](tree)\n",
    "  else:\n",
    "    return Tree({'type': '<CATCHALL>'}, [dt_ast(child) for child in tree.children]) "
   ]
  },
  {
   "attachments": {},
   "cell_type": "markdown",
   "metadata": {},
   "source": [
    "Ora invece di un blocco in un `if`, a ciascuna alternativa corrisponde una funzione. La *dispatch table* servirà a mappare queste funzioni sui nodi a cui dovranno essere applicate."
   ]
  },
  {
   "cell_type": "code",
   "execution_count": null,
   "metadata": {},
   "outputs": [],
   "source": [
    "def visitMulDivAddSub(tree):\n",
    "  left, op, right = tree.children\n",
    "  return Tree(\n",
    "    {'type': 'op', 'kind': op.attr.name}, \n",
    "    [dt_ast(left), dt_ast(right)]\n",
    "  )\n",
    "\n",
    "def visitParens(tree):\n",
    "  _, expr, _ = tree.children\n",
    "  return dt_ast(expr)\n",
    "\n",
    "def visitInt(tree):\n",
    "  return Tree({'type': 'const', 'value': int(tree.children[0].attr.value)})"
   ]
  },
  {
   "cell_type": "code",
   "execution_count": null,
   "metadata": {},
   "outputs": [],
   "source": [
    "DISPATCH_TABLE = {\n",
    "  'mulDiv': visitMulDivAddSub,\n",
    "  'addSub': visitMulDivAddSub,\n",
    "  'parens': visitParens,\n",
    "  'int': visitInt\n",
    "}"
   ]
  },
  {
   "cell_type": "code",
   "execution_count": null,
   "metadata": {},
   "outputs": [],
   "source": [
    "dt_ast(parse_tree)"
   ]
  },
  {
   "attachments": {},
   "cell_type": "markdown",
   "metadata": {},
   "source": [
    "## Con un `AnnotatedTreeWalker`\n",
    "\n",
    "L'idea di visitare un albero annotato con una funzione diversa a seconda delle caratteristiche dei nodi è così ricorrente che la libreria mette a disposizione la classe `AnnotatedTreeWalker`.\n",
    "\n",
    "Essa consente di definire un \"oggetto/funzione\" che può essere invocata per visitare un albero nel modo illustrato in precedenza; per prima cosa è necessario indicare quale chiave della radice sarà usata per scegliere il da farsi e cosa fare per i casi non preneti nella *dispatch table*.\n",
    "\n",
    "Il `TREE_CATCHALL` (che è il comportamento di default) restituisce ogni sottoalbero immutato (ma emette un *warning* così è più facile capire cosa manca dalla *dispatch table*)"
   ]
  },
  {
   "cell_type": "code",
   "execution_count": null,
   "metadata": {},
   "outputs": [],
   "source": [
    "walker = AnnotatedTreeWalker('name', AnnotatedTreeWalker.TREE_CATCHALL)\n",
    "res = walker(parse_tree)"
   ]
  },
  {
   "cell_type": "code",
   "execution_count": null,
   "metadata": {},
   "outputs": [],
   "source": [
    "res"
   ]
  },
  {
   "attachments": {},
   "cell_type": "markdown",
   "metadata": {},
   "source": [
    "Il `TEXT_CATCHALL` si comporta similmente, ma restituisce una stringa ottenuta componendo (con la giusta indentazione) le stringhe ottenute dai sottoalberi."
   ]
  },
  {
   "cell_type": "code",
   "execution_count": null,
   "metadata": {},
   "outputs": [],
   "source": [
    "walker = AnnotatedTreeWalker('name', AnnotatedTreeWalker.TEXT_CATCHALL)\n",
    "res = walker(parse_tree)"
   ]
  },
  {
   "cell_type": "code",
   "execution_count": null,
   "metadata": {},
   "outputs": [],
   "source": [
    "print(res)"
   ]
  },
  {
   "attachments": {},
   "cell_type": "markdown",
   "metadata": {},
   "source": [
    "Infine `RECOURSE_CHILDREN` effettua lo scarico ricorsivo sui sottoalberi senza emettere *warning* e senza restituire valore; questa variante tornerà utile per costruire gli interpreti ricorsivi."
   ]
  },
  {
   "cell_type": "code",
   "execution_count": null,
   "metadata": {},
   "outputs": [],
   "source": [
    "walker = AnnotatedTreeWalker('name', AnnotatedTreeWalker.RECOURSE_CHILDREN)\n",
    "walker(parse_tree)"
   ]
  },
  {
   "attachments": {},
   "cell_type": "markdown",
   "metadata": {},
   "source": [
    "Per popolare la *dispatch table* basta utilizzare la stessa funzione di vista, ma questa volta come un decoratore; uniche accortezza sono che:\n",
    "\n",
    "* il nome della funzione deve coincidere col valore della chiave di cui quella funzione dovrà occuparsi;\n",
    "\n",
    "* ciascuna funzione riceve *due* argomenti: il primo è la funzione che rappresenta la visita del walker (necessaria per lo scarico ricorsivo), il secondo è il sottoalbero.\n",
    "\n",
    "L'esempio seguente corrisponde a una incarnazione di `dt_ast` ottenuta come `AnnotatedTreeWalker`."
   ]
  },
  {
   "cell_type": "code",
   "execution_count": null,
   "metadata": {},
   "outputs": [],
   "source": [
    "atw_ast = AnnotatedTreeWalker('name')"
   ]
  },
  {
   "cell_type": "code",
   "execution_count": null,
   "metadata": {},
   "outputs": [],
   "source": [
    "@atw_ast.register\n",
    "def parens(visit, tree):\n",
    "  _, expr, _ = tree.children\n",
    "  return visit(expr)\n",
    "\n",
    "@atw_ast.register\n",
    "def int_(visit, tree): # il _ serve per evitare il conflitto colla funzione int\n",
    "  return Tree({'type': 'const', 'value': int(tree.children[0].attr.value)})"
   ]
  },
  {
   "cell_type": "code",
   "execution_count": null,
   "metadata": {},
   "outputs": [],
   "source": [
    "atw_ast(parse_tree)"
   ]
  },
  {
   "cell_type": "code",
   "execution_count": null,
   "metadata": {},
   "outputs": [],
   "source": [
    "def binOp(visit, tree):\n",
    "  left, op, right = tree.children\n",
    "  return Tree(\n",
    "    {'type': 'binop', 'kind': op.attr.name}, \n",
    "    [visit(left), visit(right)]\n",
    "  )\n",
    "\n",
    "atw_ast.register(binOp, 'mulDiv')\n",
    "atw_ast.register(binOp, 'addSub')"
   ]
  },
  {
   "cell_type": "code",
   "execution_count": null,
   "metadata": {},
   "outputs": [],
   "source": [
    "atw_ast(parse_tree)"
   ]
  },
  {
   "attachments": {},
   "cell_type": "markdown",
   "metadata": {},
   "source": [
    "Completiamo l'opera."
   ]
  },
  {
   "cell_type": "code",
   "execution_count": null,
   "metadata": {},
   "outputs": [],
   "source": [
    "# atomi\n",
    "\n",
    "@atw_ast.register\n",
    "def id_(visit, tree):\n",
    "  return Tree({'type': 'var', 'name': tree.children[0].attr.value})\n",
    "\n",
    "# statement\n",
    "\n",
    "@atw_ast.register\n",
    "def blank(visit, tree):\n",
    "  return None # verrà eliminato da prog\n",
    "\n",
    "@atw_ast.register\n",
    "def printExpr(visit, tree):\n",
    "  expr, _ = tree.children\n",
    "  return Tree({'type': 'print'}, [visit(expr)])\n",
    "\n",
    "@atw_ast.register\n",
    "def assign(visit, tree):\n",
    "  name, _, expr, _ = tree.children\n",
    "  return Tree({'type': 'assign', 'name': name.attr.value}, [visit(expr)])\n",
    "\n",
    "# prog\n",
    "\n",
    "@atw_ast.register\n",
    "def prog(visit, tree):\n",
    "  children = []\n",
    "  for t in tree.children:\n",
    "    child = visit(t)\n",
    "    if child is not None: children.append(child)\n",
    "  return Tree({'type': 'prog'}, children)"
   ]
  },
  {
   "cell_type": "code",
   "execution_count": null,
   "metadata": {},
   "outputs": [],
   "source": [
    "prog = \"\"\"\n",
    "A = 1\n",
    "A + 2\n",
    "B = A + 3\n",
    "B * B\n",
    "\"\"\"\n",
    "\n",
    "parse_tree = LabeledExpr.tree(prog, 'prog')\n",
    "parse_tree"
   ]
  },
  {
   "cell_type": "code",
   "execution_count": null,
   "metadata": {},
   "outputs": [],
   "source": [
    "abstract_syntax_tree = atw_ast(parse_tree)\n",
    "abstract_syntax_tree"
   ]
  },
  {
   "attachments": {},
   "cell_type": "markdown",
   "metadata": {},
   "source": [
    "## Intermezzo: disfare le trasformazioni grammaticali\n",
    "\n",
    "Recuperiamo la grammatica della lezione 13\n",
    "\n",
    "    E  -> T + T | T\n",
    "    T  -> F * F | F \n",
    "    F  -> ( E ) | i\n",
    "\n",
    "che avevamo trasformato per evitare i conflitti `FIRST`/`FIRST` in\n",
    "\n",
    "    E  -> T E′\n",
    "    E′ -> + T E′| ε\n",
    "    T  -> F F′\n",
    "    F′ -> * F F′ | ε\n",
    "    F  -> ( E ) | i\n",
    "\n",
    "e convertiamola nella sintassi di ANTLR (ovvero mettiamo in minuscolo le regole *context-free* e introduciamo le regole del *lexer* per interi e *white-space*)"
   ]
  },
  {
   "cell_type": "code",
   "execution_count": null,
   "metadata": {},
   "outputs": [],
   "source": [
    "NoConflict = ANTLR(r\"\"\"\n",
    "\n",
    "grammar NoConflict;\n",
    "\n",
    "x  : e; /* questo è il truccaccio per la ricorsione */\n",
    "\n",
    "e  : t ep;\n",
    "\n",
    "ep : '+' t ep\n",
    "   | /* questa è un ε-regola */\n",
    "   ; \n",
    "\n",
    "t  : f fp;\n",
    "\n",
    "fp : '*' f fp \n",
    "   | /* questa è un ε-regola */\n",
    "   ;\n",
    "   \n",
    "f  : '(' e ')' \n",
    "   | INT\n",
    "   ;\n",
    "\n",
    "INT: '0' | [1-9][0-9]*;\n",
    "WS: [ \\t\\n\\r]+ -> skip;\n",
    "\"\"\")"
   ]
  },
  {
   "attachments": {},
   "cell_type": "markdown",
   "metadata": {},
   "source": [
    "Vediamo l'albero di parsing per una espressione \"semplice\""
   ]
  },
  {
   "cell_type": "code",
   "execution_count": null,
   "metadata": {},
   "outputs": [],
   "source": [
    "text = '1 * (2 + 3 + 4) * 5'\n",
    "pt = NoConflict.tree(text, 'e')\n",
    "NoConflict.tree(text, 'e', True)"
   ]
  },
  {
   "attachments": {},
   "cell_type": "markdown",
   "metadata": {},
   "source": [
    "Come sistemarlo in modo da avere un albero \"prodotto\" con tre figli, di cui due costanti e un sottoalbero \"somma\"? "
   ]
  },
  {
   "cell_type": "code",
   "execution_count": null,
   "metadata": {},
   "outputs": [],
   "source": [
    "pt2ast = AnnotatedTreeWalker('name')"
   ]
  },
  {
   "attachments": {},
   "cell_type": "markdown",
   "metadata": {},
   "source": [
    "Iniziamo dagli *atomi*, eliminando di fatto le parentesi"
   ]
  },
  {
   "cell_type": "code",
   "execution_count": null,
   "metadata": {},
   "outputs": [],
   "source": [
    "@pt2ast.register\n",
    "def f(visit, tree):\n",
    "  if len(tree.children) == 1:\n",
    "    return Tree({'type': 'const', 'value': int(tree.children[0].attr.value)})\n",
    "  _, expr, _ = tree.children\n",
    "  return visit(expr)"
   ]
  },
  {
   "attachments": {},
   "cell_type": "markdown",
   "metadata": {},
   "source": [
    "Quindi gestiamo la \"ricorsione\" introdotta per ottenere da `fp` le ripetizioni di `* f`"
   ]
  },
  {
   "cell_type": "code",
   "execution_count": null,
   "metadata": {},
   "outputs": [],
   "source": [
    "@pt2ast.register\n",
    "def fp(visit, tree):\n",
    "  if tree.children:\n",
    "    _, first, rest = tree.children\n",
    "    return Tree({'type': 'mul'}, [visit(first)] + visit(rest).children)\n",
    "  return Tree({'type': 'mul'})"
   ]
  },
  {
   "attachments": {},
   "cell_type": "markdown",
   "metadata": {},
   "source": [
    "E ora da `t` possiamo ottenere il sottoalbero sinistro (se `fp` è vuoto) oppure la concatenazione"
   ]
  },
  {
   "cell_type": "code",
   "execution_count": null,
   "metadata": {},
   "outputs": [],
   "source": [
    "@pt2ast.register\n",
    "def t(visit, tree):\n",
    "  f, fp = tree.children\n",
    "  fp = visit(fp)\n",
    "  if fp.children:\n",
    "    return Tree({'type': 'mul'}, [visit(f)] + fp.children)\n",
    "  return visit(f)"
   ]
  },
  {
   "attachments": {},
   "cell_type": "markdown",
   "metadata": {},
   "source": [
    "Per `ep` e `e` vale lo stesso ragionamento"
   ]
  },
  {
   "cell_type": "code",
   "execution_count": null,
   "metadata": {},
   "outputs": [],
   "source": [
    "@pt2ast.register\n",
    "def ep(visit, tree):\n",
    "  if tree.children:\n",
    "    _, first, rest = tree.children\n",
    "    return Tree({'type': 'add'}, [visit(first)] + visit(rest).children)\n",
    "  return Tree({'type': 'add'})\n",
    "\n",
    "@pt2ast.register\n",
    "def e(visit, tree):\n",
    "  t, ep = tree.children\n",
    "  ep = visit(ep)\n",
    "  if ep.children:\n",
    "    return Tree({'type': 'add'}, [visit(t)] + ep.children)\n",
    "  return visit(t)"
   ]
  },
  {
   "attachments": {},
   "cell_type": "markdown",
   "metadata": {},
   "source": [
    "In fine, ecco il risultato cercato"
   ]
  },
  {
   "cell_type": "code",
   "execution_count": null,
   "metadata": {},
   "outputs": [],
   "source": [
    "pt2ast(pt)"
   ]
  },
  {
   "attachments": {},
   "cell_type": "markdown",
   "metadata": {},
   "source": [
    "# Esecuzione con un `AnnotatedTreeWalker`\n",
    "\n",
    "L'approccio basato su *visitor* visto nella scorsa lezione per \"eseguire\" il programma può essere molto convenientemente e brevemente riscritto usanto l'*abstract syntax tree* e un apposito *walker*"
   ]
  },
  {
   "cell_type": "code",
   "execution_count": null,
   "metadata": {},
   "outputs": [],
   "source": [
    "atw_eval = AnnotatedTreeWalker('type', AnnotatedTreeWalker.RECOURSE_CHILDREN)\n",
    "\n",
    "MEMORY = {}\n",
    "\n",
    "# atom\n",
    "\n",
    "@atw_eval.register\n",
    "def const(visit, tree):\n",
    "  return tree.attr.value\n",
    "\n",
    "@atw_eval.register\n",
    "def var(visit, tree):\n",
    "  return MEMORY.get(tree.attr.name, 0)\n",
    "\n",
    "# op\n",
    "\n",
    "\n",
    "OP_DT = {\n",
    "  'ADD': add,\n",
    "  'SUB': sub,\n",
    "  'MUL': mul,\n",
    "  'DIV': truediv \n",
    "}\n",
    "\n",
    "@atw_eval.register\n",
    "def binop(visit, tree):\n",
    "  left, right = tree.children\n",
    "  return OP_DT[tree.attr.kind](visit(left), visit(right))\n",
    "\n",
    "# stat\n",
    "\n",
    "@atw_eval.register\n",
    "def print_(visit, tree):\n",
    "  print(visit(tree.children[0]))\n",
    "\n",
    "@atw_eval.register\n",
    "def assign(visit, tree):\n",
    "  MEMORY[tree.attr.name] = visit(tree.children[0])\n",
    "    \n",
    "# prog\n",
    "\n",
    "@atw_eval.register\n",
    "def prog(visit, tree):\n",
    "  for child in tree.children: visit(child)"
   ]
  },
  {
   "cell_type": "code",
   "execution_count": null,
   "metadata": {},
   "outputs": [],
   "source": [
    "abstract_syntax_tree"
   ]
  },
  {
   "cell_type": "code",
   "execution_count": null,
   "metadata": {},
   "outputs": [],
   "source": [
    "atw_eval(abstract_syntax_tree)"
   ]
  }
 ],
 "metadata": {
  "interpreter": {
   "hash": "e1004562009730290f42c30a7c24060925c35420ba84516473ad07a3f1950c5d"
  },
  "kernelspec": {
   "display_name": "Python 3.8.10 ('named-let-liblet')",
   "language": "python",
   "name": "python3"
  },
  "language_info": {
   "codemirror_mode": {
    "name": "ipython",
    "version": 3
   },
   "file_extension": ".py",
   "mimetype": "text/x-python",
   "name": "python",
   "nbconvert_exporter": "python",
   "pygments_lexer": "ipython3"
  }
 },
 "nbformat": 4,
 "nbformat_minor": 2
}
