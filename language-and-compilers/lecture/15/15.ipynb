{
 "cells": [
  {
   "cell_type": "markdown",
   "metadata": {},
   "source": [
    "# Lezione 15\n",
    "\n",
    "Il materiale di riferimento per le lezioni a venire è costituito da:\n",
    "\n",
    "* Il libro (di testo) [The Definitive ANTLR 4 Reference](https://pragprog.com/book/tpantlr2/the-definitive-antlr-4-reference) di Terence Parr (l'autore di ANTLR),\n",
    "* le [informazioni su target/runtime Python 3](https://github.com/antlr/antlr4/blob/master/doc/python-target.md),\n",
    "* i [sorgenti del runtime Python 3](https://github.com/antlr/antlr4/tree/master/runtime/Python3),\n",
    "* le [API Java](https://www.antlr.org/api/Java/) (utili a colmare la scarsezza della documentazione dei target/runtime Python 3),\n",
    "* la [versione Python 3 degli esempi di codice](https://github.com/jszheng/py3antlr4book) del libro di cui sopra (non ufficiale),\n",
    "* un [insieme di grammatiche](https://github.com/antlr/grammars-v4) di diversi linguaggi noti.\n",
    "\n",
    "## Uso \"diretto\" (senza LibLET)"
   ]
  },
  {
   "cell_type": "code",
   "execution_count": null,
   "metadata": {},
   "outputs": [],
   "source": [
    "! rm -rf Hello*.*"
   ]
  },
  {
   "cell_type": "code",
   "execution_count": null,
   "metadata": {},
   "outputs": [],
   "source": [
    "%%writefile Hello.g\n",
    "\n",
    "grammar Hello;            // Define a grammar called Hello\n",
    "r  : 'hello' ID ;         // match keyword hello followed by an identifier\n",
    "ID : [a-z]+ ;             // match lower-case identifiers\n",
    "WS : [ \\t\\r\\n]+ -> skip ; // skip spaces, tabs, newlines, \\r (Windows)"
   ]
  },
  {
   "cell_type": "markdown",
   "metadata": {},
   "source": [
    "### Generazione dei moduli (usando il tool Java)"
   ]
  },
  {
   "cell_type": "code",
   "execution_count": null,
   "metadata": {},
   "outputs": [],
   "source": [
    "! echo $ANTLR4_JAR"
   ]
  },
  {
   "cell_type": "code",
   "execution_count": null,
   "metadata": {},
   "outputs": [],
   "source": [
    "! java -jar \"$ANTLR4_JAR\" -Dlanguage=Python3 -visitor Hello.g && ls -l Hello*py"
   ]
  },
  {
   "cell_type": "markdown",
   "metadata": {},
   "source": [
    "### Parsing (costruzione dell'albero)"
   ]
  },
  {
   "cell_type": "code",
   "execution_count": null,
   "metadata": {},
   "outputs": [],
   "source": [
    "# codice dal runtime di antlr4\n",
    "\n",
    "from antlr4.CommonTokenStream import CommonTokenStream\n",
    "from antlr4.InputStream import InputStream"
   ]
  },
  {
   "cell_type": "code",
   "execution_count": null,
   "metadata": {},
   "outputs": [],
   "source": [
    "# codice genrerato da antlr4 a partire dalla grammatica Hello.g\n",
    "\n",
    "from HelloLexer import HelloLexer\n",
    "from HelloParser import HelloParser"
   ]
  },
  {
   "cell_type": "code",
   "execution_count": null,
   "metadata": {},
   "outputs": [],
   "source": [
    "text = 'hello massimo'\n",
    "\n",
    "lexer = HelloLexer(InputStream(text))\n",
    "stream = CommonTokenStream(lexer)\n",
    "parser = HelloParser(stream)\n",
    "tree = parser.r()\n",
    "\n",
    "tree.toStringTree(recog = parser)"
   ]
  },
  {
   "cell_type": "markdown",
   "metadata": {},
   "source": [
    "#### Uso del lexer"
   ]
  },
  {
   "cell_type": "code",
   "execution_count": null,
   "metadata": {},
   "outputs": [],
   "source": [
    "lexer.reset()\n",
    "\n",
    "while True:\n",
    "    token = lexer.nextToken()\n",
    "    print(token)\n",
    "    if token.type == token.EOF: break"
   ]
  },
  {
   "cell_type": "markdown",
   "metadata": {},
   "source": [
    "### Un esempio maggiormente complesso"
   ]
  },
  {
   "cell_type": "code",
   "execution_count": null,
   "metadata": {},
   "outputs": [],
   "source": [
    "! rm -f Expr*.*"
   ]
  },
  {
   "cell_type": "code",
   "execution_count": null,
   "metadata": {},
   "outputs": [],
   "source": [
    "%%writefile Expr.g\n",
    "\n",
    "grammar Expr; \n",
    "\n",
    "/** The start rule; begin parsing here. */\n",
    "\n",
    "prog:   stat+ ;\n",
    "\n",
    "stat:   expr NEWLINE\n",
    "    |   ID '=' expr NEWLINE\n",
    "    |   NEWLINE\n",
    "    ;\n",
    "\n",
    "expr:   expr ('*'|'/') expr\n",
    "    |   expr ('+'|'-') expr\n",
    "    |   INT\n",
    "    |   ID\n",
    "    |   '(' expr ')'\n",
    "    ;\n",
    "\n",
    "MUL :     '*' ;            // assigns token name to '*' used above in grammar\n",
    "DIV :     '/' ;\n",
    "ADD :     '+' ;\n",
    "SUB :     '-' ;\n",
    "ID  :     [a-zA-Z]+ ;      // match identifiers\n",
    "INT :     [0-9]+ ;         // match integers\n",
    "NEWLINE : '\\r'? '\\n' ;     // return newlines to parser (is end-statement signal)\n",
    "WS :      [ \\t]+ -> skip ; // toss out whitespace    "
   ]
  },
  {
   "cell_type": "code",
   "execution_count": null,
   "metadata": {},
   "outputs": [],
   "source": [
    "! java -jar \"$ANTLR4_JAR\" -Dlanguage=Python3 -visitor Expr.g && ls -l Expr*py"
   ]
  },
  {
   "cell_type": "code",
   "execution_count": null,
   "metadata": {},
   "outputs": [],
   "source": [
    "from ExprLexer import ExprLexer\n",
    "from ExprParser import ExprParser\n",
    "\n",
    "text = '2 * 3 + 4\\n'\n",
    "\n",
    "lexer = ExprLexer(InputStream(text))\n",
    "stream = CommonTokenStream(lexer)\n",
    "parser = ExprParser(stream)\n",
    "tree = parser.prog()\n",
    "\n",
    "tree.toStringTree(recog = parser)"
   ]
  },
  {
   "cell_type": "markdown",
   "metadata": {},
   "source": [
    "#### Uso del Listener"
   ]
  },
  {
   "cell_type": "code",
   "execution_count": null,
   "metadata": {},
   "outputs": [],
   "source": [
    "from antlr4.tree.Tree import ParseTreeWalker"
   ]
  },
  {
   "cell_type": "code",
   "execution_count": null,
   "metadata": {},
   "outputs": [],
   "source": [
    "from ExprListener import ExprListener\n",
    "\n",
    "class PrintListener(ExprListener):\n",
    "    def exitEveryRule(self, ctx):\n",
    "        print(ctx.start, ctx.stop, ExprParser.ruleNames[ctx.getRuleIndex()])\n",
    "\n",
    "listener = PrintListener()\n",
    "ParseTreeWalker.DEFAULT.walk(listener, tree)"
   ]
  },
  {
   "cell_type": "markdown",
   "metadata": {},
   "source": [
    "#### Uso del Visitor"
   ]
  },
  {
   "cell_type": "code",
   "execution_count": null,
   "metadata": {},
   "outputs": [],
   "source": [
    "from ExprVisitor import ExprVisitor\n",
    "\n",
    "class PrintVisitor(ExprVisitor):\n",
    "    def visitChildren(self, ctx):\n",
    "        print(ctx.start, ctx.stop, ExprParser.ruleNames[ctx.getRuleIndex()])\n",
    "        return super().visitChildren(ctx)\n",
    "        \n",
    "visitor = PrintVisitor()\n",
    "visitor.visit(tree)"
   ]
  },
  {
   "cell_type": "markdown",
   "metadata": {},
   "source": [
    "#### Intercettare gli errori"
   ]
  },
  {
   "cell_type": "code",
   "execution_count": null,
   "metadata": {},
   "outputs": [],
   "source": [
    "from antlr4.error.ErrorListener import ErrorListener\n",
    "\n",
    "class PrintLexerErrorListener(ErrorListener):\n",
    "    def syntaxError(self, recognizer, offendingSymbol, line, column, msg, e):\n",
    "        print(f'Lexer error: {line=}, {column=}, {msg=}, exception={e}')  \n",
    "        \n",
    "class PrintParserErrorListener(ErrorListener):\n",
    "    def syntaxError(self, recognizer, offendingSymbol, line, column, msg, e):\n",
    "        print(f'Parser error: {line=}, {column=}, {msg=}, exception={e}, rules={recognizer.getRuleInvocationStack()}')  "
   ]
  },
  {
   "cell_type": "code",
   "execution_count": null,
   "metadata": {},
   "outputs": [],
   "source": [
    "text = '2 * 1 + !\\n'\n",
    "\n",
    "lexer = ExprLexer(InputStream(text))\n",
    "lexer.removeErrorListeners()\n",
    "lexer.addErrorListener(PrintLexerErrorListener())\n",
    "\n",
    "stream = CommonTokenStream(lexer)\n",
    "\n",
    "parser = ExprParser(stream)\n",
    "parser.removeErrorListeners()\n",
    "parser.addErrorListener(PrintParserErrorListener())"
   ]
  },
  {
   "cell_type": "code",
   "execution_count": null,
   "metadata": {},
   "outputs": [],
   "source": [
    "tree = None\n",
    "tree = parser.prog()"
   ]
  },
  {
   "cell_type": "code",
   "execution_count": null,
   "metadata": {},
   "outputs": [],
   "source": [
    "tree.toStringTree(recog = parser)"
   ]
  },
  {
   "cell_type": "markdown",
   "metadata": {},
   "source": [
    "## Uso mediato da LibLET"
   ]
  },
  {
   "cell_type": "code",
   "execution_count": null,
   "metadata": {},
   "outputs": [],
   "source": [
    "from liblet import ANTLR"
   ]
  },
  {
   "cell_type": "markdown",
   "metadata": {},
   "source": [
    "### Generazione e caricamento dei moduli"
   ]
  },
  {
   "cell_type": "code",
   "execution_count": null,
   "metadata": {},
   "outputs": [],
   "source": [
    "LabeledExpr = ANTLR(r\"\"\"\n",
    "grammar LabeledExpr; // rename to distinguish from Expr.g4\n",
    "\n",
    "prog:   stat+ ;\n",
    "\n",
    "stat:   expr NEWLINE                # printExpr\n",
    "    |   ID '=' expr NEWLINE         # assign\n",
    "    |   NEWLINE                     # blank\n",
    "    ;\n",
    "\n",
    "expr:   expr op=('*'|'/') expr      # MulDiv\n",
    "    |   expr op=('+'|'-') expr      # AddSub\n",
    "    |   INT                         # int\n",
    "    |   ID                          # id\n",
    "    |   '(' expr ')'                # parens\n",
    "    ;\n",
    "\n",
    "MUL :     '*' ;            // assigns token name to '*' used above in grammar\n",
    "DIV :     '/' ;\n",
    "ADD :     '+' ;\n",
    "SUB :     '-' ;\n",
    "ID  :     [a-zA-Z]+ ;      // match identifiers\n",
    "INT :     [0-9]+ ;         // match integers\n",
    "NEWLINE : '\\r'? '\\n' ;     // return newlines to parser (is end-statement signal)\n",
    "WS :      [ \\t]+ -> skip ; // toss out whitespace\n",
    "\"\"\")"
   ]
  },
  {
   "cell_type": "code",
   "execution_count": null,
   "metadata": {},
   "outputs": [],
   "source": [
    "# teniamola da parte per la prossima lezione…\n",
    "\n",
    "LabeledExpr.save('LabeledExpr.g')"
   ]
  },
  {
   "cell_type": "markdown",
   "metadata": {},
   "source": [
    "### Costruzione dei token e del parsing context"
   ]
  },
  {
   "cell_type": "code",
   "execution_count": null,
   "metadata": {},
   "outputs": [],
   "source": [
    "text = '3 * 4 + 5\\n'"
   ]
  },
  {
   "cell_type": "code",
   "execution_count": null,
   "metadata": {},
   "outputs": [],
   "source": [
    "for token in LabeledExpr.tokens(text): \n",
    "  print(token)"
   ]
  },
  {
   "cell_type": "code",
   "execution_count": null,
   "metadata": {},
   "outputs": [],
   "source": [
    "LabeledExpr.context(text, 'prog')"
   ]
  },
  {
   "cell_type": "code",
   "execution_count": null,
   "metadata": {},
   "outputs": [],
   "source": [
    "# come stringa\n",
    "\n",
    "LabeledExpr.context(text, 'prog', as_string = True)"
   ]
  },
  {
   "cell_type": "markdown",
   "metadata": {},
   "source": [
    "### Generazione di un Tree (\"annotato\")"
   ]
  },
  {
   "cell_type": "code",
   "execution_count": null,
   "metadata": {},
   "outputs": [],
   "source": [
    "# semplice\n",
    "\n",
    "LabeledExpr.tree(text, 'prog', simple = True)"
   ]
  },
  {
   "cell_type": "markdown",
   "metadata": {},
   "source": [
    "Si può ottenere un albero annotato, ossia un `Tree` i cui nodi siano `dict`. \n",
    "\n",
    "In tal caso ogni nodo contiene la chiave `type` che può valere `rule` o `token`, a seconda che il nodo corrisponda ad una regola della grammatica (context-free) o del tokenizer. \n",
    "\n",
    "Nel caso delle regole, sono presenti le chiavi `rule` (che ha per valore il nonterminale a sinistra nella regola) e `name` corrispondente dall'alternativa specifica della regola (se annotata nella grammatica). La chiave `src` contiene gli indici del primo ed ultimo token nel sorgente derivati dalla regola\n",
    "\n",
    "Nel caso dei token, la chiave `name`  ha per valore il nome del token (se presente nella grammatica), mentre `value` ha per valore la porzione della parola in ingresso corrispondente al token. La chiave `src` contiene l'indice del token nel sorgente."
   ]
  },
  {
   "cell_type": "code",
   "execution_count": null,
   "metadata": {},
   "outputs": [],
   "source": [
    "LabeledExpr.tree(text, 'prog')"
   ]
  },
  {
   "cell_type": "markdown",
   "metadata": {},
   "source": [
    "### Diagnostici"
   ]
  },
  {
   "cell_type": "code",
   "execution_count": null,
   "metadata": {},
   "outputs": [],
   "source": [
    "Ambig = ANTLR(r\"\"\"\n",
    "grammar Ambig;\n",
    "\n",
    "stat: expr ';'\n",
    "    | ID '(' ')' ';' \n",
    "    ;\n",
    "expr: ID '(' ')' \n",
    "    | INT\n",
    "    ;\n",
    "\n",
    "INT : [0-9]+ ;\n",
    "ID  : [a-zA-Z]+ ;\n",
    "WS  : [ \\t\\r\\n]+ -> skip ;\n",
    "\"\"\")\n",
    "\n",
    "text = 'f();'"
   ]
  },
  {
   "cell_type": "code",
   "execution_count": null,
   "metadata": {},
   "outputs": [],
   "source": [
    "Ambig.context(text, 'stat', diag = True)"
   ]
  },
  {
   "cell_type": "code",
   "execution_count": null,
   "metadata": {},
   "outputs": [],
   "source": [
    "Ambig.context(text, 'stat', trace = True)"
   ]
  }
 ],
 "metadata": {
  "kernelspec": {
   "display_name": "Python 3 (ipykernel)",
   "language": "python",
   "name": "python3"
  },
  "language_info": {
   "codemirror_mode": {
    "name": "ipython",
    "version": 3
   },
   "file_extension": ".py",
   "mimetype": "text/x-python",
   "name": "python",
   "nbconvert_exporter": "python",
   "pygments_lexer": "ipython3",
   "version": "3.10.6"
  },
  "varInspector": {
   "cols": {
    "lenName": 16,
    "lenType": 16,
    "lenVar": 40
   },
   "kernels_config": {
    "python": {
     "delete_cmd_postfix": "",
     "delete_cmd_prefix": "del ",
     "library": "var_list.py",
     "varRefreshCmd": "print(var_dic_list())"
    },
    "r": {
     "delete_cmd_postfix": ") ",
     "delete_cmd_prefix": "rm(",
     "library": "var_list.r",
     "varRefreshCmd": "cat(var_dic_list()) "
    }
   },
   "types_to_exclude": [
    "module",
    "function",
    "builtin_function_or_method",
    "instance",
    "_Feature"
   ],
   "window_display": false
  }
 },
 "nbformat": 4,
 "nbformat_minor": 2
}
