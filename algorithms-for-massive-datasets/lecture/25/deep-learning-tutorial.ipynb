{
 "cells": [
  {
   "cell_type": "markdown",
   "metadata": {
    "colab_type": "text",
    "id": "bwc-Cm5V0KoO"
   },
   "source": [
    "# Artificial neurons, feed-forward neural networks, convolutional neural networks, and deep learning\n",
    "\n",
    "## with several citations to \"Learn tensorflow without a PhD\", by Martin Görner\n",
    "\n",
    "(available at https://github.com/GoogleCloudPlatform/tensorflow-without-a-phd)"
   ]
  },
  {
   "cell_type": "markdown",
   "metadata": {
    "colab_type": "text",
    "id": "NWhxlG5g0KoP"
   },
   "source": [
    "## Build a handwritten digit recognizer\n",
    "\n",
    "- More general problem: image classification\n",
    "- Possible solution: machine learning\n",
    "  - several examples (image, class)\n",
    "  - induction process\n",
    "  - classifier that maps generic image to class\n",
    "- Among the possible ways: artificial neural networks"
   ]
  },
  {
   "cell_type": "code",
   "execution_count": null,
   "metadata": {
    "ExecuteTime": {
     "end_time": "2022-02-28T10:44:53.737004Z",
     "start_time": "2022-02-28T10:44:51.350965Z"
    },
    "colab": {
     "base_uri": "https://localhost:8080/",
     "height": 34
    },
    "colab_type": "code",
    "executionInfo": {
     "elapsed": 3566,
     "status": "ok",
     "timestamp": 1586341003739,
     "user": {
      "displayName": "Dario Malchiodi",
      "photoUrl": "https://lh3.googleusercontent.com/a-/AOh14GiELCr-zUeJWuHT3llF5XfHH7B3tmxiSDlls6hF=s64",
      "userId": "00228704477903575446"
     },
     "user_tz": -120
    },
    "id": "FptPh3VjfHG9",
    "outputId": "233385a2-17e8-49ff-872a-46ed0347d452"
   },
   "outputs": [],
   "source": [
    "%matplotlib inline\n",
    "\n",
    "import math\n",
    "import matplotlib.pyplot as plt\n",
    "import numpy as np\n",
    "from ipywidgets import interact\n",
    "import ipywidgets as widgets\n",
    "\n",
    "import os, re, math, json, shutil, pprint\n",
    "import PIL.Image, PIL.ImageFont, PIL.ImageDraw\n",
    "import IPython.display as display\n",
    "import tensorflow as tf\n",
    "from matplotlib import pyplot as plt\n",
    "import math\n",
    "from IPython.display import display, Javascript, clear_output, HTML\n",
    "from google.colab import output\n",
    "from PIL import Image\n",
    "import io, base64\n",
    "import PIL\n",
    "\n",
    "print(\"Tensorflow version \" + tf.__version__)\n",
    "\n",
    "np.set_printoptions(precision=3, threshold=11)\n",
    "\n",
    "# Matplotlib config\n",
    "plt.ioff()\n",
    "plt.rc('image', cmap='gray_r')\n",
    "plt.rc('grid', linewidth=1)\n",
    "plt.rc('xtick', top=False, bottom=False, labelsize='large')\n",
    "plt.rc('ytick', left=False, right=False, labelsize='large')\n",
    "plt.rc('axes', facecolor='F8F8F8', titlesize=\"large\", edgecolor='white')\n",
    "plt.rc('text', color='a8151a')\n",
    "plt.rc('figure', facecolor='F0F0F0') #, figsize=(16,9)\n",
    "# Matplotlib fonts\n",
    "MATPLOTLIB_FONT_DIR = os.path.join(os.path.dirname(plt.__file__),\n",
    "                                   \"mpl-data/fonts/ttf\")"
   ]
  },
  {
   "cell_type": "markdown",
   "metadata": {
    "colab_type": "text",
    "id": "WbVo3Zdc0KoQ"
   },
   "source": [
    "## Artificial neural networks\n",
    "\n",
    "- Inspired by the central nervous system\n",
    "- (of which they represent a highly simplified model)\n",
    "- Composed by (a lot of) artificial neurons (or units)"
   ]
  },
  {
   "cell_type": "markdown",
   "metadata": {
    "colab_type": "text",
    "id": "xuEkHNgJ0KoR"
   },
   "source": [
    "## The artificial neuron (unit)\n",
    "\n",
    "- $x_1, \\dots, x_n$: inputs,\n",
    "- $w_1, \\dots, w_n$: weights,\n",
    "- $b$: bias,\n",
    "- $\\mathrm{logit} = \\sum w_i x_i - b$\n",
    "- $f: \\mathbb R \\mapsto \\mathbb R$: activation function,\n",
    "- output: $y = f(\\mathrm{logit})$"
   ]
  },
  {
   "cell_type": "markdown",
   "metadata": {
    "colab_type": "text",
    "id": "mbVL-e7f0KoS"
   },
   "source": [
    "![A very simple neuron](https://malchiodi.di.unimi.it/archive/deep-learning/simple-neuron.png)"
   ]
  },
  {
   "cell_type": "markdown",
   "metadata": {
    "colab_type": "text",
    "id": "t0XYDqW60KoT"
   },
   "source": [
    "## A slightly more complex unit\n",
    "\n",
    "![A neuron recognizing digits](https://codelabs.developers.google.com/static/codelabs/cloud-tensorflow-mnist/img/e218e6eee9da4e_1920.png)\n",
    "\n",
    "[Source: https://codelabs.developers.google.com/codelabs/cloud-tensorflow-mnist]\n",
    "\n",
    "Historically, this is known as a _perceptron_."
   ]
  },
  {
   "cell_type": "markdown",
   "metadata": {
    "colab_type": "text",
    "id": "lVJV8Nnn0KoU"
   },
   "source": [
    "## Activation functions\n",
    "\n",
    "- threshold\n",
    "\n",
    "\\begin{equation}\n",
    "f(x) = \\begin{cases}\n",
    "       1 & \\text{if $x \\geq 0$,} \\\\\n",
    "       0 & \\text{otherwise.}\n",
    "\\end{cases}\n",
    "\\end{equation}"
   ]
  },
  {
   "cell_type": "code",
   "execution_count": null,
   "metadata": {
    "colab": {
     "base_uri": "https://localhost:8080/",
     "height": 268
    },
    "colab_type": "code",
    "executionInfo": {
     "elapsed": 1656,
     "status": "ok",
     "timestamp": 1586341009267,
     "user": {
      "displayName": "Dario Malchiodi",
      "photoUrl": "https://lh3.googleusercontent.com/a-/AOh14GiELCr-zUeJWuHT3llF5XfHH7B3tmxiSDlls6hF=s64",
      "userId": "00228704477903575446"
     },
     "user_tz": -120
    },
    "id": "3TA4Ny0Z0KoV",
    "outputId": "7a840334-7b48-4534-93a8-5af28a8b69e4"
   },
   "outputs": [],
   "source": [
    "def threshold(x):\n",
    "    return 1 if x >= 0 else 0\n",
    "\n",
    "x = np.arange(-4, 4, 0.1)\n",
    "y_threshold = list(map(threshold, x))\n",
    "plt.step(x, y_threshold)\n",
    "plt.show()"
   ]
  },
  {
   "cell_type": "markdown",
   "metadata": {
    "colab_type": "text",
    "id": "WfCX3q9c0Kof"
   },
   "source": [
    "- sigmoid (continuous approximation of threshold)\n",
    "\n",
    "\\begin{equation}\n",
    "f(x; \\beta) = \\frac{1}{1 + \\mathrm{e}^{-\\beta x}}\n",
    "\\end{equation}"
   ]
  },
  {
   "cell_type": "code",
   "execution_count": null,
   "metadata": {
    "colab": {
     "base_uri": "https://localhost:8080/",
     "height": 300,
     "referenced_widgets": [
      "3e86fbf348d8445e95fd79d0881973b3",
      "e5624ed5327745a680a530cf48484a34",
      "99b49a9130d243b09e8fe8f5cfdf671e",
      "fa471790d261460fbf1dedbea7d402f4",
      "f0b5e575d004434c8a2645e6bedfbbb1",
      "2e2d586380e84719aad23610a298c480",
      "5059136cecd049a28cfa048e30558735"
     ]
    },
    "colab_type": "code",
    "executionInfo": {
     "elapsed": 1768,
     "status": "ok",
     "timestamp": 1586341011733,
     "user": {
      "displayName": "Dario Malchiodi",
      "photoUrl": "https://lh3.googleusercontent.com/a-/AOh14GiELCr-zUeJWuHT3llF5XfHH7B3tmxiSDlls6hF=s64",
      "userId": "00228704477903575446"
     },
     "user_tz": -120
    },
    "id": "A4FqhMGG0Kog",
    "outputId": "5732aa6e-cfd4-49e7-b254-4f90644d058e"
   },
   "outputs": [],
   "source": [
    "def sigmoid(x, beta=1):\n",
    "    return 1 / (1+math.exp(-beta * x))\n",
    "\n",
    "def sigmoid_plot(beta):\n",
    "    plt.plot(x, y_threshold)\n",
    "    y_sigmoid = list(map(lambda x: sigmoid(beta, x), x))\n",
    "    plt.plot(x, y_sigmoid, c='g')\n",
    "    plt.show()\n",
    "\n",
    "interact(sigmoid_plot,\n",
    "         beta=widgets.FloatSlider(min=0.01,\n",
    "                                  max=10,\n",
    "                                  step=.1,\n",
    "                                  value=1));"
   ]
  },
  {
   "cell_type": "markdown",
   "metadata": {
    "colab_type": "text",
    "id": "SdAs-Cy90Kol"
   },
   "source": [
    "- hyperbolic tangent"
   ]
  },
  {
   "cell_type": "code",
   "execution_count": null,
   "metadata": {
    "colab": {
     "base_uri": "https://localhost:8080/",
     "height": 268
    },
    "colab_type": "code",
    "executionInfo": {
     "elapsed": 2234,
     "status": "ok",
     "timestamp": 1586341016287,
     "user": {
      "displayName": "Dario Malchiodi",
      "photoUrl": "https://lh3.googleusercontent.com/a-/AOh14GiELCr-zUeJWuHT3llF5XfHH7B3tmxiSDlls6hF=s64",
      "userId": "00228704477903575446"
     },
     "user_tz": -120
    },
    "id": "r9hisz_80Kom",
    "outputId": "32ea5cb3-116d-4d60-8f84-642f9ebd6574"
   },
   "outputs": [],
   "source": [
    "y_tanh = list(map(math.tanh, x))\n",
    "plt.plot(x, y_tanh)\n",
    "plt.show()"
   ]
  },
  {
   "cell_type": "markdown",
   "metadata": {
    "colab_type": "text",
    "id": "pXaNstRo0Koq"
   },
   "source": [
    "## Bring me data, labeled data!"
   ]
  },
  {
   "cell_type": "code",
   "execution_count": null,
   "metadata": {
    "colab": {},
    "colab_type": "code",
    "id": "6ygBl4520Kor"
   },
   "outputs": [],
   "source": [
    "BATCH_SIZE = 128\n",
    "EPOCHS = 10\n",
    "\n",
    "training_images_file   = 'gs://mnist-public/train-images-idx3-ubyte'\n",
    "training_labels_file   = 'gs://mnist-public/train-labels-idx1-ubyte'\n",
    "validation_images_file = 'gs://mnist-public/t10k-images-idx3-ubyte'\n",
    "validation_labels_file = 'gs://mnist-public/t10k-labels-idx1-ubyte'"
   ]
  },
  {
   "cell_type": "markdown",
   "metadata": {
    "colab_type": "text",
    "id": "5_7DsXkC0Kpj"
   },
   "source": [
    "## Data organization\n",
    "\n",
    "We will consider each time a _minibatch_ of 128 examples, selected using a _round-robin_ criterion."
   ]
  },
  {
   "cell_type": "code",
   "execution_count": null,
   "metadata": {
    "colab": {},
    "colab_type": "code",
    "id": "-GC0qoP0IjIP"
   },
   "outputs": [],
   "source": [
    "AUTO = tf.data.experimental.AUTOTUNE\n",
    "\n",
    "def read_label(tf_bytestring):\n",
    "    label = tf.io.decode_raw(tf_bytestring, tf.uint8)\n",
    "    label = tf.reshape(label, [])\n",
    "    label = tf.one_hot(label, 10)\n",
    "    return label\n",
    "  \n",
    "def read_image(tf_bytestring):\n",
    "    image = tf.io.decode_raw(tf_bytestring, tf.uint8)\n",
    "    image = tf.cast(image, tf.float32)/256.0\n",
    "    image = tf.reshape(image, [28*28])\n",
    "    return image\n",
    "  \n",
    "def load_dataset(image_file, label_file):\n",
    "    imagedataset = tf.data.FixedLengthRecordDataset(image_file,\n",
    "                                                    28*28,\n",
    "                                                    header_bytes=16)\n",
    "    imagedataset = imagedataset.map(read_image, num_parallel_calls=16)\n",
    "    labelsdataset = tf.data.FixedLengthRecordDataset(label_file,\n",
    "                                                     1,\n",
    "                                                     header_bytes=8)\n",
    "    labelsdataset = labelsdataset.map(read_label, num_parallel_calls=16)\n",
    "    dataset = tf.data.Dataset.zip((imagedataset, labelsdataset))\n",
    "    return dataset \n",
    "  \n",
    "def get_training_dataset(image_file, label_file, batch_size):\n",
    "    dataset = load_dataset(image_file, label_file)\n",
    "    \n",
    "    # this small dataset can be entirely cached in RAM\n",
    "    dataset = dataset.cache()  \n",
    "    \n",
    "    dataset = dataset.shuffle(5000, reshuffle_each_iteration=True)\n",
    "    dataset = dataset.repeat()\n",
    "    dataset = dataset.batch(batch_size, drop_remainder=True)\n",
    "    \n",
    "    # fetch next batches while training on the current one\n",
    "    dataset = dataset.prefetch(AUTO)\n",
    "    \n",
    "    return dataset\n",
    "  \n",
    "def get_validation_dataset(image_file, label_file):\n",
    "    dataset = load_dataset(image_file, label_file)\n",
    "\n",
    "    # this small dataset can be entirely cached in RAM\n",
    "    dataset = dataset.cache()\n",
    "\n",
    "    # 10000 items in eval dataset, all in one batch\n",
    "    dataset = dataset.batch(10000, drop_remainder=True)\n",
    "    dataset = dataset.repeat()\n",
    "    return dataset\n",
    "\n",
    "# instantiate the datasets\n",
    "training_dataset = get_training_dataset(training_images_file,\n",
    "                                        training_labels_file,\n",
    "                                        BATCH_SIZE)\n",
    "validation_dataset = get_validation_dataset(validation_images_file,\n",
    "                                            validation_labels_file)"
   ]
  },
  {
   "cell_type": "code",
   "execution_count": null,
   "metadata": {
    "colab": {
     "base_uri": "https://localhost:8080/",
     "height": 68
    },
    "colab_type": "code",
    "executionInfo": {
     "elapsed": 8359,
     "status": "ok",
     "timestamp": 1586341029952,
     "user": {
      "displayName": "Dario Malchiodi",
      "photoUrl": "https://lh3.googleusercontent.com/a-/AOh14GiELCr-zUeJWuHT3llF5XfHH7B3tmxiSDlls6hF=s64",
      "userId": "00228704477903575446"
     },
     "user_tz": -120
    },
    "id": "A7Mbljl2Iw-m",
    "outputId": "ec98a2ff-acb1-4d59-ff4f-bf94589aaf05"
   },
   "outputs": [],
   "source": [
    "for example in training_dataset.take(1):\n",
    "  images, labels = example\n",
    "  break\n",
    "image, label = images[0], labels[0]\n",
    "print(image.numpy())\n",
    "print(image.numpy().shape)\n",
    "print(label)"
   ]
  },
  {
   "cell_type": "code",
   "execution_count": null,
   "metadata": {
    "colab": {
     "base_uri": "https://localhost:8080/",
     "height": 135
    },
    "colab_type": "code",
    "executionInfo": {
     "elapsed": 999,
     "status": "ok",
     "timestamp": 1586341032054,
     "user": {
      "displayName": "Dario Malchiodi",
      "photoUrl": "https://lh3.googleusercontent.com/a-/AOh14GiELCr-zUeJWuHT3llF5XfHH7B3tmxiSDlls6hF=s64",
      "userId": "00228704477903575446"
     },
     "user_tz": -120
    },
    "id": "2pZqKlScKij9",
    "outputId": "7538f53b-79c4-4c59-ccb8-4738cfb1d52e"
   },
   "outputs": [],
   "source": [
    "image.numpy().reshape((28, 28))"
   ]
  },
  {
   "cell_type": "code",
   "execution_count": null,
   "metadata": {
    "colab": {
     "base_uri": "https://localhost:8080/",
     "height": 269
    },
    "colab_type": "code",
    "executionInfo": {
     "elapsed": 1045,
     "status": "ok",
     "timestamp": 1586341034361,
     "user": {
      "displayName": "Dario Malchiodi",
      "photoUrl": "https://lh3.googleusercontent.com/a-/AOh14GiELCr-zUeJWuHT3llF5XfHH7B3tmxiSDlls6hF=s64",
      "userId": "00228704477903575446"
     },
     "user_tz": -120
    },
    "id": "Kyj-_qgoKOzb",
    "outputId": "d25e4d66-3c92-4486-8c25-2820e6a6e1f8"
   },
   "outputs": [],
   "source": [
    "plt.imshow(1 - image.numpy().reshape((28, 28))/255, cmap=plt.get_cmap(\"gray\"))\n",
    "plt.show()"
   ]
  },
  {
   "cell_type": "code",
   "execution_count": null,
   "metadata": {
    "colab": {},
    "colab_type": "code",
    "id": "V01yyq1xHMzZ"
   },
   "outputs": [],
   "source": [
    "# pull a batch from the datasets.\n",
    "def dataset_to_numpy_util(training_dataset, validation_dataset, N):\n",
    "  \n",
    "  # get one batch from each: 10000 validation digits, N training digits\n",
    "  batch_train_ds = training_dataset.unbatch().batch(N)\n",
    "  \n",
    "  for validation_digits, validation_labels in validation_dataset:\n",
    "    validation_digits = validation_digits.numpy()\n",
    "    validation_labels = validation_labels.numpy()\n",
    "    break\n",
    "  for training_digits, training_labels in batch_train_ds:\n",
    "    training_digits = training_digits.numpy()\n",
    "    training_labels = training_labels.numpy()\n",
    "    break\n",
    "  \n",
    "  # these were one-hot encoded in the dataset\n",
    "  validation_labels = np.argmax(validation_labels, axis=1)\n",
    "  training_labels = np.argmax(training_labels, axis=1)\n",
    "  \n",
    "  return (training_digits, training_labels,\n",
    "          validation_digits, validation_labels)\n",
    "\n",
    "# create digits from local fonts for testing\n",
    "def create_digits_from_local_fonts(n):\n",
    "  font_labels = []\n",
    "\n",
    "  # format 'LA': black in channel 0, alpha in channel 1\n",
    "  img = PIL.Image.new('LA', (28*n, 28), color = (0,255))\n",
    "  font1 = PIL.ImageFont.truetype(os.path.join(MATPLOTLIB_FONT_DIR,\n",
    "                                              'DejaVuSansMono-Oblique.ttf'),\n",
    "                                 25)\n",
    "  font2 = PIL.ImageFont.truetype(os.path.join(MATPLOTLIB_FONT_DIR,\n",
    "                                              'STIXGeneral.ttf'),\n",
    "                                 25)\n",
    "  d = PIL.ImageDraw.Draw(img)\n",
    "  for i in range(n):\n",
    "    font_labels.append(i%10)\n",
    "    d.text((7+i*28,0 if i<10 else -4), str(i%10),\n",
    "           fill=(255,255),\n",
    "           font=font1 if i<10 else font2)\n",
    "\n",
    "  # black in channel 0, alpha in channel 1 (discarded)\n",
    "  font_digits = np.array(img.getdata(), np.float32)[:,0] / 255.0 \n",
    "  font_digits = np.reshape(np.stack(np.split(np.reshape(font_digits,\n",
    "                                                        [28, 28*n]),\n",
    "                                             n, axis=1), axis=0), [n, 28*28])\n",
    "  return font_digits, font_labels\n",
    "\n",
    "# utility to display a row of digits with their predictions\n",
    "def display_digits(digits, predictions, labels, title, n):\n",
    "  fig = plt.figure(figsize=(13,3))\n",
    "  digits = np.reshape(digits, [n, 28, 28])\n",
    "  digits = np.swapaxes(digits, 0, 1)\n",
    "  digits = np.reshape(digits, [28, 28*n])\n",
    "  plt.yticks([])\n",
    "  plt.xticks([28*x+14 for x in range(n)], predictions)\n",
    "  plt.grid(b=None)\n",
    "  for i,t in enumerate(plt.gca().xaxis.get_ticklabels()):\n",
    "    if predictions[i] != labels[i]: t.set_color('red') # bad predictions in red\n",
    "  plt.imshow(digits)\n",
    "  plt.grid(None)\n",
    "  plt.title(title)\n",
    "  display(fig)\n",
    "  \n",
    "# utility to display multiple rows of digits,\n",
    "# sorted by unrecognized/recognized status\n",
    "def display_top_unrecognized(digits, predictions, labels, n, lines):\n",
    "  idx = np.argsort(predictions==labels) # sort order: unrecognized first\n",
    "  for i in range(lines):\n",
    "    display_digits(digits[idx][i*n:(i+1)*n],\n",
    "                   predictions[idx][i*n:(i+1)*n],\n",
    "                   labels[idx][i*n:(i+1)*n],\n",
    "                   '{} sample validation digits out of {} '\n",
    "                   'with bad predictions in red and sorted '\n",
    "                   'first'.format(n*lines, len(digits)) if i==0 else '', n)\n",
    "\n",
    "def plot_learning_rate(lr_func, epochs):\n",
    "  xx = np.arange(epochs+1, dtype=np.float)\n",
    "  y = [lr_decay(x) for x in xx]\n",
    "  fig, ax = plt.subplots(figsize=(9, 6))\n",
    "  ax.set_xlabel('epochs')\n",
    "  ax.set_title('Learning rate\\ndecays from {:0.3g} to {:0.3g}'.format(y[0],\n",
    "                                                                      y[-2]))\n",
    "  ax.minorticks_on()\n",
    "  ax.grid(True, which='major', axis='both', linestyle='-', linewidth=1)\n",
    "  ax.grid(True, which='minor', axis='both', linestyle=':', linewidth=0.5)\n",
    "  ax.step(xx,y, linewidth=3, where='post')\n",
    "  display(fig)\n",
    "\n",
    "class PlotTraining(tf.keras.callbacks.Callback):\n",
    "  def __init__(self, sample_rate=1, zoom=1):\n",
    "    self.sample_rate = sample_rate\n",
    "    self.step = 0\n",
    "    self.zoom = zoom\n",
    "    self.steps_per_epoch = 60000//BATCH_SIZE\n",
    "\n",
    "  def on_train_begin(self, logs={}):\n",
    "    self.batch_history = {}\n",
    "    self.batch_step = []\n",
    "    self.epoch_history = {}\n",
    "    self.epoch_step = []\n",
    "    self.fig, self.axes = plt.subplots(1, 2, figsize=(16, 7))\n",
    "    plt.ioff()\n",
    "\n",
    "  def on_batch_end(self, batch, logs={}):\n",
    "    if (batch % self.sample_rate) == 0:\n",
    "      self.batch_step.append(self.step)\n",
    "      for k,v in logs.items():\n",
    "        # do not log \"batch\" and \"size\" metrics that do not change\n",
    "        # do not log training accuracy \"acc\"\n",
    "        if k=='batch' or k=='size':# or k=='acc':\n",
    "          continue\n",
    "        self.batch_history.setdefault(k, []).append(v)\n",
    "    self.step += 1\n",
    "\n",
    "  def on_epoch_end(self, epoch, logs={}):\n",
    "    plt.close(self.fig)\n",
    "    self.axes[0].cla()\n",
    "    self.axes[1].cla()\n",
    "      \n",
    "    self.axes[0].set_ylim(0, 1.2/self.zoom)\n",
    "    self.axes[1].set_ylim(1-1/self.zoom/2, 1+0.1/self.zoom/2)\n",
    "    \n",
    "    self.epoch_step.append(self.step)\n",
    "    for k,v in logs.items():\n",
    "      # only log validation metrics\n",
    "      if not k.startswith('val_'):\n",
    "        continue\n",
    "      self.epoch_history.setdefault(k, []).append(v)\n",
    "\n",
    "    clear_output(wait=True)\n",
    "    \n",
    "    for k,v in self.batch_history.items():\n",
    "      (self.axes[0 if k.endswith('loss') else 1]\n",
    "           .plot(np.array(self.batch_step) / self.steps_per_epoch, v, label=k))\n",
    "      \n",
    "    for k,v in self.epoch_history.items():\n",
    "      (self.axes[0 if k.endswith('loss') else 1]\n",
    "           .plot(np.array(self.epoch_step) / self.steps_per_epoch, v,\n",
    "                 label=k, linewidth=3))\n",
    "      \n",
    "    self.axes[0].legend()\n",
    "    self.axes[1].legend()\n",
    "    self.axes[0].set_xlabel('epochs')\n",
    "    self.axes[1].set_xlabel('epochs')\n",
    "    self.axes[0].minorticks_on()\n",
    "    self.axes[0].grid(True, which='major', axis='both',\n",
    "                      linestyle='-', linewidth=1)\n",
    "    self.axes[0].grid(True, which='minor', axis='both',\n",
    "                      linestyle=':', linewidth=0.5)\n",
    "    self.axes[1].minorticks_on()\n",
    "    self.axes[1].grid(True, which='major', axis='both',\n",
    "                      linestyle='-', linewidth=1)\n",
    "    self.axes[1].grid(True, which='minor', axis='both',\n",
    "                      linestyle=':', linewidth=0.5)\n",
    "    display(self.fig)\n"
   ]
  },
  {
   "cell_type": "code",
   "execution_count": null,
   "metadata": {
    "colab": {
     "base_uri": "https://localhost:8080/",
     "height": 177
    },
    "colab_type": "code",
    "executionInfo": {
     "elapsed": 4120,
     "status": "ok",
     "timestamp": 1586341043096,
     "user": {
      "displayName": "Dario Malchiodi",
      "photoUrl": "https://lh3.googleusercontent.com/a-/AOh14GiELCr-zUeJWuHT3llF5XfHH7B3tmxiSDlls6hF=s64",
      "userId": "00228704477903575446"
     },
     "user_tz": -120
    },
    "id": "OlvvjBDMMoUc",
    "outputId": "a80ab11b-7fe1-4a2c-8f6d-1574c1853ef1"
   },
   "outputs": [],
   "source": [
    "N = 24\n",
    "(training_digits, training_labels,\n",
    " validation_digits, validation_labels) = dataset_to_numpy_util(training_dataset, validation_dataset, N)\n",
    "display_digits(training_digits, training_labels, training_labels, \"training digits and their labels\", N)\n",
    "display_digits(validation_digits[:N], validation_labels[:N], validation_labels[:N], \"validation digits and their labels\", N)\n",
    "font_digits, font_labels = create_digits_from_local_fonts(N)"
   ]
  },
  {
   "cell_type": "markdown",
   "metadata": {
    "colab_type": "text",
    "id": "Ldu885xCuD2l"
   },
   "source": [
    "![A neuron recognizing digits](https://codelabs.developers.google.com/static/codelabs/cloud-tensorflow-mnist/img/e218e6eee9da4e_1920.png)\n",
    "\n",
    "[Source: https://codelabs.developers.google.com/codelabs/cloud-tensorflow-mnist]"
   ]
  },
  {
   "cell_type": "markdown",
   "metadata": {
    "colab_type": "text",
    "id": "QCmiBM4O0KpZ"
   },
   "source": [
    "\n",
    "$$ L = X \\cdot W + b $$\n",
    "\n",
    "<img src=\"https://codelabs.developers.google.com/static/codelabs/cloud-tensorflow-mnist/img/706248ddefae07f0.gif\">\n",
    "\n",
    "[Source: https://codelabs.developers.google.com/codelabs/cloud-tensorflow-mnist/]\n",
    "\n",
    "![](https://codelabs.developers.google.com/static/codelabs/cloud-tensorflow-mnist/img/a49ddecea0ee8f52_1920.png)\n",
    "![](https://codelabs.developers.google.com/static/codelabs/cloud-tensorflow-mnist/img/ef0d98c0952c262d_1920.png)\n",
    "![](https://codelabs.developers.google.com/static/codelabs/cloud-tensorflow-mnist/img/d51252f75894479e.gif)"
   ]
  },
  {
   "cell_type": "markdown",
   "metadata": {
    "colab_type": "text",
    "id": "RowIfI8W0Kpa"
   },
   "source": [
    "## How good is a unit?\n",
    "\n",
    "* Maximize _accuracy_ (given several _targets_ $t^{(j)}$ and the corresponding _predictions_ $y^{(j)}$, measure how many times the prediction equals the target)\n",
    "  \n",
    "* In our case, $t, y \\in [0, 1]^10$, thus we can measure accuracy as the cardinality of the set\n",
    "\n",
    "$$ \\left\\{ j \\text{ such that } \\arg\\max_{1 \\leq i \\leq 10} \\left\\{ t^{(j)}_i \\right\\} = \\arg\\max_{1 \\leq i \\leq 10} \\left\\{ y^{(j)}_i \\right\\} \\right\\}$$\n",
    "\n",
    "\n",
    "* Alternatively, minimize Kullback-Leibler divergence, or cross-entropy: given two (discrete) probability distributions $\\{ p_1, \\dots, p_d \\}$ and $\\{ q_1, \\dots, q_d \\}$ over the same set, the following quantity measures how close the two distributions are:\n",
    "\n",
    "$$ - \\sum_{i} p_i \\log \\frac{q_i}{p_i} $$\n",
    "\n",
    "* In our case, $\\{p_1, \\dots, p_{10}\\}$ are the outputs of our neuron once an image has been fed in, and $t^{(j)}$, and $\\{q_1, \\dots, q_{10}\\}$ are the components of the corresponding target, thus the cross-entropy value is\n",
    "\n",
    "$$ \\sum_j - \\sum_{i} y^{(j)}_i \\log \\frac{t^{(j)}_i}{y^{(j)}_i} $$\n",
    "\n",
    "<img src=\"https://codelabs.developers.google.com/codelabs/cloud-tensorflow-mnist/img/6dbba1bce3cadc36.png\">\n",
    "\n",
    "[Source: https://codelabs.developers.google.com/codelabs/cloud-tensorflow-mnist]"
   ]
  },
  {
   "cell_type": "code",
   "execution_count": null,
   "metadata": {
    "colab": {
     "base_uri": "https://localhost:8080/",
     "height": 186
    },
    "colab_type": "code",
    "executionInfo": {
     "elapsed": 1055,
     "status": "ok",
     "timestamp": 1586341049331,
     "user": {
      "displayName": "Dario Malchiodi",
      "photoUrl": "https://lh3.googleusercontent.com/a-/AOh14GiELCr-zUeJWuHT3llF5XfHH7B3tmxiSDlls6hF=s64",
      "userId": "00228704477903575446"
     },
     "user_tz": -120
    },
    "id": "vECkMa6HIBjV",
    "outputId": "e572a41b-0c60-49af-9c71-a470ea6207f8"
   },
   "outputs": [],
   "source": [
    "model = tf.keras.Sequential(\n",
    "  [\n",
    "      tf.keras.layers.Input(shape=(28*28,)),\n",
    "      tf.keras.layers.Dense(10, activation='softmax')\n",
    "  ])\n",
    "\n",
    "model.compile(optimizer='sgd',\n",
    "              loss='categorical_crossentropy',\n",
    "              metrics=['accuracy'])\n",
    "\n",
    "# print model layers\n",
    "model.summary()\n",
    "\n",
    "# utility callback that displays training curves\n",
    "plot_training = PlotTraining(sample_rate=10, zoom=1)"
   ]
  },
  {
   "cell_type": "markdown",
   "metadata": {
    "colab_type": "text",
    "id": "iVLj_rqF0KrG"
   },
   "source": [
    "## How does this work?\n",
    "\n",
    "Minimizing the loss function, either\n",
    "\n",
    "- analytically, using calculus,\n",
    "- pointwise, using _backpropagation_ on a _computation graph_.\n",
    "\n",
    "![](https://codelabs.developers.google.com/static/codelabs/cloud-tensorflow-mnist/img/9d3ab44f06bb0f7a_1920.png)\n",
    "\n",
    "[Source: https://codelabs.developers.google.com/codelabs/cloud-tensorflow-mnist]"
   ]
  },
  {
   "cell_type": "markdown",
   "metadata": {
    "colab_type": "text",
    "id": "-rZ7gFsB0KrH"
   },
   "source": [
    "Concerning the first option, consider for instance a single-output neuron with sigmoidal activation function: let\n",
    "\n",
    "- $x_1, \\dots, x_n$ denote the inputs to the neuron;\n",
    "- $w_1, \\dots, w_n$ denote the corresponding connection weights,\n",
    "- $\\mathrm{logit}^{(j)} = \\sum_i w_i x^{(j)}_i$ be the _signal_ arriving to the perceptron when the $j$-th example is presented;\n",
    "- $y^{(j)} = f_\\beta(\\mathrm{logit}^{(j)})$ the output of the neuron when the $j$-th example is presented.\n",
    "\n",
    "If we measure performance using the cumulated L2 loss (which is more appropriate in this case, since we have a single output)\n",
    "\n",
    "$$E(w_1, \\dots, w_n) = \\frac{1}{2} \\sum_j \\left( t^{(j)} - y^{(j)} \\right)^2,$$\n",
    "\n",
    "it is easy to compute the derivatives of $E$ w.r.t. any $w_k$ using the chain rule:\n",
    "\n",
    "$$\n",
    "\\frac{\\partial E}{\\partial w_k} = \n",
    "\\frac{1}{2} \\sum_j -2 \\left( t^{(j)} - y^{(j)} \\right)\n",
    "\\frac{\\partial y^{(j)}}{\\partial w_k}.\n",
    "$$\n",
    "\n",
    "Now, \n",
    "\n",
    "$$\n",
    "\\frac{\\partial y^{(j)}}{\\partial w_k} = f'_\\beta(\\mathrm{logit}^{(j)})\n",
    "\\frac{\\partial \\mathrm{logit}^{(j)}}{\\partial w_k} =\n",
    "f'_\\beta(\\mathrm{logit}^{(j)}) \\frac{\\partial}{\\partial w_k}\\sum_i w_i x^{(j)}_i =\n",
    "f'_\\beta(\\mathrm{logit}^{(j)}) x^{(j)}_k\n",
    "$$\n",
    "\n",
    "Summing up,\n",
    "\n",
    "$$\n",
    "\\frac{\\partial E}{\\partial w_k} = \\sum_j \\left( y^{(j)} - t^{(j)} \\right)\n",
    "f'_\\beta(\\mathrm{logit}^{(j)}) x^{(j)}_k,\n",
    "$$\n",
    "\n",
    "which in vectorial form reads\n",
    "\n",
    "$$\\nabla E(w) = \\sum_j \\left( y^{(j)} - t^{(j)} \\right)\n",
    "f'_\\beta(\\mathrm{logit}^{(j)}) x^{(j)}.\n",
    "$$\n",
    "\n",
    "Note also that the derivative of the sigmoidal activation is easily computed in terms of the original value $f_\\beta(x)$, as\n",
    "\n",
    "$$\n",
    "f'_\\beta(x) = \\frac{\\mathrm d}{\\mathrm dx} \\frac{1}{1 + \\mathrm e^{-\\beta x}}\n",
    "= \\frac{\\beta \\mathrm e^{-\\beta x}}{\\left( 1 + \\mathrm e^{-\\beta x} \\right)^2}\n",
    "= \\beta \\frac{1}{1 + \\mathrm e^{-\\beta x}} \\left( 1 - \\frac{1}{1 + \\mathrm e^{-\\beta x}} \\right)\n",
    "= \\beta f_\\beta(x) (1 - f_\\beta(x))\n",
    "$$\n",
    "\n",
    "This means that $f'_\\beta(\\mathrm{logit}^{(j)}) = \\beta f_\\beta(\\mathrm{logit}^{(j)})(1 - (\\mathrm{logit}^{(j)})) = \\beta y^{(j)} (1 - y^{(j)})$, so that\n",
    "\n",
    "$$\\nabla E(w) = \\sum_j \\left( y^{(j)} - t^{(j)} \\right)\n",
    "\\beta y^{(j)} (1 - y^{(j)}) x^{(j)}.$$"
   ]
  },
  {
   "cell_type": "markdown",
   "metadata": {
    "colab_type": "text",
    "id": "H19HqOm10KrJ"
   },
   "source": [
    "Note that this approach would require to compute anew the analytical form of gradient each time we change anything in the perceptron structure (e.g., use a different activation function). In the code here below we rely on the second alternative, namely computing the value of the gradient only in correspondence of points actually needed during the optimization process, and this will be done using a technique called _backpropagation_, which we will detail later on."
   ]
  },
  {
   "cell_type": "code",
   "execution_count": null,
   "metadata": {
    "colab": {
     "base_uri": "https://localhost:8080/",
     "height": 467
    },
    "colab_type": "code",
    "executionInfo": {
     "elapsed": 300,
     "status": "ok",
     "timestamp": 1586341097602,
     "user": {
      "displayName": "Dario Malchiodi",
      "photoUrl": "https://lh3.googleusercontent.com/a-/AOh14GiELCr-zUeJWuHT3llF5XfHH7B3tmxiSDlls6hF=s64",
      "userId": "00228704477903575446"
     },
     "user_tz": -120
    },
    "id": "-3UkiXSgIGOL",
    "outputId": "abebf73e-4575-4aa5-dd6f-bd678c581d79"
   },
   "outputs": [],
   "source": [
    "steps_per_epoch = 60000//BATCH_SIZE  # 60,000 items in this dataset\n",
    "\n",
    "history = model.fit(training_dataset,\n",
    "                    steps_per_epoch=steps_per_epoch,\n",
    "                    epochs=EPOCHS,\n",
    "                    validation_data=validation_dataset,\n",
    "                    validation_steps=1,\n",
    "                    callbacks=[plot_training])"
   ]
  },
  {
   "cell_type": "markdown",
   "metadata": {
    "colab_type": "text",
    "id": "eJ-cABPtuGfn"
   },
   "source": [
    "## Deep learning (aka multilayer perceptron)\n",
    "\n",
    "<img src=\"https://codelabs.developers.google.com/static/codelabs/cloud-tensorflow-mnist/img/fba0638cc213a29_1920.png\" width=\"80%\">"
   ]
  },
  {
   "cell_type": "code",
   "execution_count": null,
   "metadata": {
    "colab": {
     "base_uri": "https://localhost:8080/",
     "height": 254
    },
    "colab_type": "code",
    "executionInfo": {
     "elapsed": 942,
     "status": "ok",
     "timestamp": 1586341106964,
     "user": {
      "displayName": "Dario Malchiodi",
      "photoUrl": "https://lh3.googleusercontent.com/a-/AOh14GiELCr-zUeJWuHT3llF5XfHH7B3tmxiSDlls6hF=s64",
      "userId": "00228704477903575446"
     },
     "user_tz": -120
    },
    "id": "U1aaNtVatjE1",
    "outputId": "38799f60-ae9e-46f8-94bd-cff542964192"
   },
   "outputs": [],
   "source": [
    "model = tf.keras.Sequential(\n",
    "  [\n",
    "      tf.keras.layers.Input(shape=(28*28,)),\n",
    "      tf.keras.layers.Dense(200, activation='sigmoid'),\n",
    "      tf.keras.layers.Dense(60, activation='sigmoid'),\n",
    "      tf.keras.layers.Dense(10, activation='softmax')\n",
    "  ])\n",
    "\n",
    "model.compile(optimizer='sgd',\n",
    "              loss='categorical_crossentropy',\n",
    "              metrics=['accuracy'])\n",
    "\n",
    "model.summary()\n",
    "\n",
    "plot_training = PlotTraining(sample_rate=10, zoom=1)"
   ]
  },
  {
   "cell_type": "code",
   "execution_count": null,
   "metadata": {
    "colab": {
     "base_uri": "https://localhost:8080/",
     "height": 467
    },
    "colab_type": "code",
    "executionInfo": {
     "elapsed": 384,
     "status": "ok",
     "timestamp": 1586341153560,
     "user": {
      "displayName": "Dario Malchiodi",
      "photoUrl": "https://lh3.googleusercontent.com/a-/AOh14GiELCr-zUeJWuHT3llF5XfHH7B3tmxiSDlls6hF=s64",
      "userId": "00228704477903575446"
     },
     "user_tz": -120
    },
    "id": "TDfrT0TWti-1",
    "outputId": "3e9804fd-2df0-4f8d-9d7a-861e68dc3e3a"
   },
   "outputs": [],
   "source": [
    "training_dataset = get_training_dataset(training_images_file,\n",
    "                                        training_labels_file,\n",
    "                                        BATCH_SIZE)\n",
    "validation_dataset = get_validation_dataset(validation_images_file,\n",
    "                                            validation_labels_file)\n",
    "\n",
    "history = model.fit(training_dataset,\n",
    "                    steps_per_epoch=steps_per_epoch,\n",
    "                    epochs=EPOCHS,\n",
    "                    validation_data=validation_dataset,\n",
    "                    validation_steps=1,\n",
    "                    callbacks=[plot_training])"
   ]
  },
  {
   "cell_type": "markdown",
   "metadata": {
    "colab_type": "text",
    "id": "EnpbaonUzAzm"
   },
   "source": [
    "See nothing? Check out loss and accuracy values vs Y-axes"
   ]
  },
  {
   "cell_type": "markdown",
   "metadata": {
    "colab_type": "text",
    "id": "6ezs6TcE0Ks1"
   },
   "source": [
    "## From sigmoid to ReLu\n",
    "\n",
    "Vanishing gradient problem!\n",
    "\n",
    "![](https://codelabs.developers.google.com/codelabs/cloud-tensorflow-mnist/img/29151b846e13320d.png)"
   ]
  },
  {
   "cell_type": "code",
   "execution_count": null,
   "metadata": {
    "colab": {
     "base_uri": "https://localhost:8080/",
     "height": 268
    },
    "colab_type": "code",
    "executionInfo": {
     "elapsed": 1564,
     "status": "ok",
     "timestamp": 1586341206705,
     "user": {
      "displayName": "Dario Malchiodi",
      "photoUrl": "https://lh3.googleusercontent.com/a-/AOh14GiELCr-zUeJWuHT3llF5XfHH7B3tmxiSDlls6hF=s64",
      "userId": "00228704477903575446"
     },
     "user_tz": -120
    },
    "id": "MD0ZkTg80Ks2",
    "outputId": "76e38e34-9cfd-4495-de94-696672201d58"
   },
   "outputs": [],
   "source": [
    "def relu(x):\n",
    "    return max(0, x)\n",
    "\n",
    "x_vals = np.arange(-10, 10, .5)\n",
    "plt.plot(x_vals, list(map(relu, x_vals)))\n",
    "plt.show()"
   ]
  },
  {
   "cell_type": "markdown",
   "metadata": {
    "colab_type": "text",
    "id": "vxs1Wvh50Ks6"
   },
   "source": [
    "Derivative of relu in 0? Either fix a value or use _softplus_"
   ]
  },
  {
   "cell_type": "code",
   "execution_count": null,
   "metadata": {
    "colab": {
     "base_uri": "https://localhost:8080/",
     "height": 268
    },
    "colab_type": "code",
    "executionInfo": {
     "elapsed": 1374,
     "status": "ok",
     "timestamp": 1586341202156,
     "user": {
      "displayName": "Dario Malchiodi",
      "photoUrl": "https://lh3.googleusercontent.com/a-/AOh14GiELCr-zUeJWuHT3llF5XfHH7B3tmxiSDlls6hF=s64",
      "userId": "00228704477903575446"
     },
     "user_tz": -120
    },
    "id": "WmdTZgsv0Ks7",
    "outputId": "7abee05c-1e4b-49f7-c774-ff5c6b6e07a1"
   },
   "outputs": [],
   "source": [
    "def softplus(x):\n",
    "    return  math.log(1.0 + math.e**x)\n",
    "\n",
    "plt.plot(x_vals, list(map(relu, x_vals)))\n",
    "plt.plot(x_vals, list(map(softplus, x_vals)))\n",
    "plt.show()"
   ]
  },
  {
   "cell_type": "markdown",
   "metadata": {
    "colab_type": "text",
    "id": "6aicb44I0Ks9"
   },
   "source": [
    "(by the way, note that $\\mathrm{softplus}'(x)=\\mathrm{sigmoid}(x)$)\n",
    "\n",
    "\n",
    "We will also switch to a more efficient optimizer: ADAM"
   ]
  },
  {
   "cell_type": "code",
   "execution_count": null,
   "metadata": {
    "colab": {
     "base_uri": "https://localhost:8080/",
     "height": 254
    },
    "colab_type": "code",
    "executionInfo": {
     "elapsed": 1157,
     "status": "ok",
     "timestamp": 1586341212073,
     "user": {
      "displayName": "Dario Malchiodi",
      "photoUrl": "https://lh3.googleusercontent.com/a-/AOh14GiELCr-zUeJWuHT3llF5XfHH7B3tmxiSDlls6hF=s64",
      "userId": "00228704477903575446"
     },
     "user_tz": -120
    },
    "id": "3KTNEeDnti0C",
    "outputId": "d9318ef1-3e4d-40d8-dfab-b1df2caa78e9"
   },
   "outputs": [],
   "source": [
    "model = tf.keras.Sequential(\n",
    "  [\n",
    "      tf.keras.layers.Input(shape=(28*28,)),\n",
    "      tf.keras.layers.Dense(200, activation='relu'),\n",
    "      tf.keras.layers.Dense(60, activation='relu'),\n",
    "      tf.keras.layers.Dense(10, activation='softmax')\n",
    "  ])\n",
    "\n",
    "model.compile(optimizer='adam',\n",
    "              loss='categorical_crossentropy',\n",
    "              metrics=['accuracy'])\n",
    "\n",
    "# print model layers\n",
    "model.summary()\n",
    "\n",
    "# utility callback that displays training curves\n",
    "plot_training = PlotTraining(sample_rate=10, zoom=1)"
   ]
  },
  {
   "cell_type": "code",
   "execution_count": null,
   "metadata": {
    "colab": {
     "base_uri": "https://localhost:8080/",
     "height": 467
    },
    "colab_type": "code",
    "executionInfo": {
     "elapsed": 875,
     "status": "ok",
     "timestamp": 1586341263544,
     "user": {
      "displayName": "Dario Malchiodi",
      "photoUrl": "https://lh3.googleusercontent.com/a-/AOh14GiELCr-zUeJWuHT3llF5XfHH7B3tmxiSDlls6hF=s64",
      "userId": "00228704477903575446"
     },
     "user_tz": -120
    },
    "id": "QGwNQsKytina",
    "outputId": "8c04ca8a-9a86-45d1-bf63-efcd4df4cc31"
   },
   "outputs": [],
   "source": [
    "training_dataset = get_training_dataset(training_images_file,\n",
    "                                        training_labels_file,\n",
    "                                        BATCH_SIZE)\n",
    "validation_dataset = get_validation_dataset(validation_images_file,\n",
    "                                            validation_labels_file)\n",
    "\n",
    "history = model.fit(training_dataset,\n",
    "                    steps_per_epoch=steps_per_epoch,\n",
    "                    epochs=EPOCHS,\n",
    "                    validation_data=validation_dataset,\n",
    "                    validation_steps=1,\n",
    "                    callbacks=[plot_training])"
   ]
  },
  {
   "cell_type": "markdown",
   "metadata": {
    "colab_type": "text",
    "id": "fJvyAGlh1A6T"
   },
   "source": [
    "## Let's go faster!"
   ]
  },
  {
   "cell_type": "code",
   "execution_count": null,
   "metadata": {
    "colab": {
     "base_uri": "https://localhost:8080/",
     "height": 461
    },
    "colab_type": "code",
    "executionInfo": {
     "elapsed": 285,
     "status": "ok",
     "timestamp": 1586341310477,
     "user": {
      "displayName": "Dario Malchiodi",
      "photoUrl": "https://lh3.googleusercontent.com/a-/AOh14GiELCr-zUeJWuHT3llF5XfHH7B3tmxiSDlls6hF=s64",
      "userId": "00228704477903575446"
     },
     "user_tz": -120
    },
    "id": "w9odi4wttidc",
    "outputId": "fc02bc11-3db5-46ce-e162-39ce332d208b"
   },
   "outputs": [],
   "source": [
    "model = tf.keras.Sequential(\n",
    "  [\n",
    "      tf.keras.layers.Input(shape=(28*28,)),\n",
    "      tf.keras.layers.Dense(200, activation='relu'),\n",
    "      tf.keras.layers.Dense(60, activation='relu'),\n",
    "      tf.keras.layers.Dense(10, activation='softmax')\n",
    "  ])\n",
    "\n",
    "model.compile(optimizer=tf.keras.optimizers.Adam(lr=0.01),\n",
    "              loss='categorical_crossentropy',\n",
    "              metrics=['accuracy'])\n",
    "\n",
    "training_dataset = get_training_dataset(training_images_file,\n",
    "                                        training_labels_file,\n",
    "                                        BATCH_SIZE)\n",
    "validation_dataset = get_validation_dataset(validation_images_file,\n",
    "                                            validation_labels_file)\n",
    "\n",
    "plot_training = PlotTraining(sample_rate=10, zoom=5)\n",
    "\n",
    "history = model.fit(training_dataset,\n",
    "                    steps_per_epoch=steps_per_epoch,\n",
    "                    epochs=EPOCHS,\n",
    "                    validation_data=validation_dataset,\n",
    "                    validation_steps=1,\n",
    "                    callbacks=[plot_training])"
   ]
  },
  {
   "cell_type": "markdown",
   "metadata": {
    "colab_type": "text",
    "id": "fRtlkmk94rIC"
   },
   "source": [
    "## OK, not so fast"
   ]
  },
  {
   "cell_type": "code",
   "execution_count": null,
   "metadata": {
    "colab": {
     "base_uri": "https://localhost:8080/",
     "height": 422
    },
    "colab_type": "code",
    "executionInfo": {
     "elapsed": 1638,
     "status": "ok",
     "timestamp": 1586341409882,
     "user": {
      "displayName": "Dario Malchiodi",
      "photoUrl": "https://lh3.googleusercontent.com/a-/AOh14GiELCr-zUeJWuHT3llF5XfHH7B3tmxiSDlls6hF=s64",
      "userId": "00228704477903575446"
     },
     "user_tz": -120
    },
    "id": "GoXtbemitiJ9",
    "outputId": "478e8433-2f38-4071-af5c-8394dd2e6143"
   },
   "outputs": [],
   "source": [
    "# lr decay function\n",
    "def lr_decay(epoch):\n",
    "  return 0.01 * math.pow(0.6, epoch)\n",
    "\n",
    "# lr schedule callback\n",
    "lr_decay_callback = tf.keras.callbacks.LearningRateScheduler(lr_decay, verbose=True)\n",
    "\n",
    "# important to see what you are doing\n",
    "plot_learning_rate(lr_decay, EPOCHS)"
   ]
  },
  {
   "cell_type": "code",
   "execution_count": null,
   "metadata": {
    "colab": {
     "base_uri": "https://localhost:8080/",
     "height": 461
    },
    "colab_type": "code",
    "executionInfo": {
     "elapsed": 577,
     "status": "ok",
     "timestamp": 1586341459430,
     "user": {
      "displayName": "Dario Malchiodi",
      "photoUrl": "https://lh3.googleusercontent.com/a-/AOh14GiELCr-zUeJWuHT3llF5XfHH7B3tmxiSDlls6hF=s64",
      "userId": "00228704477903575446"
     },
     "user_tz": -120
    },
    "id": "KZkvB1kX2EZz",
    "outputId": "fb134662-8e52-4a78-9495-bb873225276f"
   },
   "outputs": [],
   "source": [
    "model = tf.keras.Sequential(\n",
    "  [\n",
    "      tf.keras.layers.Input(shape=(28*28,)),\n",
    "      tf.keras.layers.Dense(200, activation='relu'),\n",
    "      tf.keras.layers.Dense(60, activation='relu'),\n",
    "      tf.keras.layers.Dense(10, activation='softmax')\n",
    "  ])\n",
    "\n",
    "model.compile(optimizer=tf.keras.optimizers.Adam(lr=0.01),\n",
    "              loss='categorical_crossentropy',\n",
    "              metrics=['accuracy'])\n",
    "\n",
    "training_dataset = get_training_dataset(training_images_file,\n",
    "                                        training_labels_file,\n",
    "                                        BATCH_SIZE)\n",
    "validation_dataset = get_validation_dataset(validation_images_file,\n",
    "                                            validation_labels_file)\n",
    "\n",
    "history = model.fit(training_dataset,\n",
    "                    steps_per_epoch=steps_per_epoch,\n",
    "                    epochs=EPOCHS,\n",
    "                    validation_data=validation_dataset,\n",
    "                    validation_steps=1,\n",
    "                    callbacks=[plot_training, lr_decay_callback])"
   ]
  },
  {
   "cell_type": "markdown",
   "metadata": {
    "colab_type": "text",
    "id": "d43KivoV5Xzl"
   },
   "source": [
    "## Why not trying a deeper net?"
   ]
  },
  {
   "cell_type": "code",
   "execution_count": null,
   "metadata": {
    "colab": {
     "base_uri": "https://localhost:8080/",
     "height": 467
    },
    "colab_type": "code",
    "executionInfo": {
     "elapsed": 410,
     "status": "ok",
     "timestamp": 1586341509321,
     "user": {
      "displayName": "Dario Malchiodi",
      "photoUrl": "https://lh3.googleusercontent.com/a-/AOh14GiELCr-zUeJWuHT3llF5XfHH7B3tmxiSDlls6hF=s64",
      "userId": "00228704477903575446"
     },
     "user_tz": -120
    },
    "id": "kELQbqPj2ESW",
    "outputId": "b328016a-d4b7-466f-81e2-73157c14bec1"
   },
   "outputs": [],
   "source": [
    "model = tf.keras.Sequential(\n",
    "  [\n",
    "      tf.keras.layers.Input(shape=(28*28,)),\n",
    "      tf.keras.layers.Dense(200, activation='relu'),\n",
    "      tf.keras.layers.Dense(100, activation='relu'),\n",
    "      tf.keras.layers.Dense(60, activation='relu'),\n",
    "      tf.keras.layers.Dense(10, activation='softmax')\n",
    "  ])\n",
    "\n",
    "model.compile(optimizer=tf.keras.optimizers.Adam(lr=0.01),\n",
    "              loss='categorical_crossentropy',\n",
    "              metrics=['accuracy'])\n",
    "\n",
    "plot_training = PlotTraining(sample_rate=10, zoom=10)\n",
    "\n",
    "training_dataset = get_training_dataset(training_images_file,\n",
    "                                        training_labels_file,\n",
    "                                        BATCH_SIZE)\n",
    "validation_dataset = get_validation_dataset(validation_images_file,\n",
    "                                            validation_labels_file)\n",
    "\n",
    "history = model.fit(training_dataset,\n",
    "                    steps_per_epoch=steps_per_epoch,\n",
    "                    epochs=EPOCHS,\n",
    "                    validation_data=validation_dataset,\n",
    "                    validation_steps=1,\n",
    "                    callbacks=[plot_training, lr_decay_callback])"
   ]
  },
  {
   "cell_type": "markdown",
   "metadata": {
    "colab_type": "text",
    "id": "1oYoGikQ5jtQ"
   },
   "source": [
    "## That's overfitting!"
   ]
  },
  {
   "cell_type": "markdown",
   "metadata": {
    "colab_type": "text",
    "id": "PShZH-IA0Kt9"
   },
   "source": [
    "## Regularization: dropout\n",
    "\n",
    "<img src=\"https://lh4.googleusercontent.com/La8YMod1QGZtaDyYw1EjKpj5UbD1TFPpDMOjObk0o8Y_QQVtxIrPKlFkT63cWwElgko1D03UuaRFyDQ-xHgyr5P99k0J5Lsxec6HC9BHRFYyqb8whYD6LJjlyoBA5aZDQ84z-UfVNA\" width=\"60%\">"
   ]
  },
  {
   "cell_type": "code",
   "execution_count": null,
   "metadata": {
    "colab": {
     "base_uri": "https://localhost:8080/",
     "height": 467
    },
    "colab_type": "code",
    "executionInfo": {
     "elapsed": 484,
     "status": "ok",
     "timestamp": 1586341566630,
     "user": {
      "displayName": "Dario Malchiodi",
      "photoUrl": "https://lh3.googleusercontent.com/a-/AOh14GiELCr-zUeJWuHT3llF5XfHH7B3tmxiSDlls6hF=s64",
      "userId": "00228704477903575446"
     },
     "user_tz": -120
    },
    "id": "9uj45Ly62EKy",
    "outputId": "10fedb7a-afa6-4bb2-8852-d48cd7056213"
   },
   "outputs": [],
   "source": [
    "model = tf.keras.Sequential(\n",
    "  [\n",
    "      tf.keras.layers.Input(shape=(28*28,)),\n",
    "      tf.keras.layers.Dense(200, activation='relu'),\n",
    "      tf.keras.layers.Dropout(0.25),\n",
    "      tf.keras.layers.Dense(100, activation='relu'),\n",
    "      tf.keras.layers.Dropout(0.25),\n",
    "      tf.keras.layers.Dense(60, activation='relu'),\n",
    "      tf.keras.layers.Dropout(0.25),\n",
    "      tf.keras.layers.Dense(10, activation='softmax')\n",
    "  ])\n",
    "\n",
    "model.compile(optimizer=tf.keras.optimizers.Adam(lr=0.01),\n",
    "              loss='categorical_crossentropy',\n",
    "              metrics=['accuracy'])\n",
    "\n",
    "plot_training = PlotTraining(sample_rate=10, zoom=10)\n",
    "\n",
    "training_dataset = get_training_dataset(training_images_file,\n",
    "                                        training_labels_file,\n",
    "                                        BATCH_SIZE)\n",
    "validation_dataset = get_validation_dataset(validation_images_file,\n",
    "                                            validation_labels_file)\n",
    "\n",
    "history = model.fit(training_dataset,\n",
    "                    steps_per_epoch=steps_per_epoch,\n",
    "                    epochs=EPOCHS,\n",
    "                    validation_data=validation_dataset,\n",
    "                    validation_steps=1,\n",
    "                    callbacks=[plot_training, lr_decay_callback])"
   ]
  },
  {
   "cell_type": "markdown",
   "metadata": {
    "colab_type": "text",
    "id": "25Hqzznd7B_1"
   },
   "source": [
    "## Not really worked, yeah?"
   ]
  },
  {
   "cell_type": "markdown",
   "metadata": {
    "colab_type": "text",
    "id": "vKMv4mt60KuQ"
   },
   "source": [
    "## Convolutional networks\n",
    "\n",
    "![Convolution](https://codelabs.developers.google.com/static/codelabs/cloud-tensorflow-mnist/img/ca8f34f3d28ea528.gif)\n",
    "\n",
    "![Used convolutional network](https://codelabs.developers.google.com/static/codelabs/cloud-tensorflow-mnist/img/d1b557707bcd1cb9_1920.png)\n",
    "\n",
    "![](https://codelabs.developers.google.com/static/codelabs/cloud-tensorflow-mnist/img/2b2d4263bb8470b.gif)\n",
    "\n",
    "![](https://codelabs.developers.google.com/static/codelabs/cloud-tensorflow-mnist/img/a44aa392c7b0e32a_1920.png)"
   ]
  },
  {
   "cell_type": "markdown",
   "metadata": {
    "colab_type": "text",
    "id": "YwXywIyG9yHF"
   },
   "source": [
    "## The used CNN"
   ]
  },
  {
   "cell_type": "markdown",
   "metadata": {
    "colab_type": "text",
    "id": "xczovhgr9jRx"
   },
   "source": [
    "![The used CNN](https://codelabs.developers.google.com/codelabs/cloud-tensorflow-mnist/img/e1a214a170957da1.png)"
   ]
  },
  {
   "cell_type": "code",
   "execution_count": null,
   "metadata": {
    "colab": {
     "base_uri": "https://localhost:8080/",
     "height": 389
    },
    "colab_type": "code",
    "executionInfo": {
     "elapsed": 969,
     "status": "ok",
     "timestamp": 1586341586595,
     "user": {
      "displayName": "Dario Malchiodi",
      "photoUrl": "https://lh3.googleusercontent.com/a-/AOh14GiELCr-zUeJWuHT3llF5XfHH7B3tmxiSDlls6hF=s64",
      "userId": "00228704477903575446"
     },
     "user_tz": -120
    },
    "id": "9Mca9c5J2EAJ",
    "outputId": "ebb2d1da-6a94-4972-f459-f695f53a43e9"
   },
   "outputs": [],
   "source": [
    "model = tf.keras.Sequential(\n",
    "  [\n",
    "      tf.keras.layers.Reshape(input_shape=(28*28,), target_shape=(28, 28, 1)),\n",
    "      tf.keras.layers.Conv2D(kernel_size=3, filters=12,\n",
    "                             activation='relu', padding='same'),\n",
    "      tf.keras.layers.Conv2D(kernel_size=6, filters=24,\n",
    "                             activation='relu', padding='same', strides=2),\n",
    "      tf.keras.layers.Conv2D(kernel_size=6, filters=32,\n",
    "                             activation='relu', padding='same', strides=2),\n",
    "      tf.keras.layers.Flatten(),\n",
    "      tf.keras.layers.Dense(200, activation='relu'),\n",
    "      tf.keras.layers.Dense(10, activation='softmax')\n",
    "  ])\n",
    "\n",
    "model.compile(optimizer=tf.keras.optimizers.Adam(lr=0.01),\n",
    "              loss='categorical_crossentropy',\n",
    "              metrics=['accuracy'])\n",
    "\n",
    "# print model layers\n",
    "model.summary()\n",
    "\n",
    "# utility callback that displays training curves\n",
    "plot_training = PlotTraining(sample_rate=10, zoom=16)"
   ]
  },
  {
   "cell_type": "code",
   "execution_count": null,
   "metadata": {
    "colab": {
     "base_uri": "https://localhost:8080/",
     "height": 461
    },
    "colab_type": "code",
    "executionInfo": {
     "elapsed": 298,
     "status": "ok",
     "timestamp": 1586341681150,
     "user": {
      "displayName": "Dario Malchiodi",
      "photoUrl": "https://lh3.googleusercontent.com/a-/AOh14GiELCr-zUeJWuHT3llF5XfHH7B3tmxiSDlls6hF=s64",
      "userId": "00228704477903575446"
     },
     "user_tz": -120
    },
    "id": "D5-17roG2D3O",
    "outputId": "ac84aacc-ce5c-4153-8213-4dd15e9da906"
   },
   "outputs": [],
   "source": [
    "training_dataset = get_training_dataset(training_images_file,\n",
    "                                        training_labels_file,\n",
    "                                        BATCH_SIZE)\n",
    "validation_dataset = get_validation_dataset(validation_images_file,\n",
    "                                            validation_labels_file)\n",
    "\n",
    "history = model.fit(training_dataset,\n",
    "                    steps_per_epoch=steps_per_epoch,\n",
    "                    epochs=EPOCHS,\n",
    "                    validation_data=validation_dataset,\n",
    "                    validation_steps=1,\n",
    "                    callbacks=[plot_training, lr_decay_callback])"
   ]
  },
  {
   "cell_type": "markdown",
   "metadata": {
    "colab_type": "text",
    "id": "hc8cfGQj_CS2"
   },
   "source": [
    "## Let's see predictions, instead of loss/accuracy!"
   ]
  },
  {
   "cell_type": "code",
   "execution_count": null,
   "metadata": {
    "colab": {
     "base_uri": "https://localhost:8080/",
     "height": 561
    },
    "colab_type": "code",
    "executionInfo": {
     "elapsed": 3813,
     "status": "ok",
     "timestamp": 1586341693875,
     "user": {
      "displayName": "Dario Malchiodi",
      "photoUrl": "https://lh3.googleusercontent.com/a-/AOh14GiELCr-zUeJWuHT3llF5XfHH7B3tmxiSDlls6hF=s64",
      "userId": "00228704477903575446"
     },
     "user_tz": -120
    },
    "id": "pHtl6UNU2Dtj",
    "outputId": "9626761b-0fa4-43ba-caae-6a7b3dfe9846"
   },
   "outputs": [],
   "source": [
    "# recognize digits from local fonts\n",
    "probabilities = model.predict(font_digits, steps=1)\n",
    "predicted_labels = np.argmax(probabilities, axis=1)\n",
    "display_digits(font_digits, predicted_labels,\n",
    "               font_labels,\n",
    "               'predictions from local fonts (bad predictions in red)', N)\n",
    "\n",
    "# recognize validation digits\n",
    "probabilities = model.predict(validation_digits, steps=1)\n",
    "predicted_labels = np.argmax(probabilities, axis=1)\n",
    "display_top_unrecognized(validation_digits, predicted_labels,\n",
    "                         validation_labels, N, 7)"
   ]
  },
  {
   "cell_type": "markdown",
   "metadata": {
    "colab_type": "text",
    "id": "4JJYLIIg_jyK"
   },
   "source": [
    "## Let's add dropout again"
   ]
  },
  {
   "cell_type": "code",
   "execution_count": null,
   "metadata": {
    "colab": {
     "base_uri": "https://localhost:8080/",
     "height": 423
    },
    "colab_type": "code",
    "executionInfo": {
     "elapsed": 1051,
     "status": "ok",
     "timestamp": 1586341704994,
     "user": {
      "displayName": "Dario Malchiodi",
      "photoUrl": "https://lh3.googleusercontent.com/a-/AOh14GiELCr-zUeJWuHT3llF5XfHH7B3tmxiSDlls6hF=s64",
      "userId": "00228704477903575446"
     },
     "user_tz": -120
    },
    "id": "fUimAh8J_jYY",
    "outputId": "6d0c9967-7238-492a-f5d5-c1023c4ca71f"
   },
   "outputs": [],
   "source": [
    "model = tf.keras.Sequential(\n",
    "  [\n",
    "      tf.keras.layers.Reshape(input_shape=(28*28,), target_shape=(28, 28, 1)),\n",
    "      tf.keras.layers.Conv2D(kernel_size=3, filters=12,\n",
    "                             activation='relu', padding='same'),\n",
    "      tf.keras.layers.Conv2D(kernel_size=6, filters=24,\n",
    "                             activation='relu', padding='same', strides=2),\n",
    "      tf.keras.layers.Conv2D(kernel_size=6, filters=32,\n",
    "                             activation='relu', padding='same', strides=2),\n",
    "      tf.keras.layers.Flatten(),\n",
    "      tf.keras.layers.Dense(200, activation='relu'),\n",
    "      tf.keras.layers.Dropout(0.4),\n",
    "      tf.keras.layers.Dense(10, activation='softmax')\n",
    "  ])\n",
    "\n",
    "model.compile(optimizer=tf.keras.optimizers.Adam(lr=0.01),\n",
    "              loss='categorical_crossentropy',\n",
    "              metrics=['accuracy'])\n",
    "\n",
    "# print model layers\n",
    "model.summary()\n",
    "\n",
    "# utility callback that displays training curves\n",
    "plot_training = PlotTraining(sample_rate=10, zoom=16)"
   ]
  },
  {
   "cell_type": "code",
   "execution_count": null,
   "metadata": {
    "colab": {
     "base_uri": "https://localhost:8080/",
     "height": 461
    },
    "colab_type": "code",
    "executionInfo": {
     "elapsed": 280,
     "status": "ok",
     "timestamp": 1586341780567,
     "user": {
      "displayName": "Dario Malchiodi",
      "photoUrl": "https://lh3.googleusercontent.com/a-/AOh14GiELCr-zUeJWuHT3llF5XfHH7B3tmxiSDlls6hF=s64",
      "userId": "00228704477903575446"
     },
     "user_tz": -120
    },
    "id": "r0Qvui6q_jNt",
    "outputId": "5285d322-dc21-40bf-846e-c60e7bc488da"
   },
   "outputs": [],
   "source": [
    "training_dataset = get_training_dataset(training_images_file,\n",
    "                                        training_labels_file,\n",
    "                                        BATCH_SIZE)\n",
    "validation_dataset = get_validation_dataset(validation_images_file,\n",
    "                                            validation_labels_file)\n",
    "\n",
    "history = model.fit(training_dataset,\n",
    "                    steps_per_epoch=steps_per_epoch,\n",
    "                    epochs=EPOCHS,\n",
    "                    validation_data=validation_dataset,\n",
    "                    validation_steps=1,\n",
    "                    callbacks=[plot_training, lr_decay_callback])"
   ]
  },
  {
   "cell_type": "markdown",
   "metadata": {
    "colab_type": "text",
    "id": "q4ocIU5kjKPi"
   },
   "source": [
    "## Batch normalization\n",
    "\n",
    "![](https://lh5.googleusercontent.com/zmr3jO6E-N5hGCeor77HnMAv4mLn4XM4wHnVFGBkdXg_An-zc98Elxx5WpyzizAxl6s1uf6WY246mUjosC8bR75lf2MELcLPRT_StiNWZ3CCnQj4KMyu7dgv__PHLaHoKoQ71waRyQ)\n",
    "\n",
    "![](https://lh4.googleusercontent.com/elT17KcIiCOqDJ6qhIJv4Szn6UNA0x-Rgt5S04msp4ge6mRWaD-SKp0ks9bnEl-bbYc_NGfzL77c9CGxneE23jaY5BLsLo0JP63lIMTygBK3LQAFYNJv64qDgkaIEVnhuiAZwBlkmQ)\n",
    "\n",
    "![](https://lh4.googleusercontent.com/10YpnDuAXOuDbBFhR0YzIL9tko_9JcACgBZI_gq7lKE1qCDeRr75b4pcJv5Ucl6GQqcmk9Vv_2z8lo8qv2X6l139v5T0yhgxHKhwDyEBC5sq7PbAcfjXBdj7Z02trb5pl22wzZE9hQ)"
   ]
  },
  {
   "cell_type": "code",
   "execution_count": null,
   "metadata": {
    "colab": {
     "base_uri": "https://localhost:8080/",
     "height": 694
    },
    "colab_type": "code",
    "executionInfo": {
     "elapsed": 1036,
     "status": "ok",
     "timestamp": 1586341807408,
     "user": {
      "displayName": "Dario Malchiodi",
      "photoUrl": "https://lh3.googleusercontent.com/a-/AOh14GiELCr-zUeJWuHT3llF5XfHH7B3tmxiSDlls6hF=s64",
      "userId": "00228704477903575446"
     },
     "user_tz": -120
    },
    "id": "qPXKH96-_i4V",
    "outputId": "2503258b-6380-4385-edf0-2a3d95130431"
   },
   "outputs": [],
   "source": [
    "model = tf.keras.Sequential(\n",
    "  [\n",
    "      tf.keras.layers.Reshape(input_shape=(28*28,), target_shape=(28, 28, 1)),\n",
    "      \n",
    "      tf.keras.layers.Conv2D(kernel_size=3, filters=12,\n",
    "                             use_bias=False, padding='same'),\n",
    "      tf.keras.layers.BatchNormalization(center=True, scale=False),\n",
    "      tf.keras.layers.Activation('relu'),\n",
    "      \n",
    "      tf.keras.layers.Conv2D(kernel_size=6, filters=24,\n",
    "                             use_bias=False, padding='same', strides=2),\n",
    "      tf.keras.layers.BatchNormalization(center=True, scale=False),\n",
    "      tf.keras.layers.Activation('relu'),\n",
    "      \n",
    "      tf.keras.layers.Conv2D(kernel_size=6, filters=32,\n",
    "                             use_bias=False, padding='same', strides=2),\n",
    "      tf.keras.layers.BatchNormalization(center=True, scale=False),\n",
    "      tf.keras.layers.Activation('relu'),\n",
    "      \n",
    "      tf.keras.layers.Flatten(),\n",
    "      \n",
    "      tf.keras.layers.Dense(200, use_bias=False),\n",
    "      tf.keras.layers.BatchNormalization(center=True, scale=False),\n",
    "      tf.keras.layers.Activation('relu'),\n",
    "      \n",
    "      tf.keras.layers.Dropout(0.3),\n",
    "      tf.keras.layers.Dense(10, activation='softmax')\n",
    "  ])\n",
    "\n",
    "model.compile(optimizer=tf.keras.optimizers.Adam(lr=0.01),\n",
    "              loss='categorical_crossentropy',\n",
    "              metrics=['accuracy'])\n",
    "\n",
    "# print model layers\n",
    "model.summary()\n",
    "\n",
    "# utility callback that displays training curves\n",
    "plot_training = PlotTraining(sample_rate=10, zoom=16)"
   ]
  },
  {
   "cell_type": "code",
   "execution_count": null,
   "metadata": {
    "colab": {
     "base_uri": "https://localhost:8080/",
     "height": 461
    },
    "colab_type": "code",
    "executionInfo": {
     "elapsed": 314,
     "status": "ok",
     "timestamp": 1586341888191,
     "user": {
      "displayName": "Dario Malchiodi",
      "photoUrl": "https://lh3.googleusercontent.com/a-/AOh14GiELCr-zUeJWuHT3llF5XfHH7B3tmxiSDlls6hF=s64",
      "userId": "00228704477903575446"
     },
     "user_tz": -120
    },
    "id": "il4Qi3Jy_it9",
    "outputId": "3eab31c5-ae46-4398-c1ea-968731be49b0"
   },
   "outputs": [],
   "source": [
    "training_dataset = get_training_dataset(training_images_file,\n",
    "                                        training_labels_file,\n",
    "                                        BATCH_SIZE)\n",
    "validation_dataset = get_validation_dataset(validation_images_file,\n",
    "                                            validation_labels_file)\n",
    "\n",
    "history = model.fit(training_dataset,\n",
    "                    steps_per_epoch=steps_per_epoch,\n",
    "                    epochs=EPOCHS,\n",
    "                    validation_data=validation_dataset,\n",
    "                    validation_steps=1,\n",
    "                    callbacks=[plot_training, lr_decay_callback])"
   ]
  },
  {
   "cell_type": "code",
   "execution_count": null,
   "metadata": {
    "colab": {
     "base_uri": "https://localhost:8080/",
     "height": 561
    },
    "colab_type": "code",
    "executionInfo": {
     "elapsed": 3679,
     "status": "ok",
     "timestamp": 1586341902832,
     "user": {
      "displayName": "Dario Malchiodi",
      "photoUrl": "https://lh3.googleusercontent.com/a-/AOh14GiELCr-zUeJWuHT3llF5XfHH7B3tmxiSDlls6hF=s64",
      "userId": "00228704477903575446"
     },
     "user_tz": -120
    },
    "id": "Ob89Ebms_ii3",
    "outputId": "88216fa1-bdb3-435b-88c9-df2a2be0fc3a"
   },
   "outputs": [],
   "source": [
    "# recognize digits from local fonts\n",
    "probabilities = model.predict(font_digits, steps=1)\n",
    "predicted_labels = np.argmax(probabilities, axis=1)\n",
    "display_digits(font_digits, predicted_labels, font_labels,\n",
    "               'predictions from local fonts (bad predictions in red)', N)\n",
    "\n",
    "# recognize validation digits\n",
    "probabilities = model.predict(validation_digits, steps=1)\n",
    "predicted_labels = np.argmax(probabilities, axis=1)\n",
    "display_top_unrecognized(validation_digits, predicted_labels,\n",
    "                         validation_labels, N, 7)"
   ]
  },
  {
   "cell_type": "code",
   "execution_count": null,
   "metadata": {
    "colab": {
     "base_uri": "https://localhost:8080/",
     "height": 998
    },
    "colab_type": "code",
    "executionInfo": {
     "elapsed": 807,
     "status": "ok",
     "timestamp": 1586342020805,
     "user": {
      "displayName": "Dario Malchiodi",
      "photoUrl": "https://lh3.googleusercontent.com/a-/AOh14GiELCr-zUeJWuHT3llF5XfHH7B3tmxiSDlls6hF=s64",
      "userId": "00228704477903575446"
     },
     "user_tz": -120
    },
    "id": "MGkbV9RHCt9u",
    "outputId": "919de962-3d18-4304-9e82-549320548cd3"
   },
   "outputs": [],
   "source": [
    "base_html='''\n",
    "<div id=\"canvasDiv-{0}\" style=\"float: left; margin-right: 2em;\"></div>\n",
    "<div id=\"resultDiv-{0}\"></div>\n",
    "<div style=\"clear: both;\">\n",
    "<button id=\"button\" onClick=\"get_image_{0}()\">Classify</button>\n",
    "<button onClick=\"clear_image()\">Clear canvas</button>\n",
    "</div>\n",
    "'''\n",
    "\n",
    "base_js='''\n",
    "const div = document.getElementById('canvasDiv-{0}');\n",
    "canvas = document.createElement('canvas');\n",
    "canvas.setAttribute('width', 200);\n",
    "canvas.setAttribute('height', 200);\n",
    "canvas.setAttribute('id', 'canvas-{0}');\n",
    "canvas.setAttribute('style', 'border: 1px solid black; heigth: 5em;');\n",
    "div.appendChild(canvas);\n",
    "if(typeof G_vmlCanvasManager != 'undefined') {\n",
    "    canvas = G_vmlCanvasManager.initElement(canvas);\n",
    "}\n",
    "\n",
    "context = canvas.getContext(\"2d\");\n",
    "\n",
    "function getMousePos(canvas, e) {\n",
    "    var rect = canvas.getBoundingClientRect();\n",
    "    return { x: e.clientX - rect.left, y: e.clientY - rect.top };\n",
    "};\n",
    "\n",
    "canvas.addEventListener('mousedown', function(e){\n",
    "    var pos = getMousePos(canvas, e);\n",
    "    var mouseX = pos.x;\n",
    "    var mouseY = pos.y;\n",
    "\n",
    "    paint = true;\n",
    "    addClick(mouseX, mouseY);\n",
    "    redraw();\n",
    "});\n",
    "\n",
    "\n",
    "canvas.addEventListener('mousemove', function(e){\n",
    "    if(paint){\n",
    "        var pos = getMousePos(canvas, e);\n",
    "        var mouseX = pos.x;\n",
    "        var mouseY = pos.y;\n",
    "        addClick(mouseX, mouseY, true);\n",
    "        redraw();\n",
    "    }\n",
    "});\n",
    "\n",
    "canvas.addEventListener('mouseup', function(e){\n",
    "    paint = false;\n",
    "});\n",
    "\n",
    "canvas.addEventListener('mouseleave', function(e){\n",
    "    paint = false;\n",
    "});\n",
    "\n",
    "\n",
    "var clickX = new Array();\n",
    "var clickY = new Array();\n",
    "var clickDrag = new Array();\n",
    "var paint;\n",
    "\n",
    "\n",
    "function addClick(x, y, dragging)\n",
    "{\n",
    "    clickX.push(x);\n",
    "    clickY.push(y);\n",
    "    clickDrag.push(dragging);\n",
    "}\n",
    "\n",
    "function redraw(){\n",
    "    context.clearRect(0, 0, context.canvas.width, context.canvas.height);\n",
    "  \n",
    "    context.strokeStyle = \"#111111\";\n",
    "    context.lineJoin = \"round\";\n",
    "    context.lineWidth = 13;\n",
    "\n",
    "    for(var i=0; i < clickX.length; i++) {\n",
    "        context.beginPath();\n",
    "        if(clickDrag[i] && i){\n",
    "            context.moveTo(clickX[i-1], clickY[i-1]);\n",
    "        }else{\n",
    "            context.moveTo(clickX[i]-1, clickY[i]);\n",
    "        }\n",
    "        context.lineTo(clickX[i], clickY[i]);\n",
    "        context.closePath();\n",
    "        context.stroke();\n",
    "    }\n",
    "}\n",
    "\n",
    "function callback(msg){\n",
    "  console.log(msg);\n",
    "  res = msg.content.data[\"text/plain\"];\n",
    "  document.getElementById(\"resultDiv-{0}\").innerHTML = res.substr(1, res.length-2);\n",
    "  console.log(res);\n",
    "}\n",
    "\n",
    "\n",
    "function get_image_{0}() {\n",
    "    console.log('in get_image_{0}');\n",
    "    var canvas = document.getElementById('canvas-{0}');\n",
    "    var ctx = canvas.getContext('2d');\n",
    "    image_url = canvas.toDataURL();\n",
    "    console.log(image_url);\n",
    "};\n",
    "\n",
    "\n",
    "function clear_image() {\n",
    "    context.clearRect(0, 0, context.canvas.width, context.canvas.height);\n",
    "    clickX = new Array();\n",
    "    clickY = new Array();\n",
    "    clickDrag = new Array();\n",
    "};\n",
    "\n",
    "\n",
    "document.querySelector('#button').onclick = () => {\n",
    "        google.colab.kernel.invokeFunction('notebook.classify', [canvas.toDataURL()], {});\n",
    "      };\n",
    "\n",
    "'''\n",
    "\n",
    "display(HTML(base_html.replace('{0}', 'pp')))\n",
    "display(Javascript(base_js.replace('{0}', 'pp')))\n",
    "\n",
    "def classify(data):\n",
    "\n",
    "  im = Image.open(io.BytesIO(base64.b64decode(data.split(',')[1])))\n",
    "  im_28x28 = im.convert('L').resize([28, 28]) #, resample=PIL.Image.ANTIALIAS)\n",
    "  \n",
    "  im_flat = list(im_28x28.getdata())\n",
    "  result = model.predict([im_flat])\n",
    "  \n",
    "  #clear_output()\n",
    "  plt.bar(range(10), result[0])\n",
    "  plt.xticks(range(10))\n",
    "  plt.show()\n",
    "\n",
    "\n",
    "output.register_callback('notebook.classify', classify)"
   ]
  },
  {
   "cell_type": "code",
   "execution_count": null,
   "metadata": {
    "colab": {},
    "colab_type": "code",
    "id": "tKPTv-3B0KvF"
   },
   "outputs": [],
   "source": []
  }
 ],
 "metadata": {
  "accelerator": "GPU",
  "colab": {
   "collapsed_sections": [],
   "name": "deep-learning-tutorial.ipynb",
   "provenance": []
  },
  "kernelspec": {
   "display_name": "Python 3 (ipykernel)",
   "language": "python",
   "name": "python3"
  },
  "language_info": {
   "codemirror_mode": {
    "name": "ipython",
    "version": 3
   },
   "file_extension": ".py",
   "mimetype": "text/x-python",
   "name": "python",
   "nbconvert_exporter": "python",
   "pygments_lexer": "ipython3",
   "version": "3.9.12"
  },
  "widgets": {
   "application/vnd.jupyter.widget-state+json": {
    "2e2d586380e84719aad23610a298c480": {
     "model_module": "@jupyter-widgets/base",
     "model_name": "LayoutModel",
     "state": {
      "_model_module": "@jupyter-widgets/base",
      "_model_module_version": "1.2.0",
      "_model_name": "LayoutModel",
      "_view_count": null,
      "_view_module": "@jupyter-widgets/base",
      "_view_module_version": "1.2.0",
      "_view_name": "LayoutView",
      "align_content": null,
      "align_items": null,
      "align_self": null,
      "border": null,
      "bottom": null,
      "display": null,
      "flex": null,
      "flex_flow": null,
      "grid_area": null,
      "grid_auto_columns": null,
      "grid_auto_flow": null,
      "grid_auto_rows": null,
      "grid_column": null,
      "grid_gap": null,
      "grid_row": null,
      "grid_template_areas": null,
      "grid_template_columns": null,
      "grid_template_rows": null,
      "height": null,
      "justify_content": null,
      "justify_items": null,
      "left": null,
      "margin": null,
      "max_height": null,
      "max_width": null,
      "min_height": null,
      "min_width": null,
      "object_fit": null,
      "object_position": null,
      "order": null,
      "overflow": null,
      "overflow_x": null,
      "overflow_y": null,
      "padding": null,
      "right": null,
      "top": null,
      "visibility": null,
      "width": null
     }
    },
    "3e86fbf348d8445e95fd79d0881973b3": {
     "model_module": "@jupyter-widgets/controls",
     "model_name": "VBoxModel",
     "state": {
      "_dom_classes": [
       "widget-interact"
      ],
      "_model_module": "@jupyter-widgets/controls",
      "_model_module_version": "1.5.0",
      "_model_name": "VBoxModel",
      "_view_count": null,
      "_view_module": "@jupyter-widgets/controls",
      "_view_module_version": "1.5.0",
      "_view_name": "VBoxView",
      "box_style": "",
      "children": [
       "IPY_MODEL_99b49a9130d243b09e8fe8f5cfdf671e",
       "IPY_MODEL_fa471790d261460fbf1dedbea7d402f4"
      ],
      "layout": "IPY_MODEL_e5624ed5327745a680a530cf48484a34"
     }
    },
    "5059136cecd049a28cfa048e30558735": {
     "model_module": "@jupyter-widgets/base",
     "model_name": "LayoutModel",
     "state": {
      "_model_module": "@jupyter-widgets/base",
      "_model_module_version": "1.2.0",
      "_model_name": "LayoutModel",
      "_view_count": null,
      "_view_module": "@jupyter-widgets/base",
      "_view_module_version": "1.2.0",
      "_view_name": "LayoutView",
      "align_content": null,
      "align_items": null,
      "align_self": null,
      "border": null,
      "bottom": null,
      "display": null,
      "flex": null,
      "flex_flow": null,
      "grid_area": null,
      "grid_auto_columns": null,
      "grid_auto_flow": null,
      "grid_auto_rows": null,
      "grid_column": null,
      "grid_gap": null,
      "grid_row": null,
      "grid_template_areas": null,
      "grid_template_columns": null,
      "grid_template_rows": null,
      "height": null,
      "justify_content": null,
      "justify_items": null,
      "left": null,
      "margin": null,
      "max_height": null,
      "max_width": null,
      "min_height": null,
      "min_width": null,
      "object_fit": null,
      "object_position": null,
      "order": null,
      "overflow": null,
      "overflow_x": null,
      "overflow_y": null,
      "padding": null,
      "right": null,
      "top": null,
      "visibility": null,
      "width": null
     }
    },
    "99b49a9130d243b09e8fe8f5cfdf671e": {
     "model_module": "@jupyter-widgets/controls",
     "model_name": "FloatSliderModel",
     "state": {
      "_dom_classes": [],
      "_model_module": "@jupyter-widgets/controls",
      "_model_module_version": "1.5.0",
      "_model_name": "FloatSliderModel",
      "_view_count": null,
      "_view_module": "@jupyter-widgets/controls",
      "_view_module_version": "1.5.0",
      "_view_name": "FloatSliderView",
      "continuous_update": true,
      "description": "beta",
      "description_tooltip": null,
      "disabled": false,
      "layout": "IPY_MODEL_2e2d586380e84719aad23610a298c480",
      "max": 10,
      "min": 0.01,
      "orientation": "horizontal",
      "readout": true,
      "readout_format": ".2f",
      "step": 0.1,
      "style": "IPY_MODEL_f0b5e575d004434c8a2645e6bedfbbb1",
      "value": 1
     }
    },
    "e5624ed5327745a680a530cf48484a34": {
     "model_module": "@jupyter-widgets/base",
     "model_name": "LayoutModel",
     "state": {
      "_model_module": "@jupyter-widgets/base",
      "_model_module_version": "1.2.0",
      "_model_name": "LayoutModel",
      "_view_count": null,
      "_view_module": "@jupyter-widgets/base",
      "_view_module_version": "1.2.0",
      "_view_name": "LayoutView",
      "align_content": null,
      "align_items": null,
      "align_self": null,
      "border": null,
      "bottom": null,
      "display": null,
      "flex": null,
      "flex_flow": null,
      "grid_area": null,
      "grid_auto_columns": null,
      "grid_auto_flow": null,
      "grid_auto_rows": null,
      "grid_column": null,
      "grid_gap": null,
      "grid_row": null,
      "grid_template_areas": null,
      "grid_template_columns": null,
      "grid_template_rows": null,
      "height": null,
      "justify_content": null,
      "justify_items": null,
      "left": null,
      "margin": null,
      "max_height": null,
      "max_width": null,
      "min_height": null,
      "min_width": null,
      "object_fit": null,
      "object_position": null,
      "order": null,
      "overflow": null,
      "overflow_x": null,
      "overflow_y": null,
      "padding": null,
      "right": null,
      "top": null,
      "visibility": null,
      "width": null
     }
    },
    "f0b5e575d004434c8a2645e6bedfbbb1": {
     "model_module": "@jupyter-widgets/controls",
     "model_name": "SliderStyleModel",
     "state": {
      "_model_module": "@jupyter-widgets/controls",
      "_model_module_version": "1.5.0",
      "_model_name": "SliderStyleModel",
      "_view_count": null,
      "_view_module": "@jupyter-widgets/base",
      "_view_module_version": "1.2.0",
      "_view_name": "StyleView",
      "description_width": "",
      "handle_color": null
     }
    },
    "fa471790d261460fbf1dedbea7d402f4": {
     "model_module": "@jupyter-widgets/output",
     "model_name": "OutputModel",
     "state": {
      "_dom_classes": [],
      "_model_module": "@jupyter-widgets/output",
      "_model_module_version": "1.0.0",
      "_model_name": "OutputModel",
      "_view_count": null,
      "_view_module": "@jupyter-widgets/output",
      "_view_module_version": "1.0.0",
      "_view_name": "OutputView",
      "layout": "IPY_MODEL_5059136cecd049a28cfa048e30558735",
      "msg_id": "",
      "outputs": [
       {
        "image/png": "iVBORw0KGgoAAAANSUhEUgAAAXcAAAD7CAYAAACRxdTpAAAABHNCSVQICAgIfAhkiAAAAAlwSFlz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\n42UzMM0yBfkAAAAASUVORK5CYII=\n",
        "metadata": {
         "tags": []
        },
        "output_type": "display_data",
        "text/plain": "<Figure size 432x288 with 1 Axes>"
       }
      ]
     }
    }
   }
  }
 },
 "nbformat": 4,
 "nbformat_minor": 1
}
