{
 "cells": [
  {
   "attachments": {},
   "cell_type": "markdown",
   "metadata": {},
   "source": [
    "# Algorithms for Massive Datasets\n"
   ]
  },
  {
   "attachments": {},
   "cell_type": "markdown",
   "metadata": {},
   "source": [
    "\n",
    "Hadoop first open source implementation of distributed file system based on Google File System.\n",
    "\n",
    "Tabular structure of file index in which is indicated where a part of file is stored.\n",
    "Two replicas of file in a rack (fast search and access in same rack), one in another.\n",
    "\n",
    "After the creation of replicas of chunks the main node update the meta-data for the file and it become available in distributed file system.\n"
   ]
  },
  {
   "attachments": {},
   "cell_type": "markdown",
   "metadata": {},
   "source": [
    "## Map-Reduce\n",
    "File devided in chunks, each one devided in records (or lines).\n",
    "\n",
    "Map function operates on single records.\n",
    "\n",
    "Example:\n",
    "$$\n",
    "(k, l) \\xrightarrow{MAP} \\forall w \\in l.split()\\\\\n",
    "output: (w, 1)\n",
    "$$\n",
    "Master Node Controller supervise all operations.\n",
    "\n",
    "$$\n",
    "(w,(1,1,\\dots, 1) := S) \\xrightarrow{REDUCE} (w, len(S))\n",
    "$$\n"
   ]
  },
  {
   "attachments": {},
   "cell_type": "markdown",
   "metadata": {},
   "source": [
    "\n",
    "## Relational Algebra\n",
    "Abstract: The mathematical formulation of SQL queries.\n",
    "\n",
    "Relation (represents a table):\n",
    "$$\n",
    "    R(A,B) \\subseteq A \\times B\n",
    "$$\n",
    "\n",
    "* Selection: $\\sigma_C(R) \\qquad C \\text{ is a boolean criterion} $\n",
    "$$\n",
    "    \\forall t\\in R \\xrightarrow{MAP} (t,t) \\text{ if } c(t) \\\\\n",
    "    (t, (t))\\xrightarrow{REDUCE} (t,t)\n",
    "$$\n",
    "\n",
    "* Projection: $\\pi_S(R)$ where $S$ is a set of attributes\n",
    "$$\n",
    "    \\forall t\\in R \\xrightarrow{MAP} (t',t') \\\\\n",
    "    (t', (t',\\dots, t')) \\xrightarrow{REDUCE} (t',t')\n",
    "$$\n",
    "\n",
    "* Set operations: union, intersection, set difference.\n",
    "\n",
    "Union:\n",
    "$$\n",
    "    \\forall t\\in R \\xrightarrow{MAP} (t,t)\\; , \\qquad \\forall t\\in S \\xrightarrow{MAP} (t,t) \\\\\n",
    "    (t, (t)) \\xrightarrow{REDUCE} (t,t)\\\\\n",
    "    (t, (t,t))\\xrightarrow{REDUCE} (t,t)\n",
    "$$\n",
    "Intersection:\n",
    "$$\n",
    "    \\forall t\\in R \\xrightarrow{MAP} (t,t)\\; , \\qquad \\forall t\\in S \\xrightarrow{MAP} (t,t) \\\\\n",
    "    (t, (t)) \\xrightarrow{REDUCE} \\emptyset\\\\\n",
    "    (t, (t,t))\\xrightarrow{REDUCE} (t,t)\n",
    "$$\n",
    "Set difference:\n",
    "$$\n",
    "    \\forall t\\in R \\xrightarrow{MAP} (t, 'R')\\; , \\qquad \\forall t\\in S \\xrightarrow{MAP} (t,'S') \\\\\n",
    "    (t, R) \\xrightarrow{REDUCE} (t,t)\\\\\n",
    "    (t, S) \\xrightarrow{REDUCE} \\emptyset \\\\\n",
    "    (t, (R,S)) \\xrightarrow{REDUCE} \\emptyset\n",
    "$$\n",
    "* Aggr. + group: $ \\gamma_{A, \\theta(B)}(R) $\n",
    "$$\n",
    "    \\forall (a,b)\\in R \\xrightarrow{MAP} (a,b)\\\\\n",
    "    (a,(b_1,\\dots,b_n)) \\xrightarrow{REDUCE} (a, \\theta(b_1,\\dots,b_n))\n",
    "$$\n",
    "* Joins: $R(A.B) \\bowtie S(B,C)$\n",
    "$$\n",
    "    \\forall (a,b)\\in R \\xrightarrow{MAP_R} (b,(a, 'R')) \\\\\n",
    "    \\forall (b,c)\\in S \\xrightarrow{MAP_S} (b, (c, 'S')) \\\\\n",
    "    (b, ((a_1,R),(c_1, S), (c_3, S),(a_2, R),\\dots)) \\xrightarrow{REDUCE} \n",
    "$$\n",
    "1. sort $l$ using 2nd elem as primary key\n",
    "2. $\\alpha$ list of elems from $R$\n",
    "3. $\\beta$ list of elems from $S$\n",
    "4. $\\forall (a,c) \\in \\alpha\\times\\beta$\n",
    "5. output: $(a,b,c)$"
   ]
  },
  {
   "attachments": {},
   "cell_type": "markdown",
   "metadata": {},
   "source": [
    "### Product of matrices\n",
    "$$\n",
    "    A=[a_{ik}]_{m\\times n}, \\qquad B=[b_{k,j}]_{n\\times o} \\qquad P=AB=[p_{ij}]_{m\\times o}\\quad p_{ij} =\\sum_{k=1}^n a_{ik}b_[kj ]\\\\\n",
    "    (i, k, a_{ik}) \\in A(I,K,V)\\\\\n",
    "    (k, j, b_{kj}) \\in A(K,J,W)\\\\   \n",
    "    \n",
    "    A\\bowtie B (i,k,j, a_{ik}, b_{kj})\n",
    "$$\n",
    "First method:\n",
    "$$\n",
    "\n",
    "    \\forall (i,k,a_{ik}) \\in A \\xrightarrow{M_A} (k, (A,i,a_{ik}))\\\\\n",
    "    \\forall (k,j,b_{kj}) \\in B \\xrightarrow{M_B} (k, (B,j,b_{kj}))\\\\  \n",
    "    \n",
    "    (k, ((A,1,a_{1k}), \\dots, (A,m,a_{mk})), (B,1,b_{k1}), \\dots, (B,o,b_{ko})))\n",
    "$$\n",
    "another process of map-reduce to obtain\n",
    "$$\n",
    "    ((i,j), (a_{ik} b_{kj})) \\xrightarrow{M} ((i,j), (a_{ik} b_{kj}))\\\\\n",
    "    ((i,j), (a_{i1} b_{1j})) \\xrightarrow{R} ((i,j), p_{ij})\n",
    "$$"
   ]
  },
  {
   "attachments": {},
   "cell_type": "markdown",
   "metadata": {},
   "source": [
    "Alternative method using a single map-reduce process:\n",
    "$$\n",
    "    \\forall (i,k,a_{ik}) \\xrightarrow{M_A} \\forall j=1,\\dots, o \\quad ((i,j), A, k, a_{ik}) \\\\\n",
    "    \\forall (k,j,b_{ij}) \\xrightarrow{M_B} \\forall i=1,\\dots, m \\quad ((i,j), B, k, b_{kj}) \\\\\n",
    "\n",
    "    ((i,j), ((A, 1, a_{i1}),\\dots, (A, n, a_{in}), (B, 1, b_{1j}), \\dots, (B, n, b_{nj})) \\xrightarrow{R} ((i,j), p_{ij})\n",
    "$$"
   ]
  }
 ],
 "metadata": {
  "language_info": {
   "name": "python"
  },
  "orig_nbformat": 4
 },
 "nbformat": 4,
 "nbformat_minor": 2
}
