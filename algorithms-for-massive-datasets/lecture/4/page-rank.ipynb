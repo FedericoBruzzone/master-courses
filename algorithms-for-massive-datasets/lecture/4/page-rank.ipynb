{
 "cells": [
  {
   "cell_type": "code",
   "execution_count": null,
   "metadata": {
    "colab": {},
    "colab_type": "code",
    "id": "gv1lKNfT0a8M"
   },
   "outputs": [],
   "source": [
    "!apt-get install openjdk-8-jdk-headless -qq > /dev/null\n",
    "!wget -q http://www-eu.apache.org/dist/spark/spark-2.4.5/spark-2.4.5-bin-hadoop2.7.tgz\n",
    "!tar xf spark-2.4.5-bin-hadoop2.7.tgz\n",
    "!pip install -q findspark\n",
    "\n",
    "import os\n",
    "os.environ[\"JAVA_HOME\"] = \"/usr/lib/jvm/java-8-openjdk-amd64\"\n",
    "os.environ[\"SPARK_HOME\"] = \"/content/spark-2.4.5-bin-hadoop2.7\"\n",
    "\n",
    "import findspark\n",
    "findspark.init(\"spark-2.4.5-bin-hadoop2.7\")# SPARK_HOME\n",
    "from pyspark.sql import SparkSession\n",
    "spark = SparkSession.builder.master(\"local[*]\").getOrCreate()\n",
    "\n",
    "sc = spark.sparkContext"
   ]
  },
  {
   "cell_type": "markdown",
   "metadata": {
    "colab_type": "text",
    "id": "yIZsw82S0RLY"
   },
   "source": [
    "# PageRank #\n",
    "\n",
    "This assignment will allow to get confident with the simplest distributed implementations of the PageRank algorithm.\n",
    "\n",
    "As we will often print probability values, we will modify the default setting of numpy so that `float` entries in arrays are printed showing only a few decimal digits."
   ]
  },
  {
   "cell_type": "code",
   "execution_count": null,
   "metadata": {},
   "outputs": [],
   "source": [
    "import pyspark\n",
    "sc = pyspark.SparkContext(\"local[*]\").getOrCreate()"
   ]
  },
  {
   "cell_type": "code",
   "execution_count": null,
   "metadata": {
    "colab": {
     "base_uri": "https://localhost:8080/",
     "height": 34
    },
    "colab_type": "code",
    "executionInfo": {
     "elapsed": 1901,
     "status": "ok",
     "timestamp": 1584457698276,
     "user": {
      "displayName": "Dario Malchiodi",
      "photoUrl": "https://lh3.googleusercontent.com/a-/AOh14GiELCr-zUeJWuHT3llF5XfHH7B3tmxiSDlls6hF=s64",
      "userId": "00228704477903575446"
     },
     "user_tz": -60
    },
    "id": "3MGGq4WW0RLZ",
    "outputId": "7eb454aa-2b5b-481c-8c2a-3ea84903bceb"
   },
   "outputs": [],
   "source": [
    "import numpy as np\n",
    "np.set_printoptions(precision=3)\n",
    "np.array([.12333122, .13432221, .64442143])"
   ]
  },
  {
   "cell_type": "markdown",
   "metadata": {
    "colab_type": "text",
    "id": "1OtVflc-0RLg"
   },
   "source": [
    "Let's start considering a hypothetical (very small) portion of the Web described by a fairly simple graph, made up by seven nodes. We will univocally identify each node through an integer number (starting from zero), but for sake of visualization we also want to draw labels on each node. This is why we will start from the following `labels` list, generating automatically the corresponding integer values for nodes. In order to easily convert node numbers to labels we can build a dictionary."
   ]
  },
  {
   "cell_type": "code",
   "execution_count": null,
   "metadata": {
    "colab": {
     "base_uri": "https://localhost:8080/",
     "height": 34
    },
    "colab_type": "code",
    "executionInfo": {
     "elapsed": 1260,
     "status": "ok",
     "timestamp": 1584457847882,
     "user": {
      "displayName": "Dario Malchiodi",
      "photoUrl": "https://lh3.googleusercontent.com/a-/AOh14GiELCr-zUeJWuHT3llF5XfHH7B3tmxiSDlls6hF=s64",
      "userId": "00228704477903575446"
     },
     "user_tz": -60
    },
    "id": "4Eg2BdmG0RLi",
    "outputId": "597c07fc-b6cc-464a-a284-55bd09d976d9"
   },
   "outputs": [],
   "source": [
    "labels = ['A', 'B', 'C', 'D', 'E', 'F', 'G']\n",
    "\n",
    "pages = range(len(labels))\n",
    "\n",
    "# this dictionary assiciates number in pages to labels\n",
    "page_labels = {p: l for p, l in zip(pages, labels)}\n",
    "page_labels"
   ]
  },
  {
   "cell_type": "markdown",
   "metadata": {
    "colab_type": "text",
    "id": "0BPOzF3g0RLo"
   },
   "source": [
    "Connections between pages will be described by a list of pairs, whose elements respectively identify the starting and the ending page."
   ]
  },
  {
   "cell_type": "code",
   "execution_count": null,
   "metadata": {
    "colab": {},
    "colab_type": "code",
    "id": "fqfmr2rT0RLq"
   },
   "outputs": [],
   "source": [
    "links = [(1, 0), (3, 0),\n",
    "         (0, 1), (5, 2),\n",
    "         (6, 2), (6, 5),\n",
    "         (5, 6), (2, 6),\n",
    "         (0, 6), (5, 4), (4, 3)]"
   ]
  },
  {
   "cell_type": "markdown",
   "metadata": {
    "colab_type": "text",
    "id": "YP9RMzfz0RLv"
   },
   "source": [
    "We will show graphs using `networkx`, a package implementing a class whose instances are oriented graphs to which nodes and edges can be easily added using the data structures we have created."
   ]
  },
  {
   "cell_type": "code",
   "execution_count": null,
   "metadata": {
    "colab": {},
    "colab_type": "code",
    "id": "XpJEkJ6K0RLw"
   },
   "outputs": [],
   "source": [
    "import networkx as nx\n",
    "import matplotlib.pyplot as plt\n",
    "\n",
    "g = nx.DiGraph()\n",
    "\n",
    "for p in pages:\n",
    "    g.add_node(p)\n",
    "\n",
    "for (a, b) in links:\n",
    "    g.add_edge(pages[a], pages[b])"
   ]
  },
  {
   "cell_type": "markdown",
   "metadata": {
    "colab_type": "text",
    "id": "NC4oQohk0RL2"
   },
   "source": [
    "The visualization of a graph is triggered by the invocation of `nx.draw`, and it highlights directed arcs (using a thicker part of an edge to show their direction), node labels and different coloring of nodes. We will use the latter feature later on."
   ]
  },
  {
   "cell_type": "code",
   "execution_count": null,
   "metadata": {
    "colab": {
     "base_uri": "https://localhost:8080/",
     "height": 319
    },
    "colab_type": "code",
    "executionInfo": {
     "elapsed": 915,
     "status": "ok",
     "timestamp": 1584458022684,
     "user": {
      "displayName": "Dario Malchiodi",
      "photoUrl": "https://lh3.googleusercontent.com/a-/AOh14GiELCr-zUeJWuHT3llF5XfHH7B3tmxiSDlls6hF=s64",
      "userId": "00228704477903575446"
     },
     "user_tz": -60
    },
    "id": "vF8nipqX0RL4",
    "outputId": "ebc00dca-6711-4851-891a-b895c91f81c9"
   },
   "outputs": [],
   "source": [
    "opts = {'node_size': 900, \n",
    "        'font_color': 'w',\n",
    "        'font_size': 18,\n",
    "        'font_weight': 'bold'}\n",
    "\n",
    "pos = {0: (0, 1), 1: (0, 2), 2: (1, 0),\n",
    "       3: (1, 1), 4: (2, 1), 5: (2, 0), 6: (0, 0)}\n",
    "\n",
    "nx.draw(g, with_labels=True, labels=page_labels,\n",
    "        pos=pos, node_color='#AAAAEE', **opts)\n",
    "#plt.show()"
   ]
  },
  {
   "cell_type": "markdown",
   "metadata": {
    "colab_type": "text",
    "id": "TKpU-irm0RL9"
   },
   "source": [
    "Building the transition matrix at the basis of PageRank it is necessary to compute the adjacency lists for each node: we can organize them into a dictionary assigning each node to its adjaceny list."
   ]
  },
  {
   "cell_type": "code",
   "execution_count": null,
   "metadata": {
    "colab": {
     "base_uri": "https://localhost:8080/",
     "height": 34
    },
    "colab_type": "code",
    "executionInfo": {
     "elapsed": 968,
     "status": "ok",
     "timestamp": 1584458205238,
     "user": {
      "displayName": "Dario Malchiodi",
      "photoUrl": "https://lh3.googleusercontent.com/a-/AOh14GiELCr-zUeJWuHT3llF5XfHH7B3tmxiSDlls6hF=s64",
      "userId": "00228704477903575446"
     },
     "user_tz": -60
    },
    "id": "VQP_aMEa0RL-",
    "outputId": "550dfc8a-e518-4b7d-8cef-9e74b6ef6431"
   },
   "outputs": [],
   "source": [
    "adjacency = {}\n",
    "for u in range(len(pages)):\n",
    "    adjacency[u] = []\n",
    "    \n",
    "for (a, b) in links:\n",
    "    adjacency[a].append(b)\n",
    "\n",
    "print(adjacency)"
   ]
  },
  {
   "cell_type": "markdown",
   "metadata": {
    "colab_type": "text",
    "id": "mAK0opKE0RMD"
   },
   "source": [
    "Starting from adjacency lists it is relatively easy to build the transition matrix, whose generic element in position \\\\((i, j)\\\\) is \\\\(0\\\\) if starting from \\\\(j\\\\)-th node it is not possible to directly reach \\\\(i\\\\)-th node, and the inverse of outer degree of \\\\(j\\\\)-th node otherwise. We will exploit the fact that this matrix is typically sparse, storing it as a list of triples \\\\( (i, j, m\\_{ij} ) \\\\) but considering only triples such that \\\\( m_{ij} \\neq 0 \\\\)."
   ]
  },
  {
   "cell_type": "code",
   "execution_count": null,
   "metadata": {
    "colab": {
     "base_uri": "https://localhost:8080/",
     "height": 207
    },
    "colab_type": "code",
    "executionInfo": {
     "elapsed": 1485,
     "status": "ok",
     "timestamp": 1584458352412,
     "user": {
      "displayName": "Dario Malchiodi",
      "photoUrl": "https://lh3.googleusercontent.com/a-/AOh14GiELCr-zUeJWuHT3llF5XfHH7B3tmxiSDlls6hF=s64",
      "userId": "00228704477903575446"
     },
     "user_tz": -60
    },
    "id": "JOUScLeV0RME",
    "outputId": "e674562c-99cb-4f62-b393-5d417728ef28"
   },
   "outputs": [],
   "source": [
    "connection_matrix = []\n",
    "for a in adjacency:\n",
    "    for b in adjacency[a]:\n",
    "        # this builds the transition matrix (beware of indices!)\n",
    "        connection_matrix.append((b, a, 1./len(adjacency[a])))\n",
    "connection_matrix"
   ]
  },
  {
   "cell_type": "markdown",
   "metadata": {
    "colab_type": "text",
    "id": "t5_jAPCT0RMJ"
   },
   "source": [
    "We can now create a RDD containing the sparse representation of the transition matrix: as we will use it extensively, it is better to cache this RDD.\n",
    "\n",
    "**Remark.** In usual conditions we would read the matrix representation from a distributed file system."
   ]
  },
  {
   "cell_type": "code",
   "execution_count": null,
   "metadata": {
    "colab": {},
    "colab_type": "code",
    "id": "3wWSCVVV0RMK"
   },
   "outputs": [],
   "source": [
    "links_RDD = sc.parallelize(connection_matrix).cache()"
   ]
  },
  {
   "cell_type": "markdown",
   "metadata": {
    "colab_type": "text",
    "id": "ofZwvT_f0RMO"
   },
   "source": [
    "We are almost ready to compute the simplest PageRank index: `n` will denote the number of analysed pages, and the two arrays `page_rank` and `old_page_rank` will store the PageRank values obtained in two successive iterations. The first will be initialized so as to describe the uniform distribution over pages in the Web portion we are considering, while the second one will be initialized in order to ensure that at least one iteration of the PageRank algorithm is executed."
   ]
  },
  {
   "cell_type": "code",
   "execution_count": null,
   "metadata": {
    "colab": {},
    "colab_type": "code",
    "id": "ewOdNgsC0RMP"
   },
   "outputs": [],
   "source": [
    "n = len(pages)\n",
    "page_rank = np.ones(n)/n\n",
    "old_page_rank = np.ones(n)\n",
    "page_rank"
   ]
  },
  {
   "cell_type": "markdown",
   "metadata": {
    "colab_type": "text",
    "id": "v2fShb5J0RMT"
   },
   "source": [
    "In order to correctly stop the algorithm we need a function measuring the distance between two successive PageRank vectors: let's resort to the Euclidean distance, here implemented through the following `l2distance` function."
   ]
  },
  {
   "cell_type": "code",
   "execution_count": null,
   "metadata": {
    "colab": {},
    "colab_type": "code",
    "id": "u1bx4Be-0RMU"
   },
   "outputs": [],
   "source": [
    "def l2distance(v, q):\n",
    "    '''Computes the Euclidean distance between two vectors.\n",
    "    \n",
    "    Args\n",
    "    \n",
    "    v: list or tuple\n",
    "    q: list or tuple\n",
    "    \n",
    "    Returns\n",
    "    \n",
    "    d: Euclidean distance between v and q\n",
    "    \n",
    "    Throws exception of v and q do not have the same length.\n",
    "    '''\n",
    "    \n",
    "    if len(v) != len(q):\n",
    "        raise ValueError('Cannot compute the distance'\n",
    "                         ' of two vectors of different size')\n",
    "    \n",
    "    return sum([(q_el - v_el)**2 for v_el, q_el in zip(v, q)])"
   ]
  },
  {
   "cell_type": "markdown",
   "metadata": {
    "colab_type": "text",
    "id": "h8X6vxxV0RMY"
   },
   "source": [
    "We can now implement the PageRank computation algorithm, based on the iterated product between the transition matrix and the `page_rank` vector. The iteration will proceed until the distance between two successive PageRank vector values will go below a threshold value stored in `tolerance`, and in any case after `max_iterations` have been exectued."
   ]
  },
  {
   "cell_type": "code",
   "execution_count": null,
   "metadata": {
    "colab": {
     "base_uri": "https://localhost:8080/",
     "height": 379
    },
    "colab_type": "code",
    "executionInfo": {
     "elapsed": 7872,
     "status": "ok",
     "timestamp": 1584458886836,
     "user": {
      "displayName": "Dario Malchiodi",
      "photoUrl": "https://lh3.googleusercontent.com/a-/AOh14GiELCr-zUeJWuHT3llF5XfHH7B3tmxiSDlls6hF=s64",
      "userId": "00228704477903575446"
     },
     "user_tz": -60
    },
    "id": "TD0IHFWW0RMZ",
    "outputId": "b129ad69-56ed-48ce-d71b-d5823abab942"
   },
   "outputs": [],
   "source": [
    "tolerance = 10e-7\n",
    "max_iterations = 1000\n",
    "\n",
    "iteration = 0\n",
    "while l2distance(old_page_rank, page_rank) >= tolerance and \\\n",
    "      iteration < max_iterations:\n",
    "    old_page_rank = page_rank\n",
    "    \n",
    "    page_rank_values = (links_RDD\n",
    "                        .map(lambda t: (t[0], t[2]*page_rank[t[1]]))\n",
    "                        .reduceByKey(lambda a, b: a+b)\n",
    "                        .sortByKey()\n",
    "                        .collect()\n",
    "                       )\n",
    "    \n",
    "    page_rank = np.array([c for (i, c) in page_rank_values])\n",
    "    \n",
    "    print(page_rank)\n",
    "\n",
    "    iteration += 1"
   ]
  },
  {
   "cell_type": "markdown",
   "metadata": {
    "colab_type": "text",
    "id": "YYQhl7Z70RMe"
   },
   "source": [
    "How many iterations have been executed? Did the system converge or did the maximum iteration number was reached?"
   ]
  },
  {
   "cell_type": "code",
   "execution_count": null,
   "metadata": {
    "colab": {
     "base_uri": "https://localhost:8080/",
     "height": 34
    },
    "colab_type": "code",
    "executionInfo": {
     "elapsed": 885,
     "status": "ok",
     "timestamp": 1584458907112,
     "user": {
      "displayName": "Dario Malchiodi",
      "photoUrl": "https://lh3.googleusercontent.com/a-/AOh14GiELCr-zUeJWuHT3llF5XfHH7B3tmxiSDlls6hF=s64",
      "userId": "00228704477903575446"
     },
     "user_tz": -60
    },
    "id": "L3DdbrdJ0RMf",
    "outputId": "d24e6c73-ff9f-4729-8c98-2d32e2dd97c8"
   },
   "outputs": [],
   "source": [
    "iteration"
   ]
  },
  {
   "cell_type": "markdown",
   "metadata": {
    "colab_type": "text",
    "id": "14IyPyMh0RMk"
   },
   "source": [
    "A better way to analyze the obtained result is through graphical visualization, showing the graph describing our portion of the Web and using for each node a red shade linked to the corresponding PageRank value."
   ]
  },
  {
   "cell_type": "code",
   "execution_count": null,
   "metadata": {
    "colab": {
     "base_uri": "https://localhost:8080/",
     "height": 319
    },
    "colab_type": "code",
    "executionInfo": {
     "elapsed": 884,
     "status": "ok",
     "timestamp": 1584458947135,
     "user": {
      "displayName": "Dario Malchiodi",
      "photoUrl": "https://lh3.googleusercontent.com/a-/AOh14GiELCr-zUeJWuHT3llF5XfHH7B3tmxiSDlls6hF=s64",
      "userId": "00228704477903575446"
     },
     "user_tz": -60
    },
    "id": "QOZL6R8f0RMl",
    "outputId": "12e79195-7610-46e3-c38e-29afe462ff8d"
   },
   "outputs": [],
   "source": [
    "nx.draw(g, with_labels=True, labels=page_labels, pos=pos,\n",
    "        node_color=page_rank, cmap=plt.cm.coolwarm, **opts)\n",
    "plt.show()"
   ]
  },
  {
   "cell_type": "markdown",
   "metadata": {
    "colab_type": "text",
    "id": "YGS_sewy0RMp"
   },
   "source": [
    "We want now to perform some exploratory analysis of simple variants of the PageRank algorithm. In order to avoid writing the same code several times, let's set up the following functions:\n",
    "\n",
    "* `get_graph`, accepting as inputs the lists of nodes and of connections and returning the corresponding graph;\n",
    "* `get_connection_matrix`, accepting as inputs the lists of connections and returning the transition matrix;\n",
    "* `get_page_rank`, accepting as input the lists of nodes and connections and returning the corresponding PageRank vector; this function will also accept the optional arguments `verbose` (with default value `False`, allowing to print the PageRank vector at each iteration), `tolerance` and `max_iterations` (respectively with default values `10e-7` and `100` and whose behaviour is that of the previously introduced variables having the same names)."
   ]
  },
  {
   "cell_type": "code",
   "execution_count": null,
   "metadata": {
    "colab": {},
    "colab_type": "code",
    "id": "X4bTA0c00RMq"
   },
   "outputs": [],
   "source": [
    "def get_graph(pages, links):\n",
    "    g = nx.DiGraph()\n",
    "\n",
    "    for p in pages:\n",
    "        g.add_node(p)\n",
    "\n",
    "    for (a, b) in links:\n",
    "        g.add_edge(pages[a], pages[b])\n",
    "\n",
    "    return g\n",
    "\n",
    "def get_connection_matrix(pages, links):\n",
    "    incidency = {}\n",
    "    for u in range(len(pages)):\n",
    "        incidency[u] = []\n",
    "    \n",
    "    for (a, b) in links:\n",
    "        incidency[a].append(b)\n",
    "    \n",
    "    connection_matrix = []\n",
    "    for a in incidency:\n",
    "       for b in incidency[a]:\n",
    "            connection_matrix.append((b, a, 1./len(incidency[a])))\n",
    "            \n",
    "    return connection_matrix\n",
    "\n",
    "def get_page_rank(pages, links,\n",
    "                  verbose=False, tolerance=10e-7, max_iterations=100):\n",
    "    connection_matrix = get_connection_matrix(pages, links)\n",
    "    links_RDD = sc.parallelize(connection_matrix).cache()\n",
    "\n",
    "    n = len(pages)\n",
    "    page_rank = np.ones(n)/n\n",
    "    old_page_rank = np.ones(n)\n",
    "    \n",
    "    iteration = 0\n",
    "    while l2distance(old_page_rank, page_rank) >= tolerance and \\\n",
    "          iteration < max_iterations:\n",
    "        old_page_rank = page_rank\n",
    "        page_rank_values = (links_RDD\n",
    "                            .map(lambda t: (t[0], t[2]*page_rank[t[1]]))\n",
    "                            .reduceByKey(lambda a, b: a+b)\n",
    "                            .sortByKey()\n",
    "                            .collect()\n",
    "                           )\n",
    "        page_rank = np.array([c for (i, c) in page_rank_values])\n",
    "            \n",
    "        if verbose:\n",
    "            nice_print(page_rank)\n",
    "\n",
    "        iteration += 1\n",
    "        \n",
    "    print('{} iterations'.format(iteration))\n",
    "    \n",
    "    return page_rank"
   ]
  },
  {
   "cell_type": "markdown",
   "metadata": {
    "colab_type": "text",
    "id": "6TtyIc8N0RMt"
   },
   "source": [
    "Let's check these functions on the already available graph and test that they return the same PageRank values."
   ]
  },
  {
   "cell_type": "code",
   "execution_count": null,
   "metadata": {
    "colab": {
     "base_uri": "https://localhost:8080/",
     "height": 34
    },
    "colab_type": "code",
    "executionInfo": {
     "elapsed": 7990,
     "status": "ok",
     "timestamp": 1584459054573,
     "user": {
      "displayName": "Dario Malchiodi",
      "photoUrl": "https://lh3.googleusercontent.com/a-/AOh14GiELCr-zUeJWuHT3llF5XfHH7B3tmxiSDlls6hF=s64",
      "userId": "00228704477903575446"
     },
     "user_tz": -60
    },
    "id": "ss05gLf10RMv",
    "outputId": "6430c6ef-0e31-44cd-8db1-256483519727"
   },
   "outputs": [],
   "source": [
    "page_rank = get_page_rank(pages, links)"
   ]
  },
  {
   "cell_type": "code",
   "execution_count": null,
   "metadata": {
    "colab": {
     "base_uri": "https://localhost:8080/",
     "height": 34
    },
    "colab_type": "code",
    "executionInfo": {
     "elapsed": 1031,
     "status": "ok",
     "timestamp": 1584459058108,
     "user": {
      "displayName": "Dario Malchiodi",
      "photoUrl": "https://lh3.googleusercontent.com/a-/AOh14GiELCr-zUeJWuHT3llF5XfHH7B3tmxiSDlls6hF=s64",
      "userId": "00228704477903575446"
     },
     "user_tz": -60
    },
    "id": "ZanLUinj0RM1",
    "outputId": "050caba6-a45a-402a-aba0-5a22e5f9db7e"
   },
   "outputs": [],
   "source": [
    "page_rank"
   ]
  },
  {
   "cell_type": "code",
   "execution_count": null,
   "metadata": {
    "colab": {
     "base_uri": "https://localhost:8080/",
     "height": 319
    },
    "colab_type": "code",
    "executionInfo": {
     "elapsed": 933,
     "status": "ok",
     "timestamp": 1584459060247,
     "user": {
      "displayName": "Dario Malchiodi",
      "photoUrl": "https://lh3.googleusercontent.com/a-/AOh14GiELCr-zUeJWuHT3llF5XfHH7B3tmxiSDlls6hF=s64",
      "userId": "00228704477903575446"
     },
     "user_tz": -60
    },
    "id": "w9RLfn090RM6",
    "outputId": "0e69bb94-89ca-4162-966d-82445d75da97",
    "scrolled": true
   },
   "outputs": [],
   "source": [
    "g = get_graph(pages, links)\n",
    "nx.draw(g, with_labels=True, labels=page_labels, pos=pos,\n",
    "        node_color=page_rank, cmap=plt.cm.coolwarm, **opts)"
   ]
  },
  {
   "cell_type": "markdown",
   "metadata": {
    "colab_type": "text",
    "id": "j6ZMk3__0RM9"
   },
   "source": [
    "Let's consider now the following graph, having node B as a dead end."
   ]
  },
  {
   "cell_type": "code",
   "execution_count": null,
   "metadata": {
    "colab": {
     "base_uri": "https://localhost:8080/",
     "height": 319
    },
    "colab_type": "code",
    "executionInfo": {
     "elapsed": 1339,
     "status": "ok",
     "timestamp": 1584459166846,
     "user": {
      "displayName": "Dario Malchiodi",
      "photoUrl": "https://lh3.googleusercontent.com/a-/AOh14GiELCr-zUeJWuHT3llF5XfHH7B3tmxiSDlls6hF=s64",
      "userId": "00228704477903575446"
     },
     "user_tz": -60
    },
    "id": "jOTdII720RM-",
    "outputId": "92acc45f-608a-476a-aaec-4d3b4db1eb11"
   },
   "outputs": [],
   "source": [
    "links = [\n",
    "         (3, 0), (0, 1),\n",
    "         (5, 2), (6, 2),\n",
    "         (6, 5), (5, 6),\n",
    "         (2, 6), (0, 6),\n",
    "         (5, 4), (4, 3),\n",
    "        ]\n",
    "\n",
    "g = get_graph(pages, links)\n",
    "nx.draw(g, with_labels=True, labels=page_labels,\n",
    "        pos=pos, node_color='#AAAAEE', **opts)"
   ]
  },
  {
   "cell_type": "markdown",
   "metadata": {
    "colab_type": "text",
    "id": "12Tkb1Jh0RNC"
   },
   "source": [
    "What happens if we compute its PageRank value?"
   ]
  },
  {
   "cell_type": "code",
   "execution_count": null,
   "metadata": {
    "colab": {
     "base_uri": "https://localhost:8080/",
     "height": 34
    },
    "colab_type": "code",
    "executionInfo": {
     "elapsed": 25074,
     "status": "ok",
     "timestamp": 1584459224454,
     "user": {
      "displayName": "Dario Malchiodi",
      "photoUrl": "https://lh3.googleusercontent.com/a-/AOh14GiELCr-zUeJWuHT3llF5XfHH7B3tmxiSDlls6hF=s64",
      "userId": "00228704477903575446"
     },
     "user_tz": -60
    },
    "id": "CxREEXVW0RND",
    "outputId": "f6d503ec-e89f-4150-ab2e-e7a79aec7cae"
   },
   "outputs": [],
   "source": [
    "page_rank = get_page_rank(pages, links)"
   ]
  },
  {
   "cell_type": "markdown",
   "metadata": {
    "colab_type": "text",
    "id": "JROkaa5v0RNM"
   },
   "source": [
    "Why is this result odd? The following cell should give you a hint."
   ]
  },
  {
   "cell_type": "code",
   "execution_count": null,
   "metadata": {
    "colab": {
     "base_uri": "https://localhost:8080/",
     "height": 34
    },
    "colab_type": "code",
    "executionInfo": {
     "elapsed": 1610,
     "status": "ok",
     "timestamp": 1584459230918,
     "user": {
      "displayName": "Dario Malchiodi",
      "photoUrl": "https://lh3.googleusercontent.com/a-/AOh14GiELCr-zUeJWuHT3llF5XfHH7B3tmxiSDlls6hF=s64",
      "userId": "00228704477903575446"
     },
     "user_tz": -60
    },
    "id": "aqWbq3oA0RNN",
    "outputId": "4075a8a4-9a22-42af-c6b6-20c205336366"
   },
   "outputs": [],
   "source": [
    "page_rank"
   ]
  },
  {
   "cell_type": "code",
   "execution_count": null,
   "metadata": {
    "colab": {
     "base_uri": "https://localhost:8080/",
     "height": 34
    },
    "colab_type": "code",
    "executionInfo": {
     "elapsed": 1172,
     "status": "ok",
     "timestamp": 1584459240237,
     "user": {
      "displayName": "Dario Malchiodi",
      "photoUrl": "https://lh3.googleusercontent.com/a-/AOh14GiELCr-zUeJWuHT3llF5XfHH7B3tmxiSDlls6hF=s64",
      "userId": "00228704477903575446"
     },
     "user_tz": -60
    },
    "id": "VBJCdExr0RNS",
    "outputId": "684f5384-ad79-4740-d3eb-a17d67e23854"
   },
   "outputs": [],
   "source": [
    "sum(page_rank)"
   ]
  },
  {
   "cell_type": "markdown",
   "metadata": {
    "colab_type": "text",
    "id": "hU9aRcR50RNW"
   },
   "source": [
    "Despite the unpleasant results we obtained, show the graph together with node coloring according to the obtained PageRank values"
   ]
  },
  {
   "cell_type": "code",
   "execution_count": null,
   "metadata": {
    "colab": {
     "base_uri": "https://localhost:8080/",
     "height": 319
    },
    "colab_type": "code",
    "executionInfo": {
     "elapsed": 804,
     "status": "ok",
     "timestamp": 1584459247798,
     "user": {
      "displayName": "Dario Malchiodi",
      "photoUrl": "https://lh3.googleusercontent.com/a-/AOh14GiELCr-zUeJWuHT3llF5XfHH7B3tmxiSDlls6hF=s64",
      "userId": "00228704477903575446"
     },
     "user_tz": -60
    },
    "id": "AmRkW7S60RNX",
    "outputId": "95a827b3-b4ec-43eb-dc16-2b79f82d133d"
   },
   "outputs": [],
   "source": [
    "nx.draw(g, with_labels=True, labels=page_labels,\n",
    "        pos=pos, node_color=page_rank, cmap=plt.cm.coolwarm, **opts)"
   ]
  },
  {
   "cell_type": "code",
   "execution_count": null,
   "metadata": {
    "colab": {
     "base_uri": "https://localhost:8080/",
     "height": 319
    },
    "colab_type": "code",
    "executionInfo": {
     "elapsed": 1080,
     "status": "ok",
     "timestamp": 1584459331469,
     "user": {
      "displayName": "Dario Malchiodi",
      "photoUrl": "https://lh3.googleusercontent.com/a-/AOh14GiELCr-zUeJWuHT3llF5XfHH7B3tmxiSDlls6hF=s64",
      "userId": "00228704477903575446"
     },
     "user_tz": -60
    },
    "id": "MyrYGc8O0RNb",
    "outputId": "e2c0be3d-bf11-48dd-c824-7c7e4801b8ae"
   },
   "outputs": [],
   "source": [
    "nx.draw(g, with_labels=True, labels=page_labels,\n",
    "        pos=pos, node_color=page_rank, cmap=plt.cm.coolwarm,\n",
    "        **opts, vmin=0, vmax=1)"
   ]
  },
  {
   "cell_type": "markdown",
   "metadata": {
    "colab_type": "text",
    "id": "SeYYe3vd0RNg"
   },
   "source": [
    "Consider now another graph, containing the spider trap identified by nodes B, H, and I."
   ]
  },
  {
   "cell_type": "code",
   "execution_count": null,
   "metadata": {
    "colab": {
     "base_uri": "https://localhost:8080/",
     "height": 319
    },
    "colab_type": "code",
    "executionInfo": {
     "elapsed": 882,
     "status": "ok",
     "timestamp": 1584459348494,
     "user": {
      "displayName": "Dario Malchiodi",
      "photoUrl": "https://lh3.googleusercontent.com/a-/AOh14GiELCr-zUeJWuHT3llF5XfHH7B3tmxiSDlls6hF=s64",
      "userId": "00228704477903575446"
     },
     "user_tz": -60
    },
    "id": "0HyCMlKD0RNh",
    "outputId": "5ec3c76c-1822-4163-a4a6-841200440983"
   },
   "outputs": [],
   "source": [
    "labels = ['A',  'B', 'C', 'D', 'E', 'F', 'G', 'H', 'I']\n",
    "\n",
    "pages = range(len(labels))\n",
    "\n",
    "page_labels = {page: label for page, label in zip(pages, labels)}\n",
    "\n",
    "links = [\n",
    "         (3, 0), (0, 1), (5, 2),\n",
    "         (6, 2), (6, 5), (5, 6),\n",
    "         (2, 6), (0, 6), (5, 4), (4, 3),\n",
    "         (1, 7), (7, 8), (8, 1)\n",
    "        ]\n",
    "\n",
    "g = get_graph(pages, links)\n",
    "pos_trap = {0: (0, 1), 1: (0, 2), 2: (1, 0), 3: (1, 1),\n",
    "            4: (2, 1), 5: (2, 0), 6: (0, 0), 7: (0, 3), 8: (1, 3)}\n",
    "#plt.cla()\n",
    "nx.draw(g, with_labels=True, labels=page_labels,\n",
    "        pos=pos_trap, node_color='#AAAAEE', **opts)"
   ]
  },
  {
   "cell_type": "markdown",
   "metadata": {
    "colab_type": "text",
    "id": "9PntggXu0RNl"
   },
   "source": [
    "Compute and print the PageRank values for this graph."
   ]
  },
  {
   "cell_type": "code",
   "execution_count": null,
   "metadata": {
    "colab": {
     "base_uri": "https://localhost:8080/",
     "height": 34
    },
    "colab_type": "code",
    "executionInfo": {
     "elapsed": 33593,
     "status": "ok",
     "timestamp": 1584459399560,
     "user": {
      "displayName": "Dario Malchiodi",
      "photoUrl": "https://lh3.googleusercontent.com/a-/AOh14GiELCr-zUeJWuHT3llF5XfHH7B3tmxiSDlls6hF=s64",
      "userId": "00228704477903575446"
     },
     "user_tz": -60
    },
    "id": "m6_dUEaB0RNm",
    "outputId": "7bcc2873-c4d0-4bd7-fd5b-5118babc8939"
   },
   "outputs": [],
   "source": [
    "page_rank = get_page_rank(pages, links)"
   ]
  },
  {
   "cell_type": "markdown",
   "metadata": {
    "colab_type": "text",
    "id": "1YL2yjah0RNq"
   },
   "source": [
    "As in previsous cases, show the graph coloring its nodes according to their PageRank values."
   ]
  },
  {
   "cell_type": "code",
   "execution_count": null,
   "metadata": {
    "colab": {
     "base_uri": "https://localhost:8080/",
     "height": 319
    },
    "colab_type": "code",
    "executionInfo": {
     "elapsed": 994,
     "status": "ok",
     "timestamp": 1584459403363,
     "user": {
      "displayName": "Dario Malchiodi",
      "photoUrl": "https://lh3.googleusercontent.com/a-/AOh14GiELCr-zUeJWuHT3llF5XfHH7B3tmxiSDlls6hF=s64",
      "userId": "00228704477903575446"
     },
     "user_tz": -60
    },
    "id": "2YF6-kmS0RNr",
    "outputId": "f2ad06ed-3a28-4b9c-c9f1-8cc0caa9bd41"
   },
   "outputs": [],
   "source": [
    "nx.draw(g, with_labels=True, labels=page_labels,\n",
    "        pos=pos_trap, node_color=page_rank, cmap=plt.cm.coolwarm,\n",
    "        **opts, vmin=0, vmax=1)"
   ]
  },
  {
   "cell_type": "code",
   "execution_count": null,
   "metadata": {
    "colab": {
     "base_uri": "https://localhost:8080/",
     "height": 34
    },
    "colab_type": "code",
    "executionInfo": {
     "elapsed": 1130,
     "status": "ok",
     "timestamp": 1584459427818,
     "user": {
      "displayName": "Dario Malchiodi",
      "photoUrl": "https://lh3.googleusercontent.com/a-/AOh14GiELCr-zUeJWuHT3llF5XfHH7B3tmxiSDlls6hF=s64",
      "userId": "00228704477903575446"
     },
     "user_tz": -60
    },
    "id": "QBCcFON90RNw",
    "outputId": "08dc4191-1ce5-4296-a4a8-e73086bed3af"
   },
   "outputs": [],
   "source": [
    "page_rank"
   ]
  },
  {
   "cell_type": "markdown",
   "metadata": {
    "colab_type": "text",
    "id": "hVhfaGWW0RNz"
   },
   "source": [
    "Modify the `get_page_rank` function in order to implement the taxation-based variant. Note that the function signature has been modified in order to accept an optional argument `beta` playing the role of parameter \\\\(\\beta\\\\) in the variant."
   ]
  },
  {
   "cell_type": "code",
   "execution_count": null,
   "metadata": {
    "colab": {},
    "colab_type": "code",
    "id": "6OH4I1Vj0RN0"
   },
   "outputs": [],
   "source": [
    "def get_page_rank(pages, links, beta=0.8,\n",
    "                  max_iterations=400, tolerance=1.e-5, verbose=False):\n",
    "\n",
    "    connection_matrix = get_connection_matrix(pages, links)\n",
    "    links_RDD = sc.parallelize(connection_matrix).cache()\n",
    "\n",
    "    n = len(pages)\n",
    "    page_rank = np.ones(n)/n\n",
    "    old_page_rank = np.ones(n)\n",
    "    \n",
    "    iteration = 0\n",
    "    while l2distance(old_page_rank, page_rank) >= tolerance and \\\n",
    "          iteration < max_iterations:\n",
    "        old_page_rank = page_rank\n",
    "        page_rank_values = (links_RDD\n",
    "                            .map(lambda t: (t[0], t[2]*page_rank[t[1]]))\n",
    "                            .reduceByKey(lambda a, b: a+b)\n",
    "                            .sortByKey()\n",
    "                            .collect()\n",
    "                           )\n",
    "        page_rank = np.array([beta*c + (1-beta)/n\n",
    "                              for (i, c) in page_rank_values])\n",
    "            \n",
    "        if verbose:\n",
    "            print(page_rank)\n",
    "\n",
    "        iteration += 1\n",
    "        \n",
    "    print('{} iterations'.format(iteration))\n",
    "    \n",
    "    return page_rank"
   ]
  },
  {
   "cell_type": "markdown",
   "metadata": {
    "colab_type": "text",
    "id": "HZaCBsj50RN5"
   },
   "source": [
    "Apply the taxation method-based variant to the following graph exhibiting a dead end, and check that the results are different from those previously obtained."
   ]
  },
  {
   "cell_type": "code",
   "execution_count": null,
   "metadata": {
    "colab": {
     "base_uri": "https://localhost:8080/",
     "height": 319
    },
    "colab_type": "code",
    "executionInfo": {
     "elapsed": 905,
     "status": "ok",
     "timestamp": 1584459535715,
     "user": {
      "displayName": "Dario Malchiodi",
      "photoUrl": "https://lh3.googleusercontent.com/a-/AOh14GiELCr-zUeJWuHT3llF5XfHH7B3tmxiSDlls6hF=s64",
      "userId": "00228704477903575446"
     },
     "user_tz": -60
    },
    "id": "Zel-sgIN0RN6",
    "outputId": "eb101b28-ebc5-4e57-ab2a-d5add4ae3a31"
   },
   "outputs": [],
   "source": [
    "labels = ['A', 'B', 'C', 'D', 'E', 'F', 'G']\n",
    "\n",
    "pages = range(len(labels))\n",
    "\n",
    "page_labels = {page: label for page, label in zip(pages, labels)}\n",
    "\n",
    "links = [\n",
    "         (3, 0), (0, 1), (5, 2), (6, 2),\n",
    "         (6, 5), (5, 6), (2, 6), (0, 6),\n",
    "         (5, 4), (4, 3),\n",
    "        ]\n",
    "\n",
    "g = get_graph(pages, links)\n",
    "nx.draw(g, with_labels=True, labels=page_labels,\n",
    "        node_color='#AAAAEE', pos=pos, **opts)"
   ]
  },
  {
   "cell_type": "code",
   "execution_count": null,
   "metadata": {
    "colab": {
     "base_uri": "https://localhost:8080/",
     "height": 336
    },
    "colab_type": "code",
    "executionInfo": {
     "elapsed": 3691,
     "status": "ok",
     "timestamp": 1584459540677,
     "user": {
      "displayName": "Dario Malchiodi",
      "photoUrl": "https://lh3.googleusercontent.com/a-/AOh14GiELCr-zUeJWuHT3llF5XfHH7B3tmxiSDlls6hF=s64",
      "userId": "00228704477903575446"
     },
     "user_tz": -60
    },
    "id": "0R0qo2Wd0RN-",
    "outputId": "23ffc8b2-1a54-45fb-e0ef-2b469c8b6842"
   },
   "outputs": [],
   "source": [
    "page_rank = get_page_rank(pages, links)\n",
    "nx.draw(g, with_labels=True, labels=page_labels,\n",
    "        pos=pos, node_color=page_rank, cmap=plt.cm.coolwarm,\n",
    "        **opts, vmin=0, vmax=1)"
   ]
  },
  {
   "cell_type": "code",
   "execution_count": null,
   "metadata": {
    "colab": {
     "base_uri": "https://localhost:8080/",
     "height": 34
    },
    "colab_type": "code",
    "executionInfo": {
     "elapsed": 1277,
     "status": "ok",
     "timestamp": 1584459547633,
     "user": {
      "displayName": "Dario Malchiodi",
      "photoUrl": "https://lh3.googleusercontent.com/a-/AOh14GiELCr-zUeJWuHT3llF5XfHH7B3tmxiSDlls6hF=s64",
      "userId": "00228704477903575446"
     },
     "user_tz": -60
    },
    "id": "w2iQgcSA0ROC",
    "outputId": "30f6fadc-eded-4c96-f05f-9abbf0b00e56"
   },
   "outputs": [],
   "source": [
    "page_rank"
   ]
  },
  {
   "cell_type": "markdown",
   "metadata": {
    "colab_type": "text",
    "id": "5HEFRKkJ0ROF"
   },
   "source": [
    "Do the same with the following graph containing a spider trap."
   ]
  },
  {
   "cell_type": "code",
   "execution_count": null,
   "metadata": {
    "colab": {
     "base_uri": "https://localhost:8080/",
     "height": 319
    },
    "colab_type": "code",
    "executionInfo": {
     "elapsed": 1148,
     "status": "ok",
     "timestamp": 1584459566071,
     "user": {
      "displayName": "Dario Malchiodi",
      "photoUrl": "https://lh3.googleusercontent.com/a-/AOh14GiELCr-zUeJWuHT3llF5XfHH7B3tmxiSDlls6hF=s64",
      "userId": "00228704477903575446"
     },
     "user_tz": -60
    },
    "id": "I7sFtY2A0ROG",
    "outputId": "8ebda9dc-e09b-4a25-c0d3-2a845acf41ea"
   },
   "outputs": [],
   "source": [
    "labels = ['A', 'B', 'C', 'D', 'E', 'F', 'G', 'H', 'I']\n",
    "\n",
    "pages = range(len(labels))\n",
    "\n",
    "page_labels = {page: label for page, label in zip(pages, labels)}\n",
    "\n",
    "links = [\n",
    "         (3, 0), (0, 1), (5, 2),\n",
    "         (6, 2), (6, 5), (5, 6),\n",
    "         (2, 6), (0, 6), (5, 4), (4, 3),\n",
    "         (1, 7), (7, 8), (8, 1)\n",
    "        ]\n",
    "\n",
    "g = get_graph(pages, links)\n",
    "nx.draw(g, with_labels=True, labels=page_labels,\n",
    "        pos=pos_trap, node_color='#AAAAEE', **opts)"
   ]
  },
  {
   "cell_type": "code",
   "execution_count": null,
   "metadata": {
    "colab": {
     "base_uri": "https://localhost:8080/",
     "height": 336
    },
    "colab_type": "code",
    "executionInfo": {
     "elapsed": 4480,
     "status": "ok",
     "timestamp": 1584459570969,
     "user": {
      "displayName": "Dario Malchiodi",
      "photoUrl": "https://lh3.googleusercontent.com/a-/AOh14GiELCr-zUeJWuHT3llF5XfHH7B3tmxiSDlls6hF=s64",
      "userId": "00228704477903575446"
     },
     "user_tz": -60
    },
    "id": "USamCxo10ROJ",
    "outputId": "e587a636-ca0f-45f7-cd57-ec134b112a51"
   },
   "outputs": [],
   "source": [
    "page_rank = get_page_rank(pages, links)\n",
    "nx.draw(g, with_labels=True, labels=page_labels,\n",
    "        pos=pos_trap, node_color=page_rank, cmap=plt.cm.coolwarm,\n",
    "        **opts, vmin=0, vmax=1)"
   ]
  },
  {
   "cell_type": "code",
   "execution_count": null,
   "metadata": {
    "colab": {
     "base_uri": "https://localhost:8080/",
     "height": 34
    },
    "colab_type": "code",
    "executionInfo": {
     "elapsed": 1697,
     "status": "ok",
     "timestamp": 1584459578654,
     "user": {
      "displayName": "Dario Malchiodi",
      "photoUrl": "https://lh3.googleusercontent.com/a-/AOh14GiELCr-zUeJWuHT3llF5XfHH7B3tmxiSDlls6hF=s64",
      "userId": "00228704477903575446"
     },
     "user_tz": -60
    },
    "id": "NlWgHD1T0ROO",
    "outputId": "f8d4fc8b-f056-4b33-cc8b-079aba949c8e"
   },
   "outputs": [],
   "source": [
    "page_rank"
   ]
  },
  {
   "cell_type": "markdown",
   "metadata": {
    "colab_type": "text",
    "id": "VO5xaiWd0ROT"
   },
   "source": [
    "Consider the following **topic-sensitive** version of PageRank: suppose that you know that a subsed \\\\(E\\\\) of the pages you are considering speaks about a specific argument, say Java. You can bias the PageRank algorithm to giving higher importance to such pages modifying how the taxation method works: when taxation takes place, instead of teleporting the random surfers to a generic page, teleport him/her to one of the pages in \\\\(E\\\\) chosen uniformly at random.\n",
    "\n",
    "In your previous assignment you saved to file the equivalent of the transition matrix for a set of books, where a (bidirectional) link between two books was in place if and only if they shared at least a coauthor. You also saved in another file the association of each book to the fact that it is related to the Java programming language.\n",
    "\n",
    "Implement the topic-senstivie variant of PageRank and apply it to your books dataset."
   ]
  },
  {
   "cell_type": "code",
   "execution_count": null,
   "metadata": {
    "colab": {},
    "colab_type": "code",
    "id": "KJRsyyTv0ROV"
   },
   "outputs": [],
   "source": []
  }
 ],
 "metadata": {
  "colab": {
   "collapsed_sections": [],
   "name": "page-rank-en-solution.ipynb",
   "provenance": []
  },
  "jupytext": {
   "formats": "ipynb,py:percent"
  },
  "kernelspec": {
   "display_name": "Python 3",
   "language": "python",
   "name": "python3"
  },
  "language_info": {
   "codemirror_mode": {
    "name": "ipython",
    "version": 3
   },
   "file_extension": ".py",
   "mimetype": "text/x-python",
   "name": "python",
   "nbconvert_exporter": "python",
   "pygments_lexer": "ipython3",
   "version": "3.10.6"
  },
  "latex_envs": {
   "LaTeX_envs_menu_present": true,
   "autoclose": true,
   "autocomplete": true,
   "bibliofile": "biblio.bib",
   "cite_by": "apalike",
   "current_citInitial": 1,
   "eqLabelWithNumbers": true,
   "eqNumInitial": 1,
   "hotkeys": {
    "equation": "Ctrl-E",
    "itemize": "Ctrl-I"
   },
   "labels_anchors": false,
   "latex_user_defs": false,
   "report_style_numbering": true,
   "user_envs_cfg": false
  },
  "name": "page-rank-en",
  "notebookId": 1863082476512281,
  "toc": {
   "base_numbering": 1,
   "nav_menu": {},
   "number_sections": true,
   "sideBar": false,
   "skip_h1_title": false,
   "title_cell": "Table of Contents",
   "title_sidebar": "Contents",
   "toc_cell": true,
   "toc_position": {},
   "toc_section_display": true,
   "toc_window_display": false
  }
 },
 "nbformat": 4,
 "nbformat_minor": 0
}
