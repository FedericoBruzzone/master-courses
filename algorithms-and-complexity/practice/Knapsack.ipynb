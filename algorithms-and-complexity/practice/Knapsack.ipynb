{
 "cells": [
  {
   "cell_type": "code",
   "execution_count": null,
   "id": "24590c82",
   "metadata": {},
   "outputs": [],
   "source": [
    "import numpy as np\n",
    "import random"
   ]
  },
  {
   "cell_type": "code",
   "execution_count": null,
   "id": "e23ae561",
   "metadata": {},
   "outputs": [],
   "source": [
    "# wv is a list of pairs (w,v)\n",
    "# wBound is the capacity of the knapsack\n",
    "# returns a pair (I, v) where v is the optimal value of a solution\n",
    "# and I is the solution (set of indices)\n",
    "def knapsackVopt(wv, wBound):\n",
    "    n = len(wv)\n",
    "    vOpt = np.zeros((n + 1, wBound + 1), int)\n",
    "    for i in range(1, n + 1):\n",
    "        vOpt[i][0] = 0\n",
    "        for w in range(1, wBound + 1):\n",
    "            currentItemWv = wv[i-1]\n",
    "            currentW = currentItemWv[0]\n",
    "            currentV = currentItemWv[1]\n",
    "            if w >= currentW:\n",
    "                vOpt[i][w] = max(vOpt[i-1][w], vOpt[i-1][w-currentW]+currentV)\n",
    "            else:\n",
    "                vOpt[i][w] = vOpt[i-1][w]\n",
    "    I = []\n",
    "    i = n\n",
    "    w = wBound\n",
    "    while i > 0:\n",
    "        if vOpt[i-1,w] != vOpt[i, w]:\n",
    "            I.append(i-1)\n",
    "            w -= wv[i-1][0]\n",
    "        i -= 1\n",
    "    return (I,vOpt[n][wBound])"
   ]
  },
  {
   "cell_type": "code",
   "execution_count": null,
   "id": "0f2c2670",
   "metadata": {},
   "outputs": [],
   "source": [
    "def generateInstance(n, maxv = 100):\n",
    "    return (list(zip(random.sample(range(1, maxv), n), random.sample(range(1,maxv), n))), int(random.random() * maxv))"
   ]
  },
  {
   "cell_type": "code",
   "execution_count": null,
   "id": "1c1f10c5",
   "metadata": {},
   "outputs": [],
   "source": [
    "a = generateInstance(5, 100)\n",
    "print(a)\n",
    "print(knapsackVopt(*a))"
   ]
  },
  {
   "cell_type": "code",
   "execution_count": null,
   "id": "678f7daa",
   "metadata": {},
   "outputs": [],
   "source": []
  }
 ],
 "metadata": {
  "kernelspec": {
   "display_name": "my-venv",
   "language": "python",
   "name": "my-venv"
  },
  "language_info": {
   "codemirror_mode": {
    "name": "ipython",
    "version": 3
   },
   "file_extension": ".py",
   "mimetype": "text/x-python",
   "name": "python",
   "nbconvert_exporter": "python",
   "pygments_lexer": "ipython3",
   "version": "3.9.1"
  }
 },
 "nbformat": 4,
 "nbformat_minor": 5
}
