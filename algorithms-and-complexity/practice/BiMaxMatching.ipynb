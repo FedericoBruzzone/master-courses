{
 "cells": [
  {
   "cell_type": "markdown",
   "metadata": {},
   "source": [
    "# Maximum Bipartite Matching\n",
    "\n",
    "**TODO:**\n",
    "Ford-Fulkerson algorithm implementation\n",
    "1. Build a Flow Network \n",
    "2. Find the maximum flow (using Ford-Fulkerson algorithm)\n"
   ]
  },
  {
   "cell_type": "code",
   "execution_count": null,
   "metadata": {},
   "outputs": [],
   "source": [
    "import networkx as nx\n",
    "import matplotlib.pyplot as plt"
   ]
  },
  {
   "cell_type": "code",
   "execution_count": null,
   "metadata": {},
   "outputs": [],
   "source": [
    "def create_bipartite_graph():\n",
    "    G = nx.bipartite.random_graph(10,20,0.5)\n",
    "    return G\n",
    "# nx.draw(create_bipartite_graph(), with_labels=True)\n",
    "drawn_graph = create_bipartite_graph()\n",
    "nx.draw(drawn_graph, pos=nx.bipartite_layout(drawn_graph, nx.bipartite.sets(drawn_graph)[0]))"
   ]
  },
  {
   "cell_type": "code",
   "execution_count": null,
   "metadata": {},
   "outputs": [],
   "source": [
    "# Depth First Search funciton that returns true if a matching for `node` exists in `G_original`\n",
    "def find_agumentin(G, left_nodes, right_nodes, current_node, current_match, visited) -> bool: \n",
    "    for candidate in right_nodes:\n",
    "        if visited[candidate] == False: # G[current_node][candidate] and \n",
    "            visited[candidate] = True\n",
    "            if current_match[candidate] == -1 or find_agumentin(G, left_nodes, right_nodes, current_match[candidate], current_match, visited):\n",
    "                current_match[candidate] = current_node\n",
    "                return True\n",
    "    return False"
   ]
  },
  {
   "cell_type": "code",
   "execution_count": null,
   "metadata": {},
   "outputs": [],
   "source": [
    "def max_bipartite_matching(G_original, left_nodes, right_nodes) -> int:\n",
    "    G = G_original\n",
    "\n",
    "    # Array to keep what left element is connected to the right element\n",
    "    # E.g., `current_match[0] = 10` means that 0 (left element) is connected to 10 (right_element)\n",
    "    current_match = [-1] * (len(right_nodes) + len(left_nodes))\n",
    "    count_match = 0\n",
    "\n",
    "    for current_node in left_nodes:\n",
    "        # Mark all `right_nodes` as not visited for next `current_node``\n",
    "        visited = [False] * (len(right_nodes) + len(left_nodes))\n",
    "\n",
    "        if find_agumentin(G, left_nodes, right_nodes, current_node, current_match, visited):\n",
    "            count_match += 1\n",
    "        \n",
    "    return count_match"
   ]
  },
  {
   "cell_type": "code",
   "execution_count": null,
   "metadata": {},
   "outputs": [],
   "source": [
    "# Main\n",
    "G_original = create_bipartite_graph()\n",
    "left_nodes = {n for n, d in G_original.nodes(data=True) if d[\"bipartite\"] == 0}\n",
    "right_nodes = set(G_original) - left_nodes\n",
    "\n",
    "max_bipartite_matching(G_original, left_nodes, right_nodes)"
   ]
  }
 ],
 "metadata": {
  "kernelspec": {
   "display_name": "Python 3.10.6 64-bit",
   "language": "python",
   "name": "python3"
  },
  "language_info": {
   "codemirror_mode": {
    "name": "ipython",
    "version": 3
   },
   "file_extension": ".py",
   "mimetype": "text/x-python",
   "name": "python",
   "nbconvert_exporter": "python",
   "pygments_lexer": "ipython3",
   "version": "3.10.6"
  },
  "orig_nbformat": 4,
  "vscode": {
   "interpreter": {
    "hash": "916dbcbb3f70747c44a77c7bcd40155683ae19c65e1c03b4aa3499c5328201f1"
   }
  }
 },
 "nbformat": 4,
 "nbformat_minor": 2
}
