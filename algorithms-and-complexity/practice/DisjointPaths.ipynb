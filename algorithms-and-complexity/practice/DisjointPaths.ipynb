{
 "cells": [
  {
   "cell_type": "code",
   "execution_count": null,
   "id": "88c0b7cc",
   "metadata": {},
   "outputs": [],
   "source": [
    "import networkx as nx\n",
    "import matplotlib.pyplot as plt\n",
    "import random\n",
    "import math"
   ]
  },
  {
   "cell_type": "code",
   "execution_count": null,
   "id": "363b64dc",
   "metadata": {},
   "outputs": [],
   "source": [
    "def doubleFan(t = 10):\n",
    "    G = nx.DiGraph()\n",
    "    G.add_nodes_from(['s', 't'])\n",
    "    G.add_nodes_from(['a' + str(x) for x in range(t)])\n",
    "    G.add_nodes_from(['b' + str(x) for x in range(t)])\n",
    "    G.add_nodes_from(['x', 'y'])\n",
    "    G.add_edges_from([('s', 'a' + str(x)) for x in range(t)])\n",
    "    G.add_edges_from([('a' + str(x), 'x') for x in range(t)])\n",
    "    G.add_edge('x', 'y')\n",
    "    G.add_edges_from([('y', 'b' + str(x)) for x in range(t)])\n",
    "    G.add_edges_from([('b' + str(x), 't') for x in range(t)])\n",
    "    return G"
   ]
  },
  {
   "cell_type": "code",
   "execution_count": null,
   "id": "732501a5",
   "metadata": {},
   "outputs": [],
   "source": [
    "nx.draw(doubleFan(50), with_labels=True)"
   ]
  },
  {
   "cell_type": "code",
   "execution_count": null,
   "id": "88c30547",
   "metadata": {},
   "outputs": [],
   "source": [
    "def pricingDisjointPaths(G_original, sourceTargetPairs, c = 1):\n",
    "    G = G_original.copy()\n",
    "    result = []\n",
    "    beta = math.pow(G.number_of_edges(), 1 / (c+1))\n",
    "    # Initialize \n",
    "    for u, v, d in G.edges(data=True):\n",
    "        d['length'] = 1\n",
    "        d['congestion'] = 0\n",
    "    # Main cycle\n",
    "    while True:\n",
    "        ####\n",
    "        minPath = None\n",
    "        for index in range(len(sourceTargetPairs)):\n",
    "            try:\n",
    "                s = sourceTargetPairs[index][0]\n",
    "                t = sourceTargetPairs[index][1]\n",
    "                path = nx.dijkstra_path(G, s, t, weight='length')\n",
    "            except:\n",
    "                pass\n",
    "            else:\n",
    "                pathLength = 0\n",
    "                for i in range(0, len(path) - 1):\n",
    "                    pathLength += G[path[i]][path[i+1]]['length']\n",
    "                if minPath is None or pathLength < minPathLength:\n",
    "                    minPath = path\n",
    "                    minPathLength = pathLength\n",
    "                    minIndex = index\n",
    "        ####\n",
    "        if minPath is None:\n",
    "            break\n",
    "        for i in range(0, len(minPath) - 1):\n",
    "            if G[path[i]][path[i+1]]['congestion'] == c - 1:\n",
    "                G.remove_edge(path[i], path[i+1])\n",
    "            else:\n",
    "                G[path[i]][path[i+1]]['congestion'] += 1\n",
    "                G[path[i]][path[i+1]]['length'] *= beta\n",
    "        result.append(minPath)\n",
    "        sourceTargetPairs.pop(minIndex)\n",
    "    return result"
   ]
  },
  {
   "cell_type": "code",
   "execution_count": null,
   "id": "b3a2aa1b",
   "metadata": {},
   "outputs": [],
   "source": [
    "pricingDisjointPaths(doubleFan(5), [('s', 't')]*11, c=10)"
   ]
  }
 ],
 "metadata": {
  "kernelspec": {
   "display_name": "Python 3.10.6 64-bit",
   "language": "python",
   "name": "python3"
  },
  "language_info": {
   "codemirror_mode": {
    "name": "ipython",
    "version": 3
   },
   "file_extension": ".py",
   "mimetype": "text/x-python",
   "name": "python",
   "nbconvert_exporter": "python",
   "pygments_lexer": "ipython3",
   "version": "3.10.6"
  },
  "vscode": {
   "interpreter": {
    "hash": "916dbcbb3f70747c44a77c7bcd40155683ae19c65e1c03b4aa3499c5328201f1"
   }
  }
 },
 "nbformat": 4,
 "nbformat_minor": 5
}
