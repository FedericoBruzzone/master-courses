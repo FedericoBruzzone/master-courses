{
 "cells": [
  {
   "cell_type": "code",
   "execution_count": null,
   "id": "c5dd45f0",
   "metadata": {},
   "outputs": [],
   "source": [
    "import numpy as np\n",
    "import random\n",
    "import scipy.optimize as spo\n",
    "import math"
   ]
  },
  {
   "cell_type": "code",
   "execution_count": null,
   "id": "829f1bc4",
   "metadata": {},
   "outputs": [],
   "source": [
    "def generateInstance(m, n=10, maxW=100):\n",
    "    res=[]\n",
    "    for i in range(m):\n",
    "        s = set(random.sample(range(n), random.randint(1, n//m)))\n",
    "        res.append((s, random.randint(1, maxW)))\n",
    "    return res"
   ]
  },
  {
   "cell_type": "code",
   "execution_count": null,
   "id": "97baf1d5",
   "metadata": {},
   "outputs": [],
   "source": [
    "I=generateInstance(5, n=10)"
   ]
  },
  {
   "cell_type": "code",
   "execution_count": null,
   "id": "00558471",
   "metadata": {},
   "outputs": [],
   "source": [
    "def setCover(I, k):\n",
    "    m = len(I)\n",
    "    universe = set.union(*[e for e,w in I])\n",
    "    n = len(universe)\n",
    "    # Objective function\n",
    "    c = np.array([w for e,w in I])\n",
    "    A_ub = np.zeros((n + m, m))\n",
    "    b_ub = np.zeros(n + m)\n",
    "    # Constraint: x[i]<=1\n",
    "    for i in range(m):\n",
    "        A_ub[i,i] = 1\n",
    "        b_ub[i] = 1\n",
    "    # Constaints\n",
    "    j = m\n",
    "    for u in universe:\n",
    "        for i in range(m):\n",
    "            if u in I[i][0]:\n",
    "                A_ub[j, i] = -1\n",
    "        b_ub[j] = -1\n",
    "        j += 1\n",
    "    lp = spo.linprog(c, A_ub, b_ub)\n",
    "    xhat = lp.x\n",
    "    #lpi = spo.linprog(c, A_ub, b_ub, integrality=[1 for i in range(m)])\n",
    "    Ires = set([])\n",
    "    for t in range(int(math.ceil(k + math.log(n)))):\n",
    "        for i in range(m):\n",
    "            if random.random() < xhat[i]:\n",
    "                Ires = Ires | set([i])\n",
    "    v = sum([I[i][1] for i in Ires])\n",
    "    return Ires, v#, lpi"
   ]
  },
  {
   "cell_type": "code",
   "execution_count": null,
   "id": "81138e27",
   "metadata": {},
   "outputs": [],
   "source": [
    "setCover(I, 3)"
   ]
  },
  {
   "cell_type": "code",
   "execution_count": null,
   "id": "e5f7c567",
   "metadata": {},
   "outputs": [],
   "source": [
    "help(spo.linprog)"
   ]
  },
  {
   "cell_type": "code",
   "execution_count": null,
   "id": "2dce1280",
   "metadata": {},
   "outputs": [],
   "source": [
    "I=generateInstance(4, 1000)"
   ]
  },
  {
   "cell_type": "code",
   "execution_count": null,
   "id": "1529ea52",
   "metadata": {},
   "outputs": [],
   "source": [
    "X=setCover(I, 1)\n",
    "print(X)"
   ]
  },
  {
   "cell_type": "code",
   "execution_count": null,
   "id": "164e03d9",
   "metadata": {},
   "outputs": [],
   "source": [
    "universe = set.union(*[e for e,w in I])\n",
    "set.union(*[I[i][0] for i in X]) == universe"
   ]
  },
  {
   "cell_type": "code",
   "execution_count": null,
   "id": "93521d1e",
   "metadata": {},
   "outputs": [],
   "source": []
  }
 ],
 "metadata": {
  "kernelspec": {
   "display_name": "Python 3 (ipykernel)",
   "language": "python",
   "name": "python3"
  },
  "language_info": {
   "codemirror_mode": {
    "name": "ipython",
    "version": 3
   },
   "file_extension": ".py",
   "mimetype": "text/x-python",
   "name": "python",
   "nbconvert_exporter": "python",
   "pygments_lexer": "ipython3",
   "version": "3.10.6"
  }
 },
 "nbformat": 4,
 "nbformat_minor": 5
}
