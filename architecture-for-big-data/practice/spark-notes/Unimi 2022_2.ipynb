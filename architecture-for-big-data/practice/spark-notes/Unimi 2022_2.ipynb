{
 "cells": [
  {
   "cell_type": "markdown",
   "metadata": {
    "application/vnd.databricks.v1+cell": {
     "cellMetadata": {},
     "inputWidgets": {},
     "nuid": "a462aae4-c6f7-4fb0-be8e-6170b2198b06",
     "showTitle": false,
     "title": ""
    }
   },
   "source": [
    "ERP is an acronym that stands for **Enterprise Resource Planning** (ERP). \n",
    "\n",
    "It's a business process management software that manages and integrates a company's financials, supply chain, operations, commerce, reporting, manufacturing, and human resource activities. \n",
    "\n",
    "One important ERP entity is the **Account Receivable (AR)**: it refers to the money a company's customers owe for goods or services they have received.\n",
    "\n",
    " **Account Receivable (AR)** could be:\n",
    " * Invoice\n",
    " * Credit Note\n",
    " * Debit Note\n",
    " * Cancellation\n",
    " * Miscellaneous\n",
    "\n",
    "Each AR is made by several part like the **header** – the part with general information about customers/suppliers that define the invoice – the **list of items**, the **list of payments**, details about the **customers**, details about the **shipping**, ..."
   ]
  },
  {
   "cell_type": "markdown",
   "metadata": {
    "application/vnd.databricks.v1+cell": {
     "cellMetadata": {},
     "inputWidgets": {},
     "nuid": "9a59b6af-48d9-45eb-ac04-2c1a791ec9cb",
     "showTitle": false,
     "title": ""
    }
   },
   "source": [
    "# Parameters\n",
    "\n",
    "* N: number of invoices\n",
    "* M: number of payments\n",
    "* K: number of customers"
   ]
  },
  {
   "cell_type": "code",
   "execution_count": null,
   "metadata": {
    "application/vnd.databricks.v1+cell": {
     "cellMetadata": {},
     "inputWidgets": {},
     "nuid": "7794a036-b3b0-48a1-8e4d-14fc37f117b8",
     "showTitle": false,
     "title": ""
    }
   },
   "outputs": [],
   "source": [
    "sc = None\n",
    "N=10000\n",
    "M=12500\n",
    "K=150"
   ]
  },
  {
   "cell_type": "markdown",
   "metadata": {
    "application/vnd.databricks.v1+cell": {
     "cellMetadata": {},
     "inputWidgets": {},
     "nuid": "3940da77-de87-47ab-872c-42f05024c133",
     "showTitle": false,
     "title": ""
    }
   },
   "source": [
    "# AR Header\n",
    "\n",
    "The Header of an AR document contains some general information like\n",
    "* Customer ID\n",
    "* Value\n",
    "* Due Date\n",
    "* Posting Date\n",
    "* Document Number - must be unique per fiscal year\n",
    "* Fiscal Year\n",
    "* Document Type\n",
    "\n",
    "Assumptions:\n",
    "* we have \"Invoice\" has only type"
   ]
  },
  {
   "cell_type": "code",
   "execution_count": null,
   "metadata": {
    "application/vnd.databricks.v1+cell": {
     "cellMetadata": {},
     "inputWidgets": {},
     "nuid": "9fcb03e3-4455-48ae-9c17-31690ae9f064",
     "showTitle": false,
     "title": ""
    }
   },
   "outputs": [],
   "source": [
    "from random import randint\n",
    "from datetime import datetime,timedelta\n",
    "\n",
    "def headerGenerator(k=5):\n",
    "  postingDate = datetime(2022,1,1)+timedelta(randint(0,200))\n",
    "  return {\n",
    "          \"customerId\":\"Customer_{customerId}\".format(customerId=str(randint(0,k)+1).zfill(3)),\n",
    "          \"value\":randint(50,10000),\n",
    "          \"documentCurrency\":\"EUR\", \n",
    "          \"postingDate\":postingDate.strftime(\"%Y-%m-%d\"),\n",
    "          \"dueDate\":(postingDate+timedelta(randint(0,60))).strftime(\"%Y-%m-%d\"),\n",
    "          \"fiscalYear\":postingDate.strftime(\"%Y\"),\n",
    "          \"documentType\":\"Invoice\"\n",
    "         }\n",
    "\n",
    "def headerList(k=5,n=1000):\n",
    "  rawHeaderList = [headerGenerator(k) for k in range(n)]\n",
    "  rawHeaderList.sort(key=lambda row: row.get(\"postingDate\"))\n",
    "  for pos,val in enumerate(rawHeaderList):\n",
    "    val[\"documentNumber\"]=\"2022-{docNum}\".format(docNum=str(pos).zfill(5))\n",
    "  return rawHeaderList\n",
    "  \n",
    "myARList = headerList(K,N)\n",
    "myARList"
   ]
  },
  {
   "cell_type": "markdown",
   "metadata": {
    "application/vnd.databricks.v1+cell": {
     "cellMetadata": {},
     "inputWidgets": {},
     "nuid": "e2419f05-bbe0-4c1a-8f7f-7236c77cae52",
     "showTitle": false,
     "title": ""
    }
   },
   "source": [
    "# AR Payments\n",
    "\n",
    "List of lines that represent a payment made by a customer on a given AR.\n",
    "* Document Number\n",
    "* Payment Date\n",
    "* Value Paid"
   ]
  },
  {
   "cell_type": "code",
   "execution_count": null,
   "metadata": {
    "application/vnd.databricks.v1+cell": {
     "cellMetadata": {},
     "inputWidgets": {},
     "nuid": "f3a5017f-c685-419b-acb7-76c13d66a4d8",
     "showTitle": false,
     "title": ""
    }
   },
   "outputs": [],
   "source": [
    "def paymentGenerator(InvoiceList):\n",
    "  documentNumber = \"2022-{docNum}\".format(docNum=str(randint(0,len(InvoiceList)-1)).zfill(5))\n",
    "  invoice = [k for k in InvoiceList if k.get(\"documentNumber\")==documentNumber][0]\n",
    "  postingDate = datetime.strptime(invoice.get(\"postingDate\"),\"%Y-%m-%d\")\n",
    "  return { \n",
    "          \"documentNumber\":documentNumber,\n",
    "          \"paymentDate\":(postingDate+timedelta(randint(15,90))).strftime(\"%Y-%m-%d\"),\n",
    "          \"valuePaid\":randint(1,invoice.get(\"value\"))\n",
    "          ,\"documentCurrency\":invoice.get(\"documentCurrency\")\n",
    "         }\n",
    "\n",
    "def paymentList(InvoiceList,m=250):\n",
    "  return [paymentGenerator(InvoiceList) for k in range(m)]\n",
    "   \n",
    "myPaymentList = paymentList(myARList,M)  \n",
    "myPaymentList"
   ]
  },
  {
   "cell_type": "markdown",
   "metadata": {
    "application/vnd.databricks.v1+cell": {
     "cellMetadata": {},
     "inputWidgets": {},
     "nuid": "a478f201-1fe4-4a23-bcf1-714aea5bbd4b",
     "showTitle": false,
     "title": ""
    }
   },
   "source": [
    "# Part 00\n",
    "* Define the type of each table (Log or Registry): which are the keys of these tables?"
   ]
  },
  {
   "cell_type": "markdown",
   "metadata": {
    "application/vnd.databricks.v1+cell": {
     "cellMetadata": {},
     "inputWidgets": {},
     "nuid": "a4a33c50-f46f-449e-9993-a24060db4128",
     "showTitle": false,
     "title": ""
    }
   },
   "source": [
    "Both Header and Payments are log, because I cannot update or delete no one of them.\n",
    "Keys:\n",
    "* Header: documentNumber and fiscalYear\n",
    "* Payments: documentNumber and paymenteDate (under the assumpions): i) I can receive multiple payments for a given AR, ii) I cannot receive more than one payment for a given invoice per day"
   ]
  },
  {
   "cell_type": "markdown",
   "metadata": {
    "application/vnd.databricks.v1+cell": {
     "cellMetadata": {},
     "inputWidgets": {},
     "nuid": "6bf3a2bb-30c8-4599-af8f-44b6474c92f3",
     "showTitle": false,
     "title": ""
    }
   },
   "source": [
    "# Part 01\n",
    "* Create the two RDDs checking everything is ok!\n",
    "* Create a unique RDD with pieces of information both from header and payments"
   ]
  },
  {
   "cell_type": "code",
   "execution_count": null,
   "metadata": {},
   "outputs": [],
   "source": [
    "import pyspark\n",
    "sc = pyspark.SparkContext(\"local[*]\")"
   ]
  },
  {
   "cell_type": "code",
   "execution_count": null,
   "metadata": {
    "application/vnd.databricks.v1+cell": {
     "cellMetadata": {},
     "inputWidgets": {},
     "nuid": "a56f60d9-5e21-4972-87eb-f438719a1622",
     "showTitle": false,
     "title": ""
    }
   },
   "outputs": [],
   "source": [
    "headerRDD = sc.parallelize(myARList)\n",
    "paymentsRDD = sc.parallelize(myPaymentList)\n",
    "headerRDD.count()==N, paymentsRDD.count()==M"
   ]
  },
  {
   "cell_type": "code",
   "execution_count": null,
   "metadata": {},
   "outputs": [],
   "source": [
    "x = headerRDD.map(lambda x: (x.get(\"customerId\"), x)) \\\n",
    "             .filter(lambda x: x[1].get(\"value\") >= 9000) \\\n",
    "             .map(lambda x: (x[1].get(\"customerId\"), 1)) \\\n",
    "             .reduceByKey(lambda x, y: x + y)\n",
    "y = headerRDD.map(lambda x: (x.get(\"customerId\"), x)) \\\n",
    "             .filter(lambda x: x[1].get(\"value\") >= 8000) \\\n",
    "             .map(lambda x: (x[1].get(\"customerId\"), 1)) \\\n",
    "             .reduceByKey(lambda x, y: x + y)\n",
    "\n",
    "xy = x.join(y) \\\n",
    "      .filter(lambda x: x[1][0] < x[1][1])\n",
    "\n",
    "xy.count()"
   ]
  },
  {
   "cell_type": "code",
   "execution_count": null,
   "metadata": {},
   "outputs": [],
   "source": [
    "semiJoinHeaderRDD = headerRDD.map(lambda row: \n",
    "                        ((row.get(\"documentNumber\"), row.get(\"fiscalYear\")), row))\n",
    "semiJoinHeaderRDD.first()"
   ]
  },
  {
   "cell_type": "code",
   "execution_count": null,
   "metadata": {},
   "outputs": [],
   "source": [
    "semiJoinPaymentsRDD = paymentsRDD.map(lambda row: \n",
    "                          ((row.get(\"documentNumber\"), row.get(\"paymentDate\").split(\"-\")[0]), row))\n",
    "semiJoinPaymentsRDD.first()"
   ]
  },
  {
   "cell_type": "code",
   "execution_count": null,
   "metadata": {},
   "outputs": [],
   "source": [
    "joinRDD = semiJoinPaymentsRDD.join(semiJoinHeaderRDD)\n",
    "joinRDD.first()"
   ]
  },
  {
   "cell_type": "code",
   "execution_count": null,
   "metadata": {},
   "outputs": [],
   "source": [
    "joinedRdd = semiJoinPaymentsRDD.join(semiJoinHeaderRDD)\n",
    "joinFirstResult = joinedRdd.first()\n",
    "print(\"Keys:{keys}\".format(keys=joinFirstResult[0]))\n",
    "print(\"Left part of the join:{valueLeft}\".format(valueLeft=joinFirstResult[1][0]))\n",
    "print(\"Right part of the join:{valueRight}\".format(valueRight=joinFirstResult[1][1]))"
   ]
  },
  {
   "cell_type": "code",
   "execution_count": null,
   "metadata": {},
   "outputs": [],
   "source": [
    "def formatRow(row):\n",
    "  basicRow = {\"header\":row[1][1]} #header\n",
    "  basicRow[\"keyTuple\"] = row[0]\n",
    "  basicRow[\"paymentList\"] = [row[1][0]]\n",
    "  return basicRow\n",
    "niceJoineRDD = joinedRdd.map(lambda row: formatRow(row))\n",
    "niceJoineRDD.first()"
   ]
  },
  {
   "cell_type": "code",
   "execution_count": null,
   "metadata": {},
   "outputs": [],
   "source": [
    "niceJoineRDD.map(lambda x: (x.get(\"keyTuple\"),1)).reduceByKey(lambda left,right: left+right).first()"
   ]
  },
  {
   "cell_type": "code",
   "execution_count": null,
   "metadata": {},
   "outputs": [],
   "source": [
    "result = niceJoineRDD.filter(lambda row: row.get(\"keyTuple\")==('2022-09826', '2022')).collect()\n",
    "for pos,val in enumerate(result):\n",
    "  print(\"Element number {pos}\".format(pos=pos))\n",
    "  print(val)"
   ]
  },
  {
   "cell_type": "code",
   "execution_count": null,
   "metadata": {},
   "outputs": [],
   "source": [
    "def mergerFunction(leftDict,rightDict):\n",
    "  leftDict[\"paymentList\"] +=rightDict[\"paymentList\"]\n",
    "  return leftDict\n",
    "  \n",
    "reducedNiceJoinedRDD =niceJoineRDD.map(lambda row: (row.get(\"keyTuple\"),row)) \\\n",
    "                                  .reduceByKey(lambda left,right: mergerFunction(left,right)) \\\n",
    "                                  .map(lambda x: x[1])\n",
    "reducedNiceJoinedRDD.collect()"
   ]
  },
  {
   "cell_type": "markdown",
   "metadata": {
    "application/vnd.databricks.v1+cell": {
     "cellMetadata": {},
     "inputWidgets": {},
     "nuid": "2e4cb5a6-20fc-42a4-82dc-8c8fbf103164",
     "showTitle": false,
     "title": ""
    }
   },
   "source": [
    "# Alternative and scalable approach"
   ]
  },
  {
   "cell_type": "code",
   "execution_count": null,
   "metadata": {
    "application/vnd.databricks.v1+cell": {
     "cellMetadata": {},
     "inputWidgets": {},
     "nuid": "c43bc880-1dae-40ed-975c-be4aab85769d",
     "showTitle": false,
     "title": ""
    }
   },
   "outputs": [],
   "source": [
    "def quantitativeRepr(row):\n",
    "    return {\"amount\":row.get(\"valuePaid\"),\"numberOfPayments\":1,\"lastDate\":row.get(\"paymentDate\")}\n",
    "\n",
    "def combineFun(firstPayment,secondPayment):\n",
    "    firstPayment[\"amount\"] += secondPayment.get(\"amount\")\n",
    "    firstPayment[\"numberOfPayments\"] += secondPayment.get(\"numberOfPayments\")\n",
    "    firstPayment[\"lastDate\"] = secondPayment.get(\"lastDate\") if secondPayment.get(\"lastDate\")>firstPayment.get(\"lastDate\") else firstPayment.get(\"lastDate\")\n",
    "    return firstPayment\n",
    "  \n",
    "lightPaymentRDD = paymentsRDD.map(lambda x: (x.get(\"documentNumber\"),quantitativeRepr(x))) \\\n",
    "                             .reduceByKey(lambda firstPayment,secondPayment: combineFun(firstPayment,secondPayment)) \\\n",
    "                            #  .map(lambda x: {\"keyTuple\":x[0],\"paymentStats\":x[1]})\n",
    "lightPaymentRDD.first()"
   ]
  },
  {
   "cell_type": "code",
   "execution_count": null,
   "metadata": {},
   "outputs": [],
   "source": [
    "newSemiJoinHeaderRDD = semiJoinHeaderRDD.map(lambda x: (x[0][0], x[1])).join(lightPaymentRDD)"
   ]
  },
  {
   "cell_type": "code",
   "execution_count": null,
   "metadata": {},
   "outputs": [],
   "source": [
    "def mergeDict(t):\n",
    "    t[0].update(t[1])\n",
    "    return t[0]\n",
    "\n",
    "newSemiJoinHeaderRDD.map(lambda x: {\"key\":x[0], \"value\": mergeDict(x[1])}).first()\n"
   ]
  },
  {
   "cell_type": "markdown",
   "metadata": {
    "application/vnd.databricks.v1+cell": {
     "cellMetadata": {},
     "inputWidgets": {},
     "nuid": "941fddaa-31fb-44cb-8367-d6a51c85e3da",
     "showTitle": false,
     "title": ""
    }
   },
   "source": [
    "# Part 02\n",
    "* How many invoices are open (i.e., not completely paid)?\n",
    "* How many invoices are closed (i.e., completely paid)?\n",
    "* How many invoices are overdued (i.e., not completely paid and with a due date in the past)?\n",
    "* How many invoices have been paid not in time (i.e., completely paid and with the last payment after the due date)?\n",
    "* Add to the RDD the information of \"closingDate\" as the date of the payment that close that invoice.\n",
    "* Add to the RDD the boolean of \"inTime\": True if the closingDate < dueDate else False"
   ]
  },
  {
   "cell_type": "code",
   "execution_count": null,
   "metadata": {
    "application/vnd.databricks.v1+cell": {
     "cellMetadata": {},
     "inputWidgets": {},
     "nuid": "20c67023-8db0-4204-9c85-624279a3441f",
     "showTitle": false,
     "title": ""
    }
   },
   "outputs": [],
   "source": [
    "RDD = newSemiJoinHeaderRDD"
   ]
  },
  {
   "cell_type": "code",
   "execution_count": null,
   "metadata": {},
   "outputs": [],
   "source": [
    "is_open          = lambda x: x[1][0].get(\"value\") > x[1][1].get(\"amount\")\n",
    "is_closed        = lambda x: x[1][0].get(\"value\") <= x[1][1].get(\"amount\")\n",
    "is_overdues      = lambda x: is_open(x) and datetime.strptime(x[1][0].get(\"dueDate\"), \"%Y-%M-%d\") < datetime.now()\n",
    "paid_not_in_time = lambda x: is_closed(x) and x[1][1].get(\"lastDate\") > x[1][0].get(\"dueDate\")\n",
    "\n",
    "rdd_is_open          = RDD.filter(is_open)\n",
    "rdd_is_closed        = RDD.filter(is_closed)\n",
    "rdd_is_overdues      = RDD.filter(is_overdues)\n",
    "rdd_paid_not_in_time = RDD.filter(paid_not_in_time)\n",
    "\n",
    "print(f'''\n",
    "    Open             {rdd_is_open.count()}\n",
    "    Closed           {rdd_is_closed.count()}\n",
    "    Overdues         {rdd_is_overdues.count()}\n",
    "    Paid not in time {rdd_paid_not_in_time.count()}    \n",
    "''')"
   ]
  },
  {
   "cell_type": "code",
   "execution_count": null,
   "metadata": {},
   "outputs": [],
   "source": [
    "def add_closing_date(x):\n",
    "    x[1][0][\"closingDate\"] = x[1][1].get(\"lastDate\") if is_closed(x) else None\n",
    "    return x\n",
    "\n",
    "def add_in_time(x):\n",
    "    x[1][0][\"inTime\"] = True if is_closed(x) else False\n",
    "    return x\n",
    "\n",
    "RDD = RDD.map(lambda x: add_closing_date(x))\n",
    "RDD = RDD.map(lambda x: add_in_time(x))"
   ]
  },
  {
   "cell_type": "markdown",
   "metadata": {
    "application/vnd.databricks.v1+cell": {
     "cellMetadata": {},
     "inputWidgets": {},
     "nuid": "dc8b4bbf-e49a-4c79-9a39-974dd33d7459",
     "showTitle": false,
     "title": ""
    }
   },
   "source": [
    "# Part 03 - Debit Note\n",
    "* How many invoices have been paid for more then their value?\n",
    "* Add to the Header RDD for each of them a Debit Note with the value to be charged back and the date of today"
   ]
  },
  {
   "cell_type": "code",
   "execution_count": null,
   "metadata": {
    "application/vnd.databricks.v1+cell": {
     "cellMetadata": {},
     "inputWidgets": {},
     "nuid": "e4bcab8f-63c9-4a97-9ce7-048792427252",
     "showTitle": false,
     "title": ""
    }
   },
   "outputs": [],
   "source": [
    "paid_more_then_their_value = lambda x: x[1][0].get(\"value\") <= x[1][1].get(\"amount\")\n",
    "\n",
    "rdd_paid_more_then_their_value = RDD.filter(paid_more_then_their_value)\n",
    "\n",
    "def add_debit_note(x):\n",
    "    if not paid_more_then_their_value: return x\n",
    "    x[1][0][\"debitNote\"] = x[1][1].get(\"amount\") - x[1][0].get(\"value\") \n",
    "    return x\n",
    "\n",
    "RDD = RDD.map(lambda x: add_debit_note(x))\n"
   ]
  },
  {
   "cell_type": "markdown",
   "metadata": {
    "application/vnd.databricks.v1+cell": {
     "cellMetadata": {},
     "inputWidgets": {},
     "nuid": "32e249a5-9214-4454-85e5-c330a74b081e",
     "showTitle": false,
     "title": ""
    }
   },
   "source": [
    "# Part 04 - Paymenets Frequency\n",
    "* Add to the Payment Rdd the computed \"expectedPaymentDate\". It is based on the two previous payments, and is the last payment date + the difference between it and the payment right before, customer by customer.\n",
    "So, in the example below, for the first two payment is not possible to compute, while for the third, the expected payment is the 2022/10/15 (date of the last payment) plus 3 (the difference between it and the payment of 2022/10/12) \n",
    "\n",
    "| customerId  | paymentDate | expectedPaymentDate | documentNumber | ... |\n",
    "|-------------|-------------|---------------------|----------------|-----|\n",
    "| Customer001 | 2022/10/12  | N/A                 | 2022_01001     | ... |\n",
    "| Customer001 | 2022/10/15  | N/A                 | 2022_01004     | ... |\n",
    "| Customer001 | 2022/10/16  | 2022/10/18 (15+3)   | 2022_00904     | ... |\n",
    "| Customer001 | 2022/10/20  | 2022/10/17 (16+1)   | 2022_01004     | ... |\n",
    "| Customer001 | 2022/10/30  | 2022/11/24 (20+4)   | 2022_01101     | ... |\n",
    "| Customer001 | ...         | ...                 | ...            | ... |\n",
    "\n",
    "* Show for each customer, the average error of such method"
   ]
  },
  {
   "cell_type": "code",
   "execution_count": null,
   "metadata": {
    "application/vnd.databricks.v1+cell": {
     "cellMetadata": {},
     "inputWidgets": {},
     "nuid": "953e5088-8059-4354-b266-c12d9a828feb",
     "showTitle": false,
     "title": ""
    }
   },
   "outputs": [],
   "source": []
  },
  {
   "cell_type": "markdown",
   "metadata": {
    "application/vnd.databricks.v1+cell": {
     "cellMetadata": {},
     "inputWidgets": {},
     "nuid": "dda30b9d-fcd0-4c98-af4a-6f547a30b74c",
     "showTitle": false,
     "title": ""
    }
   },
   "source": [
    "# Part 05 - Cosine Similarity\n",
    "* How many customers has the company?\n",
    "* Draw the histogram - without using .hist() - as the number of customer with 1 invoice, the number of customers with 2 invoices, ...\n",
    "* Define two customers similarity based on the cosine similarity computed on the average payment time per day\n",
    "    * a day with no invoice posted count as zero\n",
    "    * for other days, compute the average payment timing using the due date as zero (10 days in advance means -10, 3 days after means +3)"
   ]
  },
  {
   "cell_type": "code",
   "execution_count": null,
   "metadata": {
    "application/vnd.databricks.v1+cell": {
     "cellMetadata": {},
     "inputWidgets": {},
     "nuid": "758379e1-525f-46c5-845e-adc286166319",
     "showTitle": false,
     "title": ""
    }
   },
   "outputs": [],
   "source": []
  }
 ],
 "metadata": {
  "application/vnd.databricks.v1+notebook": {
   "dashboards": [],
   "language": "python",
   "notebookMetadata": {
    "pythonIndentUnit": 2
   },
   "notebookName": "Unimi 2022_2",
   "notebookOrigID": 1243629458931989,
   "widgets": {}
  },
  "kernelspec": {
   "display_name": "Python 3 (ipykernel)",
   "language": "python",
   "name": "python3"
  },
  "language_info": {
   "codemirror_mode": {
    "name": "ipython",
    "version": 3
   },
   "file_extension": ".py",
   "mimetype": "text/x-python",
   "name": "python",
   "nbconvert_exporter": "python",
   "pygments_lexer": "ipython3",
   "version": "3.10.6"
  }
 },
 "nbformat": 4,
 "nbformat_minor": 1
}
